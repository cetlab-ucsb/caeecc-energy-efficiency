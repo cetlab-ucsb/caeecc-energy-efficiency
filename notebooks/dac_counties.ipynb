{
 "cells": [
  {
   "cell_type": "markdown",
   "metadata": {},
   "source": [
    "# script to aggregate calenviroscreen score to county level"
   ]
  },
  {
   "cell_type": "markdown",
   "metadata": {},
   "source": [
    "### inputs"
   ]
  },
  {
   "cell_type": "code",
   "execution_count": 1,
   "metadata": {},
   "outputs": [],
   "source": [
    "data_path = '/Volumes/GoogleDrive/.shortcut-targets-by-id/1-BTh8T0PMwHDs3KZ9V--KPrNWRUgRxvV/2020_CAEECC_Public_Sector_Underserved/data/raw/calenviroscreen'\n",
    "data_file = 'ces3results.xlsx'"
   ]
  },
  {
   "cell_type": "markdown",
   "metadata": {},
   "source": [
    "### outputs"
   ]
  },
  {
   "cell_type": "code",
   "execution_count": 2,
   "metadata": {},
   "outputs": [],
   "source": [
    "save_path = '/Volumes/GoogleDrive/.shortcut-targets-by-id/1-BTh8T0PMwHDs3KZ9V--KPrNWRUgRxvV/2020_CAEECC_Public_Sector_Underserved/data/processed'\n",
    "save_file = 'ces_dac_county_proportion_median.csv'"
   ]
  },
  {
   "cell_type": "markdown",
   "metadata": {},
   "source": [
    "### load libraries"
   ]
  },
  {
   "cell_type": "code",
   "execution_count": 3,
   "metadata": {},
   "outputs": [],
   "source": [
    "import pandas as pd\n",
    "import os\n",
    "import glob"
   ]
  },
  {
   "cell_type": "markdown",
   "metadata": {},
   "source": [
    "## script"
   ]
  },
  {
   "cell_type": "markdown",
   "metadata": {},
   "source": [
    "### read in calenviroscreen data"
   ]
  },
  {
   "cell_type": "code",
   "execution_count": 4,
   "metadata": {},
   "outputs": [],
   "source": [
    "df_ces = pd.read_excel(os.path.join(data_path, data_file), sheet_name='CES 3.0 (2018 Update)')"
   ]
  },
  {
   "cell_type": "code",
   "execution_count": 5,
   "metadata": {},
   "outputs": [
    {
     "data": {
      "text/html": [
       "<div>\n",
       "<style scoped>\n",
       "    .dataframe tbody tr th:only-of-type {\n",
       "        vertical-align: middle;\n",
       "    }\n",
       "\n",
       "    .dataframe tbody tr th {\n",
       "        vertical-align: top;\n",
       "    }\n",
       "\n",
       "    .dataframe thead th {\n",
       "        text-align: right;\n",
       "    }\n",
       "</style>\n",
       "<table border=\"1\" class=\"dataframe\">\n",
       "  <thead>\n",
       "    <tr style=\"text-align: right;\">\n",
       "      <th></th>\n",
       "      <th>Census Tract</th>\n",
       "      <th>Total Population</th>\n",
       "      <th>California County</th>\n",
       "      <th>ZIP</th>\n",
       "      <th>Nearby City \\n(to help approximate location only)</th>\n",
       "      <th>Longitude</th>\n",
       "      <th>Latitude</th>\n",
       "      <th>CES 3.0 Score</th>\n",
       "      <th>CES 3.0 Percentile</th>\n",
       "      <th>CES 3.0 \\nPercentile Range</th>\n",
       "      <th>...</th>\n",
       "      <th>Linguistic Isolation Pctl</th>\n",
       "      <th>Poverty</th>\n",
       "      <th>Poverty Pctl</th>\n",
       "      <th>Unemployment</th>\n",
       "      <th>Unemployment Pctl</th>\n",
       "      <th>Housing Burden</th>\n",
       "      <th>Housing Burden Pctl</th>\n",
       "      <th>Pop. Char.</th>\n",
       "      <th>Pop. Char. Score</th>\n",
       "      <th>Pop. Char. Pctl</th>\n",
       "    </tr>\n",
       "  </thead>\n",
       "  <tbody>\n",
       "    <tr>\n",
       "      <td>0</td>\n",
       "      <td>6019001100</td>\n",
       "      <td>3174</td>\n",
       "      <td>Fresno</td>\n",
       "      <td>93706</td>\n",
       "      <td>Fresno</td>\n",
       "      <td>-119.781696</td>\n",
       "      <td>36.709695</td>\n",
       "      <td>94.090246</td>\n",
       "      <td>100.000000</td>\n",
       "      <td>95-100% (highest scores)</td>\n",
       "      <td>...</td>\n",
       "      <td>77.509665</td>\n",
       "      <td>76.3</td>\n",
       "      <td>97.121307</td>\n",
       "      <td>17.6</td>\n",
       "      <td>91.724838</td>\n",
       "      <td>26.0</td>\n",
       "      <td>79.398324</td>\n",
       "      <td>92.120494</td>\n",
       "      <td>9.553509</td>\n",
       "      <td>99.697314</td>\n",
       "    </tr>\n",
       "    <tr>\n",
       "      <td>1</td>\n",
       "      <td>6071001600</td>\n",
       "      <td>6133</td>\n",
       "      <td>San Bernardino</td>\n",
       "      <td>91761</td>\n",
       "      <td>Ontario</td>\n",
       "      <td>-117.618013</td>\n",
       "      <td>34.057780</td>\n",
       "      <td>90.677839</td>\n",
       "      <td>99.987388</td>\n",
       "      <td>95-100% (highest scores)</td>\n",
       "      <td>...</td>\n",
       "      <td>96.253833</td>\n",
       "      <td>72.5</td>\n",
       "      <td>94.632307</td>\n",
       "      <td>12.3</td>\n",
       "      <td>71.823836</td>\n",
       "      <td>34.1</td>\n",
       "      <td>93.754760</td>\n",
       "      <td>87.436849</td>\n",
       "      <td>9.067784</td>\n",
       "      <td>98.108210</td>\n",
       "    </tr>\n",
       "    <tr>\n",
       "      <td>2</td>\n",
       "      <td>6019000200</td>\n",
       "      <td>3167</td>\n",
       "      <td>Fresno</td>\n",
       "      <td>93706</td>\n",
       "      <td>Fresno</td>\n",
       "      <td>-119.805504</td>\n",
       "      <td>36.735491</td>\n",
       "      <td>85.970036</td>\n",
       "      <td>99.974776</td>\n",
       "      <td>95-100% (highest scores)</td>\n",
       "      <td>...</td>\n",
       "      <td>78.389548</td>\n",
       "      <td>86.8</td>\n",
       "      <td>99.560025</td>\n",
       "      <td>16.1</td>\n",
       "      <td>87.980708</td>\n",
       "      <td>40.1</td>\n",
       "      <td>97.854785</td>\n",
       "      <td>94.581328</td>\n",
       "      <td>9.808714</td>\n",
       "      <td>99.987388</td>\n",
       "    </tr>\n",
       "    <tr>\n",
       "      <td>3</td>\n",
       "      <td>6077000801</td>\n",
       "      <td>6692</td>\n",
       "      <td>San Joaquin</td>\n",
       "      <td>95203</td>\n",
       "      <td>Stockton</td>\n",
       "      <td>-121.314524</td>\n",
       "      <td>37.940517</td>\n",
       "      <td>82.491521</td>\n",
       "      <td>99.962164</td>\n",
       "      <td>95-100% (highest scores)</td>\n",
       "      <td>...</td>\n",
       "      <td>75.136648</td>\n",
       "      <td>61.3</td>\n",
       "      <td>85.568825</td>\n",
       "      <td>19.6</td>\n",
       "      <td>94.973981</td>\n",
       "      <td>21.1</td>\n",
       "      <td>63.544047</td>\n",
       "      <td>86.701266</td>\n",
       "      <td>8.991499</td>\n",
       "      <td>97.717241</td>\n",
       "    </tr>\n",
       "    <tr>\n",
       "      <td>4</td>\n",
       "      <td>6019001500</td>\n",
       "      <td>2206</td>\n",
       "      <td>Fresno</td>\n",
       "      <td>93725</td>\n",
       "      <td>Fresno</td>\n",
       "      <td>-119.717843</td>\n",
       "      <td>36.681600</td>\n",
       "      <td>82.030814</td>\n",
       "      <td>99.949552</td>\n",
       "      <td>95-100% (highest scores)</td>\n",
       "      <td>...</td>\n",
       "      <td>73.723504</td>\n",
       "      <td>66.4</td>\n",
       "      <td>90.232558</td>\n",
       "      <td>18.6</td>\n",
       "      <td>93.654017</td>\n",
       "      <td>28.1</td>\n",
       "      <td>83.980706</td>\n",
       "      <td>80.075199</td>\n",
       "      <td>8.304332</td>\n",
       "      <td>92.760752</td>\n",
       "    </tr>\n",
       "  </tbody>\n",
       "</table>\n",
       "<p>5 rows × 57 columns</p>\n",
       "</div>"
      ],
      "text/plain": [
       "   Census Tract  Total Population California County    ZIP  \\\n",
       "0    6019001100              3174           Fresno   93706   \n",
       "1    6071001600              6133    San Bernardino  91761   \n",
       "2    6019000200              3167           Fresno   93706   \n",
       "3    6077000801              6692       San Joaquin  95203   \n",
       "4    6019001500              2206           Fresno   93725   \n",
       "\n",
       "  Nearby City \\n(to help approximate location only)   Longitude   Latitude  \\\n",
       "0                                            Fresno -119.781696  36.709695   \n",
       "1                                           Ontario -117.618013  34.057780   \n",
       "2                                            Fresno -119.805504  36.735491   \n",
       "3                                          Stockton -121.314524  37.940517   \n",
       "4                                            Fresno -119.717843  36.681600   \n",
       "\n",
       "   CES 3.0 Score   CES 3.0 Percentile CES 3.0 \\nPercentile Range  ...  \\\n",
       "0      94.090246           100.000000   95-100% (highest scores)  ...   \n",
       "1      90.677839            99.987388   95-100% (highest scores)  ...   \n",
       "2      85.970036            99.974776   95-100% (highest scores)  ...   \n",
       "3      82.491521            99.962164   95-100% (highest scores)  ...   \n",
       "4      82.030814            99.949552   95-100% (highest scores)  ...   \n",
       "\n",
       "  Linguistic Isolation Pctl  Poverty  Poverty Pctl  Unemployment  \\\n",
       "0                 77.509665     76.3     97.121307          17.6   \n",
       "1                 96.253833     72.5     94.632307          12.3   \n",
       "2                 78.389548     86.8     99.560025          16.1   \n",
       "3                 75.136648     61.3     85.568825          19.6   \n",
       "4                 73.723504     66.4     90.232558          18.6   \n",
       "\n",
       "   Unemployment Pctl  Housing Burden  Housing Burden Pctl  Pop. Char.   \\\n",
       "0          91.724838            26.0            79.398324    92.120494   \n",
       "1          71.823836            34.1            93.754760    87.436849   \n",
       "2          87.980708            40.1            97.854785    94.581328   \n",
       "3          94.973981            21.1            63.544047    86.701266   \n",
       "4          93.654017            28.1            83.980706    80.075199   \n",
       "\n",
       "   Pop. Char. Score  Pop. Char. Pctl  \n",
       "0          9.553509        99.697314  \n",
       "1          9.067784        98.108210  \n",
       "2          9.808714        99.987388  \n",
       "3          8.991499        97.717241  \n",
       "4          8.304332        92.760752  \n",
       "\n",
       "[5 rows x 57 columns]"
      ]
     },
     "execution_count": 5,
     "metadata": {},
     "output_type": "execute_result"
    }
   ],
   "source": [
    "df_ces.head()"
   ]
  },
  {
   "cell_type": "markdown",
   "metadata": {},
   "source": [
    "### only keep select few columns"
   ]
  },
  {
   "cell_type": "code",
   "execution_count": 6,
   "metadata": {},
   "outputs": [],
   "source": [
    "df_ces_sel = df_ces[['Census Tract', 'California County', 'CES 3.0 Score', ' CES 3.0 Percentile', 'SB 535 Disadvantaged Community']]"
   ]
  },
  {
   "cell_type": "code",
   "execution_count": 7,
   "metadata": {},
   "outputs": [],
   "source": [
    "df_ces_sel = df_ces_sel.rename(columns = {'Census Tract': 'census_tract', \n",
    "                                          'California County': 'county',\n",
    "                                          'CES 3.0 Score': 'ces_score',\n",
    "                                          ' CES 3.0 Percentile': 'ces_percentile',\n",
    "                                          'SB 535 Disadvantaged Community': 'dac_flag'})"
   ]
  },
  {
   "cell_type": "code",
   "execution_count": 8,
   "metadata": {},
   "outputs": [
    {
     "data": {
      "text/html": [
       "<div>\n",
       "<style scoped>\n",
       "    .dataframe tbody tr th:only-of-type {\n",
       "        vertical-align: middle;\n",
       "    }\n",
       "\n",
       "    .dataframe tbody tr th {\n",
       "        vertical-align: top;\n",
       "    }\n",
       "\n",
       "    .dataframe thead th {\n",
       "        text-align: right;\n",
       "    }\n",
       "</style>\n",
       "<table border=\"1\" class=\"dataframe\">\n",
       "  <thead>\n",
       "    <tr style=\"text-align: right;\">\n",
       "      <th></th>\n",
       "      <th>census_tract</th>\n",
       "      <th>county</th>\n",
       "      <th>ces_score</th>\n",
       "      <th>ces_percentile</th>\n",
       "      <th>dac_flag</th>\n",
       "    </tr>\n",
       "  </thead>\n",
       "  <tbody>\n",
       "    <tr>\n",
       "      <td>0</td>\n",
       "      <td>6019001100</td>\n",
       "      <td>Fresno</td>\n",
       "      <td>94.090246</td>\n",
       "      <td>100.000000</td>\n",
       "      <td>Yes</td>\n",
       "    </tr>\n",
       "    <tr>\n",
       "      <td>1</td>\n",
       "      <td>6071001600</td>\n",
       "      <td>San Bernardino</td>\n",
       "      <td>90.677839</td>\n",
       "      <td>99.987388</td>\n",
       "      <td>Yes</td>\n",
       "    </tr>\n",
       "    <tr>\n",
       "      <td>2</td>\n",
       "      <td>6019000200</td>\n",
       "      <td>Fresno</td>\n",
       "      <td>85.970036</td>\n",
       "      <td>99.974776</td>\n",
       "      <td>Yes</td>\n",
       "    </tr>\n",
       "    <tr>\n",
       "      <td>3</td>\n",
       "      <td>6077000801</td>\n",
       "      <td>San Joaquin</td>\n",
       "      <td>82.491521</td>\n",
       "      <td>99.962164</td>\n",
       "      <td>Yes</td>\n",
       "    </tr>\n",
       "    <tr>\n",
       "      <td>4</td>\n",
       "      <td>6019001500</td>\n",
       "      <td>Fresno</td>\n",
       "      <td>82.030814</td>\n",
       "      <td>99.949552</td>\n",
       "      <td>Yes</td>\n",
       "    </tr>\n",
       "  </tbody>\n",
       "</table>\n",
       "</div>"
      ],
      "text/plain": [
       "   census_tract          county  ces_score  ces_percentile dac_flag\n",
       "0    6019001100         Fresno   94.090246      100.000000      Yes\n",
       "1    6071001600  San Bernardino  90.677839       99.987388      Yes\n",
       "2    6019000200         Fresno   85.970036       99.974776      Yes\n",
       "3    6077000801     San Joaquin  82.491521       99.962164      Yes\n",
       "4    6019001500         Fresno   82.030814       99.949552      Yes"
      ]
     },
     "execution_count": 8,
     "metadata": {},
     "output_type": "execute_result"
    }
   ],
   "source": [
    "df_ces_sel.head()"
   ]
  },
  {
   "cell_type": "markdown",
   "metadata": {},
   "source": [
    "### aggregate ces scores to county level"
   ]
  },
  {
   "cell_type": "markdown",
   "metadata": {},
   "source": [
    "count number of dac flagged census tracts within each county"
   ]
  },
  {
   "cell_type": "code",
   "execution_count": 9,
   "metadata": {},
   "outputs": [],
   "source": [
    "count_dac = df_ces_sel.groupby(['county', 'dac_flag'])['census_tract'].count().reset_index(name = 'counts')"
   ]
  },
  {
   "cell_type": "code",
   "execution_count": 10,
   "metadata": {},
   "outputs": [
    {
     "data": {
      "text/html": [
       "<div>\n",
       "<style scoped>\n",
       "    .dataframe tbody tr th:only-of-type {\n",
       "        vertical-align: middle;\n",
       "    }\n",
       "\n",
       "    .dataframe tbody tr th {\n",
       "        vertical-align: top;\n",
       "    }\n",
       "\n",
       "    .dataframe thead th {\n",
       "        text-align: right;\n",
       "    }\n",
       "</style>\n",
       "<table border=\"1\" class=\"dataframe\">\n",
       "  <thead>\n",
       "    <tr style=\"text-align: right;\">\n",
       "      <th></th>\n",
       "      <th>county</th>\n",
       "      <th>dac_flag</th>\n",
       "      <th>counts</th>\n",
       "    </tr>\n",
       "  </thead>\n",
       "  <tbody>\n",
       "    <tr>\n",
       "      <td>0</td>\n",
       "      <td>Alameda</td>\n",
       "      <td>No</td>\n",
       "      <td>322</td>\n",
       "    </tr>\n",
       "    <tr>\n",
       "      <td>1</td>\n",
       "      <td>Alameda</td>\n",
       "      <td>Yes</td>\n",
       "      <td>38</td>\n",
       "    </tr>\n",
       "    <tr>\n",
       "      <td>2</td>\n",
       "      <td>Alpine</td>\n",
       "      <td>No</td>\n",
       "      <td>1</td>\n",
       "    </tr>\n",
       "    <tr>\n",
       "      <td>3</td>\n",
       "      <td>Amador</td>\n",
       "      <td>No</td>\n",
       "      <td>9</td>\n",
       "    </tr>\n",
       "    <tr>\n",
       "      <td>4</td>\n",
       "      <td>Butte</td>\n",
       "      <td>No</td>\n",
       "      <td>49</td>\n",
       "    </tr>\n",
       "  </tbody>\n",
       "</table>\n",
       "</div>"
      ],
      "text/plain": [
       "     county dac_flag  counts\n",
       "0  Alameda        No     322\n",
       "1  Alameda       Yes      38\n",
       "2   Alpine        No       1\n",
       "3   Amador        No       9\n",
       "4    Butte        No      49"
      ]
     },
     "execution_count": 10,
     "metadata": {},
     "output_type": "execute_result"
    }
   ],
   "source": [
    "count_dac.head()"
   ]
  },
  {
   "cell_type": "markdown",
   "metadata": {},
   "source": [
    "check that there are no counties with zero disadvantaged communities:"
   ]
  },
  {
   "cell_type": "code",
   "execution_count": 11,
   "metadata": {},
   "outputs": [
    {
     "data": {
      "text/html": [
       "<div>\n",
       "<style scoped>\n",
       "    .dataframe tbody tr th:only-of-type {\n",
       "        vertical-align: middle;\n",
       "    }\n",
       "\n",
       "    .dataframe tbody tr th {\n",
       "        vertical-align: top;\n",
       "    }\n",
       "\n",
       "    .dataframe thead th {\n",
       "        text-align: right;\n",
       "    }\n",
       "</style>\n",
       "<table border=\"1\" class=\"dataframe\">\n",
       "  <thead>\n",
       "    <tr style=\"text-align: right;\">\n",
       "      <th></th>\n",
       "      <th>county</th>\n",
       "      <th>dac_flag</th>\n",
       "      <th>counts</th>\n",
       "    </tr>\n",
       "  </thead>\n",
       "  <tbody>\n",
       "  </tbody>\n",
       "</table>\n",
       "</div>"
      ],
      "text/plain": [
       "Empty DataFrame\n",
       "Columns: [county, dac_flag, counts]\n",
       "Index: []"
      ]
     },
     "execution_count": 11,
     "metadata": {},
     "output_type": "execute_result"
    }
   ],
   "source": [
    "count_dac[(count_dac.dac_flag == 'Yes') & (count_dac.counts == 0)]"
   ]
  },
  {
   "cell_type": "markdown",
   "metadata": {},
   "source": [
    "count how many census tracts there are in each county"
   ]
  },
  {
   "cell_type": "code",
   "execution_count": 12,
   "metadata": {},
   "outputs": [],
   "source": [
    "count_tracts = df_ces_sel.groupby(['county'])['census_tract'].count().reset_index(name = 'total')"
   ]
  },
  {
   "cell_type": "code",
   "execution_count": 13,
   "metadata": {},
   "outputs": [
    {
     "data": {
      "text/html": [
       "<div>\n",
       "<style scoped>\n",
       "    .dataframe tbody tr th:only-of-type {\n",
       "        vertical-align: middle;\n",
       "    }\n",
       "\n",
       "    .dataframe tbody tr th {\n",
       "        vertical-align: top;\n",
       "    }\n",
       "\n",
       "    .dataframe thead th {\n",
       "        text-align: right;\n",
       "    }\n",
       "</style>\n",
       "<table border=\"1\" class=\"dataframe\">\n",
       "  <thead>\n",
       "    <tr style=\"text-align: right;\">\n",
       "      <th></th>\n",
       "      <th>county</th>\n",
       "      <th>total</th>\n",
       "    </tr>\n",
       "  </thead>\n",
       "  <tbody>\n",
       "    <tr>\n",
       "      <td>0</td>\n",
       "      <td>Alameda</td>\n",
       "      <td>360</td>\n",
       "    </tr>\n",
       "    <tr>\n",
       "      <td>1</td>\n",
       "      <td>Alpine</td>\n",
       "      <td>1</td>\n",
       "    </tr>\n",
       "    <tr>\n",
       "      <td>2</td>\n",
       "      <td>Amador</td>\n",
       "      <td>9</td>\n",
       "    </tr>\n",
       "    <tr>\n",
       "      <td>3</td>\n",
       "      <td>Butte</td>\n",
       "      <td>51</td>\n",
       "    </tr>\n",
       "    <tr>\n",
       "      <td>4</td>\n",
       "      <td>Calaveras</td>\n",
       "      <td>10</td>\n",
       "    </tr>\n",
       "  </tbody>\n",
       "</table>\n",
       "</div>"
      ],
      "text/plain": [
       "       county  total\n",
       "0    Alameda     360\n",
       "1     Alpine       1\n",
       "2     Amador       9\n",
       "3      Butte      51\n",
       "4  Calaveras      10"
      ]
     },
     "execution_count": 13,
     "metadata": {},
     "output_type": "execute_result"
    }
   ],
   "source": [
    "count_tracts.head()"
   ]
  },
  {
   "cell_type": "markdown",
   "metadata": {},
   "source": [
    "merge count of dac flags with total count of census tracts"
   ]
  },
  {
   "cell_type": "code",
   "execution_count": 14,
   "metadata": {},
   "outputs": [],
   "source": [
    "prop_dac = count_dac.merge(count_tracts, on = 'county')"
   ]
  },
  {
   "cell_type": "code",
   "execution_count": 15,
   "metadata": {},
   "outputs": [
    {
     "data": {
      "text/html": [
       "<div>\n",
       "<style scoped>\n",
       "    .dataframe tbody tr th:only-of-type {\n",
       "        vertical-align: middle;\n",
       "    }\n",
       "\n",
       "    .dataframe tbody tr th {\n",
       "        vertical-align: top;\n",
       "    }\n",
       "\n",
       "    .dataframe thead th {\n",
       "        text-align: right;\n",
       "    }\n",
       "</style>\n",
       "<table border=\"1\" class=\"dataframe\">\n",
       "  <thead>\n",
       "    <tr style=\"text-align: right;\">\n",
       "      <th></th>\n",
       "      <th>county</th>\n",
       "      <th>dac_flag</th>\n",
       "      <th>counts</th>\n",
       "      <th>total</th>\n",
       "    </tr>\n",
       "  </thead>\n",
       "  <tbody>\n",
       "    <tr>\n",
       "      <td>0</td>\n",
       "      <td>Alameda</td>\n",
       "      <td>No</td>\n",
       "      <td>322</td>\n",
       "      <td>360</td>\n",
       "    </tr>\n",
       "    <tr>\n",
       "      <td>1</td>\n",
       "      <td>Alameda</td>\n",
       "      <td>Yes</td>\n",
       "      <td>38</td>\n",
       "      <td>360</td>\n",
       "    </tr>\n",
       "    <tr>\n",
       "      <td>2</td>\n",
       "      <td>Alpine</td>\n",
       "      <td>No</td>\n",
       "      <td>1</td>\n",
       "      <td>1</td>\n",
       "    </tr>\n",
       "    <tr>\n",
       "      <td>3</td>\n",
       "      <td>Amador</td>\n",
       "      <td>No</td>\n",
       "      <td>9</td>\n",
       "      <td>9</td>\n",
       "    </tr>\n",
       "    <tr>\n",
       "      <td>4</td>\n",
       "      <td>Butte</td>\n",
       "      <td>No</td>\n",
       "      <td>49</td>\n",
       "      <td>51</td>\n",
       "    </tr>\n",
       "  </tbody>\n",
       "</table>\n",
       "</div>"
      ],
      "text/plain": [
       "     county dac_flag  counts  total\n",
       "0  Alameda        No     322    360\n",
       "1  Alameda       Yes      38    360\n",
       "2   Alpine        No       1      1\n",
       "3   Amador        No       9      9\n",
       "4    Butte        No      49     51"
      ]
     },
     "execution_count": 15,
     "metadata": {},
     "output_type": "execute_result"
    }
   ],
   "source": [
    "prop_dac.head()"
   ]
  },
  {
   "cell_type": "markdown",
   "metadata": {},
   "source": [
    "calculation proportion of dac-assigned census tracts within each county"
   ]
  },
  {
   "cell_type": "code",
   "execution_count": 16,
   "metadata": {},
   "outputs": [],
   "source": [
    "prop_dac['dac_proportion'] = prop_dac['counts']/prop_dac['total']"
   ]
  },
  {
   "cell_type": "code",
   "execution_count": 17,
   "metadata": {},
   "outputs": [
    {
     "data": {
      "text/html": [
       "<div>\n",
       "<style scoped>\n",
       "    .dataframe tbody tr th:only-of-type {\n",
       "        vertical-align: middle;\n",
       "    }\n",
       "\n",
       "    .dataframe tbody tr th {\n",
       "        vertical-align: top;\n",
       "    }\n",
       "\n",
       "    .dataframe thead th {\n",
       "        text-align: right;\n",
       "    }\n",
       "</style>\n",
       "<table border=\"1\" class=\"dataframe\">\n",
       "  <thead>\n",
       "    <tr style=\"text-align: right;\">\n",
       "      <th></th>\n",
       "      <th>county</th>\n",
       "      <th>dac_flag</th>\n",
       "      <th>counts</th>\n",
       "      <th>total</th>\n",
       "      <th>dac_proportion</th>\n",
       "    </tr>\n",
       "  </thead>\n",
       "  <tbody>\n",
       "    <tr>\n",
       "      <td>0</td>\n",
       "      <td>Alameda</td>\n",
       "      <td>No</td>\n",
       "      <td>322</td>\n",
       "      <td>360</td>\n",
       "      <td>0.894444</td>\n",
       "    </tr>\n",
       "    <tr>\n",
       "      <td>1</td>\n",
       "      <td>Alameda</td>\n",
       "      <td>Yes</td>\n",
       "      <td>38</td>\n",
       "      <td>360</td>\n",
       "      <td>0.105556</td>\n",
       "    </tr>\n",
       "    <tr>\n",
       "      <td>2</td>\n",
       "      <td>Alpine</td>\n",
       "      <td>No</td>\n",
       "      <td>1</td>\n",
       "      <td>1</td>\n",
       "      <td>1.000000</td>\n",
       "    </tr>\n",
       "    <tr>\n",
       "      <td>3</td>\n",
       "      <td>Amador</td>\n",
       "      <td>No</td>\n",
       "      <td>9</td>\n",
       "      <td>9</td>\n",
       "      <td>1.000000</td>\n",
       "    </tr>\n",
       "    <tr>\n",
       "      <td>4</td>\n",
       "      <td>Butte</td>\n",
       "      <td>No</td>\n",
       "      <td>49</td>\n",
       "      <td>51</td>\n",
       "      <td>0.960784</td>\n",
       "    </tr>\n",
       "  </tbody>\n",
       "</table>\n",
       "</div>"
      ],
      "text/plain": [
       "     county dac_flag  counts  total  dac_proportion\n",
       "0  Alameda        No     322    360        0.894444\n",
       "1  Alameda       Yes      38    360        0.105556\n",
       "2   Alpine        No       1      1        1.000000\n",
       "3   Amador        No       9      9        1.000000\n",
       "4    Butte        No      49     51        0.960784"
      ]
     },
     "execution_count": 17,
     "metadata": {},
     "output_type": "execute_result"
    }
   ],
   "source": [
    "prop_dac.head()"
   ]
  },
  {
   "cell_type": "markdown",
   "metadata": {},
   "source": [
    "keep calculation of dac flag == 'yes' only"
   ]
  },
  {
   "cell_type": "code",
   "execution_count": 18,
   "metadata": {},
   "outputs": [],
   "source": [
    "prop_dac = prop_dac[(prop_dac.dac_flag == 'Yes') | ((prop_dac.dac_flag == 'No') & (prop_dac.counts == prop_dac.total))]"
   ]
  },
  {
   "cell_type": "code",
   "execution_count": 19,
   "metadata": {},
   "outputs": [],
   "source": [
    "prop_dac.loc[((prop_dac.dac_flag == 'No') & (prop_dac.counts == prop_dac.total)), 'dac_proportion'] = 0"
   ]
  },
  {
   "cell_type": "code",
   "execution_count": 20,
   "metadata": {},
   "outputs": [],
   "source": [
    "prop_dac = prop_dac[['county', 'dac_proportion']]"
   ]
  },
  {
   "cell_type": "markdown",
   "metadata": {},
   "source": [
    "take median of ces score by county"
   ]
  },
  {
   "cell_type": "code",
   "execution_count": 21,
   "metadata": {},
   "outputs": [],
   "source": [
    "median_ces = df_ces_sel.groupby(['county'])['ces_score', 'ces_percentile'].agg(['median']).reset_index()"
   ]
  },
  {
   "cell_type": "code",
   "execution_count": 22,
   "metadata": {},
   "outputs": [
    {
     "data": {
      "text/html": [
       "<div>\n",
       "<style scoped>\n",
       "    .dataframe tbody tr th:only-of-type {\n",
       "        vertical-align: middle;\n",
       "    }\n",
       "\n",
       "    .dataframe tbody tr th {\n",
       "        vertical-align: top;\n",
       "    }\n",
       "\n",
       "    .dataframe thead tr th {\n",
       "        text-align: left;\n",
       "    }\n",
       "</style>\n",
       "<table border=\"1\" class=\"dataframe\">\n",
       "  <thead>\n",
       "    <tr>\n",
       "      <th></th>\n",
       "      <th>county</th>\n",
       "      <th>ces_score</th>\n",
       "      <th>ces_percentile</th>\n",
       "    </tr>\n",
       "    <tr>\n",
       "      <th></th>\n",
       "      <th></th>\n",
       "      <th>median</th>\n",
       "      <th>median</th>\n",
       "    </tr>\n",
       "  </thead>\n",
       "  <tbody>\n",
       "    <tr>\n",
       "      <td>0</td>\n",
       "      <td>Alameda</td>\n",
       "      <td>21.532906</td>\n",
       "      <td>42.098625</td>\n",
       "    </tr>\n",
       "    <tr>\n",
       "      <td>1</td>\n",
       "      <td>Alpine</td>\n",
       "      <td>11.343357</td>\n",
       "      <td>15.853197</td>\n",
       "    </tr>\n",
       "    <tr>\n",
       "      <td>2</td>\n",
       "      <td>Amador</td>\n",
       "      <td>23.257549</td>\n",
       "      <td>45.756085</td>\n",
       "    </tr>\n",
       "    <tr>\n",
       "      <td>3</td>\n",
       "      <td>Butte</td>\n",
       "      <td>20.033261</td>\n",
       "      <td>38.365494</td>\n",
       "    </tr>\n",
       "    <tr>\n",
       "      <td>4</td>\n",
       "      <td>Calaveras</td>\n",
       "      <td>15.180852</td>\n",
       "      <td>25.551772</td>\n",
       "    </tr>\n",
       "  </tbody>\n",
       "</table>\n",
       "</div>"
      ],
      "text/plain": [
       "       county  ces_score ces_percentile\n",
       "                  median         median\n",
       "0    Alameda   21.532906      42.098625\n",
       "1     Alpine   11.343357      15.853197\n",
       "2     Amador   23.257549      45.756085\n",
       "3      Butte   20.033261      38.365494\n",
       "4  Calaveras   15.180852      25.551772"
      ]
     },
     "execution_count": 22,
     "metadata": {},
     "output_type": "execute_result"
    }
   ],
   "source": [
    "median_ces.head()"
   ]
  },
  {
   "cell_type": "code",
   "execution_count": 23,
   "metadata": {},
   "outputs": [],
   "source": [
    "median_ces.columns = median_ces.columns.map('_'.join).str.strip('_')"
   ]
  },
  {
   "cell_type": "code",
   "execution_count": 24,
   "metadata": {},
   "outputs": [
    {
     "data": {
      "text/html": [
       "<div>\n",
       "<style scoped>\n",
       "    .dataframe tbody tr th:only-of-type {\n",
       "        vertical-align: middle;\n",
       "    }\n",
       "\n",
       "    .dataframe tbody tr th {\n",
       "        vertical-align: top;\n",
       "    }\n",
       "\n",
       "    .dataframe thead th {\n",
       "        text-align: right;\n",
       "    }\n",
       "</style>\n",
       "<table border=\"1\" class=\"dataframe\">\n",
       "  <thead>\n",
       "    <tr style=\"text-align: right;\">\n",
       "      <th></th>\n",
       "      <th>county</th>\n",
       "      <th>ces_score_median</th>\n",
       "      <th>ces_percentile_median</th>\n",
       "    </tr>\n",
       "  </thead>\n",
       "  <tbody>\n",
       "    <tr>\n",
       "      <td>0</td>\n",
       "      <td>Alameda</td>\n",
       "      <td>21.532906</td>\n",
       "      <td>42.098625</td>\n",
       "    </tr>\n",
       "    <tr>\n",
       "      <td>1</td>\n",
       "      <td>Alpine</td>\n",
       "      <td>11.343357</td>\n",
       "      <td>15.853197</td>\n",
       "    </tr>\n",
       "    <tr>\n",
       "      <td>2</td>\n",
       "      <td>Amador</td>\n",
       "      <td>23.257549</td>\n",
       "      <td>45.756085</td>\n",
       "    </tr>\n",
       "    <tr>\n",
       "      <td>3</td>\n",
       "      <td>Butte</td>\n",
       "      <td>20.033261</td>\n",
       "      <td>38.365494</td>\n",
       "    </tr>\n",
       "    <tr>\n",
       "      <td>4</td>\n",
       "      <td>Calaveras</td>\n",
       "      <td>15.180852</td>\n",
       "      <td>25.551772</td>\n",
       "    </tr>\n",
       "  </tbody>\n",
       "</table>\n",
       "</div>"
      ],
      "text/plain": [
       "       county  ces_score_median  ces_percentile_median\n",
       "0    Alameda          21.532906              42.098625\n",
       "1     Alpine          11.343357              15.853197\n",
       "2     Amador          23.257549              45.756085\n",
       "3      Butte          20.033261              38.365494\n",
       "4  Calaveras          15.180852              25.551772"
      ]
     },
     "execution_count": 24,
     "metadata": {},
     "output_type": "execute_result"
    }
   ],
   "source": [
    "median_ces.head()"
   ]
  },
  {
   "cell_type": "code",
   "execution_count": 25,
   "metadata": {},
   "outputs": [],
   "source": [
    "# agg_ces.columns = agg_ces.columns.droplevel(0)"
   ]
  },
  {
   "cell_type": "markdown",
   "metadata": {},
   "source": [
    "combine all county-level variables"
   ]
  },
  {
   "cell_type": "code",
   "execution_count": 26,
   "metadata": {},
   "outputs": [],
   "source": [
    "agg_ces = prop_dac.merge(median_ces, on = 'county')"
   ]
  },
  {
   "cell_type": "code",
   "execution_count": 27,
   "metadata": {},
   "outputs": [
    {
     "data": {
      "text/html": [
       "<div>\n",
       "<style scoped>\n",
       "    .dataframe tbody tr th:only-of-type {\n",
       "        vertical-align: middle;\n",
       "    }\n",
       "\n",
       "    .dataframe tbody tr th {\n",
       "        vertical-align: top;\n",
       "    }\n",
       "\n",
       "    .dataframe thead th {\n",
       "        text-align: right;\n",
       "    }\n",
       "</style>\n",
       "<table border=\"1\" class=\"dataframe\">\n",
       "  <thead>\n",
       "    <tr style=\"text-align: right;\">\n",
       "      <th></th>\n",
       "      <th>county</th>\n",
       "      <th>dac_proportion</th>\n",
       "      <th>ces_score_median</th>\n",
       "      <th>ces_percentile_median</th>\n",
       "    </tr>\n",
       "  </thead>\n",
       "  <tbody>\n",
       "    <tr>\n",
       "      <td>0</td>\n",
       "      <td>Alameda</td>\n",
       "      <td>0.105556</td>\n",
       "      <td>21.532906</td>\n",
       "      <td>42.098625</td>\n",
       "    </tr>\n",
       "    <tr>\n",
       "      <td>1</td>\n",
       "      <td>Alpine</td>\n",
       "      <td>0.000000</td>\n",
       "      <td>11.343357</td>\n",
       "      <td>15.853197</td>\n",
       "    </tr>\n",
       "    <tr>\n",
       "      <td>2</td>\n",
       "      <td>Amador</td>\n",
       "      <td>0.000000</td>\n",
       "      <td>23.257549</td>\n",
       "      <td>45.756085</td>\n",
       "    </tr>\n",
       "    <tr>\n",
       "      <td>3</td>\n",
       "      <td>Butte</td>\n",
       "      <td>0.039216</td>\n",
       "      <td>20.033261</td>\n",
       "      <td>38.365494</td>\n",
       "    </tr>\n",
       "    <tr>\n",
       "      <td>4</td>\n",
       "      <td>Calaveras</td>\n",
       "      <td>0.000000</td>\n",
       "      <td>15.180852</td>\n",
       "      <td>25.551772</td>\n",
       "    </tr>\n",
       "  </tbody>\n",
       "</table>\n",
       "</div>"
      ],
      "text/plain": [
       "       county  dac_proportion  ces_score_median  ces_percentile_median\n",
       "0    Alameda         0.105556         21.532906              42.098625\n",
       "1     Alpine         0.000000         11.343357              15.853197\n",
       "2     Amador         0.000000         23.257549              45.756085\n",
       "3      Butte         0.039216         20.033261              38.365494\n",
       "4  Calaveras         0.000000         15.180852              25.551772"
      ]
     },
     "execution_count": 27,
     "metadata": {},
     "output_type": "execute_result"
    }
   ],
   "source": [
    "agg_ces.head()"
   ]
  },
  {
   "cell_type": "markdown",
   "metadata": {},
   "source": [
    "### export to csv file"
   ]
  },
  {
   "cell_type": "code",
   "execution_count": 28,
   "metadata": {},
   "outputs": [],
   "source": [
    "agg_ces.to_csv(os.path.join(save_path, save_file), index=False)"
   ]
  }
 ],
 "metadata": {
  "kernelspec": {
   "display_name": "Python 3",
   "language": "python",
   "name": "python3"
  },
  "language_info": {
   "codemirror_mode": {
    "name": "ipython",
    "version": 3
   },
   "file_extension": ".py",
   "mimetype": "text/x-python",
   "name": "python",
   "nbconvert_exporter": "python",
   "pygments_lexer": "ipython3",
   "version": "3.9.2"
  }
 },
 "nbformat": 4,
 "nbformat_minor": 4
}
