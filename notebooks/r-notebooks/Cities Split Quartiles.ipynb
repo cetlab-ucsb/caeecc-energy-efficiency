{
 "cells": [
  {
   "cell_type": "code",
   "execution_count": 6,
   "id": "7fd30568",
   "metadata": {},
   "outputs": [
    {
     "name": "stderr",
     "output_type": "stream",
     "text": [
      "also installing the dependencies 'proxy', 'rootSolve', 'e1071', 'lmom', 'mvtnorm', 'expm', 'Exact', 'gld'\n",
      "\n"
     ]
    },
    {
     "name": "stdout",
     "output_type": "stream",
     "text": [
      "package 'proxy' successfully unpacked and MD5 sums checked\n",
      "package 'rootSolve' successfully unpacked and MD5 sums checked\n",
      "package 'e1071' successfully unpacked and MD5 sums checked\n",
      "package 'lmom' successfully unpacked and MD5 sums checked\n",
      "package 'mvtnorm' successfully unpacked and MD5 sums checked\n",
      "package 'expm' successfully unpacked and MD5 sums checked\n",
      "package 'Exact' successfully unpacked and MD5 sums checked\n",
      "package 'gld' successfully unpacked and MD5 sums checked\n",
      "package 'DescTools' successfully unpacked and MD5 sums checked\n",
      "\n",
      "The downloaded binary packages are in\n",
      "\tC:\\Users\\ather\\AppData\\Local\\Temp\\Rtmpm6BSFD\\downloaded_packages\n"
     ]
    }
   ],
   "source": [
    "install.packages('DescTools')"
   ]
  },
  {
   "cell_type": "code",
   "execution_count": 13,
   "id": "c408e947",
   "metadata": {},
   "outputs": [],
   "source": [
    "library(\"dplyr\")\n",
    "library(\"DescTools\")\n",
    "#cities <- read.csv('/Users/athervgole/Downloads/cities_1.csv')\n",
    "cities <- read.csv('C:/Users/ather/CS Projects/CETLab/caeecc-energy-efficiency/cities_2.csv')\n",
    "\n",
    "\n",
    "population <- cities$total_population\n",
    "population_trimmed <- DescTools::Trim(cities$total_population, trim = 0.02, na.rm = TRUE)\n",
    "\n",
    "income <- cities$median_household_income_usd\n",
    "income_trimmed <- DescTools::Trim(cities$median_household_income_usd, trim = 0.02, na.rm = TRUE)\n",
    "\n",
    "budget <- cities$Budget\n",
    "budget_trimmed <- DescTools::Trim(cities$Budget, trim = 0.02, na.rm = TRUE)\n",
    "\n",
    "claims <- cities$Total.Claims\n",
    "claims_trimmed <- DescTools::Trim(cities$Total.Claims, trim = 0.02, na.rm = TRUE)\n",
    "\n",
    "taxrev <- cities$Total.Tax.Revenue\n",
    "taxrev_trimmed <- DescTools::Trim(cities$Total.Tax.Revenue, trim = 0.02, na.rm = TRUE)\n",
    "\n",
    "programs <- cities$Total.Programs\n",
    "programs_trimmed <- DescTools::Trim(cities$Total.Programs, trim = 0.02, na.rm = TRUE)\n",
    "\n",
    "mean_budget <- mean(cities$Budget, na.action = na.exclude)\n",
    "median_budget <- median(cities$Budget, na.action = na.exclude)\n",
    "\n",
    "\n",
    "\n",
    "#try taxrev population regressions with and without incorporated cities\n",
    "\n"
   ]
  },
  {
   "cell_type": "code",
   "execution_count": 39,
   "id": "f3f37d93",
   "metadata": {},
   "outputs": [
    {
     "data": {
      "text/html": [
       "<table>\n",
       "<thead><tr><th scope=col>n</th></tr></thead>\n",
       "<tbody>\n",
       "\t<tr><td>105</td></tr>\n",
       "</tbody>\n",
       "</table>\n"
      ],
      "text/latex": [
       "\\begin{tabular}{r|l}\n",
       " n\\\\\n",
       "\\hline\n",
       "\t 105\\\\\n",
       "\\end{tabular}\n"
      ],
      "text/markdown": [
       "\n",
       "| n |\n",
       "|---|\n",
       "| 105 |\n",
       "\n"
      ],
      "text/plain": [
       "  n  \n",
       "1 105"
      ]
     },
     "metadata": {},
     "output_type": "display_data"
    },
    {
     "data": {
      "text/html": [
       "<table>\n",
       "<thead><tr><th scope=col>n</th></tr></thead>\n",
       "<tbody>\n",
       "\t<tr><td>104</td></tr>\n",
       "</tbody>\n",
       "</table>\n"
      ],
      "text/latex": [
       "\\begin{tabular}{r|l}\n",
       " n\\\\\n",
       "\\hline\n",
       "\t 104\\\\\n",
       "\\end{tabular}\n"
      ],
      "text/markdown": [
       "\n",
       "| n |\n",
       "|---|\n",
       "| 104 |\n",
       "\n"
      ],
      "text/plain": [
       "  n  \n",
       "1 104"
      ]
     },
     "metadata": {},
     "output_type": "display_data"
    },
    {
     "data": {
      "text/html": [
       "<table>\n",
       "<thead><tr><th scope=col>n</th></tr></thead>\n",
       "<tbody>\n",
       "\t<tr><td>104</td></tr>\n",
       "</tbody>\n",
       "</table>\n"
      ],
      "text/latex": [
       "\\begin{tabular}{r|l}\n",
       " n\\\\\n",
       "\\hline\n",
       "\t 104\\\\\n",
       "\\end{tabular}\n"
      ],
      "text/markdown": [
       "\n",
       "| n |\n",
       "|---|\n",
       "| 104 |\n",
       "\n"
      ],
      "text/plain": [
       "  n  \n",
       "1 104"
      ]
     },
     "metadata": {},
     "output_type": "display_data"
    },
    {
     "data": {
      "text/html": [
       "<table>\n",
       "<thead><tr><th scope=col>n</th></tr></thead>\n",
       "<tbody>\n",
       "\t<tr><td>104</td></tr>\n",
       "</tbody>\n",
       "</table>\n"
      ],
      "text/latex": [
       "\\begin{tabular}{r|l}\n",
       " n\\\\\n",
       "\\hline\n",
       "\t 104\\\\\n",
       "\\end{tabular}\n"
      ],
      "text/markdown": [
       "\n",
       "| n |\n",
       "|---|\n",
       "| 104 |\n",
       "\n"
      ],
      "text/plain": [
       "  n  \n",
       "1 104"
      ]
     },
     "metadata": {},
     "output_type": "display_data"
    },
    {
     "data": {
      "text/plain": [
       "   Min. 1st Qu.  Median    Mean 3rd Qu.    Max. \n",
       "   1514    3346    4881    5054    6629    8746 "
      ]
     },
     "metadata": {},
     "output_type": "display_data"
    },
    {
     "data": {
      "text/plain": [
       "   Min. 1st Qu.  Median    Mean 3rd Qu.    Max. \n",
       "   9043   11993   15223   15439   18114   24958 "
      ]
     },
     "metadata": {},
     "output_type": "display_data"
    },
    {
     "data": {
      "text/plain": [
       "   Min. 1st Qu.  Median    Mean 3rd Qu.    Max. \n",
       "  25014   31964   40118   42852   51987   68146 "
      ]
     },
     "metadata": {},
     "output_type": "display_data"
    },
    {
     "data": {
      "text/plain": [
       "   Min. 1st Qu.  Median    Mean 3rd Qu.    Max. \n",
       "  68805   81035  110971  197544  159612 2484718 "
      ]
     },
     "metadata": {},
     "output_type": "display_data"
    }
   ],
   "source": [
    "#cities by quartile, even grouping (n=105/group, dropping na)\n",
    "\n",
    "cities$quartile <- ntile(cities$total_population, 4)\n",
    "\n",
    "cities_q1 <- subset(cities , quartile == 1)\n",
    "cities_q2 <- subset(cities, quartile == 2)\n",
    "cities_q3 <- subset(cities, quartile == 3)\n",
    "cities_q4 <- subset(cities, quartile == 4)\n",
    "\n",
    "count(cities_q1)\n",
    "count(cities_q2)\n",
    "count(cities_q3)\n",
    "count(cities_q4)\n",
    "\n",
    "summary(cities_q1$total_population)\n",
    "summary(cities_q2$total_population)\n",
    "summary(cities_q3$total_population)\n",
    "summary(cities_q4$total_population)"
   ]
  },
  {
   "cell_type": "code",
   "execution_count": 51,
   "id": "6ec3998b",
   "metadata": {},
   "outputs": [
    {
     "data": {
      "text/html": [
       "<table>\n",
       "<thead><tr><th scope=col>n</th></tr></thead>\n",
       "<tbody>\n",
       "\t<tr><td>353</td></tr>\n",
       "</tbody>\n",
       "</table>\n"
      ],
      "text/latex": [
       "\\begin{tabular}{r|l}\n",
       " n\\\\\n",
       "\\hline\n",
       "\t 353\\\\\n",
       "\\end{tabular}\n"
      ],
      "text/markdown": [
       "\n",
       "| n |\n",
       "|---|\n",
       "| 353 |\n",
       "\n"
      ],
      "text/plain": [
       "  n  \n",
       "1 353"
      ]
     },
     "metadata": {},
     "output_type": "display_data"
    },
    {
     "data": {
      "text/html": [
       "<table>\n",
       "<thead><tr><th scope=col>n</th></tr></thead>\n",
       "<tbody>\n",
       "\t<tr><td>45</td></tr>\n",
       "</tbody>\n",
       "</table>\n"
      ],
      "text/latex": [
       "\\begin{tabular}{r|l}\n",
       " n\\\\\n",
       "\\hline\n",
       "\t 45\\\\\n",
       "\\end{tabular}\n"
      ],
      "text/markdown": [
       "\n",
       "| n |\n",
       "|---|\n",
       "| 45 |\n",
       "\n"
      ],
      "text/plain": [
       "  n \n",
       "1 45"
      ]
     },
     "metadata": {},
     "output_type": "display_data"
    },
    {
     "data": {
      "text/html": [
       "<table>\n",
       "<thead><tr><th scope=col>n</th></tr></thead>\n",
       "<tbody>\n",
       "\t<tr><td>7</td></tr>\n",
       "</tbody>\n",
       "</table>\n"
      ],
      "text/latex": [
       "\\begin{tabular}{r|l}\n",
       " n\\\\\n",
       "\\hline\n",
       "\t 7\\\\\n",
       "\\end{tabular}\n"
      ],
      "text/markdown": [
       "\n",
       "| n |\n",
       "|---|\n",
       "| 7 |\n",
       "\n"
      ],
      "text/plain": [
       "  n\n",
       "1 7"
      ]
     },
     "metadata": {},
     "output_type": "display_data"
    },
    {
     "data": {
      "text/html": [
       "<table>\n",
       "<thead><tr><th scope=col>n</th></tr></thead>\n",
       "<tbody>\n",
       "\t<tr><td>12</td></tr>\n",
       "</tbody>\n",
       "</table>\n"
      ],
      "text/latex": [
       "\\begin{tabular}{r|l}\n",
       " n\\\\\n",
       "\\hline\n",
       "\t 12\\\\\n",
       "\\end{tabular}\n"
      ],
      "text/markdown": [
       "\n",
       "| n |\n",
       "|---|\n",
       "| 12 |\n",
       "\n"
      ],
      "text/plain": [
       "  n \n",
       "1 12"
      ]
     },
     "metadata": {},
     "output_type": "display_data"
    },
    {
     "data": {
      "text/plain": [
       "   Min. 1st Qu.  Median    Mean 3rd Qu.    Max. \n",
       "   1514    7188   17308   27759   42290   99939 "
      ]
     },
     "metadata": {},
     "output_type": "display_data"
    },
    {
     "data": {
      "text/plain": [
       "   Min. 1st Qu.  Median    Mean 3rd Qu.    Max. \n",
       " 102311  110611  127231  133324  151412  199851 "
      ]
     },
     "metadata": {},
     "output_type": "display_data"
    },
    {
     "data": {
      "text/plain": [
       "   Min. 1st Qu.  Median    Mean 3rd Qu.    Max. \n",
       " 204601  219755  227727  237241  255420  278008 "
      ]
     },
     "metadata": {},
     "output_type": "display_data"
    },
    {
     "data": {
      "text/plain": [
       "   Min. 1st Qu.  Median    Mean 3rd Qu.    Max. \n",
       " 347532  398308  574330  806517  918146 2484718 "
      ]
     },
     "metadata": {},
     "output_type": "display_data"
    }
   ],
   "source": [
    "#cities by 1/4 of population range\n",
    "#population ranges from 1514 to 2484718 (extreme value)\n",
    "#I tried breaking it up by 100000's, and put the >400000 values in the same group\n",
    "\n",
    "cities_g1 <- subset(cities, total_population <= 100000)\n",
    "cities_g2 <- subset(cities, total_population > 100000 & population <= 200000)\n",
    "cities_g3 <- subset(cities, total_population > 200000 & population <= 300000)\n",
    "cities_g4 <- subset(cities, total_population > 300000)\n",
    "\n",
    "count(cities_g1)\n",
    "count(cities_g2)\n",
    "count(cities_g3)\n",
    "count(cities_g4)\n",
    "\n",
    "summary(cities_g1$total_population)\n",
    "summary(cities_g2$total_population)\n",
    "summary(cities_g3$total_population)\n",
    "summary(cities_g4$total_population)"
   ]
  },
  {
   "cell_type": "code",
   "execution_count": 57,
   "id": "24a594c6",
   "metadata": {},
   "outputs": [
    {
     "data": {
      "text/html": [
       "<table>\n",
       "<thead><tr><th scope=col>n</th></tr></thead>\n",
       "<tbody>\n",
       "\t<tr><td>18</td></tr>\n",
       "</tbody>\n",
       "</table>\n"
      ],
      "text/latex": [
       "\\begin{tabular}{r|l}\n",
       " n\\\\\n",
       "\\hline\n",
       "\t 18\\\\\n",
       "\\end{tabular}\n"
      ],
      "text/markdown": [
       "\n",
       "| n |\n",
       "|---|\n",
       "| 18 |\n",
       "\n"
      ],
      "text/plain": [
       "  n \n",
       "1 18"
      ]
     },
     "metadata": {},
     "output_type": "display_data"
    },
    {
     "data": {
      "text/html": [
       "<table>\n",
       "<thead><tr><th scope=col>n</th></tr></thead>\n",
       "<tbody>\n",
       "\t<tr><td>182</td></tr>\n",
       "</tbody>\n",
       "</table>\n"
      ],
      "text/latex": [
       "\\begin{tabular}{r|l}\n",
       " n\\\\\n",
       "\\hline\n",
       "\t 182\\\\\n",
       "\\end{tabular}\n"
      ],
      "text/markdown": [
       "\n",
       "| n |\n",
       "|---|\n",
       "| 182 |\n",
       "\n"
      ],
      "text/plain": [
       "  n  \n",
       "1 182"
      ]
     },
     "metadata": {},
     "output_type": "display_data"
    },
    {
     "data": {
      "text/html": [
       "<table>\n",
       "<thead><tr><th scope=col>n</th></tr></thead>\n",
       "<tbody>\n",
       "\t<tr><td>192</td></tr>\n",
       "</tbody>\n",
       "</table>\n"
      ],
      "text/latex": [
       "\\begin{tabular}{r|l}\n",
       " n\\\\\n",
       "\\hline\n",
       "\t 192\\\\\n",
       "\\end{tabular}\n"
      ],
      "text/markdown": [
       "\n",
       "| n |\n",
       "|---|\n",
       "| 192 |\n",
       "\n"
      ],
      "text/plain": [
       "  n  \n",
       "1 192"
      ]
     },
     "metadata": {},
     "output_type": "display_data"
    },
    {
     "data": {
      "text/html": [
       "<table>\n",
       "<thead><tr><th scope=col>n</th></tr></thead>\n",
       "<tbody>\n",
       "\t<tr><td>25</td></tr>\n",
       "</tbody>\n",
       "</table>\n"
      ],
      "text/latex": [
       "\\begin{tabular}{r|l}\n",
       " n\\\\\n",
       "\\hline\n",
       "\t 25\\\\\n",
       "\\end{tabular}\n"
      ],
      "text/markdown": [
       "\n",
       "| n |\n",
       "|---|\n",
       "| 25 |\n",
       "\n"
      ],
      "text/plain": [
       "  n \n",
       "1 25"
      ]
     },
     "metadata": {},
     "output_type": "display_data"
    },
    {
     "data": {
      "text/plain": [
       "   Min. 1st Qu.  Median    Mean 3rd Qu.    Max. \n",
       "   1514    1843    2496    2352    2740    2979 "
      ]
     },
     "metadata": {},
     "output_type": "display_data"
    },
    {
     "data": {
      "text/plain": [
       "   Min. 1st Qu.  Median    Mean 3rd Qu.    Max. \n",
       "   2987    5616    9372   10366   14493   21923 "
      ]
     },
     "metadata": {},
     "output_type": "display_data"
    },
    {
     "data": {
      "text/plain": [
       "   Min. 1st Qu.  Median    Mean 3rd Qu.    Max. \n",
       "  22144   37312   59450   66389   85010  159933 "
      ]
     },
     "metadata": {},
     "output_type": "display_data"
    },
    {
     "data": {
      "text/plain": [
       "   Min. 1st Qu.  Median    Mean 3rd Qu.    Max. \n",
       " 176116  204601  278008  498479  557492 2484718 "
      ]
     },
     "metadata": {},
     "output_type": "display_data"
    },
    {
     "data": {
      "image/png": "[encoded data removed]",
      "text/plain": [
       "Plot with title \"Histogram of cities$ln_pop\""
      ]
     },
     "metadata": {},
     "output_type": "display_data"
    }
   ],
   "source": [
    "#cities by log population, log in order to fix skew of population, might make more even groups than the previous method\n",
    "\n",
    "cities$ln_pop = log(cities$total_population)\n",
    "\n",
    "cities_lnq1 <- subset(cities, ln_pop < 8)\n",
    "cities_lnq2 <- subset(cities, ln_pop >= 8 & ln_pop < 10)\n",
    "cities_lnq3 <- subset(cities, ln_pop >= 10 & ln_pop < 12)\n",
    "cities_lnq4 <- subset(cities, ln_pop > 12)\n",
    "\n",
    "count(cities_lnq1)\n",
    "count(cities_lnq2)\n",
    "count(cities_lnq3)\n",
    "count(cities_lnq4)\n",
    "\n",
    "summary(cities_lnq1$total_population)\n",
    "summary(cities_lnq2$total_population)\n",
    "summary(cities_lnq3$total_population)\n",
    "summary(cities_lnq4$total_population)\n",
    "\n",
    "hist(cities$ln_pop)\n"
   ]
  },
  {
   "cell_type": "code",
   "execution_count": 72,
   "id": "553f2a1f",
   "metadata": {},
   "outputs": [
    {
     "data": {
      "text/plain": [
       "\n",
       "Call:\n",
       "lm(formula = cities_q1$Total.Claims ~ cities_q1$total_population)\n",
       "\n",
       "Coefficients:\n",
       "               (Intercept)  cities_q1$total_population  \n",
       "                   6.48733                     0.01811  \n"
      ]
     },
     "metadata": {},
     "output_type": "display_data"
    },
    {
     "data": {
      "text/plain": [
       "\n",
       "Call:\n",
       "lm(formula = cities_g1$Total.Claims ~ cities_g1$total_population)\n",
       "\n",
       "Coefficients:\n",
       "               (Intercept)  cities_g1$total_population  \n",
       "                 1.483e+02                   4.543e-03  \n"
      ]
     },
     "metadata": {},
     "output_type": "display_data"
    },
    {
     "data": {
      "text/plain": [
       "\n",
       "Call:\n",
       "lm(formula = cities_lnq3$Total.Claims ~ cities_lnq3$total_population)\n",
       "\n",
       "Coefficients:\n",
       "                 (Intercept)  cities_lnq3$total_population  \n",
       "                  -50.519008                      0.009161  \n"
      ]
     },
     "metadata": {},
     "output_type": "display_data"
    }
   ],
   "source": [
    "cities_q1 <- na.omit(cities_q1)\n",
    "lm(cities_q1$Total.Claims ~ cities_q1$total_population)\n",
    "\n",
    "cities_g1 <- na.omit(cities_g1)\n",
    "lm(cities_g1$Total.Claims ~ cities_g1$total_population)\n",
    "\n",
    "cities_lnq3 <- na.omit(cities_lnq3)\n",
    "lm(cities_lnq3$Total.Claims ~ cities_lnq3$total_population)"
   ]
  },
  {
   "cell_type": "code",
   "execution_count": null,
   "id": "5bceb2ab",
   "metadata": {},
   "outputs": [],
   "source": []
  }
 ],
 "metadata": {
  "kernelspec": {
   "display_name": "R",
   "language": "R",
   "name": "ir"
  },
  "language_info": {
   "codemirror_mode": "r",
   "file_extension": ".r",
   "mimetype": "text/x-r-source",
   "name": "R",
   "pygments_lexer": "r",
   "version": "3.6.1"
  }
 },
 "nbformat": 4,
 "nbformat_minor": 5
}
