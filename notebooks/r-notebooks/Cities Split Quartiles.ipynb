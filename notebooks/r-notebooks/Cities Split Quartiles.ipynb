{
 "cells": [
  {
   "cell_type": "code",
   "execution_count": 4,
   "id": "7fd30568",
   "metadata": {},
   "outputs": [
    {
     "name": "stderr",
     "output_type": "stream",
     "text": [
      "also installing the dependencies ‘proxy’, ‘rootSolve’, ‘e1071’, ‘lmom’, ‘mvtnorm’, ‘expm’, ‘Exact’, ‘gld’\n",
      "\n",
      "Warning message in install.packages(\"DescTools\"):\n",
      "“installation of package ‘proxy’ had non-zero exit status”Warning message in install.packages(\"DescTools\"):\n",
      "“installation of package ‘rootSolve’ had non-zero exit status”Warning message in install.packages(\"DescTools\"):\n",
      "“installation of package ‘lmom’ had non-zero exit status”Warning message in install.packages(\"DescTools\"):\n",
      "“installation of package ‘mvtnorm’ had non-zero exit status”Warning message in install.packages(\"DescTools\"):\n",
      "“installation of package ‘expm’ had non-zero exit status”Warning message in install.packages(\"DescTools\"):\n",
      "“installation of package ‘e1071’ had non-zero exit status”Warning message in install.packages(\"DescTools\"):\n",
      "“installation of package ‘Exact’ had non-zero exit status”Warning message in install.packages(\"DescTools\"):\n",
      "“installation of package ‘gld’ had non-zero exit status”Warning message in install.packages(\"DescTools\"):\n",
      "“installation of package ‘DescTools’ had non-zero exit status”Updating HTML index of packages in '.Library'\n",
      "Making 'packages.html' ... done\n"
     ]
    }
   ],
   "source": [
    "install.packages('DescTools')"
   ]
  },
  {
   "cell_type": "code",
   "execution_count": 9,
   "id": "c408e947",
   "metadata": {},
   "outputs": [
    {
     "ename": "ERROR",
     "evalue": "Error in library(DescTools): there is no package called ‘DescTools’\n",
     "output_type": "error",
     "traceback": [
      "Error in library(DescTools): there is no package called ‘DescTools’\nTraceback:\n",
      "1. library(DescTools)"
     ]
    }
   ],
   "source": [
    "library(\"dplyr\")\n",
    "library(\"DescTools\")\n",
    "cities <- read.csv('/Users/athervgole/Downloads/cities_1.csv')\n",
    "\n",
    "\n",
    "population <- cities$total_population\n",
    "population_trimmed <- DescTools::Trim(cities$total_population, trim = 0.05, na.rm = TRUE)\n",
    "\n",
    "income <- cities$median_household_income_usd\n",
    "income_trimmed <- DescTools::Trim(cities$median_household_income_usd, trim = 0.05, na.rm = TRUE)\n",
    "\n",
    "budget <- cities$Budget\n",
    "budget_trimmed <- DescTools::Trim(cities$Budget, trim = 0.05, na.rm = TRUE)\n",
    "\n",
    "claims <- cities$Total.Claims\n",
    "claims_trimmed <- DescTools::Trim(cities$Total.Claims, trim = 0.05, na.rm = TRUE)\n",
    "\n",
    "taxrev <- cities$Total.Tax.Revenue\n",
    "taxrev_trimmed <- DescTools::Trim(cities$Total.Tax.Revenue, trim = 0.05, na.rm = TRUE)\n",
    "\n",
    "programs <- cities$Total.Programs\n",
    "programs_trimmed <- DescTools::Trim(cities$Total.Programs, trim = 0.05, na.rm = TRUE)\n",
    "\n",
    "mean_budget <- mean(cities$Budget, na.action = na.exclude)\n",
    "median_budget <- median(cities$Budget, na.action = na.exclude)\n",
    "\n",
    "\n",
    "#hist(claims_trimmed)\n",
    "#hist(population_trimmed)\n",
    "#hist(taxrev_trimmed)\n",
    "#hist(budget_trimmed)\n",
    "\n",
    "\n",
    "#try taxrev population regressions with and without incorporated cities\n",
    "\n"
   ]
  },
  {
   "cell_type": "code",
   "execution_count": 10,
   "id": "f3f37d93",
   "metadata": {},
   "outputs": [],
   "source": [
    "cities$quartile <- ntile(cities$total_population, 4)\n",
    "\n",
    "cities_q1 <- subset(cities , quartile == 1)\n",
    "cities_q2 <- subset(cities, quartile == 2)\n",
    "cities_q3 <- subset(cities, quartile == 3)\n",
    "cities_q4 <- subset(cities, quartile == 4)\n",
    "\n",
    "\n",
    "cities_percentile  = mutate(cities, percentile_rank = ntile(cities$total_population, 100))\n",
    "\n",
    "cities_p25 <- subset(cities_percentile, percentile_rank <= 25)\n",
    "\n"
   ]
  },
  {
   "cell_type": "code",
   "execution_count": 13,
   "id": "35200852",
   "metadata": {},
   "outputs": [
    {
     "data": {
      "text/html": [
       "8746"
      ],
      "text/latex": [
       "8746"
      ],
      "text/markdown": [
       "8746"
      ],
      "text/plain": [
       "[1] 8746"
      ]
     },
     "metadata": {},
     "output_type": "display_data"
    },
    {
     "data": {
      "text/html": [
       "<table>\n",
       "<thead><tr><th scope=col>n</th></tr></thead>\n",
       "<tbody>\n",
       "\t<tr><td>105</td></tr>\n",
       "</tbody>\n",
       "</table>\n"
      ],
      "text/latex": [
       "\\begin{tabular}{r|l}\n",
       " n\\\\\n",
       "\\hline\n",
       "\t 105\\\\\n",
       "\\end{tabular}\n"
      ],
      "text/markdown": [
       "\n",
       "| n |\n",
       "|---|\n",
       "| 105 |\n",
       "\n"
      ],
      "text/plain": [
       "  n  \n",
       "1 105"
      ]
     },
     "metadata": {},
     "output_type": "display_data"
    }
   ],
   "source": [
    "max(cities_p25$total_population)\n",
    "count(cities_p25)"
   ]
  },
  {
   "cell_type": "code",
   "execution_count": null,
   "id": "f4c68879",
   "metadata": {},
   "outputs": [],
   "source": []
  }
 ],
 "metadata": {
  "kernelspec": {
   "display_name": "R",
   "language": "R",
   "name": "ir"
  },
  "language_info": {
   "codemirror_mode": "r",
   "file_extension": ".r",
   "mimetype": "text/x-r-source",
   "name": "R",
   "pygments_lexer": "r",
   "version": "3.6.1"
  }
 },
 "nbformat": 4,
 "nbformat_minor": 5
}
