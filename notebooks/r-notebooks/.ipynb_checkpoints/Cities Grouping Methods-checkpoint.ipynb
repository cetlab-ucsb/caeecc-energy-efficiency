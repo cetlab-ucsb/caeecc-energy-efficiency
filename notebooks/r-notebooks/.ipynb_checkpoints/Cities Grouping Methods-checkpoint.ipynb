{
 "cells": [
  {
   "cell_type": "code",
   "execution_count": 1,
   "id": "7fd30568",
   "metadata": {},
   "outputs": [
    {
     "name": "stdout",
     "output_type": "stream",
     "text": [
      "package 'DescTools' successfully unpacked and MD5 sums checked\n",
      "\n",
      "The downloaded binary packages are in\n",
      "\tC:\\Users\\ather\\AppData\\Local\\Temp\\RtmpKqqw6d\\downloaded_packages\n"
     ]
    }
   ],
   "source": [
    "install.packages('DescTools')"
   ]
  },
  {
   "cell_type": "code",
   "execution_count": 58,
   "id": "c408e947",
   "metadata": {},
   "outputs": [],
   "source": [
    "library(\"dplyr\")\n",
    "library(\"DescTools\")\n",
    "#cities <- read.csv('/Users/athervgole/Downloads/cities_1.csv')\n",
    "cities <- read.csv('C:/Users/ather/CS Projects/CETLab/caeecc-energy-efficiency/cities_2.csv')\n",
    "\n",
    "\n",
    "population <- cities$total_population\n",
    "population_trimmed <- DescTools::Trim(cities$total_population, trim = 0.02, na.rm = TRUE)\n",
    "\n",
    "income <- cities$median_household_income_usd\n",
    "income_trimmed <- DescTools::Trim(cities$median_household_income_usd, trim = 0.02, na.rm = TRUE)\n",
    "\n",
    "budget <- cities$Budget\n",
    "budget_trimmed <- DescTools::Trim(cities$Budget, trim = 0.02, na.rm = TRUE)\n",
    "\n",
    "claims <- cities$Total.Claims\n",
    "claims_trimmed <- DescTools::Trim(cities$Total.Claims, trim = 0.02, na.rm = TRUE)\n",
    "\n",
    "taxrev <- cities$Total.Tax.Revenue\n",
    "taxrev_trimmed <- DescTools::Trim(cities$Total.Tax.Revenue, trim = 0.02, na.rm = TRUE)\n",
    "\n",
    "programs <- cities$Total.Programs\n",
    "programs_trimmed <- DescTools::Trim(cities$Total.Programs, trim = 0.02, na.rm = TRUE)\n",
    "\n",
    "mean_budget <- mean(cities$Budget, na.action = na.exclude)\n",
    "median_budget <- median(cities$Budget, na.action = na.exclude)\n",
    "\n",
    "\n",
    "\n",
    "#try taxrev population regressions with and without incorporated cities\n",
    "\n"
   ]
  },
  {
   "cell_type": "code",
   "execution_count": 20,
   "id": "f3f37d93",
   "metadata": {},
   "outputs": [
    {
     "data": {
      "text/html": [
       "<table>\n",
       "<thead><tr><th scope=col>n</th></tr></thead>\n",
       "<tbody>\n",
       "\t<tr><td>105</td></tr>\n",
       "</tbody>\n",
       "</table>\n"
      ],
      "text/latex": [
       "\\begin{tabular}{r|l}\n",
       " n\\\\\n",
       "\\hline\n",
       "\t 105\\\\\n",
       "\\end{tabular}\n"
      ],
      "text/markdown": [
       "\n",
       "| n |\n",
       "|---|\n",
       "| 105 |\n",
       "\n"
      ],
      "text/plain": [
       "  n  \n",
       "1 105"
      ]
     },
     "metadata": {},
     "output_type": "display_data"
    },
    {
     "data": {
      "text/html": [
       "<table>\n",
       "<thead><tr><th scope=col>n</th></tr></thead>\n",
       "<tbody>\n",
       "\t<tr><td>104</td></tr>\n",
       "</tbody>\n",
       "</table>\n"
      ],
      "text/latex": [
       "\\begin{tabular}{r|l}\n",
       " n\\\\\n",
       "\\hline\n",
       "\t 104\\\\\n",
       "\\end{tabular}\n"
      ],
      "text/markdown": [
       "\n",
       "| n |\n",
       "|---|\n",
       "| 104 |\n",
       "\n"
      ],
      "text/plain": [
       "  n  \n",
       "1 104"
      ]
     },
     "metadata": {},
     "output_type": "display_data"
    },
    {
     "data": {
      "text/html": [
       "<table>\n",
       "<thead><tr><th scope=col>n</th></tr></thead>\n",
       "<tbody>\n",
       "\t<tr><td>104</td></tr>\n",
       "</tbody>\n",
       "</table>\n"
      ],
      "text/latex": [
       "\\begin{tabular}{r|l}\n",
       " n\\\\\n",
       "\\hline\n",
       "\t 104\\\\\n",
       "\\end{tabular}\n"
      ],
      "text/markdown": [
       "\n",
       "| n |\n",
       "|---|\n",
       "| 104 |\n",
       "\n"
      ],
      "text/plain": [
       "  n  \n",
       "1 104"
      ]
     },
     "metadata": {},
     "output_type": "display_data"
    },
    {
     "data": {
      "text/html": [
       "<table>\n",
       "<thead><tr><th scope=col>n</th></tr></thead>\n",
       "<tbody>\n",
       "\t<tr><td>104</td></tr>\n",
       "</tbody>\n",
       "</table>\n"
      ],
      "text/latex": [
       "\\begin{tabular}{r|l}\n",
       " n\\\\\n",
       "\\hline\n",
       "\t 104\\\\\n",
       "\\end{tabular}\n"
      ],
      "text/markdown": [
       "\n",
       "| n |\n",
       "|---|\n",
       "| 104 |\n",
       "\n"
      ],
      "text/plain": [
       "  n  \n",
       "1 104"
      ]
     },
     "metadata": {},
     "output_type": "display_data"
    },
    {
     "data": {
      "text/plain": [
       "   Min. 1st Qu.  Median    Mean 3rd Qu.    Max. \n",
       "   1514    3346    4881    5054    6629    8746 "
      ]
     },
     "metadata": {},
     "output_type": "display_data"
    },
    {
     "data": {
      "text/plain": [
       "   Min. 1st Qu.  Median    Mean 3rd Qu.    Max. \n",
       "   9043   11993   15223   15439   18114   24958 "
      ]
     },
     "metadata": {},
     "output_type": "display_data"
    },
    {
     "data": {
      "text/plain": [
       "   Min. 1st Qu.  Median    Mean 3rd Qu.    Max. \n",
       "  25014   31964   40118   42852   51987   68146 "
      ]
     },
     "metadata": {},
     "output_type": "display_data"
    },
    {
     "data": {
      "text/plain": [
       "   Min. 1st Qu.  Median    Mean 3rd Qu.    Max. \n",
       "  68805   81035  110971  197544  159612 2484718 "
      ]
     },
     "metadata": {},
     "output_type": "display_data"
    },
    {
     "data": {
      "image/png": "[encoded data removed]",
      "text/plain": [
       "Plot with title \"Histogram of cities_q2$Total.Tax.Revenue\""
      ]
     },
     "metadata": {},
     "output_type": "display_data"
    }
   ],
   "source": [
    "#cities by quartile, even grouping (n=105/group, dropping na)\n",
    "\n",
    "cities$quartile <- ntile(cities$total_population, 4)\n",
    "\n",
    "cities_q1 <- subset(cities , quartile == 1)\n",
    "cities_q2 <- subset(cities, quartile == 2)\n",
    "cities_q3 <- subset(cities, quartile == 3)\n",
    "cities_q4 <- subset(cities, quartile == 4)\n",
    "\n",
    "cities_q <- c(cities_q1, cities_q2, cities_q3, cities_q4)\n",
    "\n",
    "count(cities_q1)\n",
    "count(cities_q2)\n",
    "count(cities_q3)\n",
    "count(cities_q4)\n",
    "\n",
    "summary(cities_q1$total_population)\n",
    "summary(cities_q2$total_population)\n",
    "summary(cities_q3$total_population)\n",
    "summary(cities_q4$total_population)\n",
    "\n",
    "hist(cities_q2$Total.Tax.Revenue)\n"
   ]
  },
  {
   "cell_type": "code",
   "execution_count": 21,
   "id": "dbfe6f13",
   "metadata": {},
   "outputs": [
    {
     "data": {
      "text/html": [
       "<table>\n",
       "<thead><tr><th scope=col>n</th></tr></thead>\n",
       "<tbody>\n",
       "\t<tr><td>353</td></tr>\n",
       "</tbody>\n",
       "</table>\n"
      ],
      "text/latex": [
       "\\begin{tabular}{r|l}\n",
       " n\\\\\n",
       "\\hline\n",
       "\t 353\\\\\n",
       "\\end{tabular}\n"
      ],
      "text/markdown": [
       "\n",
       "| n |\n",
       "|---|\n",
       "| 353 |\n",
       "\n"
      ],
      "text/plain": [
       "  n  \n",
       "1 353"
      ]
     },
     "metadata": {},
     "output_type": "display_data"
    },
    {
     "data": {
      "text/html": [
       "<table>\n",
       "<thead><tr><th scope=col>n</th></tr></thead>\n",
       "<tbody>\n",
       "\t<tr><td>45</td></tr>\n",
       "</tbody>\n",
       "</table>\n"
      ],
      "text/latex": [
       "\\begin{tabular}{r|l}\n",
       " n\\\\\n",
       "\\hline\n",
       "\t 45\\\\\n",
       "\\end{tabular}\n"
      ],
      "text/markdown": [
       "\n",
       "| n |\n",
       "|---|\n",
       "| 45 |\n",
       "\n"
      ],
      "text/plain": [
       "  n \n",
       "1 45"
      ]
     },
     "metadata": {},
     "output_type": "display_data"
    },
    {
     "data": {
      "text/html": [
       "<table>\n",
       "<thead><tr><th scope=col>n</th></tr></thead>\n",
       "<tbody>\n",
       "\t<tr><td>7</td></tr>\n",
       "</tbody>\n",
       "</table>\n"
      ],
      "text/latex": [
       "\\begin{tabular}{r|l}\n",
       " n\\\\\n",
       "\\hline\n",
       "\t 7\\\\\n",
       "\\end{tabular}\n"
      ],
      "text/markdown": [
       "\n",
       "| n |\n",
       "|---|\n",
       "| 7 |\n",
       "\n"
      ],
      "text/plain": [
       "  n\n",
       "1 7"
      ]
     },
     "metadata": {},
     "output_type": "display_data"
    },
    {
     "data": {
      "text/html": [
       "<table>\n",
       "<thead><tr><th scope=col>n</th></tr></thead>\n",
       "<tbody>\n",
       "\t<tr><td>12</td></tr>\n",
       "</tbody>\n",
       "</table>\n"
      ],
      "text/latex": [
       "\\begin{tabular}{r|l}\n",
       " n\\\\\n",
       "\\hline\n",
       "\t 12\\\\\n",
       "\\end{tabular}\n"
      ],
      "text/markdown": [
       "\n",
       "| n |\n",
       "|---|\n",
       "| 12 |\n",
       "\n"
      ],
      "text/plain": [
       "  n \n",
       "1 12"
      ]
     },
     "metadata": {},
     "output_type": "display_data"
    },
    {
     "data": {
      "text/plain": [
       "   Min. 1st Qu.  Median    Mean 3rd Qu.    Max. \n",
       "   1514    7188   17308   27759   42290   99939 "
      ]
     },
     "metadata": {},
     "output_type": "display_data"
    },
    {
     "data": {
      "text/plain": [
       "   Min. 1st Qu.  Median    Mean 3rd Qu.    Max. \n",
       " 102311  110611  127231  133324  151412  199851 "
      ]
     },
     "metadata": {},
     "output_type": "display_data"
    },
    {
     "data": {
      "text/plain": [
       "   Min. 1st Qu.  Median    Mean 3rd Qu.    Max. \n",
       " 204601  219755  227727  237241  255420  278008 "
      ]
     },
     "metadata": {},
     "output_type": "display_data"
    },
    {
     "data": {
      "text/plain": [
       "   Min. 1st Qu.  Median    Mean 3rd Qu.    Max. \n",
       " 347532  398308  574330  806517  918146 2484718 "
      ]
     },
     "metadata": {},
     "output_type": "display_data"
    },
    {
     "data": {
      "image/png": "[encoded data removed]",
      "text/plain": [
       "Plot with title \"Histogram of cities_g1$total_population\""
      ]
     },
     "metadata": {},
     "output_type": "display_data"
    },
    {
     "data": {
      "image/png": "[encoded data removed]",
      "text/plain": [
       "Plot with title \"Histogram of cities_g2$total_population\""
      ]
     },
     "metadata": {},
     "output_type": "display_data"
    },
    {
     "data": {
      "image/png": "[encoded data removed]",
      "text/plain": [
       "Plot with title \"Histogram of cities_g3$total_population\""
      ]
     },
     "metadata": {},
     "output_type": "display_data"
    },
    {
     "data": {
      "image/png": "[encoded data removed]",
      "text/plain": [
       "Plot with title \"Histogram of cities_g4$total_population\""
      ]
     },
     "metadata": {},
     "output_type": "display_data"
    },
    {
     "data": {
      "image/png": "[encoded data removed]",
      "text/plain": [
       "Plot with title \"Histogram of cities_g1$Total.Tax.Revenue\""
      ]
     },
     "metadata": {},
     "output_type": "display_data"
    }
   ],
   "source": [
    "#cities by 1/4 of population range\n",
    "#population ranges from 1514 to 2484718 (extreme value)\n",
    "#I tried breaking it up by 100000's, and put the >400000 values in the same group\n",
    "\n",
    "cities_g1 <- subset(cities, total_population <= 100000)\n",
    "cities_g2 <- subset(cities, total_population > 100000 & population <= 200000)\n",
    "cities_g3 <- subset(cities, total_population > 200000 & population <= 300000)\n",
    "cities_g4 <- subset(cities, total_population > 300000)\n",
    "\n",
    "cities_g <- c(cities_g1, cities_g2, cities_g3, cities_g4)\n",
    "\n",
    "\n",
    "count(cities_g1)\n",
    "count(cities_g2)\n",
    "count(cities_g3)\n",
    "count(cities_g4)\n",
    "\n",
    "summary(cities_g1$total_population)\n",
    "summary(cities_g2$total_population)\n",
    "summary(cities_g3$total_population)\n",
    "summary(cities_g4$total_population)\n",
    "\n",
    "hist(cities_g1$total_population)\n",
    "hist(cities_g2$total_population)\n",
    "hist(cities_g3$total_population)\n",
    "hist(cities_g4$total_population)\n",
    "\n",
    "hist(cities_g1$Total.Tax.Revenue)\n",
    "\n"
   ]
  },
  {
   "cell_type": "code",
   "execution_count": 22,
   "id": "2de09c78",
   "metadata": {},
   "outputs": [
    {
     "data": {
      "text/html": [
       "<table>\n",
       "<thead><tr><th scope=col>n</th></tr></thead>\n",
       "<tbody>\n",
       "\t<tr><td>18</td></tr>\n",
       "</tbody>\n",
       "</table>\n"
      ],
      "text/latex": [
       "\\begin{tabular}{r|l}\n",
       " n\\\\\n",
       "\\hline\n",
       "\t 18\\\\\n",
       "\\end{tabular}\n"
      ],
      "text/markdown": [
       "\n",
       "| n |\n",
       "|---|\n",
       "| 18 |\n",
       "\n"
      ],
      "text/plain": [
       "  n \n",
       "1 18"
      ]
     },
     "metadata": {},
     "output_type": "display_data"
    },
    {
     "data": {
      "text/html": [
       "<table>\n",
       "<thead><tr><th scope=col>n</th></tr></thead>\n",
       "<tbody>\n",
       "\t<tr><td>182</td></tr>\n",
       "</tbody>\n",
       "</table>\n"
      ],
      "text/latex": [
       "\\begin{tabular}{r|l}\n",
       " n\\\\\n",
       "\\hline\n",
       "\t 182\\\\\n",
       "\\end{tabular}\n"
      ],
      "text/markdown": [
       "\n",
       "| n |\n",
       "|---|\n",
       "| 182 |\n",
       "\n"
      ],
      "text/plain": [
       "  n  \n",
       "1 182"
      ]
     },
     "metadata": {},
     "output_type": "display_data"
    },
    {
     "data": {
      "text/html": [
       "<table>\n",
       "<thead><tr><th scope=col>n</th></tr></thead>\n",
       "<tbody>\n",
       "\t<tr><td>192</td></tr>\n",
       "</tbody>\n",
       "</table>\n"
      ],
      "text/latex": [
       "\\begin{tabular}{r|l}\n",
       " n\\\\\n",
       "\\hline\n",
       "\t 192\\\\\n",
       "\\end{tabular}\n"
      ],
      "text/markdown": [
       "\n",
       "| n |\n",
       "|---|\n",
       "| 192 |\n",
       "\n"
      ],
      "text/plain": [
       "  n  \n",
       "1 192"
      ]
     },
     "metadata": {},
     "output_type": "display_data"
    },
    {
     "data": {
      "text/html": [
       "<table>\n",
       "<thead><tr><th scope=col>n</th></tr></thead>\n",
       "<tbody>\n",
       "\t<tr><td>25</td></tr>\n",
       "</tbody>\n",
       "</table>\n"
      ],
      "text/latex": [
       "\\begin{tabular}{r|l}\n",
       " n\\\\\n",
       "\\hline\n",
       "\t 25\\\\\n",
       "\\end{tabular}\n"
      ],
      "text/markdown": [
       "\n",
       "| n |\n",
       "|---|\n",
       "| 25 |\n",
       "\n"
      ],
      "text/plain": [
       "  n \n",
       "1 25"
      ]
     },
     "metadata": {},
     "output_type": "display_data"
    },
    {
     "data": {
      "text/plain": [
       "   Min. 1st Qu.  Median    Mean 3rd Qu.    Max. \n",
       "   1514    1843    2496    2352    2740    2979 "
      ]
     },
     "metadata": {},
     "output_type": "display_data"
    },
    {
     "data": {
      "text/plain": [
       "   Min. 1st Qu.  Median    Mean 3rd Qu.    Max. \n",
       "   2987    5616    9372   10366   14493   21923 "
      ]
     },
     "metadata": {},
     "output_type": "display_data"
    },
    {
     "data": {
      "text/plain": [
       "   Min. 1st Qu.  Median    Mean 3rd Qu.    Max. \n",
       "  22144   37312   59450   66389   85010  159933 "
      ]
     },
     "metadata": {},
     "output_type": "display_data"
    },
    {
     "data": {
      "text/plain": [
       "   Min. 1st Qu.  Median    Mean 3rd Qu.    Max. \n",
       " 176116  204601  278008  498479  557492 2484718 "
      ]
     },
     "metadata": {},
     "output_type": "display_data"
    },
    {
     "data": {
      "image/png": "[encoded data removed]",
      "text/plain": [
       "Plot with title \"Histogram of cities_lnq1$total_population\""
      ]
     },
     "metadata": {},
     "output_type": "display_data"
    },
    {
     "data": {
      "image/png": "[encoded data removed]",
      "text/plain": [
       "Plot with title \"Histogram of cities_lnq2$total_population\""
      ]
     },
     "metadata": {},
     "output_type": "display_data"
    },
    {
     "data": {
      "image/png": "[encoded data removed]",
      "text/plain": [
       "Plot with title \"Histogram of cities_lnq3$total_population\""
      ]
     },
     "metadata": {},
     "output_type": "display_data"
    },
    {
     "data": {
      "image/png": "[encoded data removed]",
      "text/plain": [
       "Plot with title \"Histogram of cities_lnq4$total_population\""
      ]
     },
     "metadata": {},
     "output_type": "display_data"
    }
   ],
   "source": [
    "#cities by log population, log in order to fix skew of population, might make more even groups than the previous method\n",
    "\n",
    "cities$ln_pop = log(cities$total_population)\n",
    "\n",
    "cities_lnq1 <- subset(cities, ln_pop < 8)\n",
    "cities_lnq2 <- subset(cities, ln_pop >= 8 & ln_pop < 10)\n",
    "cities_lnq3 <- subset(cities, ln_pop >= 10 & ln_pop < 12)\n",
    "cities_lnq4 <- subset(cities, ln_pop > 12)\n",
    "\n",
    "cities_lnq <- c(cities_lnq1, cities_lnq2, cities_lnq3, cities_lnq4)\n",
    "\n",
    "\n",
    "count(cities_lnq1)\n",
    "count(cities_lnq2)\n",
    "count(cities_lnq3)\n",
    "count(cities_lnq4)\n",
    "\n",
    "summary(cities_lnq1$total_population)\n",
    "summary(cities_lnq2$total_population)\n",
    "summary(cities_lnq3$total_population)\n",
    "summary(cities_lnq4$total_population)\n",
    "\n",
    "hist(cities_lnq1$total_population)\n",
    "hist(cities_lnq2$total_population)\n",
    "hist(cities_lnq3$total_population)\n",
    "hist(cities_lnq4$total_population)\n",
    "\n"
   ]
  },
  {
   "cell_type": "code",
   "execution_count": 23,
   "id": "850d7b14",
   "metadata": {},
   "outputs": [
    {
     "data": {
      "text/plain": [
       "\n",
       "Call:\n",
       "lm(formula = cities_q1$Total.Claims ~ cities_q1$total_population)\n",
       "\n",
       "Coefficients:\n",
       "               (Intercept)  cities_q1$total_population  \n",
       "                   6.48733                     0.01811  \n"
      ]
     },
     "metadata": {},
     "output_type": "display_data"
    },
    {
     "data": {
      "text/plain": [
       "\n",
       "Call:\n",
       "lm(formula = cities_g1$Total.Claims ~ cities_g1$total_population)\n",
       "\n",
       "Coefficients:\n",
       "               (Intercept)  cities_g1$total_population  \n",
       "                 1.483e+02                   4.543e-03  \n"
      ]
     },
     "metadata": {},
     "output_type": "display_data"
    },
    {
     "data": {
      "text/plain": [
       "\n",
       "Call:\n",
       "lm(formula = cities_lnq3$Total.Claims ~ cities_lnq3$total_population)\n",
       "\n",
       "Coefficients:\n",
       "                 (Intercept)  cities_lnq3$total_population  \n",
       "                  -73.722871                      0.009259  \n"
      ]
     },
     "metadata": {},
     "output_type": "display_data"
    },
    {
     "data": {
      "text/plain": [
       "\n",
       "Call:\n",
       "lm(formula = cities$Total.Claims ~ cities$total_population)\n",
       "\n",
       "Coefficients:\n",
       "            (Intercept)  cities$total_population  \n",
       "              3.086e+02                2.251e-03  \n"
      ]
     },
     "metadata": {},
     "output_type": "display_data"
    },
    {
     "data": {
      "text/plain": [
       "\n",
       "Call:\n",
       "lm(formula = Total.Claims ~ ln_pop, data = cities)\n",
       "\n",
       "Coefficients:\n",
       "(Intercept)       ln_pop  \n",
       "    -3458.0        386.7  \n"
      ]
     },
     "metadata": {},
     "output_type": "display_data"
    }
   ],
   "source": [
    "#with sample single variable regressions\n",
    "\n",
    "#simple quartiles, even groups\n",
    "cities_q1 <- na.omit(cities_q1)\n",
    "lm(cities_q1$Total.Claims ~ cities_q1$total_population)\n",
    "\n",
    "#roughly 1/4 of population intervals, uneven groups\n",
    "cities_g1 <- na.omit(cities_g1)\n",
    "lm(cities_g1$Total.Claims ~ cities_g1$total_population)\n",
    "\n",
    "#roughly 1/4 of ln(population) intervals, uneven groups (helps correct skew for population)\n",
    "cities_lnq2 <- na.omit(cities_lnq3)\n",
    "lm(cities_lnq3$Total.Claims ~ cities_lnq3$total_population)\n",
    "\n",
    "#normal ungrouped\n",
    "lm(cities$Total.Claims ~ cities$total_population)\n",
    "\n",
    "#ungrouped, with ln for helping with skew\n",
    "lm(Total.Claims ~ ln_pop, data = cities)"
   ]
  },
  {
   "cell_type": "code",
   "execution_count": 39,
   "id": "aa03e0eb",
   "metadata": {},
   "outputs": [
    {
     "data": {
      "text/plain": [
       "\n",
       "Call:\n",
       "lm(formula = Total.Claims ~ total_population + Budget + Total.Tax.Revenue + \n",
       "    Total.Programs + ces_score_median + TotalFirstYearGrosskWh, \n",
       "    data = cities_q1)\n",
       "\n",
       "Coefficients:\n",
       "           (Intercept)        total_population                  Budget  \n",
       "            -1.829e+02               1.437e-02              -1.335e-03  \n",
       "     Total.Tax.Revenue          Total.Programs        ces_score_median  \n",
       "             1.507e-06               1.057e+02               5.987e-01  \n",
       "TotalFirstYearGrosskWh  \n",
       "             8.283e-04  \n"
      ]
     },
     "metadata": {},
     "output_type": "display_data"
    },
    {
     "data": {
      "text/plain": [
       "\n",
       "Call:\n",
       "lm(formula = Total.Claims ~ total_population + Budget + Total.Tax.Revenue + \n",
       "    Total.Programs + ces_score_median + TotalFirstYearGrosskWh, \n",
       "    data = cities_q2)\n",
       "\n",
       "Coefficients:\n",
       "           (Intercept)        total_population                  Budget  \n",
       "            -1.621e+02              -5.404e-04              -4.979e-04  \n",
       "     Total.Tax.Revenue          Total.Programs        ces_score_median  \n",
       "             8.348e-08               1.847e+02               1.948e+00  \n",
       "TotalFirstYearGrosskWh  \n",
       "             5.038e-04  \n"
      ]
     },
     "metadata": {},
     "output_type": "display_data"
    },
    {
     "data": {
      "text/plain": [
       "\n",
       "Call:\n",
       "lm(formula = Total.Claims ~ total_population + Budget + Total.Tax.Revenue + \n",
       "    Total.Programs + ces_score_median + TotalFirstYearGrosskWh, \n",
       "    data = cities_q3)\n",
       "\n",
       "Coefficients:\n",
       "           (Intercept)        total_population                  Budget  \n",
       "             2.393e+01               2.663e-03              -3.815e-04  \n",
       "     Total.Tax.Revenue          Total.Programs        ces_score_median  \n",
       "            -1.037e-06               6.022e+01               1.969e+00  \n",
       "TotalFirstYearGrosskWh  \n",
       "             7.847e-04  \n"
      ]
     },
     "metadata": {},
     "output_type": "display_data"
    },
    {
     "data": {
      "text/plain": [
       "\n",
       "Call:\n",
       "lm(formula = Total.Claims ~ total_population + Budget + Total.Tax.Revenue + \n",
       "    Total.Programs + ces_score_median + TotalFirstYearGrosskWh, \n",
       "    data = cities_q4)\n",
       "\n",
       "Coefficients:\n",
       "           (Intercept)        total_population                  Budget  \n",
       "            -3.155e+02               8.948e-04              -1.298e-05  \n",
       "     Total.Tax.Revenue          Total.Programs        ces_score_median  \n",
       "            -1.021e-06               5.074e+02              -1.596e+01  \n",
       "TotalFirstYearGrosskWh  \n",
       "             8.404e-04  \n"
      ]
     },
     "metadata": {},
     "output_type": "display_data"
    },
    {
     "data": {
      "text/plain": [
       "\n",
       "Call:\n",
       "lm(formula = Total.Claims ~ total_population + Budget + Total.Tax.Revenue + \n",
       "    Total.Programs + ces_score_median + TotalFirstYearGrosskWh, \n",
       "    data = cities_g1)\n",
       "\n",
       "Coefficients:\n",
       "           (Intercept)        total_population                  Budget  \n",
       "            -2.698e+01               2.541e-03              -4.353e-04  \n",
       "     Total.Tax.Revenue          Total.Programs        ces_score_median  \n",
       "            -5.354e-07               8.569e+01              -1.162e+00  \n",
       "TotalFirstYearGrosskWh  \n",
       "             8.019e-04  \n"
      ]
     },
     "metadata": {},
     "output_type": "display_data"
    },
    {
     "data": {
      "text/plain": [
       "\n",
       "Call:\n",
       "lm(formula = Total.Claims ~ total_population + Budget + Total.Tax.Revenue + \n",
       "    Total.Programs + ces_score_median + TotalFirstYearGrosskWh, \n",
       "    data = cities_g2)\n",
       "\n",
       "Coefficients:\n",
       "           (Intercept)        total_population                  Budget  \n",
       "            -1.589e+03               9.528e-03              -6.988e-05  \n",
       "     Total.Tax.Revenue          Total.Programs        ces_score_median  \n",
       "            -2.450e-06               9.753e+02              -6.344e-01  \n",
       "TotalFirstYearGrosskWh  \n",
       "             3.994e-05  \n"
      ]
     },
     "metadata": {},
     "output_type": "display_data"
    },
    {
     "data": {
      "text/plain": [
       "\n",
       "Call:\n",
       "lm(formula = Total.Claims ~ total_population + Budget + Total.Tax.Revenue + \n",
       "    Total.Programs + ces_score_median + TotalFirstYearGrosskWh, \n",
       "    data = cities_g3)\n",
       "\n",
       "Coefficients:\n",
       "           (Intercept)        total_population                  Budget  \n",
       "            -7.655e+03              -4.585e-02               8.457e-03  \n",
       "     Total.Tax.Revenue          Total.Programs        ces_score_median  \n",
       "             2.151e-05              -4.560e+02               2.910e+02  \n",
       "TotalFirstYearGrosskWh  \n",
       "            -1.476e-03  \n"
      ]
     },
     "metadata": {},
     "output_type": "display_data"
    },
    {
     "data": {
      "text/plain": [
       "\n",
       "Call:\n",
       "lm(formula = Total.Claims ~ total_population + Budget + Total.Tax.Revenue + \n",
       "    Total.Programs + ces_score_median + TotalFirstYearGrosskWh, \n",
       "    data = cities_g4)\n",
       "\n",
       "Coefficients:\n",
       "           (Intercept)        total_population                  Budget  \n",
       "             5.099e+03              -2.238e-03              -1.225e-04  \n",
       "     Total.Tax.Revenue          Total.Programs        ces_score_median  \n",
       "            -1.452e-06               1.130e+03              -1.761e+02  \n",
       "TotalFirstYearGrosskWh  \n",
       "             1.046e-03  \n"
      ]
     },
     "metadata": {},
     "output_type": "display_data"
    },
    {
     "data": {
      "text/plain": [
       "\n",
       "Call:\n",
       "lm(formula = Total.Claims ~ total_population + Budget + Total.Tax.Revenue + \n",
       "    Total.Programs + ces_score_median + TotalFirstYearGrosskWh, \n",
       "    data = cities_lnq1)\n",
       "\n",
       "Coefficients:\n",
       "           (Intercept)        total_population                  Budget  \n",
       "             197.44885                -0.06106                      NA  \n",
       "     Total.Tax.Revenue          Total.Programs        ces_score_median  \n",
       "                    NA                      NA                      NA  \n",
       "TotalFirstYearGrosskWh  \n",
       "                    NA  \n"
      ]
     },
     "metadata": {},
     "output_type": "display_data"
    },
    {
     "data": {
      "text/plain": [
       "\n",
       "Call:\n",
       "lm(formula = Total.Claims ~ total_population + Budget + Total.Tax.Revenue + \n",
       "    Total.Programs + ces_score_median + TotalFirstYearGrosskWh, \n",
       "    data = cities_lnq2)\n",
       "\n",
       "Coefficients:\n",
       "           (Intercept)        total_population                  Budget  \n",
       "             1.373e+02               5.627e-03               5.077e-04  \n",
       "     Total.Tax.Revenue          Total.Programs        ces_score_median  \n",
       "            -1.021e-06               3.966e+00              -8.468e+00  \n",
       "TotalFirstYearGrosskWh  \n",
       "             3.311e-04  \n"
      ]
     },
     "metadata": {},
     "output_type": "display_data"
    },
    {
     "data": {
      "text/plain": [
       "\n",
       "Call:\n",
       "lm(formula = Total.Claims ~ total_population + Budget + Total.Tax.Revenue + \n",
       "    Total.Programs + ces_score_median + TotalFirstYearGrosskWh, \n",
       "    data = cities_lnq3)\n",
       "\n",
       "Coefficients:\n",
       "           (Intercept)        total_population                  Budget  \n",
       "             1.373e+02               5.627e-03               5.077e-04  \n",
       "     Total.Tax.Revenue          Total.Programs        ces_score_median  \n",
       "            -1.021e-06               3.966e+00              -8.468e+00  \n",
       "TotalFirstYearGrosskWh  \n",
       "             3.311e-04  \n"
      ]
     },
     "metadata": {},
     "output_type": "display_data"
    },
    {
     "data": {
      "text/plain": [
       "\n",
       "Call:\n",
       "lm(formula = Total.Claims ~ total_population + Budget + Total.Tax.Revenue + \n",
       "    Total.Programs + ces_score_median + TotalFirstYearGrosskWh, \n",
       "    data = cities_lnq4)\n",
       "\n",
       "Coefficients:\n",
       "           (Intercept)        total_population                  Budget  \n",
       "             1.704e+03              -2.478e-04              -7.740e-05  \n",
       "     Total.Tax.Revenue          Total.Programs        ces_score_median  \n",
       "            -1.250e-06               8.176e+02              -9.401e+01  \n",
       "TotalFirstYearGrosskWh  \n",
       "             9.975e-04  \n"
      ]
     },
     "metadata": {},
     "output_type": "display_data"
    },
    {
     "data": {
      "text/plain": [
       "\n",
       "Call:\n",
       "lm(formula = Total.Claims ~ total_population + Budget + Total.Tax.Revenue + \n",
       "    Total.Programs + ces_score_median + TotalFirstYearGrosskWh, \n",
       "    data = cities)\n",
       "\n",
       "Coefficients:\n",
       "           (Intercept)        total_population                  Budget  \n",
       "            -6.086e+01               1.915e-03              -9.221e-05  \n",
       "     Total.Tax.Revenue          Total.Programs        ces_score_median  \n",
       "            -5.924e-07               1.313e+02              -5.772e+00  \n",
       "TotalFirstYearGrosskWh  \n",
       "             8.519e-04  \n"
      ]
     },
     "metadata": {},
     "output_type": "display_data"
    },
    {
     "data": {
      "text/plain": [
       "\n",
       "Call:\n",
       "lm(formula = Total.Claims ~ ln_pop + Budget + Total.Tax.Revenue + \n",
       "    Total.Programs + ces_score_median + TotalFirstYearGrosskWh, \n",
       "    data = cities)\n",
       "\n",
       "Coefficients:\n",
       "           (Intercept)                  ln_pop                  Budget  \n",
       "            -9.515e+02               8.805e+01              -1.198e-04  \n",
       "     Total.Tax.Revenue          Total.Programs        ces_score_median  \n",
       "            -3.514e-07               1.515e+02              -4.586e+00  \n",
       "TotalFirstYearGrosskWh  \n",
       "             8.641e-04  \n"
      ]
     },
     "metadata": {},
     "output_type": "display_data"
    }
   ],
   "source": [
    "#with coefficients\n",
    "\n",
    "#simple quartiles, even groups\n",
    "lm(Total.Claims ~ total_population + Budget + Total.Tax.Revenue + Total.Programs + ces_score_median + TotalFirstYearGrosskWh, data = cities_q1)\n",
    "lm(Total.Claims ~ total_population + Budget + Total.Tax.Revenue + Total.Programs + ces_score_median + TotalFirstYearGrosskWh, data = cities_q2)\n",
    "lm(Total.Claims ~ total_population + Budget + Total.Tax.Revenue + Total.Programs + ces_score_median + TotalFirstYearGrosskWh, data = cities_q3)\n",
    "lm(Total.Claims ~ total_population + Budget + Total.Tax.Revenue + Total.Programs + ces_score_median + TotalFirstYearGrosskWh, data = cities_q4)\n",
    "\n",
    "\n",
    "#roughly 1/4 of population intervals, uneven groups\n",
    "lm(Total.Claims ~ total_population + Budget + Total.Tax.Revenue + Total.Programs + ces_score_median + TotalFirstYearGrosskWh, data = cities_g1)\n",
    "lm(Total.Claims ~ total_population + Budget + Total.Tax.Revenue + Total.Programs + ces_score_median + TotalFirstYearGrosskWh, data = cities_g2)\n",
    "lm(Total.Claims ~ total_population + Budget + Total.Tax.Revenue + Total.Programs + ces_score_median + TotalFirstYearGrosskWh, data = cities_g3)\n",
    "lm(Total.Claims ~ total_population + Budget + Total.Tax.Revenue + Total.Programs + ces_score_median + TotalFirstYearGrosskWh, data = cities_g4)\n",
    "\n",
    "#roughly 1/4 of ln(population) intervals, uneven groups (helps correct skew for population)\n",
    "lm(Total.Claims ~ total_population + Budget + Total.Tax.Revenue + Total.Programs + ces_score_median + TotalFirstYearGrosskWh, data = cities_lnq1)\n",
    "lm(Total.Claims ~ total_population + Budget + Total.Tax.Revenue + Total.Programs + ces_score_median + TotalFirstYearGrosskWh, data = cities_lnq2)\n",
    "lm(Total.Claims ~ total_population + Budget + Total.Tax.Revenue + Total.Programs + ces_score_median + TotalFirstYearGrosskWh, data = cities_lnq3)\n",
    "lm(Total.Claims ~ total_population + Budget + Total.Tax.Revenue + Total.Programs + ces_score_median + TotalFirstYearGrosskWh, data = cities_lnq4)\n",
    "\n",
    "#normal ungrouped\n",
    "lm(Total.Claims ~ total_population + Budget + Total.Tax.Revenue + Total.Programs + ces_score_median + TotalFirstYearGrosskWh, data = cities)\n",
    "\n",
    "#ungrouped, with ln for helping with skew\n",
    "lm(Total.Claims ~ ln_pop + Budget + Total.Tax.Revenue + Total.Programs + ces_score_median + TotalFirstYearGrosskWh, data = cities)\n"
   ]
  },
  {
   "cell_type": "code",
   "execution_count": 103,
   "id": "2aa773ff",
   "metadata": {},
   "outputs": [
    {
     "data": {
      "text/plain": [
       "\n",
       "Call:\n",
       "lm(formula = Total.Tax.Revenue ~ poly(total_population, 4, raw = TRUE), \n",
       "    data = cities_nona)\n",
       "\n",
       "Residuals:\n",
       "       Min         1Q     Median         3Q        Max \n",
       "-2.967e+09 -6.929e+07 -1.644e+07  5.561e+07  8.746e+09 \n",
       "\n",
       "Coefficients:\n",
       "                                         Estimate Std. Error t value Pr(>|t|)\n",
       "(Intercept)                             1.215e+08  5.933e+07   2.048   0.0415\n",
       "poly(total_population, 4, raw = TRUE)1 -2.092e+03  1.156e+03  -1.811   0.0712\n",
       "poly(total_population, 4, raw = TRUE)2  2.095e-02  3.951e-03   5.304 2.27e-07\n",
       "poly(total_population, 4, raw = TRUE)3 -1.887e-08  3.807e-09  -4.957 1.22e-06\n",
       "poly(total_population, 4, raw = TRUE)4  4.715e-15  9.710e-16   4.855 1.97e-06\n",
       "                                          \n",
       "(Intercept)                            *  \n",
       "poly(total_population, 4, raw = TRUE)1 .  \n",
       "poly(total_population, 4, raw = TRUE)2 ***\n",
       "poly(total_population, 4, raw = TRUE)3 ***\n",
       "poly(total_population, 4, raw = TRUE)4 ***\n",
       "---\n",
       "Signif. codes:  0 '***' 0.001 '**' 0.01 '*' 0.05 '.' 0.1 ' ' 1\n",
       "\n",
       "Residual standard error: 600700000 on 288 degrees of freedom\n",
       "Multiple R-squared:  0.7475,\tAdjusted R-squared:  0.744 \n",
       "F-statistic: 213.2 on 4 and 288 DF,  p-value: < 2.2e-16\n"
      ]
     },
     "metadata": {},
     "output_type": "display_data"
    },
    {
     "data": {
      "image/png": "[encoded data removed]",
      "text/plain": [
       "plot without title"
      ]
     },
     "metadata": {},
     "output_type": "display_data"
    },
    {
     "data": {
      "text/html": [
       "0.835160150888394"
      ],
      "text/latex": [
       "0.835160150888394"
      ],
      "text/markdown": [
       "0.835160150888394"
      ],
      "text/plain": [
       "[1] 0.8351602"
      ]
     },
     "metadata": {},
     "output_type": "display_data"
    },
    {
     "data": {
      "text/html": [
       "0.829393521839471"
      ],
      "text/latex": [
       "0.829393521839471"
      ],
      "text/markdown": [
       "0.829393521839471"
      ],
      "text/plain": [
       "[1] 0.8293935"
      ]
     },
     "metadata": {},
     "output_type": "display_data"
    },
    {
     "data": {
      "text/plain": [
       "\n",
       "Call:\n",
       "lm(formula = Total.Tax.Revenue ~ total_population, data = cities)\n",
       "\n",
       "Residuals:\n",
       "       Min         1Q     Median         3Q        Max \n",
       "-2.690e+09 -1.018e+08  6.876e+07  1.329e+08  8.981e+09 \n",
       "\n",
       "Coefficients:\n",
       "                   Estimate Std. Error t value Pr(>|t|)    \n",
       "(Intercept)      -1.732e+08  4.179e+07  -4.144 4.47e-05 ***\n",
       "total_population  5.020e+03  1.938e+02  25.903  < 2e-16 ***\n",
       "---\n",
       "Signif. codes:  0 '***' 0.001 '**' 0.01 '*' 0.05 '.' 0.1 ' ' 1\n",
       "\n",
       "Residual standard error: 654100000 on 291 degrees of freedom\n",
       "  (124 observations deleted due to missingness)\n",
       "Multiple R-squared:  0.6975,\tAdjusted R-squared:  0.6965 \n",
       "F-statistic:   671 on 1 and 291 DF,  p-value: < 2.2e-16\n"
      ]
     },
     "metadata": {},
     "output_type": "display_data"
    },
    {
     "data": {
      "text/plain": [
       "\n",
       "Call:\n",
       "lm(formula = Total.Tax.Revenue ~ total_population, data = cities_fillna)\n",
       "\n",
       "Residuals:\n",
       "       Min         1Q     Median         3Q        Max \n",
       "-2.655e+09 -8.698e+07  4.472e+07  1.401e+08  9.023e+09 \n",
       "\n",
       "Coefficients:\n",
       "                   Estimate Std. Error t value Pr(>|t|)    \n",
       "(Intercept)      -1.017e+08  2.928e+07  -3.474 0.000566 ***\n",
       "total_population  4.891e+03  1.617e+02  30.244  < 2e-16 ***\n",
       "---\n",
       "Signif. codes:  0 '***' 0.001 '**' 0.01 '*' 0.05 '.' 0.1 ' ' 1\n",
       "\n",
       "Residual standard error: 557900000 on 415 degrees of freedom\n",
       "Multiple R-squared:  0.6879,\tAdjusted R-squared:  0.6871 \n",
       "F-statistic: 914.7 on 1 and 415 DF,  p-value: < 2.2e-16\n"
      ]
     },
     "metadata": {},
     "output_type": "display_data"
    },
    {
     "data": {
      "text/plain": [
       "     Min.   1st Qu.    Median      Mean   3rd Qu.      Max.      NA's \n",
       "1.127e+06 2.895e+07 8.007e+07 2.648e+08 1.934e+08 1.455e+10       124 "
      ]
     },
     "metadata": {},
     "output_type": "display_data"
    },
    {
     "data": {
      "text/plain": [
       "     Min.   1st Qu.    Median      Mean   3rd Qu.      Max. \n",
       "1.127e+06 4.662e+07 1.026e+08 2.166e+08 1.294e+08 1.455e+10 "
      ]
     },
     "metadata": {},
     "output_type": "display_data"
    },
    {
     "data": {
      "image/png": "[encoded data removed]",
      "text/plain": [
       "plot without title"
      ]
     },
     "metadata": {},
     "output_type": "display_data"
    }
   ],
   "source": [
    "#fill with ln_pop prediction\n",
    "#cities$ln_pop = log(cities$total_population)\n",
    "\n",
    "cities <- read.csv('C:/Users/ather/CS Projects/CETLab/caeecc-energy-efficiency/cities_2.csv')\n",
    "\n",
    "cities_nona <- cities %>% filter(!is.na(Total.Tax.Revenue))\n",
    "fit <- lm(Total.Tax.Revenue ~ poly(total_population, 4, raw = TRUE), data = cities_nona)\n",
    "summary(fit)\n",
    "\n",
    "cities_fillna <- cities %>%\n",
    "    mutate(pred = predict(fit,.)) %>%\n",
    "    mutate(Total.Tax.Revenue = ifelse(is.na(Total.Tax.Revenue), pred, Total.Tax.Revenue))\n",
    "\n",
    "\n",
    "plot(cities_fillna$Total.Tax.Revenue, cities_fillna$total_population)\n",
    "plot(cities$Total.Tax.Revenue, cities$total_population)\n",
    "\n",
    "#summary(cities_fillna$Total.Tax.Revenue)\n",
    "\n",
    "#cities_fillna %>% as.data.frame()\n",
    "\n",
    "cor(cities$total_population, cities$Total.Tax.Revenue, use = \"complete.obs\")\n",
    "cor(cities_fillna$total_population, cities_fillna$Total.Tax.Revenue, use = \"complete.obs\")\n",
    "\n",
    "unfilled_model <- lm(Total.Tax.Revenue ~ total_population, data = cities)\n",
    "filled_model <- lm(Total.Tax.Revenue ~ total_population, data = cities_fillna)\n",
    "\n",
    "summary(unfilled_model)\n",
    "summary(filled_model)\n",
    "\n",
    "summary(cities$Total.Tax.Revenue)\n",
    "summary(cities_fillna$Total.Tax.Revenue)"
   ]
  },
  {
   "cell_type": "code",
   "execution_count": null,
   "id": "ae5da6bc",
   "metadata": {},
   "outputs": [],
   "source": []
  }
 ],
 "metadata": {
  "kernelspec": {
   "display_name": "R",
   "language": "R",
   "name": "ir"
  },
  "language_info": {
   "codemirror_mode": "r",
   "file_extension": ".r",
   "mimetype": "text/x-r-source",
   "name": "R",
   "pygments_lexer": "r",
   "version": "3.6.1"
  }
 },
 "nbformat": 4,
 "nbformat_minor": 5
}
