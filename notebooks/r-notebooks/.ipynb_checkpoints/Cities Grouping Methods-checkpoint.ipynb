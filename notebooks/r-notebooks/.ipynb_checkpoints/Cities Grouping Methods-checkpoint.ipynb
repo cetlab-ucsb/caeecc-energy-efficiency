{
 "cells": [
  {
   "cell_type": "code",
   "execution_count": 1,
   "id": "7fd30568",
   "metadata": {},
   "outputs": [
    {
     "name": "stdout",
     "output_type": "stream",
     "text": [
      "package 'DescTools' successfully unpacked and MD5 sums checked\n",
      "\n",
      "The downloaded binary packages are in\n",
      "\tC:\\Users\\ather\\AppData\\Local\\Temp\\RtmpKqqw6d\\downloaded_packages\n"
     ]
    }
   ],
   "source": [
    "install.packages('DescTools')"
   ]
  },
  {
   "cell_type": "code",
   "execution_count": 1,
   "id": "c408e947",
   "metadata": {},
   "outputs": [
    {
     "name": "stderr",
     "output_type": "stream",
     "text": [
      "\n",
      "Attaching package: 'dplyr'\n",
      "\n",
      "The following objects are masked from 'package:stats':\n",
      "\n",
      "    filter, lag\n",
      "\n",
      "The following objects are masked from 'package:base':\n",
      "\n",
      "    intersect, setdiff, setequal, union\n",
      "\n",
      "Warning message:\n",
      "\"package 'DescTools' was built under R version 3.6.3\""
     ]
    }
   ],
   "source": [
    "library(\"dplyr\")\n",
    "library(\"DescTools\")\n",
    "#cities <- read.csv('/Users/athervgole/Downloads/cities_1.csv')\n",
    "cities <- read.csv('C:/Users/ather/CS Projects/CETLab/caeecc-energy-efficiency/cities_2.csv')\n",
    "cities_narm <- na.omit(cities)\n",
    "\n",
    "population <- cities_narm$total_population\n",
    "population_trimmed <- DescTools::Trim(cities_narm$total_population, trim = 0.02, na.rm = TRUE)\n",
    "\n",
    "income <- cities_narm$median_household_income_usd\n",
    "income_trimmed <- DescTools::Trim(cities_narm$median_household_income_usd, trim = 0.02, na.rm = TRUE)\n",
    "\n",
    "budget <- cities_narm$Budget\n",
    "budget_trimmed <- DescTools::Trim(cities_narm$Budget, trim = 0.02, na.rm = TRUE)\n",
    "\n",
    "claims <- cities_narm$Total.Claims\n",
    "claims_trimmed <- DescTools::Trim(cities_narm$Total.Claims, trim = 0.02, na.rm = TRUE)\n",
    "\n",
    "taxrev <- cities_narm$Total.Tax.Revenue\n",
    "taxrev_trimmed <- DescTools::Trim(cities_narm$Total.Tax.Revenue, trim = 0.02, na.rm = TRUE)\n",
    "\n",
    "programs <- cities_narm$Total.Programs\n",
    "programs_trimmed <- DescTools::Trim(cities_narm$Total.Programs, trim = 0.02, na.rm = TRUE)\n",
    "\n",
    "mean_budget <- mean(cities_narm$Budget, na.action = na.exclude)\n",
    "median_budget <- median(cities_narm$Budget, na.action = na.exclude)\n",
    "\n",
    "\n",
    "\n",
    "#try taxrev population regressions with and without incorporated cities\n",
    "\n"
   ]
  },
  {
   "cell_type": "code",
   "execution_count": 116,
   "id": "7c1f329c",
   "metadata": {},
   "outputs": [
    {
     "data": {
      "text/plain": [
       "\n",
       "Call:\n",
       "lm(formula = budget_trimmed ~ population_trimmed + income_trimmed + \n",
       "    taxrev_trimmed + claims_trimmed)\n",
       "\n",
       "Coefficients:\n",
       "       (Intercept)  population_trimmed      income_trimmed      taxrev_trimmed  \n",
       "         2.522e+05           3.232e-01          -1.397e-01           4.841e-04  \n",
       "    claims_trimmed  \n",
       "         9.031e+01  \n"
      ]
     },
     "metadata": {},
     "output_type": "display_data"
    }
   ],
   "source": [
    "lm(budget_trimmed ~ population_trimmed + income_trimmed + taxrev_trimmed + claims_trimmed)"
   ]
  },
  {
   "cell_type": "code",
   "execution_count": 20,
   "id": "f3f37d93",
   "metadata": {},
   "outputs": [
    {
     "data": {
      "text/html": [
       "<table>\n",
       "<thead><tr><th scope=col>n</th></tr></thead>\n",
       "<tbody>\n",
       "\t<tr><td>105</td></tr>\n",
       "</tbody>\n",
       "</table>\n"
      ],
      "text/latex": [
       "\\begin{tabular}{r|l}\n",
       " n\\\\\n",
       "\\hline\n",
       "\t 105\\\\\n",
       "\\end{tabular}\n"
      ],
      "text/markdown": [
       "\n",
       "| n |\n",
       "|---|\n",
       "| 105 |\n",
       "\n"
      ],
      "text/plain": [
       "  n  \n",
       "1 105"
      ]
     },
     "metadata": {},
     "output_type": "display_data"
    },
    {
     "data": {
      "text/html": [
       "<table>\n",
       "<thead><tr><th scope=col>n</th></tr></thead>\n",
       "<tbody>\n",
       "\t<tr><td>104</td></tr>\n",
       "</tbody>\n",
       "</table>\n"
      ],
      "text/latex": [
       "\\begin{tabular}{r|l}\n",
       " n\\\\\n",
       "\\hline\n",
       "\t 104\\\\\n",
       "\\end{tabular}\n"
      ],
      "text/markdown": [
       "\n",
       "| n |\n",
       "|---|\n",
       "| 104 |\n",
       "\n"
      ],
      "text/plain": [
       "  n  \n",
       "1 104"
      ]
     },
     "metadata": {},
     "output_type": "display_data"
    },
    {
     "data": {
      "text/html": [
       "<table>\n",
       "<thead><tr><th scope=col>n</th></tr></thead>\n",
       "<tbody>\n",
       "\t<tr><td>104</td></tr>\n",
       "</tbody>\n",
       "</table>\n"
      ],
      "text/latex": [
       "\\begin{tabular}{r|l}\n",
       " n\\\\\n",
       "\\hline\n",
       "\t 104\\\\\n",
       "\\end{tabular}\n"
      ],
      "text/markdown": [
       "\n",
       "| n |\n",
       "|---|\n",
       "| 104 |\n",
       "\n"
      ],
      "text/plain": [
       "  n  \n",
       "1 104"
      ]
     },
     "metadata": {},
     "output_type": "display_data"
    },
    {
     "data": {
      "text/html": [
       "<table>\n",
       "<thead><tr><th scope=col>n</th></tr></thead>\n",
       "<tbody>\n",
       "\t<tr><td>104</td></tr>\n",
       "</tbody>\n",
       "</table>\n"
      ],
      "text/latex": [
       "\\begin{tabular}{r|l}\n",
       " n\\\\\n",
       "\\hline\n",
       "\t 104\\\\\n",
       "\\end{tabular}\n"
      ],
      "text/markdown": [
       "\n",
       "| n |\n",
       "|---|\n",
       "| 104 |\n",
       "\n"
      ],
      "text/plain": [
       "  n  \n",
       "1 104"
      ]
     },
     "metadata": {},
     "output_type": "display_data"
    },
    {
     "data": {
      "text/plain": [
       "   Min. 1st Qu.  Median    Mean 3rd Qu.    Max. \n",
       "   1514    3346    4881    5054    6629    8746 "
      ]
     },
     "metadata": {},
     "output_type": "display_data"
    },
    {
     "data": {
      "text/plain": [
       "   Min. 1st Qu.  Median    Mean 3rd Qu.    Max. \n",
       "   9043   11993   15223   15439   18114   24958 "
      ]
     },
     "metadata": {},
     "output_type": "display_data"
    },
    {
     "data": {
      "text/plain": [
       "   Min. 1st Qu.  Median    Mean 3rd Qu.    Max. \n",
       "  25014   31964   40118   42852   51987   68146 "
      ]
     },
     "metadata": {},
     "output_type": "display_data"
    },
    {
     "data": {
      "text/plain": [
       "   Min. 1st Qu.  Median    Mean 3rd Qu.    Max. \n",
       "  68805   81035  110971  197544  159612 2484718 "
      ]
     },
     "metadata": {},
     "output_type": "display_data"
    },
    {
     "data": {
      "image/png": "[encoded data removed]",
      "text/plain": [
       "Plot with title \"Histogram of cities_q2$Total.Tax.Revenue\""
      ]
     },
     "metadata": {},
     "output_type": "display_data"
    }
   ],
   "source": [
    "#cities by quartile, even grouping (n=105/group, dropping na)\n",
    "\n",
    "cities$quartile <- ntile(cities$total_population, 4)\n",
    "\n",
    "cities_q1 <- subset(cities , quartile == 1)\n",
    "cities_q2 <- subset(cities, quartile == 2)\n",
    "cities_q3 <- subset(cities, quartile == 3)\n",
    "cities_q4 <- subset(cities, quartile == 4)\n",
    "\n",
    "cities_q <- c(cities_q1, cities_q2, cities_q3, cities_q4)\n",
    "\n",
    "count(cities_q1)\n",
    "count(cities_q2)\n",
    "count(cities_q3)\n",
    "count(cities_q4)\n",
    "\n",
    "summary(cities_q1$total_population)\n",
    "summary(cities_q2$total_population)\n",
    "summary(cities_q3$total_population)\n",
    "summary(cities_q4$total_population)\n",
    "\n",
    "hist(cities_q2$Total.Tax.Revenue)\n"
   ]
  },
  {
   "cell_type": "code",
   "execution_count": 21,
   "id": "dbfe6f13",
   "metadata": {},
   "outputs": [
    {
     "data": {
      "text/html": [
       "<table>\n",
       "<thead><tr><th scope=col>n</th></tr></thead>\n",
       "<tbody>\n",
       "\t<tr><td>353</td></tr>\n",
       "</tbody>\n",
       "</table>\n"
      ],
      "text/latex": [
       "\\begin{tabular}{r|l}\n",
       " n\\\\\n",
       "\\hline\n",
       "\t 353\\\\\n",
       "\\end{tabular}\n"
      ],
      "text/markdown": [
       "\n",
       "| n |\n",
       "|---|\n",
       "| 353 |\n",
       "\n"
      ],
      "text/plain": [
       "  n  \n",
       "1 353"
      ]
     },
     "metadata": {},
     "output_type": "display_data"
    },
    {
     "data": {
      "text/html": [
       "<table>\n",
       "<thead><tr><th scope=col>n</th></tr></thead>\n",
       "<tbody>\n",
       "\t<tr><td>45</td></tr>\n",
       "</tbody>\n",
       "</table>\n"
      ],
      "text/latex": [
       "\\begin{tabular}{r|l}\n",
       " n\\\\\n",
       "\\hline\n",
       "\t 45\\\\\n",
       "\\end{tabular}\n"
      ],
      "text/markdown": [
       "\n",
       "| n |\n",
       "|---|\n",
       "| 45 |\n",
       "\n"
      ],
      "text/plain": [
       "  n \n",
       "1 45"
      ]
     },
     "metadata": {},
     "output_type": "display_data"
    },
    {
     "data": {
      "text/html": [
       "<table>\n",
       "<thead><tr><th scope=col>n</th></tr></thead>\n",
       "<tbody>\n",
       "\t<tr><td>7</td></tr>\n",
       "</tbody>\n",
       "</table>\n"
      ],
      "text/latex": [
       "\\begin{tabular}{r|l}\n",
       " n\\\\\n",
       "\\hline\n",
       "\t 7\\\\\n",
       "\\end{tabular}\n"
      ],
      "text/markdown": [
       "\n",
       "| n |\n",
       "|---|\n",
       "| 7 |\n",
       "\n"
      ],
      "text/plain": [
       "  n\n",
       "1 7"
      ]
     },
     "metadata": {},
     "output_type": "display_data"
    },
    {
     "data": {
      "text/html": [
       "<table>\n",
       "<thead><tr><th scope=col>n</th></tr></thead>\n",
       "<tbody>\n",
       "\t<tr><td>12</td></tr>\n",
       "</tbody>\n",
       "</table>\n"
      ],
      "text/latex": [
       "\\begin{tabular}{r|l}\n",
       " n\\\\\n",
       "\\hline\n",
       "\t 12\\\\\n",
       "\\end{tabular}\n"
      ],
      "text/markdown": [
       "\n",
       "| n |\n",
       "|---|\n",
       "| 12 |\n",
       "\n"
      ],
      "text/plain": [
       "  n \n",
       "1 12"
      ]
     },
     "metadata": {},
     "output_type": "display_data"
    },
    {
     "data": {
      "text/plain": [
       "   Min. 1st Qu.  Median    Mean 3rd Qu.    Max. \n",
       "   1514    7188   17308   27759   42290   99939 "
      ]
     },
     "metadata": {},
     "output_type": "display_data"
    },
    {
     "data": {
      "text/plain": [
       "   Min. 1st Qu.  Median    Mean 3rd Qu.    Max. \n",
       " 102311  110611  127231  133324  151412  199851 "
      ]
     },
     "metadata": {},
     "output_type": "display_data"
    },
    {
     "data": {
      "text/plain": [
       "   Min. 1st Qu.  Median    Mean 3rd Qu.    Max. \n",
       " 204601  219755  227727  237241  255420  278008 "
      ]
     },
     "metadata": {},
     "output_type": "display_data"
    },
    {
     "data": {
      "text/plain": [
       "   Min. 1st Qu.  Median    Mean 3rd Qu.    Max. \n",
       " 347532  398308  574330  806517  918146 2484718 "
      ]
     },
     "metadata": {},
     "output_type": "display_data"
    },
    {
     "data": {
      "image/png": "[encoded data removed]",
      "text/plain": [
       "Plot with title \"Histogram of cities_g1$total_population\""
      ]
     },
     "metadata": {},
     "output_type": "display_data"
    },
    {
     "data": {
      "image/png": "[encoded data removed]",
      "text/plain": [
       "Plot with title \"Histogram of cities_g2$total_population\""
      ]
     },
     "metadata": {},
     "output_type": "display_data"
    },
    {
     "data": {
      "image/png": "[encoded data removed]",
      "text/plain": [
       "Plot with title \"Histogram of cities_g3$total_population\""
      ]
     },
     "metadata": {},
     "output_type": "display_data"
    },
    {
     "data": {
      "image/png": "[encoded data removed]",
      "text/plain": [
       "Plot with title \"Histogram of cities_g4$total_population\""
      ]
     },
     "metadata": {},
     "output_type": "display_data"
    },
    {
     "data": {
      "image/png": "[encoded data removed]",
      "text/plain": [
       "Plot with title \"Histogram of cities_g1$Total.Tax.Revenue\""
      ]
     },
     "metadata": {},
     "output_type": "display_data"
    }
   ],
   "source": [
    "#cities by 1/4 of population range\n",
    "#population ranges from 1514 to 2484718 (extreme value)\n",
    "#I tried breaking it up by 100000's, and put the >400000 values in the same group\n",
    "\n",
    "cities_g1 <- subset(cities, total_population <= 100000)\n",
    "cities_g2 <- subset(cities, total_population > 100000 & population <= 200000)\n",
    "cities_g3 <- subset(cities, total_population > 200000 & population <= 300000)\n",
    "cities_g4 <- subset(cities, total_population > 300000)\n",
    "\n",
    "cities_g <- c(cities_g1, cities_g2, cities_g3, cities_g4)\n",
    "\n",
    "\n",
    "count(cities_g1)\n",
    "count(cities_g2)\n",
    "count(cities_g3)\n",
    "count(cities_g4)\n",
    "\n",
    "summary(cities_g1$total_population)\n",
    "summary(cities_g2$total_population)\n",
    "summary(cities_g3$total_population)\n",
    "summary(cities_g4$total_population)\n",
    "\n",
    "hist(cities_g1$total_population)\n",
    "hist(cities_g2$total_population)\n",
    "hist(cities_g3$total_population)\n",
    "hist(cities_g4$total_population)\n",
    "\n",
    "hist(cities_g1$Total.Tax.Revenue)\n",
    "\n"
   ]
  },
  {
   "cell_type": "code",
   "execution_count": 5,
   "id": "497d5fd6",
   "metadata": {},
   "outputs": [
    {
     "data": {
      "image/png": "[encoded data removed]",
      "text/plain": [
       "Plot with title \"Histogram of cities$ln_pop\""
      ]
     },
     "metadata": {},
     "output_type": "display_data"
    }
   ],
   "source": [
    "cities$ln_pop = log(cities$total_population)\n",
    "hist(cities$ln_pop)\n"
   ]
  },
  {
   "cell_type": "code",
   "execution_count": 9,
   "id": "2de09c78",
   "metadata": {},
   "outputs": [
    {
     "data": {
      "text/html": [
       "<table>\n",
       "<thead><tr><th scope=col>n</th></tr></thead>\n",
       "<tbody>\n",
       "\t<tr><td>141</td></tr>\n",
       "</tbody>\n",
       "</table>\n"
      ],
      "text/latex": [
       "\\begin{tabular}{r|l}\n",
       " n\\\\\n",
       "\\hline\n",
       "\t 141\\\\\n",
       "\\end{tabular}\n"
      ],
      "text/markdown": [
       "\n",
       "| n |\n",
       "|---|\n",
       "| 141 |\n",
       "\n"
      ],
      "text/plain": [
       "  n  \n",
       "1 141"
      ]
     },
     "metadata": {},
     "output_type": "display_data"
    },
    {
     "data": {
      "text/html": [
       "<table>\n",
       "<thead><tr><th scope=col>n</th></tr></thead>\n",
       "<tbody>\n",
       "\t<tr><td>211</td></tr>\n",
       "</tbody>\n",
       "</table>\n"
      ],
      "text/latex": [
       "\\begin{tabular}{r|l}\n",
       " n\\\\\n",
       "\\hline\n",
       "\t 211\\\\\n",
       "\\end{tabular}\n"
      ],
      "text/markdown": [
       "\n",
       "| n |\n",
       "|---|\n",
       "| 211 |\n",
       "\n"
      ],
      "text/plain": [
       "  n  \n",
       "1 211"
      ]
     },
     "metadata": {},
     "output_type": "display_data"
    },
    {
     "data": {
      "text/html": [
       "<table>\n",
       "<thead><tr><th scope=col>n</th></tr></thead>\n",
       "<tbody>\n",
       "\t<tr><td>52</td></tr>\n",
       "</tbody>\n",
       "</table>\n"
      ],
      "text/latex": [
       "\\begin{tabular}{r|l}\n",
       " n\\\\\n",
       "\\hline\n",
       "\t 52\\\\\n",
       "\\end{tabular}\n"
      ],
      "text/markdown": [
       "\n",
       "| n |\n",
       "|---|\n",
       "| 52 |\n",
       "\n"
      ],
      "text/plain": [
       "  n \n",
       "1 52"
      ]
     },
     "metadata": {},
     "output_type": "display_data"
    },
    {
     "data": {
      "text/html": [
       "<table>\n",
       "<thead><tr><th scope=col>n</th></tr></thead>\n",
       "<tbody>\n",
       "\t<tr><td>13</td></tr>\n",
       "</tbody>\n",
       "</table>\n"
      ],
      "text/latex": [
       "\\begin{tabular}{r|l}\n",
       " n\\\\\n",
       "\\hline\n",
       "\t 13\\\\\n",
       "\\end{tabular}\n"
      ],
      "text/markdown": [
       "\n",
       "| n |\n",
       "|---|\n",
       "| 13 |\n",
       "\n"
      ],
      "text/plain": [
       "  n \n",
       "1 13"
      ]
     },
     "metadata": {},
     "output_type": "display_data"
    },
    {
     "data": {
      "text/plain": [
       "   Min. 1st Qu.  Median    Mean 3rd Qu.    Max. \n",
       "   1514    3942    5890    6558    9043   13352 "
      ]
     },
     "metadata": {},
     "output_type": "display_data"
    },
    {
     "data": {
      "text/plain": [
       "   Min. 1st Qu.  Median    Mean 3rd Qu.    Max. \n",
       "  13379   20784   36263   41585   61622   98427 "
      ]
     },
     "metadata": {},
     "output_type": "display_data"
    },
    {
     "data": {
      "text/plain": [
       "   Min. 1st Qu.  Median    Mean 3rd Qu.    Max. \n",
       "  99939  111150  129705  143888  159612  261711 "
      ]
     },
     "metadata": {},
     "output_type": "display_data"
    },
    {
     "data": {
      "text/plain": [
       "   Min. 1st Qu.  Median    Mean 3rd Qu.    Max. \n",
       " 278008  369465  557492  765863  874961 2484718 "
      ]
     },
     "metadata": {},
     "output_type": "display_data"
    },
    {
     "data": {
      "image/png": "[encoded data removed]",
      "text/plain": [
       "Plot with title \"Histogram of cities_lnq1$total_population\""
      ]
     },
     "metadata": {},
     "output_type": "display_data"
    },
    {
     "data": {
      "image/png": "[encoded data removed]",
      "text/plain": [
       "Plot with title \"Histogram of cities_lnq2$total_population\""
      ]
     },
     "metadata": {},
     "output_type": "display_data"
    },
    {
     "data": {
      "image/png": "[encoded data removed]",
      "text/plain": [
       "Plot with title \"Histogram of cities_lnq3$total_population\""
      ]
     },
     "metadata": {},
     "output_type": "display_data"
    },
    {
     "data": {
      "text/plain": [
       "\n",
       "Call:\n",
       "lm(formula = Total.Claims ~ total_population + Budget + Total.Tax.Revenue + \n",
       "    Total.Programs + ces_score_median + TotalFirstYearGrosskWh, \n",
       "    data = cities_lnq1)\n",
       "\n",
       "Coefficients:\n",
       "           (Intercept)        total_population                  Budget  \n",
       "            -2.650e+02               1.225e-02               1.539e-04  \n",
       "     Total.Tax.Revenue          Total.Programs        ces_score_median  \n",
       "             1.238e-06               1.541e+02               1.245e+00  \n",
       "TotalFirstYearGrosskWh  \n",
       "             7.499e-05  \n"
      ]
     },
     "metadata": {},
     "output_type": "display_data"
    },
    {
     "data": {
      "text/plain": [
       "\n",
       "Call:\n",
       "lm(formula = Total.Claims ~ total_population + Budget + Total.Tax.Revenue + \n",
       "    Total.Programs + ces_score_median + TotalFirstYearGrosskWh, \n",
       "    data = cities_lnq2)\n",
       "\n",
       "Coefficients:\n",
       "           (Intercept)        total_population                  Budget  \n",
       "            -1.610e+01               2.472e-03              -4.584e-04  \n",
       "     Total.Tax.Revenue          Total.Programs        ces_score_median  \n",
       "            -5.411e-07               8.869e+01              -1.442e+00  \n",
       "TotalFirstYearGrosskWh  \n",
       "             8.197e-04  \n"
      ]
     },
     "metadata": {},
     "output_type": "display_data"
    },
    {
     "data": {
      "text/plain": [
       "\n",
       "Call:\n",
       "lm(formula = Total.Claims ~ total_population + Budget + Total.Tax.Revenue + \n",
       "    Total.Programs + ces_score_median + TotalFirstYearGrosskWh, \n",
       "    data = cities_lnq3)\n",
       "\n",
       "Coefficients:\n",
       "           (Intercept)        total_population                  Budget  \n",
       "            -2.708e+03               7.351e-03               1.195e-03  \n",
       "     Total.Tax.Revenue          Total.Programs        ces_score_median  \n",
       "             1.870e-06               7.269e+02              -2.223e+00  \n",
       "TotalFirstYearGrosskWh  \n",
       "             8.332e-05  \n"
      ]
     },
     "metadata": {},
     "output_type": "display_data"
    },
    {
     "data": {
      "text/plain": [
       "\n",
       "Call:\n",
       "lm(formula = Total.Claims ~ total_population + Budget + Total.Tax.Revenue + \n",
       "    Total.Programs + ces_score_median + TotalFirstYearGrosskWh, \n",
       "    data = cities_lnq4)\n",
       "\n",
       "Coefficients:\n",
       "           (Intercept)        total_population                  Budget  \n",
       "             4.205e+03              -2.081e-03              -9.987e-05  \n",
       "     Total.Tax.Revenue          Total.Programs        ces_score_median  \n",
       "            -1.386e-06               1.046e+03              -1.407e+02  \n",
       "TotalFirstYearGrosskWh  \n",
       "             1.004e-03  \n"
      ]
     },
     "metadata": {},
     "output_type": "display_data"
    },
    {
     "data": {
      "image/png": "[encoded data removed]",
      "text/plain": [
       "Plot with title \"Histogram of cities_lnq4$total_population\""
      ]
     },
     "metadata": {},
     "output_type": "display_data"
    }
   ],
   "source": [
    "#cities by log population, log in order to fix skew of population, might make more even groups than the previous method\n",
    "\n",
    "cities$ln_pop = log(cities$total_population)\n",
    "hist(cities$ln_pop)\n",
    "\n",
    "\n",
    "cities_lnq1 <- subset(cities, ln_pop < 9.5)\n",
    "cities_lnq2 <- subset(cities, ln_pop >= 9.5 & ln_pop < 11.5)\n",
    "cities_lnq3 <- subset(cities, ln_pop >= 11.5 & ln_pop < 12.5)\n",
    "cities_lnq4 <- subset(cities, ln_pop > 12.5)\n",
    "\n",
    "\n",
    "count(cities_lnq1)\n",
    "count(cities_lnq2)\n",
    "count(cities_lnq3)\n",
    "count(cities_lnq4)\n",
    "\n",
    "summary(cities_lnq1$total_population)\n",
    "summary(cities_lnq2$total_population)\n",
    "summary(cities_lnq3$total_population)\n",
    "summary(cities_lnq4$total_population)\n",
    "\n",
    "hist(cities_lnq1$total_population)\n",
    "hist(cities_lnq2$total_population)\n",
    "hist(cities_lnq3$total_population)\n",
    "hist(cities_lnq4$total_population)\n",
    "\n",
    "lm(Total.Claims ~ total_population + Budget + Total.Tax.Revenue + Total.Programs + ces_score_median + TotalFirstYearGrosskWh, data = cities_lnq1)\n",
    "lm(Total.Claims ~ total_population + Budget + Total.Tax.Revenue + Total.Programs + ces_score_median + TotalFirstYearGrosskWh, data = cities_lnq2)\n",
    "lm(Total.Claims ~ total_population + Budget + Total.Tax.Revenue + Total.Programs + ces_score_median + TotalFirstYearGrosskWh, data = cities_lnq3)\n",
    "lm(Total.Claims ~ total_population + Budget + Total.Tax.Revenue + Total.Programs + ces_score_median + TotalFirstYearGrosskWh, data = cities_lnq4)\n",
    "\n"
   ]
  },
  {
   "cell_type": "code",
   "execution_count": 8,
   "id": "850d7b14",
   "metadata": {},
   "outputs": [
    {
     "ename": "ERROR",
     "evalue": "Error in na.omit(cities_q1): object 'cities_q1' not found\n",
     "output_type": "error",
     "traceback": [
      "Error in na.omit(cities_q1): object 'cities_q1' not found\nTraceback:\n",
      "1. na.omit(cities_q1)"
     ]
    }
   ],
   "source": [
    "#with sample single variable regressions\n",
    "\n",
    "#simple quartiles, even groups\n",
    "cities_q1 <- na.omit(cities_q1)\n",
    "lm(cities_q1$Total.Claims ~ cities_q1$total_population)\n",
    "\n",
    "#roughly 1/4 of population intervals, uneven groups\n",
    "cities_g1 <- na.omit(cities_g1)\n",
    "lm(cities_g1$Total.Claims ~ cities_g1$total_population)\n",
    "\n",
    "#roughly 1/4 of ln(population) intervals, uneven groups (helps correct skew for population)\n",
    "cities_lnq2 <- na.omit(cities_lnq3)\n",
    "lm(cities_lnq3$Total.Claims ~ cities_lnq3$total_population)\n",
    "\n",
    "#normal ungrouped\n",
    "lm(cities$Total.Claims ~ cities$total_population)\n",
    "\n",
    "#ungrouped, with ln for helping with skew\n",
    "lm(Total.Claims ~ ln_pop, data = cities)"
   ]
  },
  {
   "cell_type": "code",
   "execution_count": 39,
   "id": "aa03e0eb",
   "metadata": {},
   "outputs": [
    {
     "data": {
      "text/plain": [
       "\n",
       "Call:\n",
       "lm(formula = Total.Claims ~ total_population + Budget + Total.Tax.Revenue + \n",
       "    Total.Programs + ces_score_median + TotalFirstYearGrosskWh, \n",
       "    data = cities_q1)\n",
       "\n",
       "Coefficients:\n",
       "           (Intercept)        total_population                  Budget  \n",
       "            -1.829e+02               1.437e-02              -1.335e-03  \n",
       "     Total.Tax.Revenue          Total.Programs        ces_score_median  \n",
       "             1.507e-06               1.057e+02               5.987e-01  \n",
       "TotalFirstYearGrosskWh  \n",
       "             8.283e-04  \n"
      ]
     },
     "metadata": {},
     "output_type": "display_data"
    },
    {
     "data": {
      "text/plain": [
       "\n",
       "Call:\n",
       "lm(formula = Total.Claims ~ total_population + Budget + Total.Tax.Revenue + \n",
       "    Total.Programs + ces_score_median + TotalFirstYearGrosskWh, \n",
       "    data = cities_q2)\n",
       "\n",
       "Coefficients:\n",
       "           (Intercept)        total_population                  Budget  \n",
       "            -1.621e+02              -5.404e-04              -4.979e-04  \n",
       "     Total.Tax.Revenue          Total.Programs        ces_score_median  \n",
       "             8.348e-08               1.847e+02               1.948e+00  \n",
       "TotalFirstYearGrosskWh  \n",
       "             5.038e-04  \n"
      ]
     },
     "metadata": {},
     "output_type": "display_data"
    },
    {
     "data": {
      "text/plain": [
       "\n",
       "Call:\n",
       "lm(formula = Total.Claims ~ total_population + Budget + Total.Tax.Revenue + \n",
       "    Total.Programs + ces_score_median + TotalFirstYearGrosskWh, \n",
       "    data = cities_q3)\n",
       "\n",
       "Coefficients:\n",
       "           (Intercept)        total_population                  Budget  \n",
       "             2.393e+01               2.663e-03              -3.815e-04  \n",
       "     Total.Tax.Revenue          Total.Programs        ces_score_median  \n",
       "            -1.037e-06               6.022e+01               1.969e+00  \n",
       "TotalFirstYearGrosskWh  \n",
       "             7.847e-04  \n"
      ]
     },
     "metadata": {},
     "output_type": "display_data"
    },
    {
     "data": {
      "text/plain": [
       "\n",
       "Call:\n",
       "lm(formula = Total.Claims ~ total_population + Budget + Total.Tax.Revenue + \n",
       "    Total.Programs + ces_score_median + TotalFirstYearGrosskWh, \n",
       "    data = cities_q4)\n",
       "\n",
       "Coefficients:\n",
       "           (Intercept)        total_population                  Budget  \n",
       "            -3.155e+02               8.948e-04              -1.298e-05  \n",
       "     Total.Tax.Revenue          Total.Programs        ces_score_median  \n",
       "            -1.021e-06               5.074e+02              -1.596e+01  \n",
       "TotalFirstYearGrosskWh  \n",
       "             8.404e-04  \n"
      ]
     },
     "metadata": {},
     "output_type": "display_data"
    },
    {
     "data": {
      "text/plain": [
       "\n",
       "Call:\n",
       "lm(formula = Total.Claims ~ total_population + Budget + Total.Tax.Revenue + \n",
       "    Total.Programs + ces_score_median + TotalFirstYearGrosskWh, \n",
       "    data = cities_g1)\n",
       "\n",
       "Coefficients:\n",
       "           (Intercept)        total_population                  Budget  \n",
       "            -2.698e+01               2.541e-03              -4.353e-04  \n",
       "     Total.Tax.Revenue          Total.Programs        ces_score_median  \n",
       "            -5.354e-07               8.569e+01              -1.162e+00  \n",
       "TotalFirstYearGrosskWh  \n",
       "             8.019e-04  \n"
      ]
     },
     "metadata": {},
     "output_type": "display_data"
    },
    {
     "data": {
      "text/plain": [
       "\n",
       "Call:\n",
       "lm(formula = Total.Claims ~ total_population + Budget + Total.Tax.Revenue + \n",
       "    Total.Programs + ces_score_median + TotalFirstYearGrosskWh, \n",
       "    data = cities_g2)\n",
       "\n",
       "Coefficients:\n",
       "           (Intercept)        total_population                  Budget  \n",
       "            -1.589e+03               9.528e-03              -6.988e-05  \n",
       "     Total.Tax.Revenue          Total.Programs        ces_score_median  \n",
       "            -2.450e-06               9.753e+02              -6.344e-01  \n",
       "TotalFirstYearGrosskWh  \n",
       "             3.994e-05  \n"
      ]
     },
     "metadata": {},
     "output_type": "display_data"
    },
    {
     "data": {
      "text/plain": [
       "\n",
       "Call:\n",
       "lm(formula = Total.Claims ~ total_population + Budget + Total.Tax.Revenue + \n",
       "    Total.Programs + ces_score_median + TotalFirstYearGrosskWh, \n",
       "    data = cities_g3)\n",
       "\n",
       "Coefficients:\n",
       "           (Intercept)        total_population                  Budget  \n",
       "            -7.655e+03              -4.585e-02               8.457e-03  \n",
       "     Total.Tax.Revenue          Total.Programs        ces_score_median  \n",
       "             2.151e-05              -4.560e+02               2.910e+02  \n",
       "TotalFirstYearGrosskWh  \n",
       "            -1.476e-03  \n"
      ]
     },
     "metadata": {},
     "output_type": "display_data"
    },
    {
     "data": {
      "text/plain": [
       "\n",
       "Call:\n",
       "lm(formula = Total.Claims ~ total_population + Budget + Total.Tax.Revenue + \n",
       "    Total.Programs + ces_score_median + TotalFirstYearGrosskWh, \n",
       "    data = cities_g4)\n",
       "\n",
       "Coefficients:\n",
       "           (Intercept)        total_population                  Budget  \n",
       "             5.099e+03              -2.238e-03              -1.225e-04  \n",
       "     Total.Tax.Revenue          Total.Programs        ces_score_median  \n",
       "            -1.452e-06               1.130e+03              -1.761e+02  \n",
       "TotalFirstYearGrosskWh  \n",
       "             1.046e-03  \n"
      ]
     },
     "metadata": {},
     "output_type": "display_data"
    },
    {
     "data": {
      "text/plain": [
       "\n",
       "Call:\n",
       "lm(formula = Total.Claims ~ total_population + Budget + Total.Tax.Revenue + \n",
       "    Total.Programs + ces_score_median + TotalFirstYearGrosskWh, \n",
       "    data = cities_lnq1)\n",
       "\n",
       "Coefficients:\n",
       "           (Intercept)        total_population                  Budget  \n",
       "             197.44885                -0.06106                      NA  \n",
       "     Total.Tax.Revenue          Total.Programs        ces_score_median  \n",
       "                    NA                      NA                      NA  \n",
       "TotalFirstYearGrosskWh  \n",
       "                    NA  \n"
      ]
     },
     "metadata": {},
     "output_type": "display_data"
    },
    {
     "data": {
      "text/plain": [
       "\n",
       "Call:\n",
       "lm(formula = Total.Claims ~ total_population + Budget + Total.Tax.Revenue + \n",
       "    Total.Programs + ces_score_median + TotalFirstYearGrosskWh, \n",
       "    data = cities_lnq2)\n",
       "\n",
       "Coefficients:\n",
       "           (Intercept)        total_population                  Budget  \n",
       "             1.373e+02               5.627e-03               5.077e-04  \n",
       "     Total.Tax.Revenue          Total.Programs        ces_score_median  \n",
       "            -1.021e-06               3.966e+00              -8.468e+00  \n",
       "TotalFirstYearGrosskWh  \n",
       "             3.311e-04  \n"
      ]
     },
     "metadata": {},
     "output_type": "display_data"
    },
    {
     "data": {
      "text/plain": [
       "\n",
       "Call:\n",
       "lm(formula = Total.Claims ~ total_population + Budget + Total.Tax.Revenue + \n",
       "    Total.Programs + ces_score_median + TotalFirstYearGrosskWh, \n",
       "    data = cities_lnq3)\n",
       "\n",
       "Coefficients:\n",
       "           (Intercept)        total_population                  Budget  \n",
       "             1.373e+02               5.627e-03               5.077e-04  \n",
       "     Total.Tax.Revenue          Total.Programs        ces_score_median  \n",
       "            -1.021e-06               3.966e+00              -8.468e+00  \n",
       "TotalFirstYearGrosskWh  \n",
       "             3.311e-04  \n"
      ]
     },
     "metadata": {},
     "output_type": "display_data"
    },
    {
     "data": {
      "text/plain": [
       "\n",
       "Call:\n",
       "lm(formula = Total.Claims ~ total_population + Budget + Total.Tax.Revenue + \n",
       "    Total.Programs + ces_score_median + TotalFirstYearGrosskWh, \n",
       "    data = cities_lnq4)\n",
       "\n",
       "Coefficients:\n",
       "           (Intercept)        total_population                  Budget  \n",
       "             1.704e+03              -2.478e-04              -7.740e-05  \n",
       "     Total.Tax.Revenue          Total.Programs        ces_score_median  \n",
       "            -1.250e-06               8.176e+02              -9.401e+01  \n",
       "TotalFirstYearGrosskWh  \n",
       "             9.975e-04  \n"
      ]
     },
     "metadata": {},
     "output_type": "display_data"
    },
    {
     "data": {
      "text/plain": [
       "\n",
       "Call:\n",
       "lm(formula = Total.Claims ~ total_population + Budget + Total.Tax.Revenue + \n",
       "    Total.Programs + ces_score_median + TotalFirstYearGrosskWh, \n",
       "    data = cities)\n",
       "\n",
       "Coefficients:\n",
       "           (Intercept)        total_population                  Budget  \n",
       "            -6.086e+01               1.915e-03              -9.221e-05  \n",
       "     Total.Tax.Revenue          Total.Programs        ces_score_median  \n",
       "            -5.924e-07               1.313e+02              -5.772e+00  \n",
       "TotalFirstYearGrosskWh  \n",
       "             8.519e-04  \n"
      ]
     },
     "metadata": {},
     "output_type": "display_data"
    },
    {
     "data": {
      "text/plain": [
       "\n",
       "Call:\n",
       "lm(formula = Total.Claims ~ ln_pop + Budget + Total.Tax.Revenue + \n",
       "    Total.Programs + ces_score_median + TotalFirstYearGrosskWh, \n",
       "    data = cities)\n",
       "\n",
       "Coefficients:\n",
       "           (Intercept)                  ln_pop                  Budget  \n",
       "            -9.515e+02               8.805e+01              -1.198e-04  \n",
       "     Total.Tax.Revenue          Total.Programs        ces_score_median  \n",
       "            -3.514e-07               1.515e+02              -4.586e+00  \n",
       "TotalFirstYearGrosskWh  \n",
       "             8.641e-04  \n"
      ]
     },
     "metadata": {},
     "output_type": "display_data"
    }
   ],
   "source": [
    "#with coefficients\n",
    "\n",
    "#simple quartiles, even groups\n",
    "lm(Total.Claims ~ total_population + Budget + Total.Tax.Revenue + Total.Programs + ces_score_median + TotalFirstYearGrosskWh, data = cities_q1)\n",
    "lm(Total.Claims ~ total_population + Budget + Total.Tax.Revenue + Total.Programs + ces_score_median + TotalFirstYearGrosskWh, data = cities_q2)\n",
    "lm(Total.Claims ~ total_population + Budget + Total.Tax.Revenue + Total.Programs + ces_score_median + TotalFirstYearGrosskWh, data = cities_q3)\n",
    "lm(Total.Claims ~ total_population + Budget + Total.Tax.Revenue + Total.Programs + ces_score_median + TotalFirstYearGrosskWh, data = cities_q4)\n",
    "\n",
    "\n",
    "#roughly 1/4 of population intervals, uneven groups\n",
    "lm(Total.Claims ~ total_population + Budget + Total.Tax.Revenue + Total.Programs + ces_score_median + TotalFirstYearGrosskWh, data = cities_g1)\n",
    "lm(Total.Claims ~ total_population + Budget + Total.Tax.Revenue + Total.Programs + ces_score_median + TotalFirstYearGrosskWh, data = cities_g2)\n",
    "lm(Total.Claims ~ total_population + Budget + Total.Tax.Revenue + Total.Programs + ces_score_median + TotalFirstYearGrosskWh, data = cities_g3)\n",
    "lm(Total.Claims ~ total_population + Budget + Total.Tax.Revenue + Total.Programs + ces_score_median + TotalFirstYearGrosskWh, data = cities_g4)\n",
    "\n",
    "#roughly 1/4 of ln(population) intervals, uneven groups (helps correct skew for population)\n",
    "lm(Total.Claims ~ total_population + Budget + Total.Tax.Revenue + Total.Programs + ces_score_median + TotalFirstYearGrosskWh, data = cities_lnq1)\n",
    "lm(Total.Claims ~ total_population + Budget + Total.Tax.Revenue + Total.Programs + ces_score_median + TotalFirstYearGrosskWh, data = cities_lnq2)\n",
    "lm(Total.Claims ~ total_population + Budget + Total.Tax.Revenue + Total.Programs + ces_score_median + TotalFirstYearGrosskWh, data = cities_lnq3)\n",
    "lm(Total.Claims ~ total_population + Budget + Total.Tax.Revenue + Total.Programs + ces_score_median + TotalFirstYearGrosskWh, data = cities_lnq4)\n",
    "\n",
    "#normal ungrouped\n",
    "lm(Total.Claims ~ total_population + Budget + Total.Tax.Revenue + Total.Programs + ces_score_median + TotalFirstYearGrosskWh, data = cities)\n",
    "\n",
    "#ungrouped, with ln for helping with skew\n",
    "lm(Total.Claims ~ ln_pop + Budget + Total.Tax.Revenue + Total.Programs + ces_score_median + TotalFirstYearGrosskWh, data = cities)\n"
   ]
  },
  {
   "cell_type": "code",
   "execution_count": 112,
   "id": "6a5a135f",
   "metadata": {},
   "outputs": [
    {
     "data": {
      "text/plain": [
       "\n",
       "Call:\n",
       "lm(formula = Budget ~ ln_pop + Total.Tax.Revenue + ces_score_median + \n",
       "    median_household_income_usd + dac_proportion + ruca_average, \n",
       "    data = cities)\n",
       "\n",
       "Coefficients:\n",
       "                (Intercept)                       ln_pop  \n",
       "                 -3.059e+06                    3.303e+05  \n",
       "          Total.Tax.Revenue             ces_score_median  \n",
       "                  1.398e-03                   -1.911e+04  \n",
       "median_household_income_usd               dac_proportion  \n",
       "                 -1.397e+00                    2.370e+05  \n",
       "               ruca_average  \n",
       "                  1.392e+05  \n"
      ]
     },
     "metadata": {},
     "output_type": "display_data"
    },
    {
     "data": {
      "text/plain": [
       "\n",
       "Call:\n",
       "lm(formula = Budget ~ total_population + Total.Tax.Revenue + \n",
       "    ces_score_median + median_household_income_usd + dac_proportion + \n",
       "    ruca_average, data = cities)\n",
       "\n",
       "Coefficients:\n",
       "                (Intercept)             total_population  \n",
       "                  4.667e+05                   -1.525e+00  \n",
       "          Total.Tax.Revenue             ces_score_median  \n",
       "                  1.743e-03                   -6.547e+03  \n",
       "median_household_income_usd               dac_proportion  \n",
       "                 -1.252e+00                   -5.222e+03  \n",
       "               ruca_average  \n",
       "                  3.147e+04  \n"
      ]
     },
     "metadata": {},
     "output_type": "display_data"
    },
    {
     "data": {
      "text/plain": [
       "\n",
       "Call:\n",
       "lm(formula = Budget ~ total_population + Total.Tax.Revenue + \n",
       "    ces_score_median + median_household_income_usd + dac_proportion + \n",
       "    ruca_average, data = cities_lnq3)\n",
       "\n",
       "Coefficients:\n",
       "                (Intercept)             total_population  \n",
       "                  8.089e+04                    3.434e+00  \n",
       "          Total.Tax.Revenue             ces_score_median  \n",
       "                  8.365e-04                    1.688e+02  \n",
       "median_household_income_usd               dac_proportion  \n",
       "                 -1.557e+00                   -1.083e+05  \n",
       "               ruca_average  \n",
       "                  5.950e+04  \n"
      ]
     },
     "metadata": {},
     "output_type": "display_data"
    }
   ],
   "source": [
    "lm(Budget ~ ln_pop + Total.Tax.Revenue + ces_score_median + median_household_income_usd + dac_proportion + ruca_average, data = cities)\n",
    "lm(Budget ~ total_population + Total.Tax.Revenue + ces_score_median + median_household_income_usd + dac_proportion + ruca_average, data = cities)\n",
    "lm(Budget ~ total_population + Total.Tax.Revenue + ces_score_median + median_household_income_usd + dac_proportion + ruca_average, data = cities_lnq3)\n",
    "\n",
    "cities_narm = na.omit(cities)\n",
    "lm(Budget ~ total_population + Total.Tax.Revenue + ces_score_median + median_household_income_usd + dac_proportion + ruca_average, data = cities)\n"
   ]
  },
  {
   "cell_type": "code",
   "execution_count": 105,
   "id": "c09f3ee4",
   "metadata": {},
   "outputs": [
    {
     "data": {
      "text/plain": [
       "\n",
       "Call:\n",
       "lm(formula = Total.Tax.Revenue ~ poly(total_population, 4, raw = TRUE), \n",
       "    data = cities_nona)\n",
       "\n",
       "Residuals:\n",
       "       Min         1Q     Median         3Q        Max \n",
       "-2.967e+09 -6.929e+07 -1.644e+07  5.561e+07  8.746e+09 \n",
       "\n",
       "Coefficients:\n",
       "                                         Estimate Std. Error t value Pr(>|t|)\n",
       "(Intercept)                             1.215e+08  5.933e+07   2.048   0.0415\n",
       "poly(total_population, 4, raw = TRUE)1 -2.092e+03  1.156e+03  -1.811   0.0712\n",
       "poly(total_population, 4, raw = TRUE)2  2.095e-02  3.951e-03   5.304 2.27e-07\n",
       "poly(total_population, 4, raw = TRUE)3 -1.887e-08  3.807e-09  -4.957 1.22e-06\n",
       "poly(total_population, 4, raw = TRUE)4  4.715e-15  9.710e-16   4.855 1.97e-06\n",
       "                                          \n",
       "(Intercept)                            *  \n",
       "poly(total_population, 4, raw = TRUE)1 .  \n",
       "poly(total_population, 4, raw = TRUE)2 ***\n",
       "poly(total_population, 4, raw = TRUE)3 ***\n",
       "poly(total_population, 4, raw = TRUE)4 ***\n",
       "---\n",
       "Signif. codes:  0 '***' 0.001 '**' 0.01 '*' 0.05 '.' 0.1 ' ' 1\n",
       "\n",
       "Residual standard error: 600700000 on 288 degrees of freedom\n",
       "Multiple R-squared:  0.7475,\tAdjusted R-squared:  0.744 \n",
       "F-statistic: 213.2 on 4 and 288 DF,  p-value: < 2.2e-16\n"
      ]
     },
     "metadata": {},
     "output_type": "display_data"
    },
    {
     "data": {
      "image/png": "[encoded data removed]",
      "text/plain": [
       "plot without title"
      ]
     },
     "metadata": {},
     "output_type": "display_data"
    },
    {
     "data": {
      "text/html": [
       "<table>\n",
       "<thead><tr><th scope=col>SiteCity</th><th scope=col>TotalFirstYearGrosskWh</th><th scope=col>TotalFirstYearGrossTherm</th><th scope=col>TotalLifecycleGrosskWh</th><th scope=col>TotalLifecycleGrossTherm</th><th scope=col>Budget</th><th scope=col>Total.Claims</th><th scope=col>Total.Programs</th><th scope=col>X..OBF.Budget</th><th scope=col>X..Resource.Budget</th><th scope=col>dac_proportion</th><th scope=col>ces_score_median</th><th scope=col>ces_percentile_median</th><th scope=col>Total.Tax.Revenue</th><th scope=col>median_household_income_usd</th><th scope=col>total_population</th><th scope=col>ruca_average</th><th scope=col>ruca_median</th><th scope=col>pred</th></tr></thead>\n",
       "<tbody>\n",
       "\t<tr><td>ACAMPO         </td><td>   48664.727   </td><td>  -148.890330  </td><td>   583976.72   </td><td>-1.786684e+03  </td><td>1.768457e+04   </td><td>    6          </td><td>1              </td><td>  0.000000     </td><td>100            </td><td>0.00000000     </td><td>21.531463      </td><td>40.2825073     </td><td> 102967347     </td><td> 83913.0       </td><td>  9814         </td><td> 2             </td><td> 2             </td><td> 102967347     </td></tr>\n",
       "\t<tr><td>ADELANTO       </td><td>   13576.844   </td><td>   -30.037266  </td><td>    67884.22   </td><td>-1.501863e+02  </td><td>2.732006e+04   </td><td>    4          </td><td>1              </td><td>  0.000000     </td><td>100            </td><td>0.50000000     </td><td>35.908799      </td><td>68.4512549     </td><td>  23628867     </td><td> 45695.5       </td><td> 35179         </td><td> 1             </td><td> 1             </td><td>  73008134     </td></tr>\n",
       "\t<tr><td>ALAMO          </td><td>   73049.393   </td><td>   118.645240  </td><td>   684999.98   </td><td>-1.279097e+03  </td><td>4.878554e+04   </td><td>   15          </td><td>1              </td><td> 88.044896     </td><td>100            </td><td>0.00000000     </td><td> 2.175088      </td><td> 0.4161937     </td><td> 103715123     </td><td>219750.0       </td><td>  9373         </td><td> 1             </td><td> 1             </td><td> 103715123     </td></tr>\n",
       "\t<tr><td>ALBANY         </td><td>  153765.922   </td><td>  -785.076334  </td><td>   842200.61   </td><td>-4.288070e+03  </td><td>6.092619e+04   </td><td>   35          </td><td>2              </td><td>  0.000000     </td><td>100            </td><td>0.00000000     </td><td> 8.128606      </td><td> 8.7400681     </td><td>  57342690     </td><td>102361.0       </td><td> 16742         </td><td> 1             </td><td> 1             </td><td>  92255292     </td></tr>\n",
       "\t<tr><td>ALHAMBRA       </td><td>   21630.949   </td><td>   -32.172462  </td><td>   120233.35   </td><td>-1.788799e+02  </td><td>4.846545e+04   </td><td>    7          </td><td>1              </td><td>  0.000000     </td><td>100            </td><td>0.15000000     </td><td>33.702151      </td><td>66.1432715     </td><td> 154981924     </td><td> 59206.0       </td><td> 84647         </td><td> 1             </td><td> 1             </td><td>  83310858     </td></tr>\n",
       "\t<tr><td>ALTA           </td><td>     185.000   </td><td>     0.000000  </td><td>     2220.00   </td><td> 0.000000e+00  </td><td>1.283993e+01   </td><td>    1          </td><td>1              </td><td>  0.000000     </td><td>100            </td><td>0.00000000     </td><td>11.769621      </td><td>16.9378232     </td><td> 115547081     </td><td> 75563.0       </td><td>  2932         </td><td> 2             </td><td> 2             </td><td> 115547081     </td></tr>\n",
       "\t<tr><td>ALTADENA       </td><td>   21139.600   </td><td>     0.000000  </td><td>   253675.20   </td><td> 0.000000e+00  </td><td>1.436750e+04   </td><td>   15          </td><td>1              </td><td>  0.000000     </td><td>100            </td><td>0.00000000     </td><td>17.007650      </td><td>30.3695296     </td><td>  71619503     </td><td>101875.0       </td><td> 37326         </td><td> 1             </td><td> 1             </td><td>  71619503     </td></tr>\n",
       "\t<tr><td>AMERICAN CANYON</td><td>  246321.569   </td><td>  -390.571830  </td><td>  2569735.07   </td><td>-3.193531e+03  </td><td>1.136296e+05   </td><td>  737          </td><td>2              </td><td>  0.000000     </td><td>100            </td><td>0.00000000     </td><td>14.583999      </td><td>24.0131164     </td><td>  68336979     </td><td>104042.0       </td><td> 13352         </td><td> 1             </td><td> 1             </td><td>  97254563     </td></tr>\n",
       "\t<tr><td>ANAHEIM        </td><td>    2843.648   </td><td>    -1.635315  </td><td>    14302.67   </td><td>-8.226646e+00  </td><td>4.105068e+03   </td><td>    3          </td><td>1              </td><td>  0.000000     </td><td>100            </td><td>0.36666667     </td><td>34.963112      </td><td>68.3566654     </td><td>1004225482     </td><td> 66446.0       </td><td>347532         </td><td> 1             </td><td> 1             </td><td>1201718422     </td></tr>\n",
       "\t<tr><td>ANDERSON       </td><td>  153146.064   </td><td>  -137.865002  </td><td>  1627538.67   </td><td>-1.050015e+03  </td><td>1.622956e+05   </td><td>   18          </td><td>2              </td><td> 14.336812     </td><td>100            </td><td>0.00000000     </td><td>19.653113      </td><td>37.4259049     </td><td>  22567917     </td><td> 47839.0       </td><td> 23258         </td><td> 2             </td><td> 2             </td><td>  83934158     </td></tr>\n",
       "\t<tr><td>ANGELS CAMP    </td><td>   34384.047   </td><td>  -285.907260  </td><td>   367388.02   </td><td>-3.469583e+03  </td><td>1.868783e+04   </td><td>    8          </td><td>2              </td><td>  0.000000     </td><td>100            </td><td>0.00000000     </td><td>16.311317      </td><td>28.5660235     </td><td> 112541410     </td><td> 54840.0       </td><td>  4483         </td><td> 7             </td><td> 7             </td><td> 112541410     </td></tr>\n",
       "\t<tr><td>ANGWIN         </td><td>   12649.272   </td><td>  -112.632110  </td><td>   123444.93   </td><td>-1.114692e+03  </td><td>5.444598e+03   </td><td>    3          </td><td>1              </td><td>  0.000000     </td><td>100            </td><td>0.00000000     </td><td>11.212725      </td><td>15.5252869     </td><td> 111020693     </td><td> 96705.0       </td><td>  5288         </td><td>10             </td><td>10             </td><td> 111020693     </td></tr>\n",
       "\t<tr><td>ANTIOCH        </td><td> 1090279.854   </td><td> -1526.251700  </td><td> 12105645.50   </td><td>-1.684351e+04  </td><td>7.551857e+05   </td><td>  401          </td><td>2              </td><td> 75.689953     </td><td>100            </td><td>0.05555556     </td><td>27.354173      </td><td>54.3574221     </td><td> 156004836     </td><td> 76397.0       </td><td>112354         </td><td> 1             </td><td> 1             </td><td> 124894836     </td></tr>\n",
       "\t<tr><td>APPLE VALLEY   </td><td>  212224.590   </td><td>  -220.077000  </td><td>  2514589.72   </td><td>-2.640924e+03  </td><td>2.066934e+05   </td><td>   20          </td><td>1              </td><td>100.000000     </td><td>100            </td><td>0.00000000     </td><td>19.926532      </td><td>38.1132551     </td><td>  81839215     </td><td> 52921.0       </td><td> 80949         </td><td> 2             </td><td> 2             </td><td>  79613383     </td></tr>\n",
       "\t<tr><td>APTOS          </td><td>  344026.491   </td><td> -3084.893000  </td><td>  2726986.26   </td><td>-2.401710e+04  </td><td>1.936633e+05   </td><td>   40          </td><td>2              </td><td> 22.024012     </td><td>100            </td><td>0.00000000     </td><td> 5.820022      </td><td> 4.3006684     </td><td>  75780505     </td><td>102500.0       </td><td> 31518         </td><td> 1             </td><td> 1             </td><td>  75780505     </td></tr>\n",
       "\t<tr><td>ARBUCKLE       </td><td>   47268.900   </td><td>     0.000000  </td><td>   224039.09   </td><td> 0.000000e+00  </td><td>4.536920e+04   </td><td>    2          </td><td>1              </td><td>  0.000000     </td><td>100            </td><td>0.00000000     </td><td>27.468901      </td><td>54.7483920     </td><td> 110351144     </td><td> 65238.0       </td><td>  5647         </td><td> 7             </td><td> 7             </td><td> 110351144     </td></tr>\n",
       "\t<tr><td>ARCADIA        </td><td>   72342.810   </td><td>     0.000000  </td><td>   868113.72   </td><td> 0.000000e+00  </td><td>4.084320e+04   </td><td>    2          </td><td>1              </td><td>  0.000000     </td><td>100            </td><td>0.00000000     </td><td>17.104204      </td><td>30.6911338     </td><td> 152549526     </td><td> 92807.0       </td><td> 69373         </td><td> 1             </td><td> 1             </td><td>  70990582     </td></tr>\n",
       "\t<tr><td>ARCATA         </td><td>  582409.920   </td><td> -1503.710973  </td><td>  5108532.13   </td><td>-1.309961e+04  </td><td>5.878760e+05   </td><td>  451          </td><td>2              </td><td>  2.829559     </td><td>100            </td><td>0.00000000     </td><td>24.236442      </td><td>48.2280237     </td><td>  34193557     </td><td> 39178.0       </td><td> 14499         </td><td> 4             </td><td> 4             </td><td>  95511311     </td></tr>\n",
       "\t<tr><td>ARNOLD         </td><td>    1858.720   </td><td>   -12.782340  </td><td>    16991.49   </td><td>-1.195299e+02  </td><td>1.547710e+03   </td><td>    4          </td><td>1              </td><td>  0.000000     </td><td>100            </td><td>0.00000000     </td><td>10.517659      </td><td>14.3839072     </td><td> 112197149     </td><td> 64291.0       </td><td>  4664         </td><td>10             </td><td>10             </td><td> 112197149     </td></tr>\n",
       "\t<tr><td>ARROYO GRANDE  </td><td>  282692.117   </td><td> -1218.986047  </td><td>  3238651.53   </td><td>-1.542325e+04  </td><td>1.418932e+05   </td><td>   94          </td><td>2              </td><td>  0.000000     </td><td>100            </td><td>0.00000000     </td><td> 6.814271      </td><td> 6.1798461     </td><td>  43882463     </td><td> 89204.5       </td><td> 25014         </td><td> 2             </td><td> 2             </td><td>  81978425     </td></tr>\n",
       "\t<tr><td>ARVIN          </td><td>  235985.141   </td><td> -1118.218930  </td><td>  2525115.52   </td><td>-1.256476e+04  </td><td>9.910511e+04   </td><td>   69          </td><td>1              </td><td> 29.568138     </td><td>100            </td><td>0.50000000     </td><td>40.310553      </td><td>76.3778534     </td><td>  15759971     </td><td> 37428.0       </td><td> 22818         </td><td> 4             </td><td> 4             </td><td>  84443170     </td></tr>\n",
       "\t<tr><td>ATASCADERO     </td><td>  487560.549   </td><td> -2199.857894  </td><td>  5412426.59   </td><td>-2.666747e+04  </td><td>2.541993e+05   </td><td>  328          </td><td>2              </td><td>  2.286542     </td><td>100            </td><td>0.00000000     </td><td> 8.137026      </td><td> 9.2508513     </td><td>  60949355     </td><td> 73061.0       </td><td> 25335         </td><td> 1             </td><td> 1             </td><td>  81633969     </td></tr>\n",
       "\t<tr><td>ATHERTON       </td><td>    1010.000   </td><td>     0.000000  </td><td>    12120.00   </td><td> 0.000000e+00  </td><td>7.214905e+02   </td><td>    4          </td><td>1              </td><td>  0.000000     </td><td>100            </td><td>0.00000000     </td><td> 5.577918      </td><td> 5.2213394     </td><td>  46121910     </td><td>      NA       </td><td>  7168         </td><td> 1             </td><td> 1             </td><td> 107573363     </td></tr>\n",
       "\t<tr><td>ATWATER        </td><td>  388888.985   </td><td>  -143.429041  </td><td>  4587367.54   </td><td>-1.095302e+03  </td><td>5.192116e+05   </td><td> 1443          </td><td>3              </td><td> 85.562858     </td><td>100            </td><td>0.50000000     </td><td>40.489842      </td><td>76.5733384     </td><td>  35304215     </td><td> 55891.0       </td><td> 40011         </td><td> 1             </td><td> 1             </td><td>  70127722     </td></tr>\n",
       "\t<tr><td>AUBURN         </td><td>  215833.162   </td><td> -1196.428420  </td><td>  2183727.16   </td><td>-1.287044e+04  </td><td>2.228603e+05   </td><td>  152          </td><td>3              </td><td>  9.113390     </td><td>100            </td><td>0.00000000     </td><td>13.284183      </td><td>20.8286039     </td><td>  34441547     </td><td> 76104.5       </td><td> 44187         </td><td> 3             </td><td> 3             </td><td>  68343515     </td></tr>\n",
       "\t<tr><td>BAKERSFIELD    </td><td>15559277.602   </td><td>-50313.143735  </td><td>159663794.85   </td><td>-5.303483e+05  </td><td>6.153283e+06   </td><td>18643          </td><td>2              </td><td>  7.219450     </td><td>100            </td><td>0.49450549     </td><td>38.599740      </td><td>73.9185269     </td><td> 547373792     </td><td> 53187.0       </td><td>557492         </td><td> 1             </td><td> 1             </td><td>2653027422     </td></tr>\n",
       "\t<tr><td>BALDWIN PARK   </td><td>  681793.856   </td><td>   -23.228872  </td><td>  8072173.98   </td><td>-1.161444e+02  </td><td>4.227689e+05   </td><td>   10          </td><td>1              </td><td>  4.412624     </td><td>100            </td><td>0.94117647     </td><td>53.149054      </td><td>91.6635137     </td><td>  87887248     </td><td> 66316.0       </td><td> 75905         </td><td> 1             </td><td> 1             </td><td>  75301167     </td></tr>\n",
       "\t<tr><td>BARSTOW        </td><td>  193153.723   </td><td>   -61.421850  </td><td>   889673.24   </td><td>-3.071093e+02  </td><td>1.729440e+05   </td><td>   12          </td><td>1              </td><td> 11.943600     </td><td>100            </td><td>0.66666667     </td><td>46.052962      </td><td>84.1278850     </td><td>  67996702     </td><td> 41909.5       </td><td> 31403         </td><td> 4             </td><td> 4             </td><td>  75875899     </td></tr>\n",
       "\t<tr><td>BAYSIDE        </td><td>    6071.043   </td><td>  -122.335286  </td><td>    78559.35   </td><td>-1.647142e+03  </td><td>7.783888e+03   </td><td>   41          </td><td>1              </td><td>  0.000000     </td><td>100            </td><td>0.00000000     </td><td>12.013815      </td><td>17.5936436     </td><td> 111131239     </td><td> 61554.0       </td><td>  5229         </td><td> 4             </td><td> 4             </td><td> 111131239     </td></tr>\n",
       "\t<tr><td>BELMONT        </td><td>  151204.076   </td><td>     0.000000  </td><td>  1625603.91   </td><td> 0.000000e+00  </td><td>1.161132e+05   </td><td>   10          </td><td>2              </td><td>  0.000000     </td><td>100            </td><td>0.00000000     </td><td> 8.604714      </td><td>10.0012612     </td><td>  83965540     </td><td>143295.0       </td><td> 27359         </td><td> 1             </td><td> 1             </td><td>  79554650     </td></tr>\n",
       "\t<tr><td>...</td><td>...</td><td>...</td><td>...</td><td>...</td><td>...</td><td>...</td><td>...</td><td>...</td><td>...</td><td>...</td><td>...</td><td>...</td><td>...</td><td>...</td><td>...</td><td>...</td><td>...</td><td>...</td></tr>\n",
       "\t<tr><td>TUSTIN                </td><td>   5827.094           </td><td>     0.000000         </td><td>   69925.128          </td><td> 0.000000e+00         </td><td>   2353.143           </td><td>   4                  </td><td>2                     </td><td>  0.000000            </td><td>100                   </td><td>0.0000000             </td><td>22.628340             </td><td>44.39400              </td><td>159816348             </td><td> 88761.0              </td><td> 88473                </td><td> 1                    </td><td> 1                    </td><td> 87607323             </td></tr>\n",
       "\t<tr><td>UKIAH                 </td><td> 231261.237           </td><td>  -972.201278         </td><td> 2468965.392          </td><td>-1.062975e+04         </td><td> 170084.465           </td><td>  28                  </td><td>2                     </td><td>  0.000000            </td><td>100                   </td><td>0.0000000             </td><td>24.680632             </td><td>49.31265              </td><td> 50276065             </td><td> 49135.0              </td><td> 26453                </td><td> 4                    </td><td> 4                    </td><td> 80465681             </td></tr>\n",
       "\t<tr><td>UNION CITY            </td><td> 365581.346           </td><td> -1184.975200         </td><td> 3738122.759          </td><td>-1.223676e+04         </td><td> 249485.945           </td><td> 977                  </td><td>2                     </td><td> 36.665549            </td><td>100                   </td><td>0.1250000             </td><td>23.399884             </td><td>46.09030              </td><td>154635136             </td><td>116875.0              </td><td> 81064                </td><td> 1                    </td><td> 1                    </td><td> 79721572             </td></tr>\n",
       "\t<tr><td>VACAVILLE             </td><td>4863504.318           </td><td>-10956.180420         </td><td>49640437.810          </td><td>-1.041438e+05         </td><td>2187779.377           </td><td>3044                  </td><td>4                     </td><td> 24.261370            </td><td>100                   </td><td>0.0000000             </td><td>17.037000             </td><td>30.50826              </td><td>261334918             </td><td> 94659.0              </td><td>106828                </td><td> 2                    </td><td> 2                    </td><td>114699919             </td></tr>\n",
       "\t<tr><td>VALENCIA              </td><td>  16728.000           </td><td>     0.000000         </td><td>  200736.000          </td><td> 0.000000e+00         </td><td>   9729.724           </td><td>   4                  </td><td>1                     </td><td>  0.000000            </td><td>100                   </td><td>0.0000000             </td><td>13.687964             </td><td>21.69252              </td><td> 71499336             </td><td>111042.0              </td><td> 70275                </td><td> 2                    </td><td> 2                    </td><td> 71499336             </td></tr>\n",
       "\t<tr><td>VALLEJO               </td><td>1609408.462           </td><td> -8678.151142         </td><td>16584409.789          </td><td>-8.431018e+04         </td><td> 894711.652           </td><td>1327                  </td><td>3                     </td><td>  8.041261            </td><td>100                   </td><td>0.1612903             </td><td>24.294817             </td><td>48.45504              </td><td>263619424             </td><td> 70417.0              </td><td>122876                </td><td> 1                    </td><td> 1                    </td><td>146817213             </td></tr>\n",
       "\t<tr><td>VALLEY SPRINGS        </td><td>  18282.886           </td><td>  -103.954140         </td><td>  202166.540          </td><td>-1.146682e+03         </td><td>  19284.465           </td><td>   4                  </td><td>1                     </td><td>  7.307333            </td><td>100                   </td><td>0.0000000             </td><td>20.839729             </td><td>40.04919              </td><td> 90660000             </td><td> 72865.0              </td><td> 17895                </td><td> 3                    </td><td> 3                    </td><td> 90660000             </td></tr>\n",
       "\t<tr><td>VENTURA               </td><td> 906599.361           </td><td> 36753.986211         </td><td>13021453.006          </td><td> 5.882443e+05         </td><td> 823356.769           </td><td>   9                  </td><td>1                     </td><td>  0.000000            </td><td>100                   </td><td>0.0800000             </td><td>19.782110             </td><td>37.81057              </td><td>278789652             </td><td> 78115.0              </td><td>109566                </td><td> 2                    </td><td> 2                    </td><td>119636069             </td></tr>\n",
       "\t<tr><td>VICTORVILLE           </td><td>  94067.205           </td><td>  -139.934243         </td><td>  821031.220          </td><td>-1.134987e+03         </td><td> 301762.674           </td><td>  36                  </td><td>2                     </td><td>  0.000000            </td><td>100                   </td><td>0.1875000             </td><td>33.144406             </td><td>65.16585              </td><td>170667834             </td><td> 54880.0              </td><td>135177                </td><td> 1                    </td><td> 1                    </td><td>176487574             </td></tr>\n",
       "\t<tr><td>VISALIA               </td><td>6415752.218           </td><td>  -156.654055         </td><td>95919140.935          </td><td>-1.215585e+03         </td><td> 948406.234           </td><td>  21                  </td><td>1                     </td><td>  0.000000            </td><td>100                   </td><td>0.3333333             </td><td>33.892561             </td><td>66.44596              </td><td>269522684             </td><td> 58713.0              </td><td>159505                </td><td> 1                    </td><td> 1                    </td><td>247307486             </td></tr>\n",
       "\t<tr><td>WALNUT CREEK          </td><td> 204788.533           </td><td>  -666.510275         </td><td> 1825942.537          </td><td>-6.322205e+03         </td><td> 149316.048           </td><td> 545                  </td><td>1                     </td><td> 12.360452            </td><td>100                   </td><td>0.0000000             </td><td> 9.048854             </td><td>10.94716              </td><td>183611285             </td><td>122536.5              </td><td> 97658                </td><td> 1                    </td><td> 1                    </td><td> 99842736             </td></tr>\n",
       "\t<tr><td>WASCO                 </td><td> 220766.300           </td><td> -1312.783465         </td><td> 2062786.252          </td><td>-1.093575e+04         </td><td>  89943.986           </td><td>  50                  </td><td>1                     </td><td>  0.000000            </td><td>100                   </td><td>0.5000000             </td><td>48.116924             </td><td>86.84576              </td><td> 23647051             </td><td> 43879.0              </td><td> 27297                </td><td> 4                    </td><td> 4                    </td><td> 79615977             </td></tr>\n",
       "\t<tr><td>WATSONVILLE           </td><td>2835102.842           </td><td>-13809.312024         </td><td>24891487.447          </td><td>-1.209793e+05         </td><td>1534907.835           </td><td> 289                  </td><td>2                     </td><td> 54.134642            </td><td>100                   </td><td>0.1333333             </td><td>22.839320             </td><td>44.74713              </td><td>115522757             </td><td> 68214.0              </td><td> 88671                </td><td> 2                    </td><td> 2                    </td><td> 87842600             </td></tr>\n",
       "\t<tr><td>WEST COVINA           </td><td>      0.000           </td><td>     0.000000         </td><td>       0.000          </td><td> 0.000000e+00         </td><td> 134816.996           </td><td>   1                  </td><td>1                     </td><td>  0.000000            </td><td>100                   </td><td>0.1666667             </td><td>31.516248             </td><td>62.27141              </td><td>167832707             </td><td> 88330.5              </td><td>104339                </td><td> 1                    </td><td> 1                    </td><td>110410743             </td></tr>\n",
       "\t<tr><td>WEST HOLLYWOOD        </td><td>  19595.552           </td><td>   -29.137733         </td><td>   97977.758          </td><td>-1.456887e+02         </td><td>  48607.495           </td><td>   8                  </td><td>1                     </td><td>  0.000000            </td><td>100                   </td><td>0.0000000             </td><td>19.076481             </td><td>35.98184              </td><td>221253537             </td><td> 94315.0              </td><td> 20977                </td><td> 1                    </td><td> 1                    </td><td> 86655658             </td></tr>\n",
       "\t<tr><td>WEST SACRAMENTO       </td><td> 413489.928           </td><td> -1424.598080         </td><td> 4150214.539          </td><td>-1.576023e+04         </td><td> 258486.191           </td><td>  64                  </td><td>2                     </td><td> 46.964692            </td><td>100                   </td><td>0.3750000             </td><td>29.459993             </td><td>57.86984              </td><td>202036329             </td><td> 82773.5              </td><td> 45454                </td><td> 1                    </td><td> 1                    </td><td> 67930179             </td></tr>\n",
       "\t<tr><td>WESTLAKE VILLAGE      </td><td>   1275.989           </td><td>    -1.897341         </td><td>    6379.947          </td><td>-9.486704e+00         </td><td>   2837.905           </td><td>   1                  </td><td>1                     </td><td>  0.000000            </td><td>100                   </td><td>0.0000000             </td><td>11.599060             </td><td>16.44596              </td><td> 37535299             </td><td>110840.5              </td><td> 17146                </td><td> 1                    </td><td> 1                    </td><td> 91690270             </td></tr>\n",
       "\t<tr><td>WHEATLAND             </td><td>  39460.000           </td><td>     0.000000         </td><td>  473520.000          </td><td> 0.000000e+00         </td><td>   2665.750           </td><td> 206                  </td><td>1                     </td><td>  0.000000            </td><td>100                   </td><td>0.0000000             </td><td>25.751947             </td><td>51.24228              </td><td>  6414899             </td><td> 77303.0              </td><td>  4652                </td><td> 2                    </td><td> 2                    </td><td>112219931             </td></tr>\n",
       "\t<tr><td>WHITTIER              </td><td>  46504.620           </td><td>    -8.910000         </td><td>  580959.810          </td><td>-1.039500e+02         </td><td>  27780.550           </td><td>   4                  </td><td>1                     </td><td>  0.000000            </td><td>100                   </td><td>0.4000000             </td><td>36.514810             </td><td>70.86013              </td><td>129417527             </td><td> 74819.0              </td><td>183516                </td><td> 1                    </td><td> 1                    </td><td>331888330             </td></tr>\n",
       "\t<tr><td>WILDOMAR              </td><td>   5019.631           </td><td>    -4.370541         </td><td>   25098.157          </td><td>-2.185271e+01         </td><td>  12383.844           </td><td>  11                  </td><td>1                     </td><td>  0.000000            </td><td>100                   </td><td>0.0000000             </td><td>22.919263             </td><td>45.02459              </td><td> 29236953             </td><td> 85335.0              </td><td> 34552                </td><td> 1                    </td><td> 1                    </td><td> 73446657             </td></tr>\n",
       "\t<tr><td>WILLIAMS              </td><td> 146558.795           </td><td>  -457.497807         </td><td> 1705506.645          </td><td>-5.271709e+03         </td><td>  68066.728           </td><td>   7                  </td><td>1                     </td><td> 31.933875            </td><td>100                   </td><td>0.0000000             </td><td>25.818314             </td><td>51.40623              </td><td> 11785217             </td><td> 66143.0              </td><td>  5963                </td><td> 8                    </td><td> 8                    </td><td>109766194             </td></tr>\n",
       "\t<tr><td>WILLITS               </td><td> 188872.042           </td><td> -1473.399907         </td><td> 1970209.169          </td><td>-1.462794e+04         </td><td> 148690.594           </td><td>  20                  </td><td>1                     </td><td>  0.000000            </td><td>100                   </td><td>0.0000000             </td><td>19.926429             </td><td>37.74120              </td><td> 12618622             </td><td> 47007.0              </td><td> 12690                </td><td> 7                    </td><td> 7                    </td><td> 98284877             </td></tr>\n",
       "\t<tr><td>WILLOWS               </td><td>  21903.579           </td><td>  -109.890000         </td><td>  210352.945          </td><td>-1.016690e+03         </td><td>  24265.411           </td><td>   7                  </td><td>1                     </td><td> 54.445338            </td><td>100                   </td><td>0.0000000             </td><td>35.116725             </td><td>68.63413              </td><td> 10963024             </td><td> 44004.0              </td><td>  7118                </td><td> 7                    </td><td> 7                    </td><td>107663163             </td></tr>\n",
       "\t<tr><td>WINDSOR               </td><td> 436177.680           </td><td>  -893.196338         </td><td> 5060097.443          </td><td>-9.490149e+03         </td><td> 112789.169           </td><td>1386                  </td><td>2                     </td><td>  0.000000            </td><td>100                   </td><td>0.0000000             </td><td>16.089307             </td><td>28.23811              </td><td> 50138809             </td><td>105544.0              </td><td> 21434                </td><td> 1                    </td><td> 1                    </td><td> 86093959             </td></tr>\n",
       "\t<tr><td>WINTON                </td><td>   2775.000           </td><td>     0.000000         </td><td>   33300.000          </td><td> 0.000000e+00         </td><td>   9236.817           </td><td>  29                  </td><td>2                     </td><td> 99.860992            </td><td>100                   </td><td>1.0000000             </td><td>42.836518             </td><td>79.97856              </td><td>102990964             </td><td> 48057.5              </td><td>  9800                </td><td> 1                    </td><td> 1                    </td><td>102990964             </td></tr>\n",
       "\t<tr><td>WOODLAND              </td><td> 526910.058           </td><td>  -288.682189         </td><td> 5986636.618          </td><td>-3.137043e+03         </td><td> 278715.826           </td><td> 358                  </td><td>2                     </td><td>  9.537819            </td><td>100                   </td><td>0.0000000             </td><td>19.031411             </td><td>35.86833              </td><td>134378568             </td><td> 71184.0              </td><td> 68805                </td><td> 1                    </td><td> 1                    </td><td> 70684538             </td></tr>\n",
       "\t<tr><td>YORBA LINDA           </td><td> 100589.028           </td><td>   -23.217678         </td><td> 1207068.336          </td><td>-2.786121e+02         </td><td> 230594.634           </td><td>  12                  </td><td>1                     </td><td>100.000000            </td><td>100                   </td><td>0.0000000             </td><td>14.379302             </td><td>23.43297              </td><td>108191037             </td><td>137520.5              </td><td> 63982                </td><td> 1                    </td><td> 1                    </td><td> 68534818             </td></tr>\n",
       "\t<tr><td>YOSEMITE NATIONAL PARK</td><td>   8894.000           </td><td>   -51.060000         </td><td>   78267.200          </td><td>-4.493280e+02         </td><td>  18234.383           </td><td>   4                  </td><td>1                     </td><td>  0.000000            </td><td>100                   </td><td>0.0000000             </td><td>20.147691             </td><td>38.74385              </td><td>118001775             </td><td> 55994.0              </td><td>  1702                </td><td>10                    </td><td>10                    </td><td>118001775             </td></tr>\n",
       "\t<tr><td>YOUNTVILLE            </td><td>  16598.672           </td><td>   -37.547000         </td><td>  158077.851          </td><td>-2.580966e+02         </td><td>   4901.835           </td><td>  57                  </td><td>2                     </td><td>  0.000000            </td><td>100                   </td><td>0.0000000             </td><td>10.848488             </td><td>14.90730              </td><td> 32212771             </td><td> 69300.0              </td><td>  2987                </td><td> 7                    </td><td> 7                    </td><td>115438789             </td></tr>\n",
       "\t<tr><td>YUBA CITY             </td><td> 898299.607           </td><td> -1693.655181         </td><td> 9530011.210          </td><td>-2.074677e+04         </td><td> 637530.086           </td><td> 450                  </td><td>3                     </td><td> 25.822801            </td><td>100                   </td><td>0.0625000             </td><td>25.733873             </td><td>51.23597              </td><td> 95292052             </td><td> 60333.5              </td><td> 77902                </td><td> 2                    </td><td> 2                    </td><td> 76906845             </td></tr>\n",
       "</tbody>\n",
       "</table>\n"
      ],
      "text/latex": [
       "\\begin{tabular}{r|lllllllllllllllllll}\n",
       " SiteCity & TotalFirstYearGrosskWh & TotalFirstYearGrossTherm & TotalLifecycleGrosskWh & TotalLifecycleGrossTherm & Budget & Total.Claims & Total.Programs & X..OBF.Budget & X..Resource.Budget & dac\\_proportion & ces\\_score\\_median & ces\\_percentile\\_median & Total.Tax.Revenue & median\\_household\\_income\\_usd & total\\_population & ruca\\_average & ruca\\_median & pred\\\\\n",
       "\\hline\n",
       "\t ACAMPO          &    48664.727    &   -148.890330   &    583976.72    & -1.786684e+03   & 1.768457e+04    &     6           & 1               &   0.000000      & 100             & 0.00000000      & 21.531463       & 40.2825073      &  102967347      &  83913.0        &   9814          &  2              &  2              &  102967347     \\\\\n",
       "\t ADELANTO        &    13576.844    &    -30.037266   &     67884.22    & -1.501863e+02   & 2.732006e+04    &     4           & 1               &   0.000000      & 100             & 0.50000000      & 35.908799       & 68.4512549      &   23628867      &  45695.5        &  35179          &  1              &  1              &   73008134     \\\\\n",
       "\t ALAMO           &    73049.393    &    118.645240   &    684999.98    & -1.279097e+03   & 4.878554e+04    &    15           & 1               &  88.044896      & 100             & 0.00000000      &  2.175088       &  0.4161937      &  103715123      & 219750.0        &   9373          &  1              &  1              &  103715123     \\\\\n",
       "\t ALBANY          &   153765.922    &   -785.076334   &    842200.61    & -4.288070e+03   & 6.092619e+04    &    35           & 2               &   0.000000      & 100             & 0.00000000      &  8.128606       &  8.7400681      &   57342690      & 102361.0        &  16742          &  1              &  1              &   92255292     \\\\\n",
       "\t ALHAMBRA        &    21630.949    &    -32.172462   &    120233.35    & -1.788799e+02   & 4.846545e+04    &     7           & 1               &   0.000000      & 100             & 0.15000000      & 33.702151       & 66.1432715      &  154981924      &  59206.0        &  84647          &  1              &  1              &   83310858     \\\\\n",
       "\t ALTA            &      185.000    &      0.000000   &      2220.00    &  0.000000e+00   & 1.283993e+01    &     1           & 1               &   0.000000      & 100             & 0.00000000      & 11.769621       & 16.9378232      &  115547081      &  75563.0        &   2932          &  2              &  2              &  115547081     \\\\\n",
       "\t ALTADENA        &    21139.600    &      0.000000   &    253675.20    &  0.000000e+00   & 1.436750e+04    &    15           & 1               &   0.000000      & 100             & 0.00000000      & 17.007650       & 30.3695296      &   71619503      & 101875.0        &  37326          &  1              &  1              &   71619503     \\\\\n",
       "\t AMERICAN CANYON &   246321.569    &   -390.571830   &   2569735.07    & -3.193531e+03   & 1.136296e+05    &   737           & 2               &   0.000000      & 100             & 0.00000000      & 14.583999       & 24.0131164      &   68336979      & 104042.0        &  13352          &  1              &  1              &   97254563     \\\\\n",
       "\t ANAHEIM         &     2843.648    &     -1.635315   &     14302.67    & -8.226646e+00   & 4.105068e+03    &     3           & 1               &   0.000000      & 100             & 0.36666667      & 34.963112       & 68.3566654      & 1004225482      &  66446.0        & 347532          &  1              &  1              & 1201718422     \\\\\n",
       "\t ANDERSON        &   153146.064    &   -137.865002   &   1627538.67    & -1.050015e+03   & 1.622956e+05    &    18           & 2               &  14.336812      & 100             & 0.00000000      & 19.653113       & 37.4259049      &   22567917      &  47839.0        &  23258          &  2              &  2              &   83934158     \\\\\n",
       "\t ANGELS CAMP     &    34384.047    &   -285.907260   &    367388.02    & -3.469583e+03   & 1.868783e+04    &     8           & 2               &   0.000000      & 100             & 0.00000000      & 16.311317       & 28.5660235      &  112541410      &  54840.0        &   4483          &  7              &  7              &  112541410     \\\\\n",
       "\t ANGWIN          &    12649.272    &   -112.632110   &    123444.93    & -1.114692e+03   & 5.444598e+03    &     3           & 1               &   0.000000      & 100             & 0.00000000      & 11.212725       & 15.5252869      &  111020693      &  96705.0        &   5288          & 10              & 10              &  111020693     \\\\\n",
       "\t ANTIOCH         &  1090279.854    &  -1526.251700   &  12105645.50    & -1.684351e+04   & 7.551857e+05    &   401           & 2               &  75.689953      & 100             & 0.05555556      & 27.354173       & 54.3574221      &  156004836      &  76397.0        & 112354          &  1              &  1              &  124894836     \\\\\n",
       "\t APPLE VALLEY    &   212224.590    &   -220.077000   &   2514589.72    & -2.640924e+03   & 2.066934e+05    &    20           & 1               & 100.000000      & 100             & 0.00000000      & 19.926532       & 38.1132551      &   81839215      &  52921.0        &  80949          &  2              &  2              &   79613383     \\\\\n",
       "\t APTOS           &   344026.491    &  -3084.893000   &   2726986.26    & -2.401710e+04   & 1.936633e+05    &    40           & 2               &  22.024012      & 100             & 0.00000000      &  5.820022       &  4.3006684      &   75780505      & 102500.0        &  31518          &  1              &  1              &   75780505     \\\\\n",
       "\t ARBUCKLE        &    47268.900    &      0.000000   &    224039.09    &  0.000000e+00   & 4.536920e+04    &     2           & 1               &   0.000000      & 100             & 0.00000000      & 27.468901       & 54.7483920      &  110351144      &  65238.0        &   5647          &  7              &  7              &  110351144     \\\\\n",
       "\t ARCADIA         &    72342.810    &      0.000000   &    868113.72    &  0.000000e+00   & 4.084320e+04    &     2           & 1               &   0.000000      & 100             & 0.00000000      & 17.104204       & 30.6911338      &  152549526      &  92807.0        &  69373          &  1              &  1              &   70990582     \\\\\n",
       "\t ARCATA          &   582409.920    &  -1503.710973   &   5108532.13    & -1.309961e+04   & 5.878760e+05    &   451           & 2               &   2.829559      & 100             & 0.00000000      & 24.236442       & 48.2280237      &   34193557      &  39178.0        &  14499          &  4              &  4              &   95511311     \\\\\n",
       "\t ARNOLD          &     1858.720    &    -12.782340   &     16991.49    & -1.195299e+02   & 1.547710e+03    &     4           & 1               &   0.000000      & 100             & 0.00000000      & 10.517659       & 14.3839072      &  112197149      &  64291.0        &   4664          & 10              & 10              &  112197149     \\\\\n",
       "\t ARROYO GRANDE   &   282692.117    &  -1218.986047   &   3238651.53    & -1.542325e+04   & 1.418932e+05    &    94           & 2               &   0.000000      & 100             & 0.00000000      &  6.814271       &  6.1798461      &   43882463      &  89204.5        &  25014          &  2              &  2              &   81978425     \\\\\n",
       "\t ARVIN           &   235985.141    &  -1118.218930   &   2525115.52    & -1.256476e+04   & 9.910511e+04    &    69           & 1               &  29.568138      & 100             & 0.50000000      & 40.310553       & 76.3778534      &   15759971      &  37428.0        &  22818          &  4              &  4              &   84443170     \\\\\n",
       "\t ATASCADERO      &   487560.549    &  -2199.857894   &   5412426.59    & -2.666747e+04   & 2.541993e+05    &   328           & 2               &   2.286542      & 100             & 0.00000000      &  8.137026       &  9.2508513      &   60949355      &  73061.0        &  25335          &  1              &  1              &   81633969     \\\\\n",
       "\t ATHERTON        &     1010.000    &      0.000000   &     12120.00    &  0.000000e+00   & 7.214905e+02    &     4           & 1               &   0.000000      & 100             & 0.00000000      &  5.577918       &  5.2213394      &   46121910      &       NA        &   7168          &  1              &  1              &  107573363     \\\\\n",
       "\t ATWATER         &   388888.985    &   -143.429041   &   4587367.54    & -1.095302e+03   & 5.192116e+05    &  1443           & 3               &  85.562858      & 100             & 0.50000000      & 40.489842       & 76.5733384      &   35304215      &  55891.0        &  40011          &  1              &  1              &   70127722     \\\\\n",
       "\t AUBURN          &   215833.162    &  -1196.428420   &   2183727.16    & -1.287044e+04   & 2.228603e+05    &   152           & 3               &   9.113390      & 100             & 0.00000000      & 13.284183       & 20.8286039      &   34441547      &  76104.5        &  44187          &  3              &  3              &   68343515     \\\\\n",
       "\t BAKERSFIELD     & 15559277.602    & -50313.143735   & 159663794.85    & -5.303483e+05   & 6.153283e+06    & 18643           & 2               &   7.219450      & 100             & 0.49450549      & 38.599740       & 73.9185269      &  547373792      &  53187.0        & 557492          &  1              &  1              & 2653027422     \\\\\n",
       "\t BALDWIN PARK    &   681793.856    &    -23.228872   &   8072173.98    & -1.161444e+02   & 4.227689e+05    &    10           & 1               &   4.412624      & 100             & 0.94117647      & 53.149054       & 91.6635137      &   87887248      &  66316.0        &  75905          &  1              &  1              &   75301167     \\\\\n",
       "\t BARSTOW         &   193153.723    &    -61.421850   &    889673.24    & -3.071093e+02   & 1.729440e+05    &    12           & 1               &  11.943600      & 100             & 0.66666667      & 46.052962       & 84.1278850      &   67996702      &  41909.5        &  31403          &  4              &  4              &   75875899     \\\\\n",
       "\t BAYSIDE         &     6071.043    &   -122.335286   &     78559.35    & -1.647142e+03   & 7.783888e+03    &    41           & 1               &   0.000000      & 100             & 0.00000000      & 12.013815       & 17.5936436      &  111131239      &  61554.0        &   5229          &  4              &  4              &  111131239     \\\\\n",
       "\t BELMONT         &   151204.076    &      0.000000   &   1625603.91    &  0.000000e+00   & 1.161132e+05    &    10           & 2               &   0.000000      & 100             & 0.00000000      &  8.604714       & 10.0012612      &   83965540      & 143295.0        &  27359          &  1              &  1              &   79554650     \\\\\n",
       "\t ... & ... & ... & ... & ... & ... & ... & ... & ... & ... & ... & ... & ... & ... & ... & ... & ... & ... & ...\\\\\n",
       "\t TUSTIN                 &    5827.094            &      0.000000          &    69925.128           &  0.000000e+00          &    2353.143            &    4                   & 2                      &   0.000000             & 100                    & 0.0000000              & 22.628340              & 44.39400               & 159816348              &  88761.0               &  88473                 &  1                     &  1                     &  87607323             \\\\\n",
       "\t UKIAH                  &  231261.237            &   -972.201278          &  2468965.392           & -1.062975e+04          &  170084.465            &   28                   & 2                      &   0.000000             & 100                    & 0.0000000              & 24.680632              & 49.31265               &  50276065              &  49135.0               &  26453                 &  4                     &  4                     &  80465681             \\\\\n",
       "\t UNION CITY             &  365581.346            &  -1184.975200          &  3738122.759           & -1.223676e+04          &  249485.945            &  977                   & 2                      &  36.665549             & 100                    & 0.1250000              & 23.399884              & 46.09030               & 154635136              & 116875.0               &  81064                 &  1                     &  1                     &  79721572             \\\\\n",
       "\t VACAVILLE              & 4863504.318            & -10956.180420          & 49640437.810           & -1.041438e+05          & 2187779.377            & 3044                   & 4                      &  24.261370             & 100                    & 0.0000000              & 17.037000              & 30.50826               & 261334918              &  94659.0               & 106828                 &  2                     &  2                     & 114699919             \\\\\n",
       "\t VALENCIA               &   16728.000            &      0.000000          &   200736.000           &  0.000000e+00          &    9729.724            &    4                   & 1                      &   0.000000             & 100                    & 0.0000000              & 13.687964              & 21.69252               &  71499336              & 111042.0               &  70275                 &  2                     &  2                     &  71499336             \\\\\n",
       "\t VALLEJO                & 1609408.462            &  -8678.151142          & 16584409.789           & -8.431018e+04          &  894711.652            & 1327                   & 3                      &   8.041261             & 100                    & 0.1612903              & 24.294817              & 48.45504               & 263619424              &  70417.0               & 122876                 &  1                     &  1                     & 146817213             \\\\\n",
       "\t VALLEY SPRINGS         &   18282.886            &   -103.954140          &   202166.540           & -1.146682e+03          &   19284.465            &    4                   & 1                      &   7.307333             & 100                    & 0.0000000              & 20.839729              & 40.04919               &  90660000              &  72865.0               &  17895                 &  3                     &  3                     &  90660000             \\\\\n",
       "\t VENTURA                &  906599.361            &  36753.986211          & 13021453.006           &  5.882443e+05          &  823356.769            &    9                   & 1                      &   0.000000             & 100                    & 0.0800000              & 19.782110              & 37.81057               & 278789652              &  78115.0               & 109566                 &  2                     &  2                     & 119636069             \\\\\n",
       "\t VICTORVILLE            &   94067.205            &   -139.934243          &   821031.220           & -1.134987e+03          &  301762.674            &   36                   & 2                      &   0.000000             & 100                    & 0.1875000              & 33.144406              & 65.16585               & 170667834              &  54880.0               & 135177                 &  1                     &  1                     & 176487574             \\\\\n",
       "\t VISALIA                & 6415752.218            &   -156.654055          & 95919140.935           & -1.215585e+03          &  948406.234            &   21                   & 1                      &   0.000000             & 100                    & 0.3333333              & 33.892561              & 66.44596               & 269522684              &  58713.0               & 159505                 &  1                     &  1                     & 247307486             \\\\\n",
       "\t WALNUT CREEK           &  204788.533            &   -666.510275          &  1825942.537           & -6.322205e+03          &  149316.048            &  545                   & 1                      &  12.360452             & 100                    & 0.0000000              &  9.048854              & 10.94716               & 183611285              & 122536.5               &  97658                 &  1                     &  1                     &  99842736             \\\\\n",
       "\t WASCO                  &  220766.300            &  -1312.783465          &  2062786.252           & -1.093575e+04          &   89943.986            &   50                   & 1                      &   0.000000             & 100                    & 0.5000000              & 48.116924              & 86.84576               &  23647051              &  43879.0               &  27297                 &  4                     &  4                     &  79615977             \\\\\n",
       "\t WATSONVILLE            & 2835102.842            & -13809.312024          & 24891487.447           & -1.209793e+05          & 1534907.835            &  289                   & 2                      &  54.134642             & 100                    & 0.1333333              & 22.839320              & 44.74713               & 115522757              &  68214.0               &  88671                 &  2                     &  2                     &  87842600             \\\\\n",
       "\t WEST COVINA            &       0.000            &      0.000000          &        0.000           &  0.000000e+00          &  134816.996            &    1                   & 1                      &   0.000000             & 100                    & 0.1666667              & 31.516248              & 62.27141               & 167832707              &  88330.5               & 104339                 &  1                     &  1                     & 110410743             \\\\\n",
       "\t WEST HOLLYWOOD         &   19595.552            &    -29.137733          &    97977.758           & -1.456887e+02          &   48607.495            &    8                   & 1                      &   0.000000             & 100                    & 0.0000000              & 19.076481              & 35.98184               & 221253537              &  94315.0               &  20977                 &  1                     &  1                     &  86655658             \\\\\n",
       "\t WEST SACRAMENTO        &  413489.928            &  -1424.598080          &  4150214.539           & -1.576023e+04          &  258486.191            &   64                   & 2                      &  46.964692             & 100                    & 0.3750000              & 29.459993              & 57.86984               & 202036329              &  82773.5               &  45454                 &  1                     &  1                     &  67930179             \\\\\n",
       "\t WESTLAKE VILLAGE       &    1275.989            &     -1.897341          &     6379.947           & -9.486704e+00          &    2837.905            &    1                   & 1                      &   0.000000             & 100                    & 0.0000000              & 11.599060              & 16.44596               &  37535299              & 110840.5               &  17146                 &  1                     &  1                     &  91690270             \\\\\n",
       "\t WHEATLAND              &   39460.000            &      0.000000          &   473520.000           &  0.000000e+00          &    2665.750            &  206                   & 1                      &   0.000000             & 100                    & 0.0000000              & 25.751947              & 51.24228               &   6414899              &  77303.0               &   4652                 &  2                     &  2                     & 112219931             \\\\\n",
       "\t WHITTIER               &   46504.620            &     -8.910000          &   580959.810           & -1.039500e+02          &   27780.550            &    4                   & 1                      &   0.000000             & 100                    & 0.4000000              & 36.514810              & 70.86013               & 129417527              &  74819.0               & 183516                 &  1                     &  1                     & 331888330             \\\\\n",
       "\t WILDOMAR               &    5019.631            &     -4.370541          &    25098.157           & -2.185271e+01          &   12383.844            &   11                   & 1                      &   0.000000             & 100                    & 0.0000000              & 22.919263              & 45.02459               &  29236953              &  85335.0               &  34552                 &  1                     &  1                     &  73446657             \\\\\n",
       "\t WILLIAMS               &  146558.795            &   -457.497807          &  1705506.645           & -5.271709e+03          &   68066.728            &    7                   & 1                      &  31.933875             & 100                    & 0.0000000              & 25.818314              & 51.40623               &  11785217              &  66143.0               &   5963                 &  8                     &  8                     & 109766194             \\\\\n",
       "\t WILLITS                &  188872.042            &  -1473.399907          &  1970209.169           & -1.462794e+04          &  148690.594            &   20                   & 1                      &   0.000000             & 100                    & 0.0000000              & 19.926429              & 37.74120               &  12618622              &  47007.0               &  12690                 &  7                     &  7                     &  98284877             \\\\\n",
       "\t WILLOWS                &   21903.579            &   -109.890000          &   210352.945           & -1.016690e+03          &   24265.411            &    7                   & 1                      &  54.445338             & 100                    & 0.0000000              & 35.116725              & 68.63413               &  10963024              &  44004.0               &   7118                 &  7                     &  7                     & 107663163             \\\\\n",
       "\t WINDSOR                &  436177.680            &   -893.196338          &  5060097.443           & -9.490149e+03          &  112789.169            & 1386                   & 2                      &   0.000000             & 100                    & 0.0000000              & 16.089307              & 28.23811               &  50138809              & 105544.0               &  21434                 &  1                     &  1                     &  86093959             \\\\\n",
       "\t WINTON                 &    2775.000            &      0.000000          &    33300.000           &  0.000000e+00          &    9236.817            &   29                   & 2                      &  99.860992             & 100                    & 1.0000000              & 42.836518              & 79.97856               & 102990964              &  48057.5               &   9800                 &  1                     &  1                     & 102990964             \\\\\n",
       "\t WOODLAND               &  526910.058            &   -288.682189          &  5986636.618           & -3.137043e+03          &  278715.826            &  358                   & 2                      &   9.537819             & 100                    & 0.0000000              & 19.031411              & 35.86833               & 134378568              &  71184.0               &  68805                 &  1                     &  1                     &  70684538             \\\\\n",
       "\t YORBA LINDA            &  100589.028            &    -23.217678          &  1207068.336           & -2.786121e+02          &  230594.634            &   12                   & 1                      & 100.000000             & 100                    & 0.0000000              & 14.379302              & 23.43297               & 108191037              & 137520.5               &  63982                 &  1                     &  1                     &  68534818             \\\\\n",
       "\t YOSEMITE NATIONAL PARK &    8894.000            &    -51.060000          &    78267.200           & -4.493280e+02          &   18234.383            &    4                   & 1                      &   0.000000             & 100                    & 0.0000000              & 20.147691              & 38.74385               & 118001775              &  55994.0               &   1702                 & 10                     & 10                     & 118001775             \\\\\n",
       "\t YOUNTVILLE             &   16598.672            &    -37.547000          &   158077.851           & -2.580966e+02          &    4901.835            &   57                   & 2                      &   0.000000             & 100                    & 0.0000000              & 10.848488              & 14.90730               &  32212771              &  69300.0               &   2987                 &  7                     &  7                     & 115438789             \\\\\n",
       "\t YUBA CITY              &  898299.607            &  -1693.655181          &  9530011.210           & -2.074677e+04          &  637530.086            &  450                   & 3                      &  25.822801             & 100                    & 0.0625000              & 25.733873              & 51.23597               &  95292052              &  60333.5               &  77902                 &  2                     &  2                     &  76906845             \\\\\n",
       "\\end{tabular}\n"
      ],
      "text/markdown": [
       "\n",
       "| SiteCity | TotalFirstYearGrosskWh | TotalFirstYearGrossTherm | TotalLifecycleGrosskWh | TotalLifecycleGrossTherm | Budget | Total.Claims | Total.Programs | X..OBF.Budget | X..Resource.Budget | dac_proportion | ces_score_median | ces_percentile_median | Total.Tax.Revenue | median_household_income_usd | total_population | ruca_average | ruca_median | pred |\n",
       "|---|---|---|---|---|---|---|---|---|---|---|---|---|---|---|---|---|---|---|\n",
       "| ACAMPO          |    48664.727    |   -148.890330   |    583976.72    | -1.786684e+03   | 1.768457e+04    |     6           | 1               |   0.000000      | 100             | 0.00000000      | 21.531463       | 40.2825073      |  102967347      |  83913.0        |   9814          |  2              |  2              |  102967347      |\n",
       "| ADELANTO        |    13576.844    |    -30.037266   |     67884.22    | -1.501863e+02   | 2.732006e+04    |     4           | 1               |   0.000000      | 100             | 0.50000000      | 35.908799       | 68.4512549      |   23628867      |  45695.5        |  35179          |  1              |  1              |   73008134      |\n",
       "| ALAMO           |    73049.393    |    118.645240   |    684999.98    | -1.279097e+03   | 4.878554e+04    |    15           | 1               |  88.044896      | 100             | 0.00000000      |  2.175088       |  0.4161937      |  103715123      | 219750.0        |   9373          |  1              |  1              |  103715123      |\n",
       "| ALBANY          |   153765.922    |   -785.076334   |    842200.61    | -4.288070e+03   | 6.092619e+04    |    35           | 2               |   0.000000      | 100             | 0.00000000      |  8.128606       |  8.7400681      |   57342690      | 102361.0        |  16742          |  1              |  1              |   92255292      |\n",
       "| ALHAMBRA        |    21630.949    |    -32.172462   |    120233.35    | -1.788799e+02   | 4.846545e+04    |     7           | 1               |   0.000000      | 100             | 0.15000000      | 33.702151       | 66.1432715      |  154981924      |  59206.0        |  84647          |  1              |  1              |   83310858      |\n",
       "| ALTA            |      185.000    |      0.000000   |      2220.00    |  0.000000e+00   | 1.283993e+01    |     1           | 1               |   0.000000      | 100             | 0.00000000      | 11.769621       | 16.9378232      |  115547081      |  75563.0        |   2932          |  2              |  2              |  115547081      |\n",
       "| ALTADENA        |    21139.600    |      0.000000   |    253675.20    |  0.000000e+00   | 1.436750e+04    |    15           | 1               |   0.000000      | 100             | 0.00000000      | 17.007650       | 30.3695296      |   71619503      | 101875.0        |  37326          |  1              |  1              |   71619503      |\n",
       "| AMERICAN CANYON |   246321.569    |   -390.571830   |   2569735.07    | -3.193531e+03   | 1.136296e+05    |   737           | 2               |   0.000000      | 100             | 0.00000000      | 14.583999       | 24.0131164      |   68336979      | 104042.0        |  13352          |  1              |  1              |   97254563      |\n",
       "| ANAHEIM         |     2843.648    |     -1.635315   |     14302.67    | -8.226646e+00   | 4.105068e+03    |     3           | 1               |   0.000000      | 100             | 0.36666667      | 34.963112       | 68.3566654      | 1004225482      |  66446.0        | 347532          |  1              |  1              | 1201718422      |\n",
       "| ANDERSON        |   153146.064    |   -137.865002   |   1627538.67    | -1.050015e+03   | 1.622956e+05    |    18           | 2               |  14.336812      | 100             | 0.00000000      | 19.653113       | 37.4259049      |   22567917      |  47839.0        |  23258          |  2              |  2              |   83934158      |\n",
       "| ANGELS CAMP     |    34384.047    |   -285.907260   |    367388.02    | -3.469583e+03   | 1.868783e+04    |     8           | 2               |   0.000000      | 100             | 0.00000000      | 16.311317       | 28.5660235      |  112541410      |  54840.0        |   4483          |  7              |  7              |  112541410      |\n",
       "| ANGWIN          |    12649.272    |   -112.632110   |    123444.93    | -1.114692e+03   | 5.444598e+03    |     3           | 1               |   0.000000      | 100             | 0.00000000      | 11.212725       | 15.5252869      |  111020693      |  96705.0        |   5288          | 10              | 10              |  111020693      |\n",
       "| ANTIOCH         |  1090279.854    |  -1526.251700   |  12105645.50    | -1.684351e+04   | 7.551857e+05    |   401           | 2               |  75.689953      | 100             | 0.05555556      | 27.354173       | 54.3574221      |  156004836      |  76397.0        | 112354          |  1              |  1              |  124894836      |\n",
       "| APPLE VALLEY    |   212224.590    |   -220.077000   |   2514589.72    | -2.640924e+03   | 2.066934e+05    |    20           | 1               | 100.000000      | 100             | 0.00000000      | 19.926532       | 38.1132551      |   81839215      |  52921.0        |  80949          |  2              |  2              |   79613383      |\n",
       "| APTOS           |   344026.491    |  -3084.893000   |   2726986.26    | -2.401710e+04   | 1.936633e+05    |    40           | 2               |  22.024012      | 100             | 0.00000000      |  5.820022       |  4.3006684      |   75780505      | 102500.0        |  31518          |  1              |  1              |   75780505      |\n",
       "| ARBUCKLE        |    47268.900    |      0.000000   |    224039.09    |  0.000000e+00   | 4.536920e+04    |     2           | 1               |   0.000000      | 100             | 0.00000000      | 27.468901       | 54.7483920      |  110351144      |  65238.0        |   5647          |  7              |  7              |  110351144      |\n",
       "| ARCADIA         |    72342.810    |      0.000000   |    868113.72    |  0.000000e+00   | 4.084320e+04    |     2           | 1               |   0.000000      | 100             | 0.00000000      | 17.104204       | 30.6911338      |  152549526      |  92807.0        |  69373          |  1              |  1              |   70990582      |\n",
       "| ARCATA          |   582409.920    |  -1503.710973   |   5108532.13    | -1.309961e+04   | 5.878760e+05    |   451           | 2               |   2.829559      | 100             | 0.00000000      | 24.236442       | 48.2280237      |   34193557      |  39178.0        |  14499          |  4              |  4              |   95511311      |\n",
       "| ARNOLD          |     1858.720    |    -12.782340   |     16991.49    | -1.195299e+02   | 1.547710e+03    |     4           | 1               |   0.000000      | 100             | 0.00000000      | 10.517659       | 14.3839072      |  112197149      |  64291.0        |   4664          | 10              | 10              |  112197149      |\n",
       "| ARROYO GRANDE   |   282692.117    |  -1218.986047   |   3238651.53    | -1.542325e+04   | 1.418932e+05    |    94           | 2               |   0.000000      | 100             | 0.00000000      |  6.814271       |  6.1798461      |   43882463      |  89204.5        |  25014          |  2              |  2              |   81978425      |\n",
       "| ARVIN           |   235985.141    |  -1118.218930   |   2525115.52    | -1.256476e+04   | 9.910511e+04    |    69           | 1               |  29.568138      | 100             | 0.50000000      | 40.310553       | 76.3778534      |   15759971      |  37428.0        |  22818          |  4              |  4              |   84443170      |\n",
       "| ATASCADERO      |   487560.549    |  -2199.857894   |   5412426.59    | -2.666747e+04   | 2.541993e+05    |   328           | 2               |   2.286542      | 100             | 0.00000000      |  8.137026       |  9.2508513      |   60949355      |  73061.0        |  25335          |  1              |  1              |   81633969      |\n",
       "| ATHERTON        |     1010.000    |      0.000000   |     12120.00    |  0.000000e+00   | 7.214905e+02    |     4           | 1               |   0.000000      | 100             | 0.00000000      |  5.577918       |  5.2213394      |   46121910      |       NA        |   7168          |  1              |  1              |  107573363      |\n",
       "| ATWATER         |   388888.985    |   -143.429041   |   4587367.54    | -1.095302e+03   | 5.192116e+05    |  1443           | 3               |  85.562858      | 100             | 0.50000000      | 40.489842       | 76.5733384      |   35304215      |  55891.0        |  40011          |  1              |  1              |   70127722      |\n",
       "| AUBURN          |   215833.162    |  -1196.428420   |   2183727.16    | -1.287044e+04   | 2.228603e+05    |   152           | 3               |   9.113390      | 100             | 0.00000000      | 13.284183       | 20.8286039      |   34441547      |  76104.5        |  44187          |  3              |  3              |   68343515      |\n",
       "| BAKERSFIELD     | 15559277.602    | -50313.143735   | 159663794.85    | -5.303483e+05   | 6.153283e+06    | 18643           | 2               |   7.219450      | 100             | 0.49450549      | 38.599740       | 73.9185269      |  547373792      |  53187.0        | 557492          |  1              |  1              | 2653027422      |\n",
       "| BALDWIN PARK    |   681793.856    |    -23.228872   |   8072173.98    | -1.161444e+02   | 4.227689e+05    |    10           | 1               |   4.412624      | 100             | 0.94117647      | 53.149054       | 91.6635137      |   87887248      |  66316.0        |  75905          |  1              |  1              |   75301167      |\n",
       "| BARSTOW         |   193153.723    |    -61.421850   |    889673.24    | -3.071093e+02   | 1.729440e+05    |    12           | 1               |  11.943600      | 100             | 0.66666667      | 46.052962       | 84.1278850      |   67996702      |  41909.5        |  31403          |  4              |  4              |   75875899      |\n",
       "| BAYSIDE         |     6071.043    |   -122.335286   |     78559.35    | -1.647142e+03   | 7.783888e+03    |    41           | 1               |   0.000000      | 100             | 0.00000000      | 12.013815       | 17.5936436      |  111131239      |  61554.0        |   5229          |  4              |  4              |  111131239      |\n",
       "| BELMONT         |   151204.076    |      0.000000   |   1625603.91    |  0.000000e+00   | 1.161132e+05    |    10           | 2               |   0.000000      | 100             | 0.00000000      |  8.604714       | 10.0012612      |   83965540      | 143295.0        |  27359          |  1              |  1              |   79554650      |\n",
       "| ... | ... | ... | ... | ... | ... | ... | ... | ... | ... | ... | ... | ... | ... | ... | ... | ... | ... | ... |\n",
       "| TUSTIN                 |    5827.094            |      0.000000          |    69925.128           |  0.000000e+00          |    2353.143            |    4                   | 2                      |   0.000000             | 100                    | 0.0000000              | 22.628340              | 44.39400               | 159816348              |  88761.0               |  88473                 |  1                     |  1                     |  87607323              |\n",
       "| UKIAH                  |  231261.237            |   -972.201278          |  2468965.392           | -1.062975e+04          |  170084.465            |   28                   | 2                      |   0.000000             | 100                    | 0.0000000              | 24.680632              | 49.31265               |  50276065              |  49135.0               |  26453                 |  4                     |  4                     |  80465681              |\n",
       "| UNION CITY             |  365581.346            |  -1184.975200          |  3738122.759           | -1.223676e+04          |  249485.945            |  977                   | 2                      |  36.665549             | 100                    | 0.1250000              | 23.399884              | 46.09030               | 154635136              | 116875.0               |  81064                 |  1                     |  1                     |  79721572              |\n",
       "| VACAVILLE              | 4863504.318            | -10956.180420          | 49640437.810           | -1.041438e+05          | 2187779.377            | 3044                   | 4                      |  24.261370             | 100                    | 0.0000000              | 17.037000              | 30.50826               | 261334918              |  94659.0               | 106828                 |  2                     |  2                     | 114699919              |\n",
       "| VALENCIA               |   16728.000            |      0.000000          |   200736.000           |  0.000000e+00          |    9729.724            |    4                   | 1                      |   0.000000             | 100                    | 0.0000000              | 13.687964              | 21.69252               |  71499336              | 111042.0               |  70275                 |  2                     |  2                     |  71499336              |\n",
       "| VALLEJO                | 1609408.462            |  -8678.151142          | 16584409.789           | -8.431018e+04          |  894711.652            | 1327                   | 3                      |   8.041261             | 100                    | 0.1612903              | 24.294817              | 48.45504               | 263619424              |  70417.0               | 122876                 |  1                     |  1                     | 146817213              |\n",
       "| VALLEY SPRINGS         |   18282.886            |   -103.954140          |   202166.540           | -1.146682e+03          |   19284.465            |    4                   | 1                      |   7.307333             | 100                    | 0.0000000              | 20.839729              | 40.04919               |  90660000              |  72865.0               |  17895                 |  3                     |  3                     |  90660000              |\n",
       "| VENTURA                |  906599.361            |  36753.986211          | 13021453.006           |  5.882443e+05          |  823356.769            |    9                   | 1                      |   0.000000             | 100                    | 0.0800000              | 19.782110              | 37.81057               | 278789652              |  78115.0               | 109566                 |  2                     |  2                     | 119636069              |\n",
       "| VICTORVILLE            |   94067.205            |   -139.934243          |   821031.220           | -1.134987e+03          |  301762.674            |   36                   | 2                      |   0.000000             | 100                    | 0.1875000              | 33.144406              | 65.16585               | 170667834              |  54880.0               | 135177                 |  1                     |  1                     | 176487574              |\n",
       "| VISALIA                | 6415752.218            |   -156.654055          | 95919140.935           | -1.215585e+03          |  948406.234            |   21                   | 1                      |   0.000000             | 100                    | 0.3333333              | 33.892561              | 66.44596               | 269522684              |  58713.0               | 159505                 |  1                     |  1                     | 247307486              |\n",
       "| WALNUT CREEK           |  204788.533            |   -666.510275          |  1825942.537           | -6.322205e+03          |  149316.048            |  545                   | 1                      |  12.360452             | 100                    | 0.0000000              |  9.048854              | 10.94716               | 183611285              | 122536.5               |  97658                 |  1                     |  1                     |  99842736              |\n",
       "| WASCO                  |  220766.300            |  -1312.783465          |  2062786.252           | -1.093575e+04          |   89943.986            |   50                   | 1                      |   0.000000             | 100                    | 0.5000000              | 48.116924              | 86.84576               |  23647051              |  43879.0               |  27297                 |  4                     |  4                     |  79615977              |\n",
       "| WATSONVILLE            | 2835102.842            | -13809.312024          | 24891487.447           | -1.209793e+05          | 1534907.835            |  289                   | 2                      |  54.134642             | 100                    | 0.1333333              | 22.839320              | 44.74713               | 115522757              |  68214.0               |  88671                 |  2                     |  2                     |  87842600              |\n",
       "| WEST COVINA            |       0.000            |      0.000000          |        0.000           |  0.000000e+00          |  134816.996            |    1                   | 1                      |   0.000000             | 100                    | 0.1666667              | 31.516248              | 62.27141               | 167832707              |  88330.5               | 104339                 |  1                     |  1                     | 110410743              |\n",
       "| WEST HOLLYWOOD         |   19595.552            |    -29.137733          |    97977.758           | -1.456887e+02          |   48607.495            |    8                   | 1                      |   0.000000             | 100                    | 0.0000000              | 19.076481              | 35.98184               | 221253537              |  94315.0               |  20977                 |  1                     |  1                     |  86655658              |\n",
       "| WEST SACRAMENTO        |  413489.928            |  -1424.598080          |  4150214.539           | -1.576023e+04          |  258486.191            |   64                   | 2                      |  46.964692             | 100                    | 0.3750000              | 29.459993              | 57.86984               | 202036329              |  82773.5               |  45454                 |  1                     |  1                     |  67930179              |\n",
       "| WESTLAKE VILLAGE       |    1275.989            |     -1.897341          |     6379.947           | -9.486704e+00          |    2837.905            |    1                   | 1                      |   0.000000             | 100                    | 0.0000000              | 11.599060              | 16.44596               |  37535299              | 110840.5               |  17146                 |  1                     |  1                     |  91690270              |\n",
       "| WHEATLAND              |   39460.000            |      0.000000          |   473520.000           |  0.000000e+00          |    2665.750            |  206                   | 1                      |   0.000000             | 100                    | 0.0000000              | 25.751947              | 51.24228               |   6414899              |  77303.0               |   4652                 |  2                     |  2                     | 112219931              |\n",
       "| WHITTIER               |   46504.620            |     -8.910000          |   580959.810           | -1.039500e+02          |   27780.550            |    4                   | 1                      |   0.000000             | 100                    | 0.4000000              | 36.514810              | 70.86013               | 129417527              |  74819.0               | 183516                 |  1                     |  1                     | 331888330              |\n",
       "| WILDOMAR               |    5019.631            |     -4.370541          |    25098.157           | -2.185271e+01          |   12383.844            |   11                   | 1                      |   0.000000             | 100                    | 0.0000000              | 22.919263              | 45.02459               |  29236953              |  85335.0               |  34552                 |  1                     |  1                     |  73446657              |\n",
       "| WILLIAMS               |  146558.795            |   -457.497807          |  1705506.645           | -5.271709e+03          |   68066.728            |    7                   | 1                      |  31.933875             | 100                    | 0.0000000              | 25.818314              | 51.40623               |  11785217              |  66143.0               |   5963                 |  8                     |  8                     | 109766194              |\n",
       "| WILLITS                |  188872.042            |  -1473.399907          |  1970209.169           | -1.462794e+04          |  148690.594            |   20                   | 1                      |   0.000000             | 100                    | 0.0000000              | 19.926429              | 37.74120               |  12618622              |  47007.0               |  12690                 |  7                     |  7                     |  98284877              |\n",
       "| WILLOWS                |   21903.579            |   -109.890000          |   210352.945           | -1.016690e+03          |   24265.411            |    7                   | 1                      |  54.445338             | 100                    | 0.0000000              | 35.116725              | 68.63413               |  10963024              |  44004.0               |   7118                 |  7                     |  7                     | 107663163              |\n",
       "| WINDSOR                |  436177.680            |   -893.196338          |  5060097.443           | -9.490149e+03          |  112789.169            | 1386                   | 2                      |   0.000000             | 100                    | 0.0000000              | 16.089307              | 28.23811               |  50138809              | 105544.0               |  21434                 |  1                     |  1                     |  86093959              |\n",
       "| WINTON                 |    2775.000            |      0.000000          |    33300.000           |  0.000000e+00          |    9236.817            |   29                   | 2                      |  99.860992             | 100                    | 1.0000000              | 42.836518              | 79.97856               | 102990964              |  48057.5               |   9800                 |  1                     |  1                     | 102990964              |\n",
       "| WOODLAND               |  526910.058            |   -288.682189          |  5986636.618           | -3.137043e+03          |  278715.826            |  358                   | 2                      |   9.537819             | 100                    | 0.0000000              | 19.031411              | 35.86833               | 134378568              |  71184.0               |  68805                 |  1                     |  1                     |  70684538              |\n",
       "| YORBA LINDA            |  100589.028            |    -23.217678          |  1207068.336           | -2.786121e+02          |  230594.634            |   12                   | 1                      | 100.000000             | 100                    | 0.0000000              | 14.379302              | 23.43297               | 108191037              | 137520.5               |  63982                 |  1                     |  1                     |  68534818              |\n",
       "| YOSEMITE NATIONAL PARK |    8894.000            |    -51.060000          |    78267.200           | -4.493280e+02          |   18234.383            |    4                   | 1                      |   0.000000             | 100                    | 0.0000000              | 20.147691              | 38.74385               | 118001775              |  55994.0               |   1702                 | 10                     | 10                     | 118001775              |\n",
       "| YOUNTVILLE             |   16598.672            |    -37.547000          |   158077.851           | -2.580966e+02          |    4901.835            |   57                   | 2                      |   0.000000             | 100                    | 0.0000000              | 10.848488              | 14.90730               |  32212771              |  69300.0               |   2987                 |  7                     |  7                     | 115438789              |\n",
       "| YUBA CITY              |  898299.607            |  -1693.655181          |  9530011.210           | -2.074677e+04          |  637530.086            |  450                   | 3                      |  25.822801             | 100                    | 0.0625000              | 25.733873              | 51.23597               |  95292052              |  60333.5               |  77902                 |  2                     |  2                     |  76906845              |\n",
       "\n"
      ],
      "text/plain": [
       "    SiteCity               TotalFirstYearGrosskWh TotalFirstYearGrossTherm\n",
       "1   ACAMPO                    48664.727             -148.890330           \n",
       "2   ADELANTO                  13576.844              -30.037266           \n",
       "3   ALAMO                     73049.393              118.645240           \n",
       "4   ALBANY                   153765.922             -785.076334           \n",
       "5   ALHAMBRA                  21630.949              -32.172462           \n",
       "6   ALTA                        185.000                0.000000           \n",
       "7   ALTADENA                  21139.600                0.000000           \n",
       "8   AMERICAN CANYON          246321.569             -390.571830           \n",
       "9   ANAHEIM                    2843.648               -1.635315           \n",
       "10  ANDERSON                 153146.064             -137.865002           \n",
       "11  ANGELS CAMP               34384.047             -285.907260           \n",
       "12  ANGWIN                    12649.272             -112.632110           \n",
       "13  ANTIOCH                 1090279.854            -1526.251700           \n",
       "14  APPLE VALLEY             212224.590             -220.077000           \n",
       "15  APTOS                    344026.491            -3084.893000           \n",
       "16  ARBUCKLE                  47268.900                0.000000           \n",
       "17  ARCADIA                   72342.810                0.000000           \n",
       "18  ARCATA                   582409.920            -1503.710973           \n",
       "19  ARNOLD                     1858.720              -12.782340           \n",
       "20  ARROYO GRANDE            282692.117            -1218.986047           \n",
       "21  ARVIN                    235985.141            -1118.218930           \n",
       "22  ATASCADERO               487560.549            -2199.857894           \n",
       "23  ATHERTON                   1010.000                0.000000           \n",
       "24  ATWATER                  388888.985             -143.429041           \n",
       "25  AUBURN                   215833.162            -1196.428420           \n",
       "26  BAKERSFIELD            15559277.602           -50313.143735           \n",
       "27  BALDWIN PARK             681793.856              -23.228872           \n",
       "28  BARSTOW                  193153.723              -61.421850           \n",
       "29  BAYSIDE                    6071.043             -122.335286           \n",
       "30  BELMONT                  151204.076                0.000000           \n",
       "... ...                    ...                    ...                     \n",
       "388 TUSTIN                    5827.094                 0.000000           \n",
       "389 UKIAH                   231261.237              -972.201278           \n",
       "390 UNION CITY              365581.346             -1184.975200           \n",
       "391 VACAVILLE              4863504.318            -10956.180420           \n",
       "392 VALENCIA                 16728.000                 0.000000           \n",
       "393 VALLEJO                1609408.462             -8678.151142           \n",
       "394 VALLEY SPRINGS           18282.886              -103.954140           \n",
       "395 VENTURA                 906599.361             36753.986211           \n",
       "396 VICTORVILLE              94067.205              -139.934243           \n",
       "397 VISALIA                6415752.218              -156.654055           \n",
       "398 WALNUT CREEK            204788.533              -666.510275           \n",
       "399 WASCO                   220766.300             -1312.783465           \n",
       "400 WATSONVILLE            2835102.842            -13809.312024           \n",
       "401 WEST COVINA                  0.000                 0.000000           \n",
       "402 WEST HOLLYWOOD           19595.552               -29.137733           \n",
       "403 WEST SACRAMENTO         413489.928             -1424.598080           \n",
       "404 WESTLAKE VILLAGE          1275.989                -1.897341           \n",
       "405 WHEATLAND                39460.000                 0.000000           \n",
       "406 WHITTIER                 46504.620                -8.910000           \n",
       "407 WILDOMAR                  5019.631                -4.370541           \n",
       "408 WILLIAMS                146558.795              -457.497807           \n",
       "409 WILLITS                 188872.042             -1473.399907           \n",
       "410 WILLOWS                  21903.579              -109.890000           \n",
       "411 WINDSOR                 436177.680              -893.196338           \n",
       "412 WINTON                    2775.000                 0.000000           \n",
       "413 WOODLAND                526910.058              -288.682189           \n",
       "414 YORBA LINDA             100589.028               -23.217678           \n",
       "415 YOSEMITE NATIONAL PARK    8894.000               -51.060000           \n",
       "416 YOUNTVILLE               16598.672               -37.547000           \n",
       "417 YUBA CITY               898299.607             -1693.655181           \n",
       "    TotalLifecycleGrosskWh TotalLifecycleGrossTherm Budget       Total.Claims\n",
       "1      583976.72           -1.786684e+03            1.768457e+04     6       \n",
       "2       67884.22           -1.501863e+02            2.732006e+04     4       \n",
       "3      684999.98           -1.279097e+03            4.878554e+04    15       \n",
       "4      842200.61           -4.288070e+03            6.092619e+04    35       \n",
       "5      120233.35           -1.788799e+02            4.846545e+04     7       \n",
       "6        2220.00            0.000000e+00            1.283993e+01     1       \n",
       "7      253675.20            0.000000e+00            1.436750e+04    15       \n",
       "8     2569735.07           -3.193531e+03            1.136296e+05   737       \n",
       "9       14302.67           -8.226646e+00            4.105068e+03     3       \n",
       "10    1627538.67           -1.050015e+03            1.622956e+05    18       \n",
       "11     367388.02           -3.469583e+03            1.868783e+04     8       \n",
       "12     123444.93           -1.114692e+03            5.444598e+03     3       \n",
       "13   12105645.50           -1.684351e+04            7.551857e+05   401       \n",
       "14    2514589.72           -2.640924e+03            2.066934e+05    20       \n",
       "15    2726986.26           -2.401710e+04            1.936633e+05    40       \n",
       "16     224039.09            0.000000e+00            4.536920e+04     2       \n",
       "17     868113.72            0.000000e+00            4.084320e+04     2       \n",
       "18    5108532.13           -1.309961e+04            5.878760e+05   451       \n",
       "19      16991.49           -1.195299e+02            1.547710e+03     4       \n",
       "20    3238651.53           -1.542325e+04            1.418932e+05    94       \n",
       "21    2525115.52           -1.256476e+04            9.910511e+04    69       \n",
       "22    5412426.59           -2.666747e+04            2.541993e+05   328       \n",
       "23      12120.00            0.000000e+00            7.214905e+02     4       \n",
       "24    4587367.54           -1.095302e+03            5.192116e+05  1443       \n",
       "25    2183727.16           -1.287044e+04            2.228603e+05   152       \n",
       "26  159663794.85           -5.303483e+05            6.153283e+06 18643       \n",
       "27    8072173.98           -1.161444e+02            4.227689e+05    10       \n",
       "28     889673.24           -3.071093e+02            1.729440e+05    12       \n",
       "29      78559.35           -1.647142e+03            7.783888e+03    41       \n",
       "30    1625603.91            0.000000e+00            1.161132e+05    10       \n",
       "... ...                    ...                      ...          ...         \n",
       "388    69925.128            0.000000e+00               2353.143     4        \n",
       "389  2468965.392           -1.062975e+04             170084.465    28        \n",
       "390  3738122.759           -1.223676e+04             249485.945   977        \n",
       "391 49640437.810           -1.041438e+05            2187779.377  3044        \n",
       "392   200736.000            0.000000e+00               9729.724     4        \n",
       "393 16584409.789           -8.431018e+04             894711.652  1327        \n",
       "394   202166.540           -1.146682e+03              19284.465     4        \n",
       "395 13021453.006            5.882443e+05             823356.769     9        \n",
       "396   821031.220           -1.134987e+03             301762.674    36        \n",
       "397 95919140.935           -1.215585e+03             948406.234    21        \n",
       "398  1825942.537           -6.322205e+03             149316.048   545        \n",
       "399  2062786.252           -1.093575e+04              89943.986    50        \n",
       "400 24891487.447           -1.209793e+05            1534907.835   289        \n",
       "401        0.000            0.000000e+00             134816.996     1        \n",
       "402    97977.758           -1.456887e+02              48607.495     8        \n",
       "403  4150214.539           -1.576023e+04             258486.191    64        \n",
       "404     6379.947           -9.486704e+00               2837.905     1        \n",
       "405   473520.000            0.000000e+00               2665.750   206        \n",
       "406   580959.810           -1.039500e+02              27780.550     4        \n",
       "407    25098.157           -2.185271e+01              12383.844    11        \n",
       "408  1705506.645           -5.271709e+03              68066.728     7        \n",
       "409  1970209.169           -1.462794e+04             148690.594    20        \n",
       "410   210352.945           -1.016690e+03              24265.411     7        \n",
       "411  5060097.443           -9.490149e+03             112789.169  1386        \n",
       "412    33300.000            0.000000e+00               9236.817    29        \n",
       "413  5986636.618           -3.137043e+03             278715.826   358        \n",
       "414  1207068.336           -2.786121e+02             230594.634    12        \n",
       "415    78267.200           -4.493280e+02              18234.383     4        \n",
       "416   158077.851           -2.580966e+02               4901.835    57        \n",
       "417  9530011.210           -2.074677e+04             637530.086   450        \n",
       "    Total.Programs X..OBF.Budget X..Resource.Budget dac_proportion\n",
       "1   1                0.000000    100                0.00000000    \n",
       "2   1                0.000000    100                0.50000000    \n",
       "3   1               88.044896    100                0.00000000    \n",
       "4   2                0.000000    100                0.00000000    \n",
       "5   1                0.000000    100                0.15000000    \n",
       "6   1                0.000000    100                0.00000000    \n",
       "7   1                0.000000    100                0.00000000    \n",
       "8   2                0.000000    100                0.00000000    \n",
       "9   1                0.000000    100                0.36666667    \n",
       "10  2               14.336812    100                0.00000000    \n",
       "11  2                0.000000    100                0.00000000    \n",
       "12  1                0.000000    100                0.00000000    \n",
       "13  2               75.689953    100                0.05555556    \n",
       "14  1              100.000000    100                0.00000000    \n",
       "15  2               22.024012    100                0.00000000    \n",
       "16  1                0.000000    100                0.00000000    \n",
       "17  1                0.000000    100                0.00000000    \n",
       "18  2                2.829559    100                0.00000000    \n",
       "19  1                0.000000    100                0.00000000    \n",
       "20  2                0.000000    100                0.00000000    \n",
       "21  1               29.568138    100                0.50000000    \n",
       "22  2                2.286542    100                0.00000000    \n",
       "23  1                0.000000    100                0.00000000    \n",
       "24  3               85.562858    100                0.50000000    \n",
       "25  3                9.113390    100                0.00000000    \n",
       "26  2                7.219450    100                0.49450549    \n",
       "27  1                4.412624    100                0.94117647    \n",
       "28  1               11.943600    100                0.66666667    \n",
       "29  1                0.000000    100                0.00000000    \n",
       "30  2                0.000000    100                0.00000000    \n",
       "... ...            ...           ...                ...           \n",
       "388 2                0.000000    100                0.0000000     \n",
       "389 2                0.000000    100                0.0000000     \n",
       "390 2               36.665549    100                0.1250000     \n",
       "391 4               24.261370    100                0.0000000     \n",
       "392 1                0.000000    100                0.0000000     \n",
       "393 3                8.041261    100                0.1612903     \n",
       "394 1                7.307333    100                0.0000000     \n",
       "395 1                0.000000    100                0.0800000     \n",
       "396 2                0.000000    100                0.1875000     \n",
       "397 1                0.000000    100                0.3333333     \n",
       "398 1               12.360452    100                0.0000000     \n",
       "399 1                0.000000    100                0.5000000     \n",
       "400 2               54.134642    100                0.1333333     \n",
       "401 1                0.000000    100                0.1666667     \n",
       "402 1                0.000000    100                0.0000000     \n",
       "403 2               46.964692    100                0.3750000     \n",
       "404 1                0.000000    100                0.0000000     \n",
       "405 1                0.000000    100                0.0000000     \n",
       "406 1                0.000000    100                0.4000000     \n",
       "407 1                0.000000    100                0.0000000     \n",
       "408 1               31.933875    100                0.0000000     \n",
       "409 1                0.000000    100                0.0000000     \n",
       "410 1               54.445338    100                0.0000000     \n",
       "411 2                0.000000    100                0.0000000     \n",
       "412 2               99.860992    100                1.0000000     \n",
       "413 2                9.537819    100                0.0000000     \n",
       "414 1              100.000000    100                0.0000000     \n",
       "415 1                0.000000    100                0.0000000     \n",
       "416 2                0.000000    100                0.0000000     \n",
       "417 3               25.822801    100                0.0625000     \n",
       "    ces_score_median ces_percentile_median Total.Tax.Revenue\n",
       "1   21.531463        40.2825073             102967347       \n",
       "2   35.908799        68.4512549              23628867       \n",
       "3    2.175088         0.4161937             103715123       \n",
       "4    8.128606         8.7400681              57342690       \n",
       "5   33.702151        66.1432715             154981924       \n",
       "6   11.769621        16.9378232             115547081       \n",
       "7   17.007650        30.3695296              71619503       \n",
       "8   14.583999        24.0131164              68336979       \n",
       "9   34.963112        68.3566654            1004225482       \n",
       "10  19.653113        37.4259049              22567917       \n",
       "11  16.311317        28.5660235             112541410       \n",
       "12  11.212725        15.5252869             111020693       \n",
       "13  27.354173        54.3574221             156004836       \n",
       "14  19.926532        38.1132551              81839215       \n",
       "15   5.820022         4.3006684              75780505       \n",
       "16  27.468901        54.7483920             110351144       \n",
       "17  17.104204        30.6911338             152549526       \n",
       "18  24.236442        48.2280237              34193557       \n",
       "19  10.517659        14.3839072             112197149       \n",
       "20   6.814271         6.1798461              43882463       \n",
       "21  40.310553        76.3778534              15759971       \n",
       "22   8.137026         9.2508513              60949355       \n",
       "23   5.577918         5.2213394              46121910       \n",
       "24  40.489842        76.5733384              35304215       \n",
       "25  13.284183        20.8286039              34441547       \n",
       "26  38.599740        73.9185269             547373792       \n",
       "27  53.149054        91.6635137              87887248       \n",
       "28  46.052962        84.1278850              67996702       \n",
       "29  12.013815        17.5936436             111131239       \n",
       "30   8.604714        10.0012612              83965540       \n",
       "... ...              ...                   ...              \n",
       "388 22.628340        44.39400              159816348        \n",
       "389 24.680632        49.31265               50276065        \n",
       "390 23.399884        46.09030              154635136        \n",
       "391 17.037000        30.50826              261334918        \n",
       "392 13.687964        21.69252               71499336        \n",
       "393 24.294817        48.45504              263619424        \n",
       "394 20.839729        40.04919               90660000        \n",
       "395 19.782110        37.81057              278789652        \n",
       "396 33.144406        65.16585              170667834        \n",
       "397 33.892561        66.44596              269522684        \n",
       "398  9.048854        10.94716              183611285        \n",
       "399 48.116924        86.84576               23647051        \n",
       "400 22.839320        44.74713              115522757        \n",
       "401 31.516248        62.27141              167832707        \n",
       "402 19.076481        35.98184              221253537        \n",
       "403 29.459993        57.86984              202036329        \n",
       "404 11.599060        16.44596               37535299        \n",
       "405 25.751947        51.24228                6414899        \n",
       "406 36.514810        70.86013              129417527        \n",
       "407 22.919263        45.02459               29236953        \n",
       "408 25.818314        51.40623               11785217        \n",
       "409 19.926429        37.74120               12618622        \n",
       "410 35.116725        68.63413               10963024        \n",
       "411 16.089307        28.23811               50138809        \n",
       "412 42.836518        79.97856              102990964        \n",
       "413 19.031411        35.86833              134378568        \n",
       "414 14.379302        23.43297              108191037        \n",
       "415 20.147691        38.74385              118001775        \n",
       "416 10.848488        14.90730               32212771        \n",
       "417 25.733873        51.23597               95292052        \n",
       "    median_household_income_usd total_population ruca_average ruca_median\n",
       "1    83913.0                      9814            2            2         \n",
       "2    45695.5                     35179            1            1         \n",
       "3   219750.0                      9373            1            1         \n",
       "4   102361.0                     16742            1            1         \n",
       "5    59206.0                     84647            1            1         \n",
       "6    75563.0                      2932            2            2         \n",
       "7   101875.0                     37326            1            1         \n",
       "8   104042.0                     13352            1            1         \n",
       "9    66446.0                    347532            1            1         \n",
       "10   47839.0                     23258            2            2         \n",
       "11   54840.0                      4483            7            7         \n",
       "12   96705.0                      5288           10           10         \n",
       "13   76397.0                    112354            1            1         \n",
       "14   52921.0                     80949            2            2         \n",
       "15  102500.0                     31518            1            1         \n",
       "16   65238.0                      5647            7            7         \n",
       "17   92807.0                     69373            1            1         \n",
       "18   39178.0                     14499            4            4         \n",
       "19   64291.0                      4664           10           10         \n",
       "20   89204.5                     25014            2            2         \n",
       "21   37428.0                     22818            4            4         \n",
       "22   73061.0                     25335            1            1         \n",
       "23        NA                      7168            1            1         \n",
       "24   55891.0                     40011            1            1         \n",
       "25   76104.5                     44187            3            3         \n",
       "26   53187.0                    557492            1            1         \n",
       "27   66316.0                     75905            1            1         \n",
       "28   41909.5                     31403            4            4         \n",
       "29   61554.0                      5229            4            4         \n",
       "30  143295.0                     27359            1            1         \n",
       "... ...                         ...              ...          ...        \n",
       "388  88761.0                     88473            1            1         \n",
       "389  49135.0                     26453            4            4         \n",
       "390 116875.0                     81064            1            1         \n",
       "391  94659.0                    106828            2            2         \n",
       "392 111042.0                     70275            2            2         \n",
       "393  70417.0                    122876            1            1         \n",
       "394  72865.0                     17895            3            3         \n",
       "395  78115.0                    109566            2            2         \n",
       "396  54880.0                    135177            1            1         \n",
       "397  58713.0                    159505            1            1         \n",
       "398 122536.5                     97658            1            1         \n",
       "399  43879.0                     27297            4            4         \n",
       "400  68214.0                     88671            2            2         \n",
       "401  88330.5                    104339            1            1         \n",
       "402  94315.0                     20977            1            1         \n",
       "403  82773.5                     45454            1            1         \n",
       "404 110840.5                     17146            1            1         \n",
       "405  77303.0                      4652            2            2         \n",
       "406  74819.0                    183516            1            1         \n",
       "407  85335.0                     34552            1            1         \n",
       "408  66143.0                      5963            8            8         \n",
       "409  47007.0                     12690            7            7         \n",
       "410  44004.0                      7118            7            7         \n",
       "411 105544.0                     21434            1            1         \n",
       "412  48057.5                      9800            1            1         \n",
       "413  71184.0                     68805            1            1         \n",
       "414 137520.5                     63982            1            1         \n",
       "415  55994.0                      1702           10           10         \n",
       "416  69300.0                      2987            7            7         \n",
       "417  60333.5                     77902            2            2         \n",
       "    pred      \n",
       "1    102967347\n",
       "2     73008134\n",
       "3    103715123\n",
       "4     92255292\n",
       "5     83310858\n",
       "6    115547081\n",
       "7     71619503\n",
       "8     97254563\n",
       "9   1201718422\n",
       "10    83934158\n",
       "11   112541410\n",
       "12   111020693\n",
       "13   124894836\n",
       "14    79613383\n",
       "15    75780505\n",
       "16   110351144\n",
       "17    70990582\n",
       "18    95511311\n",
       "19   112197149\n",
       "20    81978425\n",
       "21    84443170\n",
       "22    81633969\n",
       "23   107573363\n",
       "24    70127722\n",
       "25    68343515\n",
       "26  2653027422\n",
       "27    75301167\n",
       "28    75875899\n",
       "29   111131239\n",
       "30    79554650\n",
       "... ...       \n",
       "388  87607323 \n",
       "389  80465681 \n",
       "390  79721572 \n",
       "391 114699919 \n",
       "392  71499336 \n",
       "393 146817213 \n",
       "394  90660000 \n",
       "395 119636069 \n",
       "396 176487574 \n",
       "397 247307486 \n",
       "398  99842736 \n",
       "399  79615977 \n",
       "400  87842600 \n",
       "401 110410743 \n",
       "402  86655658 \n",
       "403  67930179 \n",
       "404  91690270 \n",
       "405 112219931 \n",
       "406 331888330 \n",
       "407  73446657 \n",
       "408 109766194 \n",
       "409  98284877 \n",
       "410 107663163 \n",
       "411  86093959 \n",
       "412 102990964 \n",
       "413  70684538 \n",
       "414  68534818 \n",
       "415 118001775 \n",
       "416 115438789 \n",
       "417  76906845 "
      ]
     },
     "metadata": {},
     "output_type": "display_data"
    },
    {
     "data": {
      "text/html": [
       "0.835160150888394"
      ],
      "text/latex": [
       "0.835160150888394"
      ],
      "text/markdown": [
       "0.835160150888394"
      ],
      "text/plain": [
       "[1] 0.8351602"
      ]
     },
     "metadata": {},
     "output_type": "display_data"
    },
    {
     "data": {
      "text/html": [
       "0.829393521839471"
      ],
      "text/latex": [
       "0.829393521839471"
      ],
      "text/markdown": [
       "0.829393521839471"
      ],
      "text/plain": [
       "[1] 0.8293935"
      ]
     },
     "metadata": {},
     "output_type": "display_data"
    },
    {
     "data": {
      "text/plain": [
       "\n",
       "Call:\n",
       "lm(formula = Total.Tax.Revenue ~ total_population, data = cities)\n",
       "\n",
       "Residuals:\n",
       "       Min         1Q     Median         3Q        Max \n",
       "-2.690e+09 -1.018e+08  6.876e+07  1.329e+08  8.981e+09 \n",
       "\n",
       "Coefficients:\n",
       "                   Estimate Std. Error t value Pr(>|t|)    \n",
       "(Intercept)      -1.732e+08  4.179e+07  -4.144 4.47e-05 ***\n",
       "total_population  5.020e+03  1.938e+02  25.903  < 2e-16 ***\n",
       "---\n",
       "Signif. codes:  0 '***' 0.001 '**' 0.01 '*' 0.05 '.' 0.1 ' ' 1\n",
       "\n",
       "Residual standard error: 654100000 on 291 degrees of freedom\n",
       "  (124 observations deleted due to missingness)\n",
       "Multiple R-squared:  0.6975,\tAdjusted R-squared:  0.6965 \n",
       "F-statistic:   671 on 1 and 291 DF,  p-value: < 2.2e-16\n"
      ]
     },
     "metadata": {},
     "output_type": "display_data"
    },
    {
     "data": {
      "text/plain": [
       "\n",
       "Call:\n",
       "lm(formula = Total.Tax.Revenue ~ total_population, data = cities_fillna)\n",
       "\n",
       "Residuals:\n",
       "       Min         1Q     Median         3Q        Max \n",
       "-2.655e+09 -8.698e+07  4.472e+07  1.401e+08  9.023e+09 \n",
       "\n",
       "Coefficients:\n",
       "                   Estimate Std. Error t value Pr(>|t|)    \n",
       "(Intercept)      -1.017e+08  2.928e+07  -3.474 0.000566 ***\n",
       "total_population  4.891e+03  1.617e+02  30.244  < 2e-16 ***\n",
       "---\n",
       "Signif. codes:  0 '***' 0.001 '**' 0.01 '*' 0.05 '.' 0.1 ' ' 1\n",
       "\n",
       "Residual standard error: 557900000 on 415 degrees of freedom\n",
       "Multiple R-squared:  0.6879,\tAdjusted R-squared:  0.6871 \n",
       "F-statistic: 914.7 on 1 and 415 DF,  p-value: < 2.2e-16\n"
      ]
     },
     "metadata": {},
     "output_type": "display_data"
    },
    {
     "data": {
      "text/plain": [
       "     Min.   1st Qu.    Median      Mean   3rd Qu.      Max.      NA's \n",
       "1.127e+06 2.895e+07 8.007e+07 2.648e+08 1.934e+08 1.455e+10       124 "
      ]
     },
     "metadata": {},
     "output_type": "display_data"
    },
    {
     "data": {
      "text/plain": [
       "     Min.   1st Qu.    Median      Mean   3rd Qu.      Max. \n",
       "1.127e+06 4.662e+07 1.026e+08 2.166e+08 1.294e+08 1.455e+10 "
      ]
     },
     "metadata": {},
     "output_type": "display_data"
    },
    {
     "data": {
      "image/png": "[encoded data removed]",
      "text/plain": [
       "plot without title"
      ]
     },
     "metadata": {},
     "output_type": "display_data"
    }
   ],
   "source": [
    "#fill with ln_pop prediction\n",
    "#cities$ln_pop = log(cities$total_population)\n",
    "\n",
    "cities <- read.csv('C:/Users/ather/CS Projects/CETLab/caeecc-energy-efficiency/cities_2.csv')\n",
    "\n",
    "cities_nona <- cities %>% filter(!is.na(Total.Tax.Revenue))\n",
    "fit <- lm(Total.Tax.Revenue ~ poly(total_population, 4, raw = TRUE), data = cities_nona)\n",
    "summary(fit)\n",
    "\n",
    "cities_fillna <- cities %>%\n",
    "    mutate(pred = predict(fit,.)) %>%\n",
    "    mutate(Total.Tax.Revenue = ifelse(is.na(Total.Tax.Revenue), pred, Total.Tax.Revenue))\n",
    "\n",
    "\n",
    "plot(cities_fillna$Total.Tax.Revenue, cities_fillna$total_population)\n",
    "plot(cities$Total.Tax.Revenue, cities$total_population)\n",
    "\n",
    "#summary(cities_fillna$Total.Tax.Revenue)\n",
    "\n",
    "cities_fillna %>% as.data.frame()\n",
    "\n",
    "cor(cities$total_population, cities$Total.Tax.Revenue, use = \"complete.obs\")\n",
    "cor(cities_fillna$total_population, cities_fillna$Total.Tax.Revenue, use = \"complete.obs\")\n",
    "\n",
    "unfilled_model <- lm(Total.Tax.Revenue ~ total_population, data = cities)\n",
    "filled_model <- lm(Total.Tax.Revenue ~ total_population, data = cities_fillna)\n",
    "\n",
    "summary(unfilled_model)\n",
    "summary(filled_model)\n",
    "\n",
    "summary(cities$Total.Tax.Revenue)\n",
    "summary(cities_fillna$Total.Tax.Revenue)"
   ]
  }
 ],
 "metadata": {
  "kernelspec": {
   "display_name": "R",
   "language": "R",
   "name": "ir"
  },
  "language_info": {
   "codemirror_mode": "r",
   "file_extension": ".r",
   "mimetype": "text/x-r-source",
   "name": "R",
   "pygments_lexer": "r",
   "version": "3.6.1"
  }
 },
 "nbformat": 4,
 "nbformat_minor": 5
}
