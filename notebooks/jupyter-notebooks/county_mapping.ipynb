{
 "cells": [
  {
   "cell_type": "code",
   "execution_count": 1,
   "metadata": {},
   "outputs": [],
   "source": [
    "import pandas as pd"
   ]
  },
  {
   "cell_type": "code",
   "execution_count": 2,
   "metadata": {},
   "outputs": [
    {
     "name": "stderr",
     "output_type": "stream",
     "text": [
      "C:\\Users\\audre\\anaconda3\\lib\\site-packages\\IPython\\core\\interactiveshell.py:3146: DtypeWarning: Columns (5,7,12,17,19,22,23,24,27,47,48,56,57) have mixed types.Specify dtype option on import or set low_memory=False.\n",
      "  has_raised = await self.run_ast_nodes(code_ast.body, cell_name,\n"
     ]
    }
   ],
   "source": [
    "cpuc = pd.read_csv('data/cpuc_with_budget_and_resource.csv').iloc[:,1:]\n",
    "cc = pd.read_csv('data/City_and_County_Boundaries.csv', usecols =['COUNTY', 'CITY'])"
   ]
  },
  {
   "cell_type": "code",
   "execution_count": 3,
   "metadata": {},
   "outputs": [
    {
     "data": {
      "text/html": [
       "<div>\n",
       "<style scoped>\n",
       "    .dataframe tbody tr th:only-of-type {\n",
       "        vertical-align: middle;\n",
       "    }\n",
       "\n",
       "    .dataframe tbody tr th {\n",
       "        vertical-align: top;\n",
       "    }\n",
       "\n",
       "    .dataframe thead th {\n",
       "        text-align: right;\n",
       "    }\n",
       "</style>\n",
       "<table border=\"1\" class=\"dataframe\">\n",
       "  <thead>\n",
       "    <tr style=\"text-align: right;\">\n",
       "      <th></th>\n",
       "      <th>COUNTY</th>\n",
       "      <th>CITY</th>\n",
       "    </tr>\n",
       "  </thead>\n",
       "  <tbody>\n",
       "    <tr>\n",
       "      <th>0</th>\n",
       "      <td>San Bernardino County</td>\n",
       "      <td>Adelanto</td>\n",
       "    </tr>\n",
       "    <tr>\n",
       "      <th>1</th>\n",
       "      <td>Los Angeles County</td>\n",
       "      <td>Agoura Hills</td>\n",
       "    </tr>\n",
       "    <tr>\n",
       "      <th>2</th>\n",
       "      <td>Alameda County</td>\n",
       "      <td>Alameda</td>\n",
       "    </tr>\n",
       "    <tr>\n",
       "      <th>3</th>\n",
       "      <td>Alameda County</td>\n",
       "      <td>Albany</td>\n",
       "    </tr>\n",
       "    <tr>\n",
       "      <th>4</th>\n",
       "      <td>Los Angeles County</td>\n",
       "      <td>Alhambra</td>\n",
       "    </tr>\n",
       "  </tbody>\n",
       "</table>\n",
       "</div>"
      ],
      "text/plain": [
       "                  COUNTY          CITY\n",
       "0  San Bernardino County      Adelanto\n",
       "1     Los Angeles County  Agoura Hills\n",
       "2         Alameda County       Alameda\n",
       "3         Alameda County        Albany\n",
       "4     Los Angeles County      Alhambra"
      ]
     },
     "execution_count": 3,
     "metadata": {},
     "output_type": "execute_result"
    }
   ],
   "source": [
    "cc.head()"
   ]
  },
  {
   "cell_type": "code",
   "execution_count": 4,
   "metadata": {},
   "outputs": [],
   "source": [
    "cc['CITY'] = cc.CITY.str.upper()"
   ]
  },
  {
   "cell_type": "code",
   "execution_count": 5,
   "metadata": {},
   "outputs": [
    {
     "data": {
      "text/html": [
       "<div>\n",
       "<style scoped>\n",
       "    .dataframe tbody tr th:only-of-type {\n",
       "        vertical-align: middle;\n",
       "    }\n",
       "\n",
       "    .dataframe tbody tr th {\n",
       "        vertical-align: top;\n",
       "    }\n",
       "\n",
       "    .dataframe thead th {\n",
       "        text-align: right;\n",
       "    }\n",
       "</style>\n",
       "<table border=\"1\" class=\"dataframe\">\n",
       "  <thead>\n",
       "    <tr style=\"text-align: right;\">\n",
       "      <th></th>\n",
       "      <th>COUNTY</th>\n",
       "      <th>CITY</th>\n",
       "    </tr>\n",
       "  </thead>\n",
       "  <tbody>\n",
       "    <tr>\n",
       "      <th>0</th>\n",
       "      <td>San Bernardino County</td>\n",
       "      <td>ADELANTO</td>\n",
       "    </tr>\n",
       "    <tr>\n",
       "      <th>1</th>\n",
       "      <td>Los Angeles County</td>\n",
       "      <td>AGOURA HILLS</td>\n",
       "    </tr>\n",
       "    <tr>\n",
       "      <th>2</th>\n",
       "      <td>Alameda County</td>\n",
       "      <td>ALAMEDA</td>\n",
       "    </tr>\n",
       "    <tr>\n",
       "      <th>3</th>\n",
       "      <td>Alameda County</td>\n",
       "      <td>ALBANY</td>\n",
       "    </tr>\n",
       "    <tr>\n",
       "      <th>4</th>\n",
       "      <td>Los Angeles County</td>\n",
       "      <td>ALHAMBRA</td>\n",
       "    </tr>\n",
       "  </tbody>\n",
       "</table>\n",
       "</div>"
      ],
      "text/plain": [
       "                  COUNTY          CITY\n",
       "0  San Bernardino County      ADELANTO\n",
       "1     Los Angeles County  AGOURA HILLS\n",
       "2         Alameda County       ALAMEDA\n",
       "3         Alameda County        ALBANY\n",
       "4     Los Angeles County      ALHAMBRA"
      ]
     },
     "execution_count": 5,
     "metadata": {},
     "output_type": "execute_result"
    }
   ],
   "source": [
    "cc.head()"
   ]
  },
  {
   "cell_type": "code",
   "execution_count": 6,
   "metadata": {},
   "outputs": [],
   "source": [
    "cc.rename(columns={'COUNTY':'county', 'CITY':'city'}, inplace=True)"
   ]
  },
  {
   "cell_type": "code",
   "execution_count": 7,
   "metadata": {},
   "outputs": [
    {
     "data": {
      "text/html": [
       "<div>\n",
       "<style scoped>\n",
       "    .dataframe tbody tr th:only-of-type {\n",
       "        vertical-align: middle;\n",
       "    }\n",
       "\n",
       "    .dataframe tbody tr th {\n",
       "        vertical-align: top;\n",
       "    }\n",
       "\n",
       "    .dataframe thead th {\n",
       "        text-align: right;\n",
       "    }\n",
       "</style>\n",
       "<table border=\"1\" class=\"dataframe\">\n",
       "  <thead>\n",
       "    <tr style=\"text-align: right;\">\n",
       "      <th></th>\n",
       "      <th>county</th>\n",
       "      <th>city</th>\n",
       "    </tr>\n",
       "  </thead>\n",
       "  <tbody>\n",
       "    <tr>\n",
       "      <th>0</th>\n",
       "      <td>San Bernardino County</td>\n",
       "      <td>ADELANTO</td>\n",
       "    </tr>\n",
       "    <tr>\n",
       "      <th>1</th>\n",
       "      <td>Los Angeles County</td>\n",
       "      <td>AGOURA HILLS</td>\n",
       "    </tr>\n",
       "    <tr>\n",
       "      <th>2</th>\n",
       "      <td>Alameda County</td>\n",
       "      <td>ALAMEDA</td>\n",
       "    </tr>\n",
       "    <tr>\n",
       "      <th>3</th>\n",
       "      <td>Alameda County</td>\n",
       "      <td>ALBANY</td>\n",
       "    </tr>\n",
       "    <tr>\n",
       "      <th>4</th>\n",
       "      <td>Los Angeles County</td>\n",
       "      <td>ALHAMBRA</td>\n",
       "    </tr>\n",
       "  </tbody>\n",
       "</table>\n",
       "</div>"
      ],
      "text/plain": [
       "                  county          city\n",
       "0  San Bernardino County      ADELANTO\n",
       "1     Los Angeles County  AGOURA HILLS\n",
       "2         Alameda County       ALAMEDA\n",
       "3         Alameda County        ALBANY\n",
       "4     Los Angeles County      ALHAMBRA"
      ]
     },
     "execution_count": 7,
     "metadata": {},
     "output_type": "execute_result"
    }
   ],
   "source": [
    "cc.head()"
   ]
  },
  {
   "cell_type": "code",
   "execution_count": 8,
   "metadata": {},
   "outputs": [
    {
     "data": {
      "text/plain": [
       "(746373, 72)"
      ]
     },
     "execution_count": 8,
     "metadata": {},
     "output_type": "execute_result"
    }
   ],
   "source": [
    "cpuc.shape"
   ]
  },
  {
   "cell_type": "code",
   "execution_count": 9,
   "metadata": {},
   "outputs": [
    {
     "data": {
      "text/plain": [
       "(746373, 74)"
      ]
     },
     "execution_count": 9,
     "metadata": {},
     "output_type": "execute_result"
    }
   ],
   "source": [
    "df = cpuc.merge(cc, left_on='SiteCity', right_on='city', how='left')\n",
    "df.shape"
   ]
  },
  {
   "cell_type": "code",
   "execution_count": 10,
   "metadata": {},
   "outputs": [
    {
     "data": {
      "text/plain": [
       "San Francisco       2043\n",
       "VALENCIA            1998\n",
       "Santa Rosa          1493\n",
       "CITY OF INDUSTRY    1402\n",
       "MC FARLAND          1265\n",
       "                    ... \n",
       "RAYMOND                1\n",
       "Paramount              1\n",
       "Mill Valley            1\n",
       "Calexico               1\n",
       "twentynine             1\n",
       "Name: SiteCity, Length: 1017, dtype: int64"
      ]
     },
     "execution_count": 10,
     "metadata": {},
     "output_type": "execute_result"
    }
   ],
   "source": [
    "df[df.county.isna()].SiteCity.value_counts()"
   ]
  },
  {
   "cell_type": "code",
   "execution_count": 11,
   "metadata": {},
   "outputs": [],
   "source": [
    "nocounty = df[df.county.isna()].SiteCity.value_counts().index.to_list()"
   ]
  },
  {
   "cell_type": "code",
   "execution_count": 12,
   "metadata": {},
   "outputs": [],
   "source": [
    "df.replace(to_replace='SAN LUIS OBISBO', value='SAN LUIS OBISPO', inplace=True)"
   ]
  },
  {
   "cell_type": "code",
   "execution_count": 13,
   "metadata": {},
   "outputs": [
    {
     "data": {
      "text/plain": [
       "San Francisco       2043\n",
       "VALENCIA            1998\n",
       "Santa Rosa          1493\n",
       "CITY OF INDUSTRY    1402\n",
       "MC FARLAND          1265\n",
       "PLUMAS LAKE         1249\n",
       "SPRING VALLEY       1067\n",
       "MARIPOSA            1034\n",
       "SAN JUAN CAPO       1018\n",
       "RAMONA              1003\n",
       "WINCHESTER          1001\n",
       "Name: SiteCity, dtype: int64"
      ]
     },
     "execution_count": 13,
     "metadata": {},
     "output_type": "execute_result"
    }
   ],
   "source": [
    "df[df.county.isna()].SiteCity.value_counts()[df[df.county.isna()].SiteCity.value_counts()>=1000]"
   ]
  },
  {
   "cell_type": "code",
   "execution_count": 14,
   "metadata": {},
   "outputs": [],
   "source": [
    "city_ag = pd.read_csv('data/city_ag_2.csv')\n",
    "cities = pd.read_csv('data/cities_1.csv')"
   ]
  },
  {
   "cell_type": "markdown",
   "metadata": {},
   "source": [
    "## instead of trying to map entire cpuc dataset, map only local government/k12 programs"
   ]
  },
  {
   "cell_type": "markdown",
   "metadata": {},
   "source": [
    "Goal: put local government programs and k12 programs in one claims df with budget and resource"
   ]
  },
  {
   "cell_type": "code",
   "execution_count": 15,
   "metadata": {},
   "outputs": [],
   "source": [
    "lglist = ['Local Government (Counties)',\n",
    "         'Local Government ()',\n",
    "         'Local Government (Cities)',\n",
    "         'Local Government ']"
   ]
  },
  {
   "cell_type": "code",
   "execution_count": 16,
   "metadata": {},
   "outputs": [],
   "source": [
    "k12 = pd.read_csv('data/cpuc_claims_k-12_programs_2017_2019.csv')"
   ]
  },
  {
   "cell_type": "code",
   "execution_count": 17,
   "metadata": {},
   "outputs": [],
   "source": [
    "lg = cpuc[cpuc['Grouping'].isin(lglist)]"
   ]
  },
  {
   "cell_type": "code",
   "execution_count": 18,
   "metadata": {},
   "outputs": [
    {
     "name": "stderr",
     "output_type": "stream",
     "text": [
      "C:\\Users\\audre\\anaconda3\\lib\\site-packages\\pandas\\core\\generic.py:5168: SettingWithCopyWarning: \n",
      "A value is trying to be set on a copy of a slice from a DataFrame.\n",
      "Try using .loc[row_indexer,col_indexer] = value instead\n",
      "\n",
      "See the caveats in the documentation: https://pandas.pydata.org/pandas-docs/stable/user_guide/indexing.html#returning-a-view-versus-a-copy\n",
      "  self[name] = value\n"
     ]
    }
   ],
   "source": [
    "lg.SiteCity = lg.SiteCity.str.upper()"
   ]
  },
  {
   "cell_type": "code",
   "execution_count": 19,
   "metadata": {},
   "outputs": [],
   "source": [
    "br = cpuc[['Budget', 'Resource_Flag', 'ClaimID']]"
   ]
  },
  {
   "cell_type": "code",
   "execution_count": 20,
   "metadata": {},
   "outputs": [],
   "source": [
    "k12_b = k12.merge(br, left_on='ClaimID', right_on='ClaimID', how='left')"
   ]
  },
  {
   "cell_type": "code",
   "execution_count": 21,
   "metadata": {},
   "outputs": [
    {
     "data": {
      "text/plain": [
       "BAKERSFIELD      18569\n",
       "BRENTWOOD          970\n",
       "BURLINGAME         920\n",
       "BERKELEY           409\n",
       "BUELLTON           277\n",
       "BENICIA            126\n",
       "BLUE LAKE          121\n",
       "BAKERSIFELD         75\n",
       "BEVERLY HILLS       70\n",
       "BUENA PARK          67\n",
       "BAY POINT           65\n",
       "BRIDGEPORT          58\n",
       "BRISBANE            58\n",
       "BAYSIDE             48\n",
       "BOULDER CREEK       29\n",
       "BLYTHE              26\n",
       "BARSTOW             25\n",
       "BALDWIN PARK        20\n",
       "BUTTONWILLOW        19\n",
       "BELMONT             13\n",
       "BISHOP              12\n",
       "BELVEDERE            7\n",
       "BENTON               6\n",
       "BALBOA               6\n",
       "BRADLEY              5\n",
       "BURNEY               5\n",
       "BRIDGEVILLE          4\n",
       "BODEGA BAY           3\n",
       "BEN LOMOND           3\n",
       "BOONVILLE            3\n",
       "BETHEL ISLAND        2\n",
       "BROWNS VALLEY        2\n",
       "BREA                 2\n",
       "BANTA                1\n",
       "BROOKDALE            1\n",
       "Name: SiteCity, dtype: int64"
      ]
     },
     "execution_count": 21,
     "metadata": {},
     "output_type": "execute_result"
    }
   ],
   "source": [
    "lg[lg.SiteCity.str.startswith('B')].SiteCity.value_counts()"
   ]
  },
  {
   "cell_type": "code",
   "execution_count": 22,
   "metadata": {},
   "outputs": [
    {
     "data": {
      "text/plain": [
       "BLOOMINGTON     61\n",
       "BALDWIN PARK    52\n",
       "BREA            42\n",
       "BELLFLOWER      40\n",
       "BUENA PARK      25\n",
       "BURLINGAME      13\n",
       "BERKELEY         9\n",
       "BLYTHE           2\n",
       "Name: SiteCity, dtype: int64"
      ]
     },
     "execution_count": 22,
     "metadata": {},
     "output_type": "execute_result"
    }
   ],
   "source": [
    "k12_b[k12_b.SiteCity.str.startswith('B')].SiteCity.value_counts()"
   ]
  },
  {
   "cell_type": "code",
   "execution_count": 23,
   "metadata": {},
   "outputs": [
    {
     "name": "stderr",
     "output_type": "stream",
     "text": [
      "C:\\Users\\audre\\anaconda3\\lib\\site-packages\\pandas\\core\\frame.py:4379: SettingWithCopyWarning: \n",
      "A value is trying to be set on a copy of a slice from a DataFrame\n",
      "\n",
      "See the caveats in the documentation: https://pandas.pydata.org/pandas-docs/stable/user_guide/indexing.html#returning-a-view-versus-a-copy\n",
      "  return super().replace(\n"
     ]
    }
   ],
   "source": [
    "lg.replace(to_replace='BAKERSIFELD', value='BAKERSFIELD', inplace=True)"
   ]
  },
  {
   "cell_type": "code",
   "execution_count": 24,
   "metadata": {},
   "outputs": [
    {
     "data": {
      "text/plain": [
       "BAKERSFIELD      18644\n",
       "BRENTWOOD          970\n",
       "BURLINGAME         920\n",
       "BERKELEY           409\n",
       "BUELLTON           277\n",
       "BENICIA            126\n",
       "BLUE LAKE          121\n",
       "BEVERLY HILLS       70\n",
       "BUENA PARK          67\n",
       "BAY POINT           65\n",
       "BRISBANE            58\n",
       "BRIDGEPORT          58\n",
       "BAYSIDE             48\n",
       "BOULDER CREEK       29\n",
       "BLYTHE              26\n",
       "BARSTOW             25\n",
       "BALDWIN PARK        20\n",
       "BUTTONWILLOW        19\n",
       "BELMONT             13\n",
       "BISHOP              12\n",
       "BELVEDERE            7\n",
       "BENTON               6\n",
       "BALBOA               6\n",
       "BURNEY               5\n",
       "BRADLEY              5\n",
       "BRIDGEVILLE          4\n",
       "BODEGA BAY           3\n",
       "BOONVILLE            3\n",
       "BEN LOMOND           3\n",
       "BROWNS VALLEY        2\n",
       "BREA                 2\n",
       "BETHEL ISLAND        2\n",
       "BANTA                1\n",
       "BROOKDALE            1\n",
       "Name: SiteCity, dtype: int64"
      ]
     },
     "execution_count": 24,
     "metadata": {},
     "output_type": "execute_result"
    }
   ],
   "source": [
    "lg[lg.SiteCity.str.startswith('B')].SiteCity.value_counts()"
   ]
  },
  {
   "cell_type": "code",
   "execution_count": 25,
   "metadata": {},
   "outputs": [],
   "source": [
    "k12_b.to_csv('data/k12_with_budget_and_resource.csv',index=False)\n",
    "\n",
    "lg.to_csv('data/lg_with_budget_and_resource.csv', index=False)"
   ]
  },
  {
   "cell_type": "markdown",
   "metadata": {},
   "source": [
    "_____"
   ]
  },
  {
   "cell_type": "markdown",
   "metadata": {},
   "source": [
    "# Looking at percentage of budget for cities that have no demographic information"
   ]
  },
  {
   "cell_type": "code",
   "execution_count": 26,
   "metadata": {},
   "outputs": [],
   "source": [
    "nc = cities[cities.city.isna()].SiteCity.to_list()"
   ]
  },
  {
   "cell_type": "code",
   "execution_count": 27,
   "metadata": {},
   "outputs": [
    {
     "data": {
      "text/plain": [
       "CUTTEN         433\n",
       "BUELLTON       277\n",
       "GUADALUPE      270\n",
       "SAN JOAQUIN    202\n",
       "TIBURON        186\n",
       "              ... \n",
       "SANTA NELLA      1\n",
       "BANTA            1\n",
       "VERNALIS         1\n",
       "SUTTER           1\n",
       "LOS MOLINOS      1\n",
       "Name: SiteCity, Length: 119, dtype: int64"
      ]
     },
     "execution_count": 27,
     "metadata": {},
     "output_type": "execute_result"
    }
   ],
   "source": [
    "lg[lg.SiteCity.isin(nc)].SiteCity.value_counts()"
   ]
  },
  {
   "cell_type": "code",
   "execution_count": 28,
   "metadata": {},
   "outputs": [
    {
     "data": {
      "text/plain": [
       "1.1664638581450064"
      ]
     },
     "execution_count": 28,
     "metadata": {},
     "output_type": "execute_result"
    }
   ],
   "source": [
    "lg[lg.SiteCity.isin(nc)].Budget.sum()/lg.Budget.sum()*100"
   ]
  },
  {
   "cell_type": "markdown",
   "metadata": {},
   "source": [
    "1.1% of budget used occurs in these cities with no data, ok to chuck? weird because that's a quarter of the k12 data, and we decided 4.5% is significant enough to run a regression but 1.1% insignificant enough to chuck?? doesn't really add up if that is the reasoning..... might be able to manually reclassify some of the bigger places to bring this number down, but where to draw the line? ej: if goal is to bring budget percentage down to 0.5%, could either reclassify many little places or a few big places... not fair to whichever party is excluded from analysis... gotta ask team about this one, mostly concered about what we put in the final write up to justify the chucking mostly bc its compared with us saying 'oh 4.5% is good enough for regressions!' in the k12 place. so maybe will have to write something else like 'members of the energy industry wanted us to include k12 programs in our analysis'"
   ]
  },
  {
   "cell_type": "code",
   "execution_count": 29,
   "metadata": {},
   "outputs": [
    {
     "data": {
      "text/plain": [
       "0.005220801152839025"
      ]
     },
     "execution_count": 29,
     "metadata": {},
     "output_type": "execute_result"
    }
   ],
   "source": [
    "k12_b[k12_b.SiteCity.isin(nc)].Budget.sum()/k12_b.Budget.sum()*100"
   ]
  },
  {
   "cell_type": "markdown",
   "metadata": {},
   "source": [
    "0.005% of no city budget for k12, def ok to chuck"
   ]
  },
  {
   "cell_type": "markdown",
   "metadata": {},
   "source": [
    "_______"
   ]
  },
  {
   "cell_type": "markdown",
   "metadata": {},
   "source": [
    "## **CITY COUNTY MAP???**"
   ]
  },
  {
   "cell_type": "code",
   "execution_count": 71,
   "metadata": {},
   "outputs": [],
   "source": [
    "ccr = pd.read_csv('data/city_county_ruca.csv')"
   ]
  },
  {
   "cell_type": "code",
   "execution_count": 72,
   "metadata": {},
   "outputs": [
    {
     "data": {
      "text/html": [
       "<div>\n",
       "<style scoped>\n",
       "    .dataframe tbody tr th:only-of-type {\n",
       "        vertical-align: middle;\n",
       "    }\n",
       "\n",
       "    .dataframe tbody tr th {\n",
       "        vertical-align: top;\n",
       "    }\n",
       "\n",
       "    .dataframe thead th {\n",
       "        text-align: right;\n",
       "    }\n",
       "</style>\n",
       "<table border=\"1\" class=\"dataframe\">\n",
       "  <thead>\n",
       "    <tr style=\"text-align: right;\">\n",
       "      <th></th>\n",
       "      <th>city</th>\n",
       "      <th>County</th>\n",
       "      <th>RUCA code</th>\n",
       "    </tr>\n",
       "  </thead>\n",
       "  <tbody>\n",
       "    <tr>\n",
       "      <th>0</th>\n",
       "      <td>ACAMPO</td>\n",
       "      <td>SAN JOAQUIN</td>\n",
       "      <td>3</td>\n",
       "    </tr>\n",
       "    <tr>\n",
       "      <th>1</th>\n",
       "      <td>ACAMPO</td>\n",
       "      <td>SAN JOAQUIN</td>\n",
       "      <td>1</td>\n",
       "    </tr>\n",
       "    <tr>\n",
       "      <th>2</th>\n",
       "      <td>ACTON</td>\n",
       "      <td>LOS ANGELES</td>\n",
       "      <td>2</td>\n",
       "    </tr>\n",
       "    <tr>\n",
       "      <th>3</th>\n",
       "      <td>ADELANTO</td>\n",
       "      <td>SAN BERNARDINO</td>\n",
       "      <td>1</td>\n",
       "    </tr>\n",
       "    <tr>\n",
       "      <th>4</th>\n",
       "      <td>AGOURA HILLS</td>\n",
       "      <td>LOS ANGELES</td>\n",
       "      <td>2</td>\n",
       "    </tr>\n",
       "  </tbody>\n",
       "</table>\n",
       "</div>"
      ],
      "text/plain": [
       "           city          County  RUCA code\n",
       "0        ACAMPO     SAN JOAQUIN          3\n",
       "1        ACAMPO     SAN JOAQUIN          1\n",
       "2         ACTON     LOS ANGELES          2\n",
       "3      ADELANTO  SAN BERNARDINO          1\n",
       "4  AGOURA HILLS     LOS ANGELES          2"
      ]
     },
     "execution_count": 72,
     "metadata": {},
     "output_type": "execute_result"
    }
   ],
   "source": [
    "ccr.head()"
   ]
  },
  {
   "cell_type": "code",
   "execution_count": 73,
   "metadata": {},
   "outputs": [],
   "source": [
    "cc = ccr[['city', 'County']]"
   ]
  },
  {
   "cell_type": "code",
   "execution_count": 76,
   "metadata": {},
   "outputs": [
    {
     "name": "stderr",
     "output_type": "stream",
     "text": [
      "C:\\Users\\audre\\anaconda3\\lib\\site-packages\\pandas\\core\\frame.py:4296: SettingWithCopyWarning: \n",
      "A value is trying to be set on a copy of a slice from a DataFrame\n",
      "\n",
      "See the caveats in the documentation: https://pandas.pydata.org/pandas-docs/stable/user_guide/indexing.html#returning-a-view-versus-a-copy\n",
      "  return super().rename(\n"
     ]
    }
   ],
   "source": [
    "cc.rename(columns={'County':'county'}, inplace=True)"
   ]
  },
  {
   "cell_type": "code",
   "execution_count": 79,
   "metadata": {},
   "outputs": [],
   "source": [
    "cc = cc.drop_duplicates()\n",
    "\n",
    "dc = cc.city.value_counts()>1\n",
    "\n",
    "double_cities = dc.reset_index()[dc.reset_index().city==True]['index'].to_list()"
   ]
  },
  {
   "cell_type": "code",
   "execution_count": 89,
   "metadata": {},
   "outputs": [
    {
     "data": {
      "text/html": [
       "<div>\n",
       "<style scoped>\n",
       "    .dataframe tbody tr th:only-of-type {\n",
       "        vertical-align: middle;\n",
       "    }\n",
       "\n",
       "    .dataframe tbody tr th {\n",
       "        vertical-align: top;\n",
       "    }\n",
       "\n",
       "    .dataframe thead th {\n",
       "        text-align: right;\n",
       "    }\n",
       "</style>\n",
       "<table border=\"1\" class=\"dataframe\">\n",
       "  <thead>\n",
       "    <tr style=\"text-align: right;\">\n",
       "      <th></th>\n",
       "      <th>city</th>\n",
       "      <th>county</th>\n",
       "    </tr>\n",
       "  </thead>\n",
       "  <tbody>\n",
       "    <tr>\n",
       "      <th>4</th>\n",
       "      <td>AGOURA HILLS</td>\n",
       "      <td>LOS ANGELES</td>\n",
       "    </tr>\n",
       "    <tr>\n",
       "      <th>6</th>\n",
       "      <td>AGOURA HILLS</td>\n",
       "      <td>VENTURA</td>\n",
       "    </tr>\n",
       "    <tr>\n",
       "      <th>64</th>\n",
       "      <td>BERKELEY</td>\n",
       "      <td>CONTRA COSTA</td>\n",
       "    </tr>\n",
       "    <tr>\n",
       "      <th>65</th>\n",
       "      <td>BERKELEY</td>\n",
       "      <td>ALAMEDA</td>\n",
       "    </tr>\n",
       "    <tr>\n",
       "      <th>73</th>\n",
       "      <td>BISHOP</td>\n",
       "      <td>INYO</td>\n",
       "    </tr>\n",
       "    <tr>\n",
       "      <th>75</th>\n",
       "      <td>BISHOP</td>\n",
       "      <td>MONO</td>\n",
       "    </tr>\n",
       "    <tr>\n",
       "      <th>193</th>\n",
       "      <td>COTTONWOOD</td>\n",
       "      <td>TEHAMA</td>\n",
       "    </tr>\n",
       "    <tr>\n",
       "      <th>194</th>\n",
       "      <td>COTTONWOOD</td>\n",
       "      <td>SHASTA</td>\n",
       "    </tr>\n",
       "    <tr>\n",
       "      <th>228</th>\n",
       "      <td>DIXON</td>\n",
       "      <td>YOLO</td>\n",
       "    </tr>\n",
       "    <tr>\n",
       "      <th>229</th>\n",
       "      <td>DIXON</td>\n",
       "      <td>SOLANO</td>\n",
       "    </tr>\n",
       "    <tr>\n",
       "      <th>282</th>\n",
       "      <td>FIREBAUGH</td>\n",
       "      <td>FRESNO</td>\n",
       "    </tr>\n",
       "    <tr>\n",
       "      <th>283</th>\n",
       "      <td>FIREBAUGH</td>\n",
       "      <td>MADERA</td>\n",
       "    </tr>\n",
       "    <tr>\n",
       "      <th>395</th>\n",
       "      <td>KINGSBURG</td>\n",
       "      <td>FRESNO</td>\n",
       "    </tr>\n",
       "    <tr>\n",
       "      <th>396</th>\n",
       "      <td>KINGSBURG</td>\n",
       "      <td>TULARE</td>\n",
       "    </tr>\n",
       "    <tr>\n",
       "      <th>403</th>\n",
       "      <td>LA HABRA</td>\n",
       "      <td>ORANGE</td>\n",
       "    </tr>\n",
       "    <tr>\n",
       "      <th>404</th>\n",
       "      <td>LA HABRA</td>\n",
       "      <td>LOS ANGELES</td>\n",
       "    </tr>\n",
       "    <tr>\n",
       "      <th>480</th>\n",
       "      <td>LOS GATOS</td>\n",
       "      <td>SANTA CRUZ</td>\n",
       "    </tr>\n",
       "    <tr>\n",
       "      <th>481</th>\n",
       "      <td>LOS GATOS</td>\n",
       "      <td>SANTA CLARA</td>\n",
       "    </tr>\n",
       "    <tr>\n",
       "      <th>515</th>\n",
       "      <td>MCARTHUR</td>\n",
       "      <td>MODOC</td>\n",
       "    </tr>\n",
       "    <tr>\n",
       "      <th>516</th>\n",
       "      <td>MCARTHUR</td>\n",
       "      <td>LASSEN</td>\n",
       "    </tr>\n",
       "    <tr>\n",
       "      <th>611</th>\n",
       "      <td>ORANGE COVE</td>\n",
       "      <td>TULARE</td>\n",
       "    </tr>\n",
       "    <tr>\n",
       "      <th>612</th>\n",
       "      <td>ORANGE COVE</td>\n",
       "      <td>FRESNO</td>\n",
       "    </tr>\n",
       "    <tr>\n",
       "      <th>632</th>\n",
       "      <td>PALO ALTO</td>\n",
       "      <td>SANTA CLARA</td>\n",
       "    </tr>\n",
       "    <tr>\n",
       "      <th>633</th>\n",
       "      <td>PALO ALTO</td>\n",
       "      <td>SAN MATEO</td>\n",
       "    </tr>\n",
       "    <tr>\n",
       "      <th>653</th>\n",
       "      <td>PETALUMA</td>\n",
       "      <td>SONOMA</td>\n",
       "    </tr>\n",
       "    <tr>\n",
       "      <th>654</th>\n",
       "      <td>PETALUMA</td>\n",
       "      <td>MARIN</td>\n",
       "    </tr>\n",
       "    <tr>\n",
       "      <th>720</th>\n",
       "      <td>RIDGECREST</td>\n",
       "      <td>SAN BERNARDINO</td>\n",
       "    </tr>\n",
       "    <tr>\n",
       "      <th>721</th>\n",
       "      <td>RIDGECREST</td>\n",
       "      <td>KERN</td>\n",
       "    </tr>\n",
       "    <tr>\n",
       "      <th>738</th>\n",
       "      <td>SACRAMENTO</td>\n",
       "      <td>SACRAMENTO</td>\n",
       "    </tr>\n",
       "    <tr>\n",
       "      <th>740</th>\n",
       "      <td>SACRAMENTO</td>\n",
       "      <td>YOLO</td>\n",
       "    </tr>\n",
       "    <tr>\n",
       "      <th>755</th>\n",
       "      <td>SAN FRANCISCO</td>\n",
       "      <td>SAN FRANCISCO</td>\n",
       "    </tr>\n",
       "    <tr>\n",
       "      <th>756</th>\n",
       "      <td>SAN FRANCISCO</td>\n",
       "      <td>SAN MATEO</td>\n",
       "    </tr>\n",
       "    <tr>\n",
       "      <th>874</th>\n",
       "      <td>THERMAL</td>\n",
       "      <td>IMPERIAL</td>\n",
       "    </tr>\n",
       "    <tr>\n",
       "      <th>875</th>\n",
       "      <td>THERMAL</td>\n",
       "      <td>RIVERSIDE</td>\n",
       "    </tr>\n",
       "    <tr>\n",
       "      <th>877</th>\n",
       "      <td>THOUSAND OAKS</td>\n",
       "      <td>VENTURA</td>\n",
       "    </tr>\n",
       "    <tr>\n",
       "      <th>878</th>\n",
       "      <td>THOUSAND OAKS</td>\n",
       "      <td>LOS ANGELES</td>\n",
       "    </tr>\n",
       "    <tr>\n",
       "      <th>892</th>\n",
       "      <td>TRUCKEE</td>\n",
       "      <td>NEVADA</td>\n",
       "    </tr>\n",
       "    <tr>\n",
       "      <th>893</th>\n",
       "      <td>TRUCKEE</td>\n",
       "      <td>PLACER</td>\n",
       "    </tr>\n",
       "    <tr>\n",
       "      <th>930</th>\n",
       "      <td>WATSONVILLE</td>\n",
       "      <td>SANTA CRUZ</td>\n",
       "    </tr>\n",
       "    <tr>\n",
       "      <th>931</th>\n",
       "      <td>WATSONVILLE</td>\n",
       "      <td>MONTEREY</td>\n",
       "    </tr>\n",
       "    <tr>\n",
       "      <th>937</th>\n",
       "      <td>WEST HILLS</td>\n",
       "      <td>VENTURA</td>\n",
       "    </tr>\n",
       "    <tr>\n",
       "      <th>938</th>\n",
       "      <td>WEST HILLS</td>\n",
       "      <td>LOS ANGELES</td>\n",
       "    </tr>\n",
       "    <tr>\n",
       "      <th>941</th>\n",
       "      <td>WESTLAKE VILLAGE</td>\n",
       "      <td>LOS ANGELES</td>\n",
       "    </tr>\n",
       "    <tr>\n",
       "      <th>942</th>\n",
       "      <td>WESTLAKE VILLAGE</td>\n",
       "      <td>VENTURA</td>\n",
       "    </tr>\n",
       "  </tbody>\n",
       "</table>\n",
       "</div>"
      ],
      "text/plain": [
       "                 city          county\n",
       "4        AGOURA HILLS     LOS ANGELES\n",
       "6        AGOURA HILLS         VENTURA\n",
       "64           BERKELEY    CONTRA COSTA\n",
       "65           BERKELEY         ALAMEDA\n",
       "73             BISHOP            INYO\n",
       "75             BISHOP            MONO\n",
       "193        COTTONWOOD          TEHAMA\n",
       "194        COTTONWOOD          SHASTA\n",
       "228             DIXON            YOLO\n",
       "229             DIXON          SOLANO\n",
       "282         FIREBAUGH          FRESNO\n",
       "283         FIREBAUGH          MADERA\n",
       "395         KINGSBURG          FRESNO\n",
       "396         KINGSBURG          TULARE\n",
       "403          LA HABRA          ORANGE\n",
       "404          LA HABRA     LOS ANGELES\n",
       "480         LOS GATOS      SANTA CRUZ\n",
       "481         LOS GATOS     SANTA CLARA\n",
       "515          MCARTHUR           MODOC\n",
       "516          MCARTHUR          LASSEN\n",
       "611       ORANGE COVE          TULARE\n",
       "612       ORANGE COVE          FRESNO\n",
       "632         PALO ALTO     SANTA CLARA\n",
       "633         PALO ALTO       SAN MATEO\n",
       "653          PETALUMA          SONOMA\n",
       "654          PETALUMA           MARIN\n",
       "720        RIDGECREST  SAN BERNARDINO\n",
       "721        RIDGECREST            KERN\n",
       "738        SACRAMENTO      SACRAMENTO\n",
       "740        SACRAMENTO            YOLO\n",
       "755     SAN FRANCISCO   SAN FRANCISCO\n",
       "756     SAN FRANCISCO       SAN MATEO\n",
       "874           THERMAL        IMPERIAL\n",
       "875           THERMAL       RIVERSIDE\n",
       "877     THOUSAND OAKS         VENTURA\n",
       "878     THOUSAND OAKS     LOS ANGELES\n",
       "892           TRUCKEE          NEVADA\n",
       "893           TRUCKEE          PLACER\n",
       "930       WATSONVILLE      SANTA CRUZ\n",
       "931       WATSONVILLE        MONTEREY\n",
       "937        WEST HILLS         VENTURA\n",
       "938        WEST HILLS     LOS ANGELES\n",
       "941  WESTLAKE VILLAGE     LOS ANGELES\n",
       "942  WESTLAKE VILLAGE         VENTURA"
      ]
     },
     "execution_count": 89,
     "metadata": {},
     "output_type": "execute_result"
    }
   ],
   "source": [
    "cc[cc.city.isin(double_cities)]"
   ]
  },
  {
   "cell_type": "code",
   "execution_count": 98,
   "metadata": {},
   "outputs": [],
   "source": [
    "wrong_counties = [6,64,75,193,228,283,396,404,480,516,611,633,654,720,740,756,874,878,893,931,937,942]"
   ]
  },
  {
   "cell_type": "code",
   "execution_count": 99,
   "metadata": {},
   "outputs": [],
   "source": [
    "cc.drop(index=wrong_counties, inplace=True)"
   ]
  },
  {
   "cell_type": "code",
   "execution_count": 94,
   "metadata": {},
   "outputs": [],
   "source": [
    "cc.loc[515]=['MCARTHUR', 'SHASTA']"
   ]
  },
  {
   "cell_type": "code",
   "execution_count": 104,
   "metadata": {},
   "outputs": [],
   "source": [
    "cc.reset_index(drop=True, inplace=True)"
   ]
  },
  {
   "cell_type": "code",
   "execution_count": 105,
   "metadata": {},
   "outputs": [
    {
     "data": {
      "text/html": [
       "<div>\n",
       "<style scoped>\n",
       "    .dataframe tbody tr th:only-of-type {\n",
       "        vertical-align: middle;\n",
       "    }\n",
       "\n",
       "    .dataframe tbody tr th {\n",
       "        vertical-align: top;\n",
       "    }\n",
       "\n",
       "    .dataframe thead th {\n",
       "        text-align: right;\n",
       "    }\n",
       "</style>\n",
       "<table border=\"1\" class=\"dataframe\">\n",
       "  <thead>\n",
       "    <tr style=\"text-align: right;\">\n",
       "      <th></th>\n",
       "      <th>city</th>\n",
       "      <th>county</th>\n",
       "    </tr>\n",
       "  </thead>\n",
       "  <tbody>\n",
       "    <tr>\n",
       "      <th>0</th>\n",
       "      <td>ACAMPO</td>\n",
       "      <td>SAN JOAQUIN</td>\n",
       "    </tr>\n",
       "    <tr>\n",
       "      <th>1</th>\n",
       "      <td>ACTON</td>\n",
       "      <td>LOS ANGELES</td>\n",
       "    </tr>\n",
       "    <tr>\n",
       "      <th>2</th>\n",
       "      <td>ADELANTO</td>\n",
       "      <td>SAN BERNARDINO</td>\n",
       "    </tr>\n",
       "    <tr>\n",
       "      <th>3</th>\n",
       "      <td>AGOURA HILLS</td>\n",
       "      <td>LOS ANGELES</td>\n",
       "    </tr>\n",
       "    <tr>\n",
       "      <th>4</th>\n",
       "      <td>ALAMEDA</td>\n",
       "      <td>ALAMEDA</td>\n",
       "    </tr>\n",
       "  </tbody>\n",
       "</table>\n",
       "</div>"
      ],
      "text/plain": [
       "           city          county\n",
       "0        ACAMPO     SAN JOAQUIN\n",
       "1         ACTON     LOS ANGELES\n",
       "2      ADELANTO  SAN BERNARDINO\n",
       "3  AGOURA HILLS     LOS ANGELES\n",
       "4       ALAMEDA         ALAMEDA"
      ]
     },
     "execution_count": 105,
     "metadata": {},
     "output_type": "execute_result"
    }
   ],
   "source": [
    "cc.head()"
   ]
  },
  {
   "cell_type": "code",
   "execution_count": 106,
   "metadata": {},
   "outputs": [],
   "source": [
    "cc.to_csv('data/city_county_mapping.csv', index=False)"
   ]
  },
  {
   "cell_type": "code",
   "execution_count": null,
   "metadata": {},
   "outputs": [],
   "source": []
  }
 ],
 "metadata": {
  "kernelspec": {
   "display_name": "Python 3",
   "language": "python",
   "name": "python3"
  },
  "language_info": {
   "codemirror_mode": {
    "name": "ipython",
    "version": 3
   },
   "file_extension": ".py",
   "mimetype": "text/x-python",
   "name": "python",
   "nbconvert_exporter": "python",
   "pygments_lexer": "ipython3",
   "version": "3.8.5"
  }
 },
 "nbformat": 4,
 "nbformat_minor": 4
}
