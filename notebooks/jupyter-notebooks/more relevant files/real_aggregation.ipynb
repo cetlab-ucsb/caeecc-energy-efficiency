{
 "cells": [
  {
   "cell_type": "code",
   "execution_count": 1,
   "metadata": {},
   "outputs": [],
   "source": [
    "import pandas as pd"
   ]
  },
  {
   "cell_type": "code",
   "execution_count": 2,
   "metadata": {},
   "outputs": [
    {
     "name": "stderr",
     "output_type": "stream",
     "text": [
      "C:\\Users\\audre\\anaconda3\\lib\\site-packages\\IPython\\core\\interactiveshell.py:3146: DtypeWarning: Columns (5,7,12,17,19,22,23,24,27,47,48,56,57) have mixed types.Specify dtype option on import or set low_memory=False.\n",
      "  has_raised = await self.run_ast_nodes(code_ast.body, cell_name,\n"
     ]
    }
   ],
   "source": [
    "cpuc = pd.read_csv('data/cpuc_with_budget_and_resource.csv')"
   ]
  },
  {
   "cell_type": "code",
   "execution_count": 3,
   "metadata": {},
   "outputs": [],
   "source": [
    "def aggregate_me(df, by, lg, column_list):\n",
    "    \n",
    "    # making df usable\n",
    "\n",
    "    df[by] = df[by].str.upper()\n",
    "    \n",
    "    #filtering for local government\n",
    "\n",
    "    if lg: \n",
    "\n",
    "        lglist = ['Local Government (Counties)',\n",
    "         'Local Government ()',\n",
    "         'Local Government (Cities)',\n",
    "         'Local Government ']\n",
    "\n",
    "        df = df[df['Grouping'].isin(lglist)]\n",
    "\n",
    "\n",
    "    # creating a total programs column\n",
    "\n",
    "    prg = df.groupby([by, 'PrgID'], dropna = False).size().index.tolist() \n",
    "    #need to count the number of times a city/county shows up \n",
    "\n",
    "    e,f = [list(c) for c in zip(*prg)]\n",
    "\n",
    "    ccp = pd.Series(e) # made a series so can use value_counts\n",
    "\n",
    "    ccp = ccp.str.upper()\n",
    "\n",
    "    tp = ccp.value_counts(dropna = False) #total programs per city\n",
    "    \n",
    "    # creating a total claims column\n",
    "    \n",
    "    df['Total Claims'] = [1]*len(df)\n",
    "    \n",
    "    #aggregate!\n",
    "    relevant_columns = column_list + ['Total Claims']\n",
    "    agg = df.groupby(by).sum()[relevant_columns]\n",
    "    agg['Total Programs'] = tp\n",
    "    \n",
    "    # Resource/OBF budget as percentage of total budget\n",
    "    obf_budget = df.groupby(['SiteCity', 'OBF_Flag']).Budget.sum().unstack().fillna(0).loc[:, True]\n",
    "    resource_budget = df.groupby(['SiteCity', 'Resource_Flag']).Budget.sum().unstack().fillna(0).loc[:, 1]\n",
    "    agg['% OBF Budget'] = (obf_budget/agg['Budget'])*100\n",
    "    agg['% Resource Budget'] = (resource_budget/agg['Budget'])*100\n",
    "    \n",
    "    return(agg.reset_index())"
   ]
  },
  {
   "cell_type": "code",
   "execution_count": 4,
   "metadata": {},
   "outputs": [],
   "source": [
    "def no_dupes(df):\n",
    "    \n",
    "    #creating df of number of times a claim repeats\n",
    "\n",
    "    repeats = df['ClaimID'].value_counts().to_frame().reset_index()\n",
    "\n",
    "    #getting list of duplicate claims\n",
    "    \n",
    "    all_dupes = repeats[repeats['ClaimID']>1]\n",
    "    dupes = all_dupes['index'].to_list()\n",
    "   \n",
    "\n",
    "    #getting one index value per duplicate claim\n",
    "\n",
    "    goodi=[]\n",
    "    for e in dupes:\n",
    "        goodi.append(min(df[df['ClaimID'].isin([e])].index.to_list()))\n",
    "    \n",
    "    # full list of duplicate claim indicies\n",
    "\n",
    "    alli=[]\n",
    "    for e in dupes:\n",
    "        alli = alli + df[df['ClaimID'].isin([e])].index.to_list()\n",
    "\n",
    "\n",
    "    # take goodi from alli\n",
    "    badi = [i for i in alli if i not in goodi]\n",
    "\n",
    "    #drop duplicate indicies\n",
    "    return(df.drop(index=badi).reset_index())"
   ]
  },
  {
   "cell_type": "code",
   "execution_count": 5,
   "metadata": {},
   "outputs": [],
   "source": [
    "copy = cpuc.copy()\n",
    "\n",
    "copy.drop(columns='Unnamed: 0', inplace=True)\n",
    "\n",
    "copy = copy.drop_duplicates().reset_index()\n",
    "\n",
    "unique_claims = no_dupes(copy)"
   ]
  },
  {
   "cell_type": "code",
   "execution_count": 6,
   "metadata": {},
   "outputs": [
    {
     "name": "stderr",
     "output_type": "stream",
     "text": [
      "<ipython-input-3-804daff755ff>:34: SettingWithCopyWarning: \n",
      "A value is trying to be set on a copy of a slice from a DataFrame.\n",
      "Try using .loc[row_indexer,col_indexer] = value instead\n",
      "\n",
      "See the caveats in the documentation: https://pandas.pydata.org/pandas-docs/stable/user_guide/indexing.html#returning-a-view-versus-a-copy\n",
      "  df['Total Claims'] = [1]*len(df)\n"
     ]
    }
   ],
   "source": [
    "city_ag = aggregate_me(unique_claims, 'SiteCity', True, ['TotalFirstYearGrosskWh', 'TotalFirstYearGrossTherm','TotalLifecycleGrosskWh', 'TotalLifecycleGrossTherm', 'Budget'])"
   ]
  },
  {
   "cell_type": "code",
   "execution_count": 7,
   "metadata": {},
   "outputs": [
    {
     "data": {
      "text/html": [
       "<div>\n",
       "<style scoped>\n",
       "    .dataframe tbody tr th:only-of-type {\n",
       "        vertical-align: middle;\n",
       "    }\n",
       "\n",
       "    .dataframe tbody tr th {\n",
       "        vertical-align: top;\n",
       "    }\n",
       "\n",
       "    .dataframe thead th {\n",
       "        text-align: right;\n",
       "    }\n",
       "</style>\n",
       "<table border=\"1\" class=\"dataframe\">\n",
       "  <thead>\n",
       "    <tr style=\"text-align: right;\">\n",
       "      <th></th>\n",
       "      <th>SiteCity</th>\n",
       "      <th>TotalFirstYearGrosskWh</th>\n",
       "      <th>TotalFirstYearGrossTherm</th>\n",
       "      <th>TotalLifecycleGrosskWh</th>\n",
       "      <th>TotalLifecycleGrossTherm</th>\n",
       "      <th>Budget</th>\n",
       "      <th>Total Claims</th>\n",
       "      <th>Total Programs</th>\n",
       "      <th>% OBF Budget</th>\n",
       "      <th>% Resource Budget</th>\n",
       "    </tr>\n",
       "  </thead>\n",
       "  <tbody>\n",
       "    <tr>\n",
       "      <th>0</th>\n",
       "      <td>ACAMPO</td>\n",
       "      <td>48664.726740</td>\n",
       "      <td>-148.890330</td>\n",
       "      <td>5.839767e+05</td>\n",
       "      <td>-1786.683960</td>\n",
       "      <td>17684.568509</td>\n",
       "      <td>6</td>\n",
       "      <td>1</td>\n",
       "      <td>0.000000</td>\n",
       "      <td>100.0</td>\n",
       "    </tr>\n",
       "    <tr>\n",
       "      <th>1</th>\n",
       "      <td>ADELANTO</td>\n",
       "      <td>13576.844232</td>\n",
       "      <td>-30.037266</td>\n",
       "      <td>6.788422e+04</td>\n",
       "      <td>-150.186330</td>\n",
       "      <td>27320.063231</td>\n",
       "      <td>4</td>\n",
       "      <td>1</td>\n",
       "      <td>0.000000</td>\n",
       "      <td>100.0</td>\n",
       "    </tr>\n",
       "    <tr>\n",
       "      <th>2</th>\n",
       "      <td>ALAMO</td>\n",
       "      <td>73049.392600</td>\n",
       "      <td>118.645240</td>\n",
       "      <td>6.850000e+05</td>\n",
       "      <td>-1279.097025</td>\n",
       "      <td>48785.542683</td>\n",
       "      <td>15</td>\n",
       "      <td>1</td>\n",
       "      <td>88.044896</td>\n",
       "      <td>100.0</td>\n",
       "    </tr>\n",
       "    <tr>\n",
       "      <th>3</th>\n",
       "      <td>ALBANY</td>\n",
       "      <td>153765.922000</td>\n",
       "      <td>-785.076334</td>\n",
       "      <td>8.422006e+05</td>\n",
       "      <td>-4288.070280</td>\n",
       "      <td>60926.193528</td>\n",
       "      <td>35</td>\n",
       "      <td>2</td>\n",
       "      <td>0.000000</td>\n",
       "      <td>100.0</td>\n",
       "    </tr>\n",
       "    <tr>\n",
       "      <th>4</th>\n",
       "      <td>ALHAMBRA</td>\n",
       "      <td>21630.949392</td>\n",
       "      <td>-32.172462</td>\n",
       "      <td>1.202334e+05</td>\n",
       "      <td>-178.879938</td>\n",
       "      <td>48465.447601</td>\n",
       "      <td>7</td>\n",
       "      <td>1</td>\n",
       "      <td>0.000000</td>\n",
       "      <td>100.0</td>\n",
       "    </tr>\n",
       "    <tr>\n",
       "      <th>...</th>\n",
       "      <td>...</td>\n",
       "      <td>...</td>\n",
       "      <td>...</td>\n",
       "      <td>...</td>\n",
       "      <td>...</td>\n",
       "      <td>...</td>\n",
       "      <td>...</td>\n",
       "      <td>...</td>\n",
       "      <td>...</td>\n",
       "      <td>...</td>\n",
       "    </tr>\n",
       "    <tr>\n",
       "      <th>532</th>\n",
       "      <td>WOODLAND</td>\n",
       "      <td>526910.057920</td>\n",
       "      <td>-288.682189</td>\n",
       "      <td>5.986637e+06</td>\n",
       "      <td>-3137.043203</td>\n",
       "      <td>278715.826268</td>\n",
       "      <td>358</td>\n",
       "      <td>2</td>\n",
       "      <td>9.537819</td>\n",
       "      <td>100.0</td>\n",
       "    </tr>\n",
       "    <tr>\n",
       "      <th>533</th>\n",
       "      <td>YORBA LINDA</td>\n",
       "      <td>100589.028000</td>\n",
       "      <td>-23.217678</td>\n",
       "      <td>1.207068e+06</td>\n",
       "      <td>-278.612136</td>\n",
       "      <td>230594.633505</td>\n",
       "      <td>12</td>\n",
       "      <td>1</td>\n",
       "      <td>100.000000</td>\n",
       "      <td>100.0</td>\n",
       "    </tr>\n",
       "    <tr>\n",
       "      <th>534</th>\n",
       "      <td>YOSEMITE NATIONAL PARK</td>\n",
       "      <td>8894.000000</td>\n",
       "      <td>-51.060000</td>\n",
       "      <td>7.826720e+04</td>\n",
       "      <td>-449.328000</td>\n",
       "      <td>18234.382541</td>\n",
       "      <td>4</td>\n",
       "      <td>1</td>\n",
       "      <td>0.000000</td>\n",
       "      <td>100.0</td>\n",
       "    </tr>\n",
       "    <tr>\n",
       "      <th>535</th>\n",
       "      <td>YOUNTVILLE</td>\n",
       "      <td>16598.672480</td>\n",
       "      <td>-37.547000</td>\n",
       "      <td>1.580779e+05</td>\n",
       "      <td>-258.096560</td>\n",
       "      <td>4901.835174</td>\n",
       "      <td>57</td>\n",
       "      <td>2</td>\n",
       "      <td>0.000000</td>\n",
       "      <td>100.0</td>\n",
       "    </tr>\n",
       "    <tr>\n",
       "      <th>536</th>\n",
       "      <td>YUBA CITY</td>\n",
       "      <td>898299.606760</td>\n",
       "      <td>-1693.655181</td>\n",
       "      <td>9.530011e+06</td>\n",
       "      <td>-20746.770355</td>\n",
       "      <td>637530.085904</td>\n",
       "      <td>450</td>\n",
       "      <td>3</td>\n",
       "      <td>25.822801</td>\n",
       "      <td>100.0</td>\n",
       "    </tr>\n",
       "  </tbody>\n",
       "</table>\n",
       "<p>537 rows × 10 columns</p>\n",
       "</div>"
      ],
      "text/plain": [
       "                   SiteCity  TotalFirstYearGrosskWh  TotalFirstYearGrossTherm  \\\n",
       "0                    ACAMPO            48664.726740               -148.890330   \n",
       "1                  ADELANTO            13576.844232                -30.037266   \n",
       "2                     ALAMO            73049.392600                118.645240   \n",
       "3                    ALBANY           153765.922000               -785.076334   \n",
       "4                  ALHAMBRA            21630.949392                -32.172462   \n",
       "..                      ...                     ...                       ...   \n",
       "532                WOODLAND           526910.057920               -288.682189   \n",
       "533             YORBA LINDA           100589.028000                -23.217678   \n",
       "534  YOSEMITE NATIONAL PARK             8894.000000                -51.060000   \n",
       "535              YOUNTVILLE            16598.672480                -37.547000   \n",
       "536               YUBA CITY           898299.606760              -1693.655181   \n",
       "\n",
       "     TotalLifecycleGrosskWh  TotalLifecycleGrossTherm         Budget  \\\n",
       "0              5.839767e+05              -1786.683960   17684.568509   \n",
       "1              6.788422e+04               -150.186330   27320.063231   \n",
       "2              6.850000e+05              -1279.097025   48785.542683   \n",
       "3              8.422006e+05              -4288.070280   60926.193528   \n",
       "4              1.202334e+05               -178.879938   48465.447601   \n",
       "..                      ...                       ...            ...   \n",
       "532            5.986637e+06              -3137.043203  278715.826268   \n",
       "533            1.207068e+06               -278.612136  230594.633505   \n",
       "534            7.826720e+04               -449.328000   18234.382541   \n",
       "535            1.580779e+05               -258.096560    4901.835174   \n",
       "536            9.530011e+06             -20746.770355  637530.085904   \n",
       "\n",
       "     Total Claims  Total Programs  % OBF Budget  % Resource Budget  \n",
       "0               6               1      0.000000              100.0  \n",
       "1               4               1      0.000000              100.0  \n",
       "2              15               1     88.044896              100.0  \n",
       "3              35               2      0.000000              100.0  \n",
       "4               7               1      0.000000              100.0  \n",
       "..            ...             ...           ...                ...  \n",
       "532           358               2      9.537819              100.0  \n",
       "533            12               1    100.000000              100.0  \n",
       "534             4               1      0.000000              100.0  \n",
       "535            57               2      0.000000              100.0  \n",
       "536           450               3     25.822801              100.0  \n",
       "\n",
       "[537 rows x 10 columns]"
      ]
     },
     "execution_count": 7,
     "metadata": {},
     "output_type": "execute_result"
    }
   ],
   "source": [
    "city_ag"
   ]
  },
  {
   "cell_type": "code",
   "execution_count": null,
   "metadata": {},
   "outputs": [],
   "source": [
    "city_ag"
   ]
  },
  {
   "cell_type": "code",
   "execution_count": 10,
   "metadata": {},
   "outputs": [],
   "source": [
    "city_ag.to_csv('data/city_ag_2.csv')"
   ]
  },
  {
   "cell_type": "markdown",
   "metadata": {},
   "source": [
    "------\n",
    "-----\n"
   ]
  },
  {
   "cell_type": "markdown",
   "metadata": {},
   "source": [
    "### The journey to classify all programs into a county....cannot do this manually because there are more than 50,000 claims that are local government and countyless...."
   ]
  },
  {
   "cell_type": "code",
   "execution_count": 24,
   "metadata": {},
   "outputs": [
    {
     "data": {
      "text/plain": [
       "Local Government (Counties)                40859\n",
       "Local Government ()                        17142\n",
       "Education ()                                3053\n",
       "State ()                                     471\n",
       "Education (Higher Education CCC)             366\n",
       "Education (Higher Education UC/CSU)          202\n",
       "Education (K-12)                             159\n",
       "Local Government (Cities)                     65\n",
       "State (Correctional Facilities)               56\n",
       "Local Government                              13\n",
       "Education (Higher Education CSU)              13\n",
       "State (Correctional Facilities)               13\n",
       "Education (Higher Education UC/CSU/CCC)        3\n",
       "Federal ()                                     1\n",
       "Name: Grouping, dtype: int64"
      ]
     },
     "execution_count": 24,
     "metadata": {},
     "output_type": "execute_result"
    }
   ],
   "source": [
    "unique_claims[unique_claims['County'].isnull()]['Grouping'].value_counts()"
   ]
  },
  {
   "cell_type": "markdown",
   "metadata": {},
   "source": [
    "### will have to find a city to county mapping dataset and then merge "
   ]
  },
  {
   "cell_type": "code",
   "execution_count": 25,
   "metadata": {},
   "outputs": [],
   "source": [
    "uscities = pd.read_csv('data/uscities.csv', usecols = ['city', 'state_id', 'county_name'])"
   ]
  },
  {
   "cell_type": "code",
   "execution_count": 34,
   "metadata": {},
   "outputs": [],
   "source": [
    "cacities = uscities[uscities['state_id']=='CA']"
   ]
  },
  {
   "cell_type": "code",
   "execution_count": 35,
   "metadata": {},
   "outputs": [
    {
     "name": "stderr",
     "output_type": "stream",
     "text": [
      "C:\\Users\\audre\\anaconda3\\lib\\site-packages\\pandas\\core\\generic.py:5168: SettingWithCopyWarning: \n",
      "A value is trying to be set on a copy of a slice from a DataFrame.\n",
      "Try using .loc[row_indexer,col_indexer] = value instead\n",
      "\n",
      "See the caveats in the documentation: https://pandas.pydata.org/pandas-docs/stable/user_guide/indexing.html#returning-a-view-versus-a-copy\n",
      "  self[name] = value\n"
     ]
    }
   ],
   "source": [
    "cacities.city = cacities.city.str.upper()"
   ]
  },
  {
   "cell_type": "code",
   "execution_count": 37,
   "metadata": {},
   "outputs": [
    {
     "data": {
      "text/html": [
       "<div>\n",
       "<style scoped>\n",
       "    .dataframe tbody tr th:only-of-type {\n",
       "        vertical-align: middle;\n",
       "    }\n",
       "\n",
       "    .dataframe tbody tr th {\n",
       "        vertical-align: top;\n",
       "    }\n",
       "\n",
       "    .dataframe thead th {\n",
       "        text-align: right;\n",
       "    }\n",
       "</style>\n",
       "<table border=\"1\" class=\"dataframe\">\n",
       "  <thead>\n",
       "    <tr style=\"text-align: right;\">\n",
       "      <th></th>\n",
       "      <th>city</th>\n",
       "      <th>state_id</th>\n",
       "      <th>county_name</th>\n",
       "    </tr>\n",
       "  </thead>\n",
       "  <tbody>\n",
       "    <tr>\n",
       "      <th>1</th>\n",
       "      <td>LOS ANGELES</td>\n",
       "      <td>CA</td>\n",
       "      <td>Los Angeles</td>\n",
       "    </tr>\n",
       "    <tr>\n",
       "      <th>12</th>\n",
       "      <td>SAN FRANCISCO</td>\n",
       "      <td>CA</td>\n",
       "      <td>San Francisco</td>\n",
       "    </tr>\n",
       "    <tr>\n",
       "      <th>14</th>\n",
       "      <td>SAN DIEGO</td>\n",
       "      <td>CA</td>\n",
       "      <td>San Diego</td>\n",
       "    </tr>\n",
       "    <tr>\n",
       "      <th>20</th>\n",
       "      <td>RIVERSIDE</td>\n",
       "      <td>CA</td>\n",
       "      <td>Riverside</td>\n",
       "    </tr>\n",
       "    <tr>\n",
       "      <th>26</th>\n",
       "      <td>SACRAMENTO</td>\n",
       "      <td>CA</td>\n",
       "      <td>Sacramento</td>\n",
       "    </tr>\n",
       "  </tbody>\n",
       "</table>\n",
       "</div>"
      ],
      "text/plain": [
       "             city state_id    county_name\n",
       "1     LOS ANGELES       CA    Los Angeles\n",
       "12  SAN FRANCISCO       CA  San Francisco\n",
       "14      SAN DIEGO       CA      San Diego\n",
       "20      RIVERSIDE       CA      Riverside\n",
       "26     SACRAMENTO       CA     Sacramento"
      ]
     },
     "execution_count": 37,
     "metadata": {},
     "output_type": "execute_result"
    }
   ],
   "source": [
    "cacities.head()"
   ]
  },
  {
   "cell_type": "code",
   "execution_count": 39,
   "metadata": {},
   "outputs": [],
   "source": [
    "unique_claims_county = unique_claims.merge(cacities.drop(columns=['state_id']), left_on='SiteCity', right_on='city',how='left')"
   ]
  },
  {
   "cell_type": "code",
   "execution_count": 42,
   "metadata": {},
   "outputs": [
    {
     "data": {
      "text/plain": [
       "PASO ROBLES      2661\n",
       "VENTURA          1775\n",
       "MC FARLAND       1266\n",
       "SAN JUAN CAPO    1018\n",
       "VALENCIA          998\n",
       "                 ... \n",
       "GARDEN VALLEY       1\n",
       "SANTA MARGAR        1\n",
       "GREENWOOD           1\n",
       "ORLEANS             1\n",
       "SKY FOREST          1\n",
       "Name: SiteCity, Length: 231, dtype: int64"
      ]
     },
     "execution_count": 42,
     "metadata": {},
     "output_type": "execute_result"
    }
   ],
   "source": [
    "unique_claims_county[unique_claims_county['SiteCity'] != unique_claims_county['city']].SiteCity.value_counts()"
   ]
  },
  {
   "cell_type": "code",
   "execution_count": 51,
   "metadata": {},
   "outputs": [
    {
     "data": {
      "text/html": [
       "<div>\n",
       "<style scoped>\n",
       "    .dataframe tbody tr th:only-of-type {\n",
       "        vertical-align: middle;\n",
       "    }\n",
       "\n",
       "    .dataframe tbody tr th {\n",
       "        vertical-align: top;\n",
       "    }\n",
       "\n",
       "    .dataframe thead th {\n",
       "        text-align: right;\n",
       "    }\n",
       "</style>\n",
       "<table border=\"1\" class=\"dataframe\">\n",
       "  <thead>\n",
       "    <tr style=\"text-align: right;\">\n",
       "      <th></th>\n",
       "      <th>index</th>\n",
       "      <th>city</th>\n",
       "    </tr>\n",
       "  </thead>\n",
       "  <tbody>\n",
       "    <tr>\n",
       "      <th>992</th>\n",
       "      <td>318</td>\n",
       "      <td>PASADENA</td>\n",
       "    </tr>\n",
       "    <tr>\n",
       "      <th>993</th>\n",
       "      <td>13569</td>\n",
       "      <td>PASATIEMPO</td>\n",
       "    </tr>\n",
       "    <tr>\n",
       "      <th>994</th>\n",
       "      <td>26168</td>\n",
       "      <td>PASKENTA</td>\n",
       "    </tr>\n",
       "    <tr>\n",
       "      <th>995</th>\n",
       "      <td>2098</td>\n",
       "      <td>PATTERSON</td>\n",
       "    </tr>\n",
       "  </tbody>\n",
       "</table>\n",
       "</div>"
      ],
      "text/plain": [
       "     index        city\n",
       "992    318    PASADENA\n",
       "993  13569  PASATIEMPO\n",
       "994  26168    PASKENTA\n",
       "995   2098   PATTERSON"
      ]
     },
     "execution_count": 51,
     "metadata": {},
     "output_type": "execute_result"
    }
   ],
   "source": [
    "cacities.city.sort_values(ascending=True).reset_index().iloc[992:996]"
   ]
  },
  {
   "cell_type": "markdown",
   "metadata": {},
   "source": [
    "can't use above mapping because doesn't include many large cities that should easily be accounted for"
   ]
  },
  {
   "cell_type": "code",
   "execution_count": null,
   "metadata": {},
   "outputs": [],
   "source": []
  }
 ],
 "metadata": {
  "kernelspec": {
   "display_name": "Python 3",
   "language": "python",
   "name": "python3"
  },
  "language_info": {
   "codemirror_mode": {
    "name": "ipython",
    "version": 3
   },
   "file_extension": ".py",
   "mimetype": "text/x-python",
   "name": "python",
   "nbconvert_exporter": "python",
   "pygments_lexer": "ipython3",
   "version": "3.8.5"
  }
 },
 "nbformat": 4,
 "nbformat_minor": 4
}
