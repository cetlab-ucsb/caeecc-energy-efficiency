{
 "cells": [
  {
   "cell_type": "code",
   "execution_count": 1,
   "metadata": {},
   "outputs": [],
   "source": [
    "import pandas as pd"
   ]
  },
  {
   "cell_type": "code",
   "execution_count": 3,
   "metadata": {},
   "outputs": [],
   "source": [
    "chris_data = pd.read_csv('021721_cedars_programs_final_saved_20210315.csv')\n",
    "cpuc = pd.read_csv('cpuc_claims_selected_programs_2017_2019.csv')\n",
    "cedars = pd.read_csv('claims_selected_programs_2016_2020.csv', \n",
    "                     usecols = ['Claim ID', 'Program ID', 'Budget', 'First Year Gross kWh', 'First Year Gross Therm'])"
   ]
  },
  {
   "cell_type": "code",
   "execution_count": 4,
   "metadata": {},
   "outputs": [],
   "source": [
    "cpuc_and_budget = cpuc.merge(cedars, left_on='ClaimID', right_on='Claim ID', how='left')"
   ]
  },
  {
   "cell_type": "code",
   "execution_count": 6,
   "metadata": {},
   "outputs": [],
   "source": [
    "cpuc_b_g = cpuc_and_budget.merge(chris_data, left_on='PrgID', right_on='PrgID', how='left')"
   ]
  },
  {
   "cell_type": "code",
   "execution_count": 7,
   "metadata": {},
   "outputs": [
    {
     "data": {
      "text/plain": [
       "Index(['ClaimID', 'PrgID', 'Sector_x', 'SiteCity', 'SiteZipCode', 'SiteID',\n",
       "       'NAICSCode', 'BldgHVAC', 'BldgLoc', 'BldgType', 'BldgVint',\n",
       "       'E3ClimateZone', 'E3GasSavProfile', 'E3GasSector',\n",
       "       'E3MeaElecEndUseShape', 'E3TargetSector', 'ImplementationID',\n",
       "       'InstallationDate', 'NAICSBldgType', 'NumUnits', 'OBF_Flag',\n",
       "       'PrgElement', 'RateScheduleElec', 'RateScheduleGas', 'REN_Flag',\n",
       "       'Residential_Flag', 'SchoolIdentifier', 'TotalFirstYearGrosskW',\n",
       "       'TotalFirstYearGrosskWh', 'TotalFirstYearGrossTherm',\n",
       "       'TotalGrossIncentive', 'TotalGrossMeasureCost',\n",
       "       'TotalGrossMeasureCost_ER', 'TotalLifecycleGrosskW',\n",
       "       'TotalLifecycleGrosskWh', 'TotalLifecycleGrossTherm', 'Upstream_Flag_x',\n",
       "       'WaterOnly_Flag', 'PrgYear', 'Claim ID', 'Program ID',\n",
       "       'First Year Gross kWh', 'First Year Gross Therm', 'Budget', 'PA',\n",
       "       'ProgramName', 'Grouping', 'County', 'Selected', 'PrimarySector',\n",
       "       'Sector_y', 'BP Sector', 'ProgramImplementer', 'ProgramCategory',\n",
       "       'StatewideProgram', 'ImplementationContractor', 'ProgramManager',\n",
       "       'StartYear', 'EndYear', 'Resource_Flag', 'NonResource_Flag',\n",
       "       'Deemed_Flag', 'Custom_Flag', 'Upstream_Flag_y', 'Midstream_Flag',\n",
       "       'Downstream_Flag', 'DirectInstall', 'Audit_Flag', 'Financing',\n",
       "       'ParentProgram', 'Exclude_From_Budget', 'Exclude_From_CE'],\n",
       "      dtype='object')"
      ]
     },
     "execution_count": 7,
     "metadata": {},
     "output_type": "execute_result"
    }
   ],
   "source": [
    "cpuc_b_g.columns"
   ]
  },
  {
   "cell_type": "code",
   "execution_count": 8,
   "metadata": {},
   "outputs": [],
   "source": [
    "selected = cpuc_b_g[cpuc_b_g['Selected']=='x']"
   ]
  },
  {
   "cell_type": "code",
   "execution_count": 9,
   "metadata": {},
   "outputs": [
    {
     "data": {
      "text/plain": [
       "(746373, 72)"
      ]
     },
     "execution_count": 9,
     "metadata": {},
     "output_type": "execute_result"
    }
   ],
   "source": [
    "selected.shape"
   ]
  },
  {
   "cell_type": "code",
   "execution_count": 10,
   "metadata": {},
   "outputs": [],
   "source": [
    "selected.to_csv('selected_programs_merged_with_budget.csv')"
   ]
  },
  {
   "cell_type": "code",
   "execution_count": 16,
   "metadata": {},
   "outputs": [
    {
     "data": {
      "text/plain": [
       "508741    Local Government ()\n",
       "508742    Local Government ()\n",
       "508743    Local Government ()\n",
       "509376    Local Government ()\n",
       "509381    Local Government ()\n",
       "                 ...         \n",
       "588635    Local Government ()\n",
       "588636    Local Government ()\n",
       "588637    Local Government ()\n",
       "588638    Local Government ()\n",
       "588639    Local Government ()\n",
       "Name: Grouping, Length: 1489, dtype: object"
      ]
     },
     "execution_count": 16,
     "metadata": {},
     "output_type": "execute_result"
    }
   ],
   "source": [
    "selected[selected['PrgID']=='SCE-13-L-002Y']['Grouping']"
   ]
  },
  {
   "cell_type": "markdown",
   "metadata": {},
   "source": [
    "## Total Tax Revenue per city column"
   ]
  },
  {
   "cell_type": "code",
   "execution_count": 18,
   "metadata": {},
   "outputs": [],
   "source": [
    "taxes = pd.read_csv('Total Taxes_Total Revenues.csv')"
   ]
  },
  {
   "cell_type": "code",
   "execution_count": 19,
   "metadata": {},
   "outputs": [
    {
     "data": {
      "text/html": [
       "<div>\n",
       "<style scoped>\n",
       "    .dataframe tbody tr th:only-of-type {\n",
       "        vertical-align: middle;\n",
       "    }\n",
       "\n",
       "    .dataframe tbody tr th {\n",
       "        vertical-align: top;\n",
       "    }\n",
       "\n",
       "    .dataframe thead th {\n",
       "        text-align: right;\n",
       "    }\n",
       "</style>\n",
       "<table border=\"1\" class=\"dataframe\">\n",
       "  <thead>\n",
       "    <tr style=\"text-align: right;\">\n",
       "      <th></th>\n",
       "      <th>Entity Name</th>\n",
       "      <th>2016-2017</th>\n",
       "      <th>2017-2018</th>\n",
       "      <th>Entity Name.1</th>\n",
       "      <th>2018-2019</th>\n",
       "      <th>Unnamed: 5</th>\n",
       "      <th>total tax revenue 2016-2019</th>\n",
       "    </tr>\n",
       "  </thead>\n",
       "  <tbody>\n",
       "    <tr>\n",
       "      <th>0</th>\n",
       "      <td>Adelanto</td>\n",
       "      <td>6407577.0</td>\n",
       "      <td>8379208</td>\n",
       "      <td>Adelanto</td>\n",
       "      <td>8842082.0</td>\n",
       "      <td>NaN</td>\n",
       "      <td>23628867.0</td>\n",
       "    </tr>\n",
       "    <tr>\n",
       "      <th>1</th>\n",
       "      <td>Agoura Hills</td>\n",
       "      <td>19346497.0</td>\n",
       "      <td>20776976</td>\n",
       "      <td>Agoura Hills</td>\n",
       "      <td>18491359.0</td>\n",
       "      <td>NaN</td>\n",
       "      <td>58614832.0</td>\n",
       "    </tr>\n",
       "    <tr>\n",
       "      <th>2</th>\n",
       "      <td>Alameda</td>\n",
       "      <td>82392105.0</td>\n",
       "      <td>104149055</td>\n",
       "      <td>Alameda</td>\n",
       "      <td>95816394.0</td>\n",
       "      <td>NaN</td>\n",
       "      <td>282357554.0</td>\n",
       "    </tr>\n",
       "    <tr>\n",
       "      <th>3</th>\n",
       "      <td>Albany</td>\n",
       "      <td>18946529.0</td>\n",
       "      <td>19815521</td>\n",
       "      <td>Albany</td>\n",
       "      <td>18580640.0</td>\n",
       "      <td>NaN</td>\n",
       "      <td>57342690.0</td>\n",
       "    </tr>\n",
       "    <tr>\n",
       "      <th>4</th>\n",
       "      <td>Alhambra</td>\n",
       "      <td>48888081.0</td>\n",
       "      <td>54145658</td>\n",
       "      <td>Alhambra</td>\n",
       "      <td>51948185.0</td>\n",
       "      <td>NaN</td>\n",
       "      <td>154981924.0</td>\n",
       "    </tr>\n",
       "  </tbody>\n",
       "</table>\n",
       "</div>"
      ],
      "text/plain": [
       "    Entity Name   2016-2017  2017-2018 Entity Name.1   2018-2019  Unnamed: 5  \\\n",
       "0      Adelanto   6407577.0    8379208      Adelanto   8842082.0         NaN   \n",
       "1  Agoura Hills  19346497.0   20776976  Agoura Hills  18491359.0         NaN   \n",
       "2       Alameda  82392105.0  104149055       Alameda  95816394.0         NaN   \n",
       "3        Albany  18946529.0   19815521        Albany  18580640.0         NaN   \n",
       "4      Alhambra  48888081.0   54145658      Alhambra  51948185.0         NaN   \n",
       "\n",
       "   total tax revenue 2016-2019  \n",
       "0                   23628867.0  \n",
       "1                   58614832.0  \n",
       "2                  282357554.0  \n",
       "3                   57342690.0  \n",
       "4                  154981924.0  "
      ]
     },
     "execution_count": 19,
     "metadata": {},
     "output_type": "execute_result"
    }
   ],
   "source": [
    "taxes.head()"
   ]
  },
  {
   "cell_type": "code",
   "execution_count": 20,
   "metadata": {},
   "outputs": [],
   "source": [
    "df = taxes.copy()"
   ]
  },
  {
   "cell_type": "code",
   "execution_count": 21,
   "metadata": {},
   "outputs": [
    {
     "data": {
      "text/plain": [
       "0          Adelanto\n",
       "1      Agoura Hills\n",
       "2           Alameda\n",
       "3            Albany\n",
       "4          Alhambra\n",
       "           ...     \n",
       "959             NaN\n",
       "960             NaN\n",
       "961             NaN\n",
       "962             NaN\n",
       "963             NaN\n",
       "Name: City, Length: 964, dtype: object"
      ]
     },
     "execution_count": 21,
     "metadata": {},
     "output_type": "execute_result"
    }
   ],
   "source": [
    "df['Entity Name'].rename('City', inplace=True)"
   ]
  },
  {
   "cell_type": "code",
   "execution_count": 23,
   "metadata": {},
   "outputs": [
    {
     "data": {
      "text/plain": [
       "Entity Name                         NaN\n",
       "2016-2017                           NaN\n",
       "2017-2018                      95816394\n",
       "Entity Name.1                   Alameda\n",
       "2018-2019                           NaN\n",
       "Unnamed: 5                          NaN\n",
       "total tax revenue 2016-2019         NaN\n",
       "Name: 484, dtype: object"
      ]
     },
     "execution_count": 23,
     "metadata": {},
     "output_type": "execute_result"
    }
   ],
   "source": [
    "df.iloc[484, :]"
   ]
  },
  {
   "cell_type": "code",
   "execution_count": 26,
   "metadata": {},
   "outputs": [
    {
     "data": {
      "text/html": [
       "<div>\n",
       "<style scoped>\n",
       "    .dataframe tbody tr th:only-of-type {\n",
       "        vertical-align: middle;\n",
       "    }\n",
       "\n",
       "    .dataframe tbody tr th {\n",
       "        vertical-align: top;\n",
       "    }\n",
       "\n",
       "    .dataframe thead th {\n",
       "        text-align: right;\n",
       "    }\n",
       "</style>\n",
       "<table border=\"1\" class=\"dataframe\">\n",
       "  <thead>\n",
       "    <tr style=\"text-align: right;\">\n",
       "      <th></th>\n",
       "      <th>Entity Name</th>\n",
       "      <th>2016-2017</th>\n",
       "      <th>2017-2018</th>\n",
       "      <th>Entity Name.1</th>\n",
       "      <th>2018-2019</th>\n",
       "      <th>Unnamed: 5</th>\n",
       "      <th>total tax revenue 2016-2019</th>\n",
       "    </tr>\n",
       "  </thead>\n",
       "  <tbody>\n",
       "    <tr>\n",
       "      <th>0</th>\n",
       "      <td>Adelanto</td>\n",
       "      <td>6407577.0</td>\n",
       "      <td>8379208</td>\n",
       "      <td>Adelanto</td>\n",
       "      <td>8842082.0</td>\n",
       "      <td>NaN</td>\n",
       "      <td>23628867.0</td>\n",
       "    </tr>\n",
       "    <tr>\n",
       "      <th>1</th>\n",
       "      <td>Agoura Hills</td>\n",
       "      <td>19346497.0</td>\n",
       "      <td>20776976</td>\n",
       "      <td>Agoura Hills</td>\n",
       "      <td>18491359.0</td>\n",
       "      <td>NaN</td>\n",
       "      <td>58614832.0</td>\n",
       "    </tr>\n",
       "    <tr>\n",
       "      <th>2</th>\n",
       "      <td>Alameda</td>\n",
       "      <td>82392105.0</td>\n",
       "      <td>104149055</td>\n",
       "      <td>Alameda</td>\n",
       "      <td>95816394.0</td>\n",
       "      <td>NaN</td>\n",
       "      <td>282357554.0</td>\n",
       "    </tr>\n",
       "    <tr>\n",
       "      <th>3</th>\n",
       "      <td>Albany</td>\n",
       "      <td>18946529.0</td>\n",
       "      <td>19815521</td>\n",
       "      <td>Albany</td>\n",
       "      <td>18580640.0</td>\n",
       "      <td>NaN</td>\n",
       "      <td>57342690.0</td>\n",
       "    </tr>\n",
       "    <tr>\n",
       "      <th>4</th>\n",
       "      <td>Alhambra</td>\n",
       "      <td>48888081.0</td>\n",
       "      <td>54145658</td>\n",
       "      <td>Alhambra</td>\n",
       "      <td>51948185.0</td>\n",
       "      <td>NaN</td>\n",
       "      <td>154981924.0</td>\n",
       "    </tr>\n",
       "    <tr>\n",
       "      <th>...</th>\n",
       "      <td>...</td>\n",
       "      <td>...</td>\n",
       "      <td>...</td>\n",
       "      <td>...</td>\n",
       "      <td>...</td>\n",
       "      <td>...</td>\n",
       "      <td>...</td>\n",
       "    </tr>\n",
       "    <tr>\n",
       "      <th>958</th>\n",
       "      <td>NaN</td>\n",
       "      <td>NaN</td>\n",
       "      <td>35609065</td>\n",
       "      <td>Yorba Linda</td>\n",
       "      <td>NaN</td>\n",
       "      <td>NaN</td>\n",
       "      <td>NaN</td>\n",
       "    </tr>\n",
       "    <tr>\n",
       "      <th>959</th>\n",
       "      <td>NaN</td>\n",
       "      <td>NaN</td>\n",
       "      <td>9950055</td>\n",
       "      <td>Yountville</td>\n",
       "      <td>NaN</td>\n",
       "      <td>NaN</td>\n",
       "      <td>NaN</td>\n",
       "    </tr>\n",
       "    <tr>\n",
       "      <th>960</th>\n",
       "      <td>NaN</td>\n",
       "      <td>NaN</td>\n",
       "      <td>6339593</td>\n",
       "      <td>Yreka</td>\n",
       "      <td>NaN</td>\n",
       "      <td>NaN</td>\n",
       "      <td>NaN</td>\n",
       "    </tr>\n",
       "    <tr>\n",
       "      <th>961</th>\n",
       "      <td>NaN</td>\n",
       "      <td>NaN</td>\n",
       "      <td>31195141</td>\n",
       "      <td>Yuba City</td>\n",
       "      <td>NaN</td>\n",
       "      <td>NaN</td>\n",
       "      <td>NaN</td>\n",
       "    </tr>\n",
       "    <tr>\n",
       "      <th>962</th>\n",
       "      <td>NaN</td>\n",
       "      <td>NaN</td>\n",
       "      <td>18863739</td>\n",
       "      <td>Yucaipa</td>\n",
       "      <td>NaN</td>\n",
       "      <td>NaN</td>\n",
       "      <td>NaN</td>\n",
       "    </tr>\n",
       "  </tbody>\n",
       "</table>\n",
       "<p>962 rows × 7 columns</p>\n",
       "</div>"
      ],
      "text/plain": [
       "      Entity Name   2016-2017  2017-2018 Entity Name.1   2018-2019  \\\n",
       "0        Adelanto   6407577.0    8379208      Adelanto   8842082.0   \n",
       "1    Agoura Hills  19346497.0   20776976  Agoura Hills  18491359.0   \n",
       "2         Alameda  82392105.0  104149055       Alameda  95816394.0   \n",
       "3          Albany  18946529.0   19815521        Albany  18580640.0   \n",
       "4        Alhambra  48888081.0   54145658      Alhambra  51948185.0   \n",
       "..            ...         ...        ...           ...         ...   \n",
       "958           NaN         NaN   35609065   Yorba Linda         NaN   \n",
       "959           NaN         NaN    9950055    Yountville         NaN   \n",
       "960           NaN         NaN    6339593         Yreka         NaN   \n",
       "961           NaN         NaN   31195141     Yuba City         NaN   \n",
       "962           NaN         NaN   18863739       Yucaipa         NaN   \n",
       "\n",
       "     Unnamed: 5  total tax revenue 2016-2019  \n",
       "0           NaN                   23628867.0  \n",
       "1           NaN                   58614832.0  \n",
       "2           NaN                  282357554.0  \n",
       "3           NaN                   57342690.0  \n",
       "4           NaN                  154981924.0  \n",
       "..          ...                          ...  \n",
       "958         NaN                          NaN  \n",
       "959         NaN                          NaN  \n",
       "960         NaN                          NaN  \n",
       "961         NaN                          NaN  \n",
       "962         NaN                          NaN  \n",
       "\n",
       "[962 rows x 7 columns]"
      ]
     },
     "execution_count": 26,
     "metadata": {},
     "output_type": "execute_result"
    }
   ],
   "source": [
    "df.drop(index=[484,963])"
   ]
  },
  {
   "cell_type": "code",
   "execution_count": 34,
   "metadata": {},
   "outputs": [],
   "source": [
    "numbers=[]\n",
    "for i in range(484, 964):\n",
    "    numbers.append(i)"
   ]
  },
  {
   "cell_type": "code",
   "execution_count": 35,
   "metadata": {},
   "outputs": [
    {
     "data": {
      "text/plain": [
       "963"
      ]
     },
     "execution_count": 35,
     "metadata": {},
     "output_type": "execute_result"
    }
   ],
   "source": [
    "numbers[-1]"
   ]
  },
  {
   "cell_type": "code",
   "execution_count": 36,
   "metadata": {},
   "outputs": [],
   "source": [
    "df.drop(index=numbers, inplace=True)\n",
    "\n",
    "df.drop(index=[482,483], inplace=True)"
   ]
  },
  {
   "cell_type": "code",
   "execution_count": 41,
   "metadata": {},
   "outputs": [],
   "source": [
    "df.drop(columns=['Entity Name.1', 'Unnamed: 5'], inplace=True)"
   ]
  },
  {
   "cell_type": "code",
   "execution_count": 42,
   "metadata": {},
   "outputs": [
    {
     "data": {
      "text/html": [
       "<div>\n",
       "<style scoped>\n",
       "    .dataframe tbody tr th:only-of-type {\n",
       "        vertical-align: middle;\n",
       "    }\n",
       "\n",
       "    .dataframe tbody tr th {\n",
       "        vertical-align: top;\n",
       "    }\n",
       "\n",
       "    .dataframe thead th {\n",
       "        text-align: right;\n",
       "    }\n",
       "</style>\n",
       "<table border=\"1\" class=\"dataframe\">\n",
       "  <thead>\n",
       "    <tr style=\"text-align: right;\">\n",
       "      <th></th>\n",
       "      <th>Entity Name</th>\n",
       "      <th>2016-2017</th>\n",
       "      <th>2017-2018</th>\n",
       "      <th>2018-2019</th>\n",
       "      <th>total tax revenue 2016-2019</th>\n",
       "    </tr>\n",
       "  </thead>\n",
       "  <tbody>\n",
       "    <tr>\n",
       "      <th>0</th>\n",
       "      <td>Adelanto</td>\n",
       "      <td>6407577.0</td>\n",
       "      <td>8379208</td>\n",
       "      <td>8842082.0</td>\n",
       "      <td>23628867.0</td>\n",
       "    </tr>\n",
       "    <tr>\n",
       "      <th>1</th>\n",
       "      <td>Agoura Hills</td>\n",
       "      <td>19346497.0</td>\n",
       "      <td>20776976</td>\n",
       "      <td>18491359.0</td>\n",
       "      <td>58614832.0</td>\n",
       "    </tr>\n",
       "    <tr>\n",
       "      <th>2</th>\n",
       "      <td>Alameda</td>\n",
       "      <td>82392105.0</td>\n",
       "      <td>104149055</td>\n",
       "      <td>95816394.0</td>\n",
       "      <td>282357554.0</td>\n",
       "    </tr>\n",
       "    <tr>\n",
       "      <th>3</th>\n",
       "      <td>Albany</td>\n",
       "      <td>18946529.0</td>\n",
       "      <td>19815521</td>\n",
       "      <td>18580640.0</td>\n",
       "      <td>57342690.0</td>\n",
       "    </tr>\n",
       "    <tr>\n",
       "      <th>4</th>\n",
       "      <td>Alhambra</td>\n",
       "      <td>48888081.0</td>\n",
       "      <td>54145658</td>\n",
       "      <td>51948185.0</td>\n",
       "      <td>154981924.0</td>\n",
       "    </tr>\n",
       "  </tbody>\n",
       "</table>\n",
       "</div>"
      ],
      "text/plain": [
       "    Entity Name   2016-2017  2017-2018   2018-2019  \\\n",
       "0      Adelanto   6407577.0    8379208   8842082.0   \n",
       "1  Agoura Hills  19346497.0   20776976  18491359.0   \n",
       "2       Alameda  82392105.0  104149055  95816394.0   \n",
       "3        Albany  18946529.0   19815521  18580640.0   \n",
       "4      Alhambra  48888081.0   54145658  51948185.0   \n",
       "\n",
       "   total tax revenue 2016-2019  \n",
       "0                   23628867.0  \n",
       "1                   58614832.0  \n",
       "2                  282357554.0  \n",
       "3                   57342690.0  \n",
       "4                  154981924.0  "
      ]
     },
     "execution_count": 42,
     "metadata": {},
     "output_type": "execute_result"
    }
   ],
   "source": [
    "df.head()"
   ]
  },
  {
   "cell_type": "code",
   "execution_count": 47,
   "metadata": {},
   "outputs": [],
   "source": [
    "df.rename(columns={'Entity Name':'City'}, inplace=True)"
   ]
  },
  {
   "cell_type": "code",
   "execution_count": 48,
   "metadata": {},
   "outputs": [
    {
     "data": {
      "text/html": [
       "<div>\n",
       "<style scoped>\n",
       "    .dataframe tbody tr th:only-of-type {\n",
       "        vertical-align: middle;\n",
       "    }\n",
       "\n",
       "    .dataframe tbody tr th {\n",
       "        vertical-align: top;\n",
       "    }\n",
       "\n",
       "    .dataframe thead th {\n",
       "        text-align: right;\n",
       "    }\n",
       "</style>\n",
       "<table border=\"1\" class=\"dataframe\">\n",
       "  <thead>\n",
       "    <tr style=\"text-align: right;\">\n",
       "      <th></th>\n",
       "      <th>City</th>\n",
       "      <th>2016-2017</th>\n",
       "      <th>2017-2018</th>\n",
       "      <th>2018-2019</th>\n",
       "      <th>total tax revenue 2016-2019</th>\n",
       "    </tr>\n",
       "  </thead>\n",
       "  <tbody>\n",
       "    <tr>\n",
       "      <th>0</th>\n",
       "      <td>Adelanto</td>\n",
       "      <td>6407577.0</td>\n",
       "      <td>8379208</td>\n",
       "      <td>8842082.0</td>\n",
       "      <td>23628867.0</td>\n",
       "    </tr>\n",
       "    <tr>\n",
       "      <th>1</th>\n",
       "      <td>Agoura Hills</td>\n",
       "      <td>19346497.0</td>\n",
       "      <td>20776976</td>\n",
       "      <td>18491359.0</td>\n",
       "      <td>58614832.0</td>\n",
       "    </tr>\n",
       "    <tr>\n",
       "      <th>2</th>\n",
       "      <td>Alameda</td>\n",
       "      <td>82392105.0</td>\n",
       "      <td>104149055</td>\n",
       "      <td>95816394.0</td>\n",
       "      <td>282357554.0</td>\n",
       "    </tr>\n",
       "    <tr>\n",
       "      <th>3</th>\n",
       "      <td>Albany</td>\n",
       "      <td>18946529.0</td>\n",
       "      <td>19815521</td>\n",
       "      <td>18580640.0</td>\n",
       "      <td>57342690.0</td>\n",
       "    </tr>\n",
       "    <tr>\n",
       "      <th>4</th>\n",
       "      <td>Alhambra</td>\n",
       "      <td>48888081.0</td>\n",
       "      <td>54145658</td>\n",
       "      <td>51948185.0</td>\n",
       "      <td>154981924.0</td>\n",
       "    </tr>\n",
       "    <tr>\n",
       "      <th>...</th>\n",
       "      <td>...</td>\n",
       "      <td>...</td>\n",
       "      <td>...</td>\n",
       "      <td>...</td>\n",
       "      <td>...</td>\n",
       "    </tr>\n",
       "    <tr>\n",
       "      <th>477</th>\n",
       "      <td>Yountville</td>\n",
       "      <td>10555864.0</td>\n",
       "      <td>11706852</td>\n",
       "      <td>9950055.0</td>\n",
       "      <td>32212771.0</td>\n",
       "    </tr>\n",
       "    <tr>\n",
       "      <th>478</th>\n",
       "      <td>Yreka</td>\n",
       "      <td>5368860.0</td>\n",
       "      <td>6591958</td>\n",
       "      <td>6339593.0</td>\n",
       "      <td>18300411.0</td>\n",
       "    </tr>\n",
       "    <tr>\n",
       "      <th>479</th>\n",
       "      <td>Yuba City</td>\n",
       "      <td>30307319.0</td>\n",
       "      <td>33789592</td>\n",
       "      <td>31195141.0</td>\n",
       "      <td>95292052.0</td>\n",
       "    </tr>\n",
       "    <tr>\n",
       "      <th>480</th>\n",
       "      <td>Yucaipa</td>\n",
       "      <td>17882849.0</td>\n",
       "      <td>20493724</td>\n",
       "      <td>18863739.0</td>\n",
       "      <td>57240312.0</td>\n",
       "    </tr>\n",
       "    <tr>\n",
       "      <th>481</th>\n",
       "      <td>Yucca Valley</td>\n",
       "      <td>10721959.0</td>\n",
       "      <td>16203448</td>\n",
       "      <td>15285162.0</td>\n",
       "      <td>42210569.0</td>\n",
       "    </tr>\n",
       "  </tbody>\n",
       "</table>\n",
       "<p>482 rows × 5 columns</p>\n",
       "</div>"
      ],
      "text/plain": [
       "             City   2016-2017  2017-2018   2018-2019  \\\n",
       "0        Adelanto   6407577.0    8379208   8842082.0   \n",
       "1    Agoura Hills  19346497.0   20776976  18491359.0   \n",
       "2         Alameda  82392105.0  104149055  95816394.0   \n",
       "3          Albany  18946529.0   19815521  18580640.0   \n",
       "4        Alhambra  48888081.0   54145658  51948185.0   \n",
       "..            ...         ...        ...         ...   \n",
       "477    Yountville  10555864.0   11706852   9950055.0   \n",
       "478         Yreka   5368860.0    6591958   6339593.0   \n",
       "479     Yuba City  30307319.0   33789592  31195141.0   \n",
       "480       Yucaipa  17882849.0   20493724  18863739.0   \n",
       "481  Yucca Valley  10721959.0   16203448  15285162.0   \n",
       "\n",
       "     total tax revenue 2016-2019  \n",
       "0                     23628867.0  \n",
       "1                     58614832.0  \n",
       "2                    282357554.0  \n",
       "3                     57342690.0  \n",
       "4                    154981924.0  \n",
       "..                           ...  \n",
       "477                   32212771.0  \n",
       "478                   18300411.0  \n",
       "479                   95292052.0  \n",
       "480                   57240312.0  \n",
       "481                   42210569.0  \n",
       "\n",
       "[482 rows x 5 columns]"
      ]
     },
     "execution_count": 48,
     "metadata": {},
     "output_type": "execute_result"
    }
   ],
   "source": [
    "df"
   ]
  },
  {
   "cell_type": "markdown",
   "metadata": {},
   "source": [
    "### Average Tax Revenue"
   ]
  },
  {
   "cell_type": "code",
   "execution_count": 51,
   "metadata": {},
   "outputs": [],
   "source": [
    "average = df.drop(columns='total tax revenue 2016-2019').mean(axis=1)"
   ]
  },
  {
   "cell_type": "code",
   "execution_count": 53,
   "metadata": {},
   "outputs": [
    {
     "data": {
      "text/plain": [
       "482"
      ]
     },
     "execution_count": 53,
     "metadata": {},
     "output_type": "execute_result"
    }
   ],
   "source": [
    "len(average)"
   ]
  },
  {
   "cell_type": "code",
   "execution_count": 57,
   "metadata": {},
   "outputs": [],
   "source": [
    "df = df.join(average.rename('Average Tax Revenue'))"
   ]
  },
  {
   "cell_type": "code",
   "execution_count": 63,
   "metadata": {},
   "outputs": [],
   "source": [
    "df.rename(columns={'total tax revenue 2016-2019': 'Total Tax Revenue'}, inplace=True)"
   ]
  },
  {
   "cell_type": "code",
   "execution_count": 64,
   "metadata": {},
   "outputs": [],
   "source": [
    "df.to_csv('city_tax_revenue_2016_2019.csv')"
   ]
  },
  {
   "cell_type": "markdown",
   "metadata": {},
   "source": [
    "# Distribution attempts"
   ]
  },
  {
   "cell_type": "code",
   "execution_count": 66,
   "metadata": {},
   "outputs": [],
   "source": [
    "import matplotlib.pyplot as plt\n",
    "import seaborn as sns\n",
    "%matplotlib inline"
   ]
  },
  {
   "cell_type": "code",
   "execution_count": 67,
   "metadata": {},
   "outputs": [
    {
     "name": "stderr",
     "output_type": "stream",
     "text": [
      "C:\\Users\\audre\\anaconda3\\lib\\site-packages\\seaborn\\distributions.py:2551: FutureWarning: `distplot` is a deprecated function and will be removed in a future version. Please adapt your code to use either `displot` (a figure-level function with similar flexibility) or `histplot` (an axes-level function for histograms).\n",
      "  warnings.warn(msg, FutureWarning)\n",
      "C:\\Users\\audre\\anaconda3\\lib\\site-packages\\seaborn\\distributions.py:2551: FutureWarning: `distplot` is a deprecated function and will be removed in a future version. Please adapt your code to use either `displot` (a figure-level function with similar flexibility) or `histplot` (an axes-level function for histograms).\n",
      "  warnings.warn(msg, FutureWarning)\n"
     ]
    },
    {
     "data": {
      "image/png": "[encoded data removed]",
      "text/plain": [
       "<Figure size 800x560 with 1 Axes>"
      ]
     },
     "metadata": {},
     "output_type": "display_data"
    }
   ],
   "source": [
    "sns.set_style(\"white\")\n",
    "\n",
    "# Import data\n",
    "x1 = df['Total Tax Revenue']\n",
    "x2 = df['Average Tax Revenue']\n",
    "\n",
    "# Plot\n",
    "kwargs = dict(hist_kws={'alpha':.6}, kde_kws={'linewidth':2})\n",
    "\n",
    "plt.figure(figsize=(10,7), dpi= 80)\n",
    "sns.distplot(x1, color=\"dodgerblue\", label=\"Total\", **kwargs)\n",
    "sns.distplot(x2, color=\"orange\", label=\"Average\", **kwargs)\n",
    "\n",
    "plt.xlim(50,75)\n",
    "plt.legend();"
   ]
  },
  {
   "cell_type": "code",
   "execution_count": 83,
   "metadata": {},
   "outputs": [
    {
     "data": {
      "image/png": "[encoded data removed]",
      "text/plain": [
       "<Figure size 700x500 with 1 Axes>"
      ]
     },
     "metadata": {},
     "output_type": "display_data"
    }
   ],
   "source": [
    "plt.rcParams.update({'figure.figsize':(7,5), 'figure.dpi':100})\n",
    "\n",
    "# Plot Histogram on x\n",
    "x = df.drop(index=big_cities)['Total Tax Revenue']\n",
    "plt.hist(x, bins=200)\n",
    "plt.gca().set(title='Total Tax Revenue', ylabel='Number of Cities');"
   ]
  },
  {
   "cell_type": "code",
   "execution_count": 82,
   "metadata": {},
   "outputs": [],
   "source": [
    "big_cities = df[df['Total Tax Revenue']>=2000000000].index.to_list()"
   ]
  },
  {
   "cell_type": "code",
   "execution_count": 85,
   "metadata": {},
   "outputs": [
    {
     "data": {
      "image/png": "[encoded data removed]",
      "text/plain": [
       "<Figure size 700x500 with 1 Axes>"
      ]
     },
     "metadata": {},
     "output_type": "display_data"
    }
   ],
   "source": [
    "plt.rcParams.update({'figure.figsize':(7,5), 'figure.dpi':100})\n",
    "\n",
    "# Plot Histogram on x\n",
    "x = df.drop(index=big_cities)['Average Tax Revenue']\n",
    "plt.hist(x, bins=200)\n",
    "plt.gca().set(title='Average Tax Revenue', ylabel='Number of Cities');"
   ]
  },
  {
   "cell_type": "code",
   "execution_count": 86,
   "metadata": {},
   "outputs": [
    {
     "data": {
      "text/html": [
       "<div>\n",
       "<style scoped>\n",
       "    .dataframe tbody tr th:only-of-type {\n",
       "        vertical-align: middle;\n",
       "    }\n",
       "\n",
       "    .dataframe tbody tr th {\n",
       "        vertical-align: top;\n",
       "    }\n",
       "\n",
       "    .dataframe thead th {\n",
       "        text-align: right;\n",
       "    }\n",
       "</style>\n",
       "<table border=\"1\" class=\"dataframe\">\n",
       "  <thead>\n",
       "    <tr style=\"text-align: right;\">\n",
       "      <th></th>\n",
       "      <th>City</th>\n",
       "      <th>2016-2017</th>\n",
       "      <th>2017-2018</th>\n",
       "      <th>2018-2019</th>\n",
       "      <th>Total Tax Revenue</th>\n",
       "      <th>Average Tax Revenue</th>\n",
       "    </tr>\n",
       "  </thead>\n",
       "  <tbody>\n",
       "    <tr>\n",
       "      <th>0</th>\n",
       "      <td>Adelanto</td>\n",
       "      <td>6407577.0</td>\n",
       "      <td>8379208</td>\n",
       "      <td>8842082.0</td>\n",
       "      <td>23628867.0</td>\n",
       "      <td>7.876289e+06</td>\n",
       "    </tr>\n",
       "    <tr>\n",
       "      <th>1</th>\n",
       "      <td>Agoura Hills</td>\n",
       "      <td>19346497.0</td>\n",
       "      <td>20776976</td>\n",
       "      <td>18491359.0</td>\n",
       "      <td>58614832.0</td>\n",
       "      <td>1.953828e+07</td>\n",
       "    </tr>\n",
       "    <tr>\n",
       "      <th>2</th>\n",
       "      <td>Alameda</td>\n",
       "      <td>82392105.0</td>\n",
       "      <td>104149055</td>\n",
       "      <td>95816394.0</td>\n",
       "      <td>282357554.0</td>\n",
       "      <td>9.411918e+07</td>\n",
       "    </tr>\n",
       "    <tr>\n",
       "      <th>3</th>\n",
       "      <td>Albany</td>\n",
       "      <td>18946529.0</td>\n",
       "      <td>19815521</td>\n",
       "      <td>18580640.0</td>\n",
       "      <td>57342690.0</td>\n",
       "      <td>1.911423e+07</td>\n",
       "    </tr>\n",
       "    <tr>\n",
       "      <th>4</th>\n",
       "      <td>Alhambra</td>\n",
       "      <td>48888081.0</td>\n",
       "      <td>54145658</td>\n",
       "      <td>51948185.0</td>\n",
       "      <td>154981924.0</td>\n",
       "      <td>5.166064e+07</td>\n",
       "    </tr>\n",
       "    <tr>\n",
       "      <th>...</th>\n",
       "      <td>...</td>\n",
       "      <td>...</td>\n",
       "      <td>...</td>\n",
       "      <td>...</td>\n",
       "      <td>...</td>\n",
       "      <td>...</td>\n",
       "    </tr>\n",
       "    <tr>\n",
       "      <th>477</th>\n",
       "      <td>Yountville</td>\n",
       "      <td>10555864.0</td>\n",
       "      <td>11706852</td>\n",
       "      <td>9950055.0</td>\n",
       "      <td>32212771.0</td>\n",
       "      <td>1.073759e+07</td>\n",
       "    </tr>\n",
       "    <tr>\n",
       "      <th>478</th>\n",
       "      <td>Yreka</td>\n",
       "      <td>5368860.0</td>\n",
       "      <td>6591958</td>\n",
       "      <td>6339593.0</td>\n",
       "      <td>18300411.0</td>\n",
       "      <td>6.100137e+06</td>\n",
       "    </tr>\n",
       "    <tr>\n",
       "      <th>479</th>\n",
       "      <td>Yuba City</td>\n",
       "      <td>30307319.0</td>\n",
       "      <td>33789592</td>\n",
       "      <td>31195141.0</td>\n",
       "      <td>95292052.0</td>\n",
       "      <td>3.176402e+07</td>\n",
       "    </tr>\n",
       "    <tr>\n",
       "      <th>480</th>\n",
       "      <td>Yucaipa</td>\n",
       "      <td>17882849.0</td>\n",
       "      <td>20493724</td>\n",
       "      <td>18863739.0</td>\n",
       "      <td>57240312.0</td>\n",
       "      <td>1.908010e+07</td>\n",
       "    </tr>\n",
       "    <tr>\n",
       "      <th>481</th>\n",
       "      <td>Yucca Valley</td>\n",
       "      <td>10721959.0</td>\n",
       "      <td>16203448</td>\n",
       "      <td>15285162.0</td>\n",
       "      <td>42210569.0</td>\n",
       "      <td>1.407019e+07</td>\n",
       "    </tr>\n",
       "  </tbody>\n",
       "</table>\n",
       "<p>482 rows × 6 columns</p>\n",
       "</div>"
      ],
      "text/plain": [
       "             City   2016-2017  2017-2018   2018-2019  Total Tax Revenue  \\\n",
       "0        Adelanto   6407577.0    8379208   8842082.0         23628867.0   \n",
       "1    Agoura Hills  19346497.0   20776976  18491359.0         58614832.0   \n",
       "2         Alameda  82392105.0  104149055  95816394.0        282357554.0   \n",
       "3          Albany  18946529.0   19815521  18580640.0         57342690.0   \n",
       "4        Alhambra  48888081.0   54145658  51948185.0        154981924.0   \n",
       "..            ...         ...        ...         ...                ...   \n",
       "477    Yountville  10555864.0   11706852   9950055.0         32212771.0   \n",
       "478         Yreka   5368860.0    6591958   6339593.0         18300411.0   \n",
       "479     Yuba City  30307319.0   33789592  31195141.0         95292052.0   \n",
       "480       Yucaipa  17882849.0   20493724  18863739.0         57240312.0   \n",
       "481  Yucca Valley  10721959.0   16203448  15285162.0         42210569.0   \n",
       "\n",
       "     Average Tax Revenue  \n",
       "0           7.876289e+06  \n",
       "1           1.953828e+07  \n",
       "2           9.411918e+07  \n",
       "3           1.911423e+07  \n",
       "4           5.166064e+07  \n",
       "..                   ...  \n",
       "477         1.073759e+07  \n",
       "478         6.100137e+06  \n",
       "479         3.176402e+07  \n",
       "480         1.908010e+07  \n",
       "481         1.407019e+07  \n",
       "\n",
       "[482 rows x 6 columns]"
      ]
     },
     "execution_count": 86,
     "metadata": {},
     "output_type": "execute_result"
    }
   ],
   "source": [
    "df"
   ]
  },
  {
   "cell_type": "markdown",
   "metadata": {},
   "source": [
    "# Population column"
   ]
  },
  {
   "cell_type": "code",
   "execution_count": 91,
   "metadata": {},
   "outputs": [],
   "source": [
    "citypop = pd.read_csv('california_city_pop.csv')"
   ]
  },
  {
   "cell_type": "code",
   "execution_count": 92,
   "metadata": {},
   "outputs": [
    {
     "data": {
      "text/html": [
       "<div>\n",
       "<style scoped>\n",
       "    .dataframe tbody tr th:only-of-type {\n",
       "        vertical-align: middle;\n",
       "    }\n",
       "\n",
       "    .dataframe tbody tr th {\n",
       "        vertical-align: top;\n",
       "    }\n",
       "\n",
       "    .dataframe thead th {\n",
       "        text-align: right;\n",
       "    }\n",
       "</style>\n",
       "<table border=\"1\" class=\"dataframe\">\n",
       "  <thead>\n",
       "    <tr style=\"text-align: right;\">\n",
       "      <th></th>\n",
       "      <th>City</th>\n",
       "      <th>Population</th>\n",
       "      <th>Unnamed: 2</th>\n",
       "      <th>Unnamed: 3</th>\n",
       "    </tr>\n",
       "  </thead>\n",
       "  <tbody>\n",
       "    <tr>\n",
       "      <th>0</th>\n",
       "      <td>Adelanto city, California</td>\n",
       "      <td>34,049</td>\n",
       "      <td>NaN</td>\n",
       "      <td>NaN</td>\n",
       "    </tr>\n",
       "    <tr>\n",
       "      <th>1</th>\n",
       "      <td>Agoura Hills city, California</td>\n",
       "      <td>20,222</td>\n",
       "      <td>NaN</td>\n",
       "      <td>NaN</td>\n",
       "    </tr>\n",
       "    <tr>\n",
       "      <th>2</th>\n",
       "      <td>Alameda city, California</td>\n",
       "      <td>77,624</td>\n",
       "      <td>NaN</td>\n",
       "      <td>NaN</td>\n",
       "    </tr>\n",
       "    <tr>\n",
       "      <th>3</th>\n",
       "      <td>Albany city, California</td>\n",
       "      <td>19,696</td>\n",
       "      <td>NaN</td>\n",
       "      <td>NaN</td>\n",
       "    </tr>\n",
       "    <tr>\n",
       "      <th>4</th>\n",
       "      <td>Alhambra city, California</td>\n",
       "      <td>83,750</td>\n",
       "      <td>NaN</td>\n",
       "      <td>NaN</td>\n",
       "    </tr>\n",
       "  </tbody>\n",
       "</table>\n",
       "</div>"
      ],
      "text/plain": [
       "                            City Population  Unnamed: 2  Unnamed: 3\n",
       "0      Adelanto city, California     34,049         NaN         NaN\n",
       "1  Agoura Hills city, California     20,222         NaN         NaN\n",
       "2       Alameda city, California     77,624         NaN         NaN\n",
       "3        Albany city, California     19,696         NaN         NaN\n",
       "4      Alhambra city, California     83,750         NaN         NaN"
      ]
     },
     "execution_count": 92,
     "metadata": {},
     "output_type": "execute_result"
    }
   ],
   "source": [
    "citypop.head()"
   ]
  },
  {
   "cell_type": "code",
   "execution_count": 93,
   "metadata": {},
   "outputs": [],
   "source": [
    "citypop.drop(columns=['Unnamed: 2', 'Unnamed: 3'], inplace=True)"
   ]
  },
  {
   "cell_type": "code",
   "execution_count": 94,
   "metadata": {},
   "outputs": [
    {
     "data": {
      "text/html": [
       "<div>\n",
       "<style scoped>\n",
       "    .dataframe tbody tr th:only-of-type {\n",
       "        vertical-align: middle;\n",
       "    }\n",
       "\n",
       "    .dataframe tbody tr th {\n",
       "        vertical-align: top;\n",
       "    }\n",
       "\n",
       "    .dataframe thead th {\n",
       "        text-align: right;\n",
       "    }\n",
       "</style>\n",
       "<table border=\"1\" class=\"dataframe\">\n",
       "  <thead>\n",
       "    <tr style=\"text-align: right;\">\n",
       "      <th></th>\n",
       "      <th>City</th>\n",
       "      <th>Population</th>\n",
       "    </tr>\n",
       "  </thead>\n",
       "  <tbody>\n",
       "    <tr>\n",
       "      <th>0</th>\n",
       "      <td>Adelanto city, California</td>\n",
       "      <td>34,049</td>\n",
       "    </tr>\n",
       "    <tr>\n",
       "      <th>1</th>\n",
       "      <td>Agoura Hills city, California</td>\n",
       "      <td>20,222</td>\n",
       "    </tr>\n",
       "    <tr>\n",
       "      <th>2</th>\n",
       "      <td>Alameda city, California</td>\n",
       "      <td>77,624</td>\n",
       "    </tr>\n",
       "    <tr>\n",
       "      <th>3</th>\n",
       "      <td>Albany city, California</td>\n",
       "      <td>19,696</td>\n",
       "    </tr>\n",
       "    <tr>\n",
       "      <th>4</th>\n",
       "      <td>Alhambra city, California</td>\n",
       "      <td>83,750</td>\n",
       "    </tr>\n",
       "  </tbody>\n",
       "</table>\n",
       "</div>"
      ],
      "text/plain": [
       "                            City Population\n",
       "0      Adelanto city, California     34,049\n",
       "1  Agoura Hills city, California     20,222\n",
       "2       Alameda city, California     77,624\n",
       "3        Albany city, California     19,696\n",
       "4      Alhambra city, California     83,750"
      ]
     },
     "execution_count": 94,
     "metadata": {},
     "output_type": "execute_result"
    }
   ],
   "source": [
    "citypop.head()"
   ]
  },
  {
   "cell_type": "code",
   "execution_count": 95,
   "metadata": {},
   "outputs": [],
   "source": [
    "pop = citypop.copy()"
   ]
  },
  {
   "cell_type": "code",
   "execution_count": 97,
   "metadata": {},
   "outputs": [],
   "source": [
    "pop['City'] = pop['City'].str.replace(' city, California','')\n",
    "\n",
    "pop['City'] = pop['City'].str.replace(' town, California', '')"
   ]
  },
  {
   "cell_type": "code",
   "execution_count": 109,
   "metadata": {},
   "outputs": [
    {
     "data": {
      "text/html": [
       "<div>\n",
       "<style scoped>\n",
       "    .dataframe tbody tr th:only-of-type {\n",
       "        vertical-align: middle;\n",
       "    }\n",
       "\n",
       "    .dataframe tbody tr th {\n",
       "        vertical-align: top;\n",
       "    }\n",
       "\n",
       "    .dataframe thead th {\n",
       "        text-align: right;\n",
       "    }\n",
       "</style>\n",
       "<table border=\"1\" class=\"dataframe\">\n",
       "  <thead>\n",
       "    <tr style=\"text-align: right;\">\n",
       "      <th></th>\n",
       "      <th>City</th>\n",
       "      <th>Population</th>\n",
       "    </tr>\n",
       "  </thead>\n",
       "  <tbody>\n",
       "    <tr>\n",
       "      <th>477</th>\n",
       "      <td>Yountville</td>\n",
       "      <td>2,966</td>\n",
       "    </tr>\n",
       "    <tr>\n",
       "      <th>478</th>\n",
       "      <td>Yreka</td>\n",
       "      <td>7,518</td>\n",
       "    </tr>\n",
       "    <tr>\n",
       "      <th>479</th>\n",
       "      <td>Yuba City</td>\n",
       "      <td>67,010</td>\n",
       "    </tr>\n",
       "    <tr>\n",
       "      <th>480</th>\n",
       "      <td>Yucaipa</td>\n",
       "      <td>53,921</td>\n",
       "    </tr>\n",
       "    <tr>\n",
       "      <th>481</th>\n",
       "      <td>Yucca Valley</td>\n",
       "      <td>21,777</td>\n",
       "    </tr>\n",
       "    <tr>\n",
       "      <th>482</th>\n",
       "      <td>Note: The estimates are based on the 2010 Cens...</td>\n",
       "      <td>NaN</td>\n",
       "    </tr>\n",
       "    <tr>\n",
       "      <th>483</th>\n",
       "      <td>Suggested Citation:</td>\n",
       "      <td>NaN</td>\n",
       "    </tr>\n",
       "    <tr>\n",
       "      <th>484</th>\n",
       "      <td>Annual Estimates of the Resident Population fo...</td>\n",
       "      <td>NaN</td>\n",
       "    </tr>\n",
       "    <tr>\n",
       "      <th>485</th>\n",
       "      <td>Source: U.S. Census Bureau, Population Division</td>\n",
       "      <td>NaN</td>\n",
       "    </tr>\n",
       "    <tr>\n",
       "      <th>486</th>\n",
       "      <td>Release Date: May 2020</td>\n",
       "      <td>NaN</td>\n",
       "    </tr>\n",
       "  </tbody>\n",
       "</table>\n",
       "</div>"
      ],
      "text/plain": [
       "                                                  City Population\n",
       "477                                         Yountville      2,966\n",
       "478                                              Yreka      7,518\n",
       "479                                          Yuba City     67,010\n",
       "480                                            Yucaipa     53,921\n",
       "481                                       Yucca Valley     21,777\n",
       "482  Note: The estimates are based on the 2010 Cens...        NaN\n",
       "483                                Suggested Citation:        NaN\n",
       "484  Annual Estimates of the Resident Population fo...        NaN\n",
       "485    Source: U.S. Census Bureau, Population Division        NaN\n",
       "486                             Release Date: May 2020        NaN"
      ]
     },
     "execution_count": 109,
     "metadata": {},
     "output_type": "execute_result"
    }
   ],
   "source": [
    "pop.tail(10)"
   ]
  },
  {
   "cell_type": "code",
   "execution_count": 111,
   "metadata": {},
   "outputs": [],
   "source": [
    "pop.drop(index=[482,483,484,485,486], inplace=True)"
   ]
  },
  {
   "cell_type": "code",
   "execution_count": 112,
   "metadata": {},
   "outputs": [
    {
     "data": {
      "text/html": [
       "<div>\n",
       "<style scoped>\n",
       "    .dataframe tbody tr th:only-of-type {\n",
       "        vertical-align: middle;\n",
       "    }\n",
       "\n",
       "    .dataframe tbody tr th {\n",
       "        vertical-align: top;\n",
       "    }\n",
       "\n",
       "    .dataframe thead th {\n",
       "        text-align: right;\n",
       "    }\n",
       "</style>\n",
       "<table border=\"1\" class=\"dataframe\">\n",
       "  <thead>\n",
       "    <tr style=\"text-align: right;\">\n",
       "      <th></th>\n",
       "      <th>City</th>\n",
       "      <th>Population</th>\n",
       "    </tr>\n",
       "  </thead>\n",
       "  <tbody>\n",
       "    <tr>\n",
       "      <th>472</th>\n",
       "      <td>Winters</td>\n",
       "      <td>7,315</td>\n",
       "    </tr>\n",
       "    <tr>\n",
       "      <th>473</th>\n",
       "      <td>Woodlake</td>\n",
       "      <td>7,658</td>\n",
       "    </tr>\n",
       "    <tr>\n",
       "      <th>474</th>\n",
       "      <td>Woodland</td>\n",
       "      <td>60,548</td>\n",
       "    </tr>\n",
       "    <tr>\n",
       "      <th>475</th>\n",
       "      <td>Woodside</td>\n",
       "      <td>5,458</td>\n",
       "    </tr>\n",
       "    <tr>\n",
       "      <th>476</th>\n",
       "      <td>Yorba Linda</td>\n",
       "      <td>67,644</td>\n",
       "    </tr>\n",
       "    <tr>\n",
       "      <th>477</th>\n",
       "      <td>Yountville</td>\n",
       "      <td>2,966</td>\n",
       "    </tr>\n",
       "    <tr>\n",
       "      <th>478</th>\n",
       "      <td>Yreka</td>\n",
       "      <td>7,518</td>\n",
       "    </tr>\n",
       "    <tr>\n",
       "      <th>479</th>\n",
       "      <td>Yuba City</td>\n",
       "      <td>67,010</td>\n",
       "    </tr>\n",
       "    <tr>\n",
       "      <th>480</th>\n",
       "      <td>Yucaipa</td>\n",
       "      <td>53,921</td>\n",
       "    </tr>\n",
       "    <tr>\n",
       "      <th>481</th>\n",
       "      <td>Yucca Valley</td>\n",
       "      <td>21,777</td>\n",
       "    </tr>\n",
       "  </tbody>\n",
       "</table>\n",
       "</div>"
      ],
      "text/plain": [
       "             City Population\n",
       "472       Winters      7,315\n",
       "473      Woodlake      7,658\n",
       "474      Woodland     60,548\n",
       "475      Woodside      5,458\n",
       "476   Yorba Linda     67,644\n",
       "477    Yountville      2,966\n",
       "478         Yreka      7,518\n",
       "479     Yuba City     67,010\n",
       "480       Yucaipa     53,921\n",
       "481  Yucca Valley     21,777"
      ]
     },
     "execution_count": 112,
     "metadata": {},
     "output_type": "execute_result"
    }
   ],
   "source": [
    "pop.tail(10)"
   ]
  },
  {
   "cell_type": "code",
   "execution_count": 113,
   "metadata": {},
   "outputs": [],
   "source": [
    "pop['Population'] = pop['Population'].str.replace(',','')"
   ]
  },
  {
   "cell_type": "code",
   "execution_count": 114,
   "metadata": {},
   "outputs": [
    {
     "data": {
      "text/html": [
       "<div>\n",
       "<style scoped>\n",
       "    .dataframe tbody tr th:only-of-type {\n",
       "        vertical-align: middle;\n",
       "    }\n",
       "\n",
       "    .dataframe tbody tr th {\n",
       "        vertical-align: top;\n",
       "    }\n",
       "\n",
       "    .dataframe thead th {\n",
       "        text-align: right;\n",
       "    }\n",
       "</style>\n",
       "<table border=\"1\" class=\"dataframe\">\n",
       "  <thead>\n",
       "    <tr style=\"text-align: right;\">\n",
       "      <th></th>\n",
       "      <th>City</th>\n",
       "      <th>Population</th>\n",
       "    </tr>\n",
       "  </thead>\n",
       "  <tbody>\n",
       "    <tr>\n",
       "      <th>0</th>\n",
       "      <td>Adelanto</td>\n",
       "      <td>34049</td>\n",
       "    </tr>\n",
       "    <tr>\n",
       "      <th>1</th>\n",
       "      <td>Agoura Hills</td>\n",
       "      <td>20222</td>\n",
       "    </tr>\n",
       "    <tr>\n",
       "      <th>2</th>\n",
       "      <td>Alameda</td>\n",
       "      <td>77624</td>\n",
       "    </tr>\n",
       "    <tr>\n",
       "      <th>3</th>\n",
       "      <td>Albany</td>\n",
       "      <td>19696</td>\n",
       "    </tr>\n",
       "    <tr>\n",
       "      <th>4</th>\n",
       "      <td>Alhambra</td>\n",
       "      <td>83750</td>\n",
       "    </tr>\n",
       "  </tbody>\n",
       "</table>\n",
       "</div>"
      ],
      "text/plain": [
       "           City Population\n",
       "0      Adelanto      34049\n",
       "1  Agoura Hills      20222\n",
       "2       Alameda      77624\n",
       "3        Albany      19696\n",
       "4      Alhambra      83750"
      ]
     },
     "execution_count": 114,
     "metadata": {},
     "output_type": "execute_result"
    }
   ],
   "source": [
    "pop.head()"
   ]
  },
  {
   "cell_type": "code",
   "execution_count": 115,
   "metadata": {},
   "outputs": [],
   "source": [
    "pop.to_csv('city_population.csv')"
   ]
  },
  {
   "cell_type": "markdown",
   "metadata": {},
   "source": [
    "## taxes and population together"
   ]
  },
  {
   "cell_type": "code",
   "execution_count": 116,
   "metadata": {},
   "outputs": [],
   "source": [
    "taxpop = df.merge(pop, left_on='City', right_on='City', how='left')\n",
    "\n",
    "taxpop.shape\n",
    "\n",
    "pop.shape\n",
    "\n",
    "df.shape"
   ]
  },
  {
   "cell_type": "code",
   "execution_count": 121,
   "metadata": {},
   "outputs": [],
   "source": [
    "taxpop.to_csv('tax_pop_city.csv')"
   ]
  },
  {
   "cell_type": "code",
   "execution_count": 122,
   "metadata": {},
   "outputs": [
    {
     "data": {
      "text/html": [
       "<div>\n",
       "<style scoped>\n",
       "    .dataframe tbody tr th:only-of-type {\n",
       "        vertical-align: middle;\n",
       "    }\n",
       "\n",
       "    .dataframe tbody tr th {\n",
       "        vertical-align: top;\n",
       "    }\n",
       "\n",
       "    .dataframe thead th {\n",
       "        text-align: right;\n",
       "    }\n",
       "</style>\n",
       "<table border=\"1\" class=\"dataframe\">\n",
       "  <thead>\n",
       "    <tr style=\"text-align: right;\">\n",
       "      <th></th>\n",
       "      <th>City</th>\n",
       "      <th>2016-2017</th>\n",
       "      <th>2017-2018</th>\n",
       "      <th>2018-2019</th>\n",
       "      <th>Total Tax Revenue</th>\n",
       "      <th>Average Tax Revenue</th>\n",
       "      <th>Population</th>\n",
       "    </tr>\n",
       "  </thead>\n",
       "  <tbody>\n",
       "    <tr>\n",
       "      <th>0</th>\n",
       "      <td>Adelanto</td>\n",
       "      <td>6407577.0</td>\n",
       "      <td>8379208</td>\n",
       "      <td>8842082.0</td>\n",
       "      <td>23628867.0</td>\n",
       "      <td>7.876289e+06</td>\n",
       "      <td>34049</td>\n",
       "    </tr>\n",
       "    <tr>\n",
       "      <th>1</th>\n",
       "      <td>Agoura Hills</td>\n",
       "      <td>19346497.0</td>\n",
       "      <td>20776976</td>\n",
       "      <td>18491359.0</td>\n",
       "      <td>58614832.0</td>\n",
       "      <td>1.953828e+07</td>\n",
       "      <td>20222</td>\n",
       "    </tr>\n",
       "    <tr>\n",
       "      <th>2</th>\n",
       "      <td>Alameda</td>\n",
       "      <td>82392105.0</td>\n",
       "      <td>104149055</td>\n",
       "      <td>95816394.0</td>\n",
       "      <td>282357554.0</td>\n",
       "      <td>9.411918e+07</td>\n",
       "      <td>77624</td>\n",
       "    </tr>\n",
       "    <tr>\n",
       "      <th>3</th>\n",
       "      <td>Albany</td>\n",
       "      <td>18946529.0</td>\n",
       "      <td>19815521</td>\n",
       "      <td>18580640.0</td>\n",
       "      <td>57342690.0</td>\n",
       "      <td>1.911423e+07</td>\n",
       "      <td>19696</td>\n",
       "    </tr>\n",
       "    <tr>\n",
       "      <th>4</th>\n",
       "      <td>Alhambra</td>\n",
       "      <td>48888081.0</td>\n",
       "      <td>54145658</td>\n",
       "      <td>51948185.0</td>\n",
       "      <td>154981924.0</td>\n",
       "      <td>5.166064e+07</td>\n",
       "      <td>83750</td>\n",
       "    </tr>\n",
       "  </tbody>\n",
       "</table>\n",
       "</div>"
      ],
      "text/plain": [
       "           City   2016-2017  2017-2018   2018-2019  Total Tax Revenue  \\\n",
       "0      Adelanto   6407577.0    8379208   8842082.0         23628867.0   \n",
       "1  Agoura Hills  19346497.0   20776976  18491359.0         58614832.0   \n",
       "2       Alameda  82392105.0  104149055  95816394.0        282357554.0   \n",
       "3        Albany  18946529.0   19815521  18580640.0         57342690.0   \n",
       "4      Alhambra  48888081.0   54145658  51948185.0        154981924.0   \n",
       "\n",
       "   Average Tax Revenue Population  \n",
       "0         7.876289e+06      34049  \n",
       "1         1.953828e+07      20222  \n",
       "2         9.411918e+07      77624  \n",
       "3         1.911423e+07      19696  \n",
       "4         5.166064e+07      83750  "
      ]
     },
     "execution_count": 122,
     "metadata": {},
     "output_type": "execute_result"
    }
   ],
   "source": [
    "taxpop.head()"
   ]
  },
  {
   "cell_type": "markdown",
   "metadata": {},
   "source": [
    "# Taking out StartYear >= 2020 for chris's missing programs"
   ]
  },
  {
   "cell_type": "code",
   "execution_count": 123,
   "metadata": {},
   "outputs": [],
   "source": [
    "m = pd.read_csv('missing_programs_for_chris_2.csv')"
   ]
  },
  {
   "cell_type": "code",
   "execution_count": 124,
   "metadata": {},
   "outputs": [
    {
     "data": {
      "text/plain": [
       "Index(['Unnamed: 0', 'PA', 'PrgID', 'ProgramName', 'Grouping', 'County',\n",
       "       'Selected', 'PrimarySector', 'Sector', 'BP Sector',\n",
       "       'ProgramImplementer', 'ProgramCategory', 'StatewideProgram',\n",
       "       'ImplementationContractor', 'ProgramManager', 'StartYear', 'EndYear',\n",
       "       'Resource_Flag', 'NonResource_Flag', 'Deemed_Flag', 'Custom_Flag',\n",
       "       'Upstream_Flag', 'Midstream_Flag', 'Downstream_Flag', 'DirectInstall',\n",
       "       'Audit_Flag', 'Financing', 'ParentProgram', 'Exclude_From_Budget',\n",
       "       'Exclude_From_CE', 'TotalGrossMeasureCost', 'TotalGrossIncentive',\n",
       "       'TotalFirstYearGrosskW', 'cpuc_claims'],\n",
       "      dtype='object')"
      ]
     },
     "execution_count": 124,
     "metadata": {},
     "output_type": "execute_result"
    }
   ],
   "source": [
    "m.columns"
   ]
  },
  {
   "cell_type": "code",
   "execution_count": 125,
   "metadata": {},
   "outputs": [],
   "source": [
    "before_2020 = m[m['StartYear'] < 2020]"
   ]
  },
  {
   "cell_type": "code",
   "execution_count": 126,
   "metadata": {},
   "outputs": [
    {
     "data": {
      "text/plain": [
       "(31, 34)"
      ]
     },
     "execution_count": 126,
     "metadata": {},
     "output_type": "execute_result"
    }
   ],
   "source": [
    "before_2020.shape"
   ]
  },
  {
   "cell_type": "code",
   "execution_count": 127,
   "metadata": {},
   "outputs": [],
   "source": [
    "before_2020.to_csv('missing_programs_for_chris_3.csv')"
   ]
  },
  {
   "cell_type": "code",
   "execution_count": null,
   "metadata": {},
   "outputs": [],
   "source": []
  }
 ],
 "metadata": {
  "kernelspec": {
   "display_name": "Python 3",
   "language": "python",
   "name": "python3"
  },
  "language_info": {
   "codemirror_mode": {
    "name": "ipython",
    "version": 3
   },
   "file_extension": ".py",
   "mimetype": "text/x-python",
   "name": "python",
   "nbconvert_exporter": "python",
   "pygments_lexer": "ipython3",
   "version": "3.8.5"
  }
 },
 "nbformat": 4,
 "nbformat_minor": 4
}
