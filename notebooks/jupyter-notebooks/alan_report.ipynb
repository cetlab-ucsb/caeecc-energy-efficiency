{
 "cells": [
  {
   "cell_type": "markdown",
   "metadata": {},
   "source": [
    "# Dealing with mislabeled entries"
   ]
  },
  {
   "cell_type": "code",
   "execution_count": 1,
   "metadata": {},
   "outputs": [],
   "source": [
    "import pandas as pd"
   ]
  },
  {
   "cell_type": "code",
   "execution_count": 2,
   "metadata": {},
   "outputs": [
    {
     "name": "stderr",
     "output_type": "stream",
     "text": [
      "C:\\Users\\audre\\anaconda3\\lib\\site-packages\\IPython\\core\\interactiveshell.py:3146: DtypeWarning: Columns (7,27,33,37,38,40,71) have mixed types.Specify dtype option on import or set low_memory=False.\n",
      "  has_raised = await self.run_ast_nodes(code_ast.body, cell_name,\n"
     ]
    }
   ],
   "source": [
    "chris_data = pd.read_csv('data/specific_cedars_programs.csv') #bc guy who gave us this, his name is chris\n",
    "smaller_cedars = pd.read_csv('data/claims_selected_programs_2016_2020.csv') #cedars is fatty database og file i tried downloading was 5GB"
   ]
  },
  {
   "cell_type": "markdown",
   "metadata": {},
   "source": [
    "merging the two because chris_data has info smaller_cedars does not"
   ]
  },
  {
   "cell_type": "code",
   "execution_count": 3,
   "metadata": {},
   "outputs": [],
   "source": [
    "new = smaller_cedars.merge( chris_data, \n",
    "                     left_on = 'Program ID', right_on = 'PrgID',\n",
    "                    how = 'left')"
   ]
  },
  {
   "cell_type": "markdown",
   "metadata": {},
   "source": [
    "**Relevant Claims Data** --> By County: # of EE programs, # of claims, program's budget,  EE program energy savings in kwh"
   ]
  },
  {
   "cell_type": "markdown",
   "metadata": {},
   "source": [
    "My goal is to make a data frame that has county as the index, and the above as columns"
   ]
  },
  {
   "cell_type": "code",
   "execution_count": 4,
   "metadata": {},
   "outputs": [],
   "source": [
    "neww = new.copy()"
   ]
  },
  {
   "cell_type": "code",
   "execution_count": 5,
   "metadata": {},
   "outputs": [],
   "source": [
    "relevant = neww[['County', 'Program ID', 'Budget','First Year Gross kWh',\n",
    " 'First Year Gross Therm',\n",
    " 'First Year Net kWh',\n",
    " 'First Year Net Therm']]"
   ]
  },
  {
   "cell_type": "code",
   "execution_count": 6,
   "metadata": {},
   "outputs": [],
   "source": [
    "relevant = relevant.replace(to_replace = ['Los Angeles ','San Bernardino ', 'San Joaquin ', 'Long Beach '],\n",
    "            value = ['Los Angeles', 'San Bernardino', 'San Joaquin', 'Long Beach'])"
   ]
  },
  {
   "cell_type": "code",
   "execution_count": 7,
   "metadata": {},
   "outputs": [
    {
     "data": {
      "text/html": [
       "<div>\n",
       "<style scoped>\n",
       "    .dataframe tbody tr th:only-of-type {\n",
       "        vertical-align: middle;\n",
       "    }\n",
       "\n",
       "    .dataframe tbody tr th {\n",
       "        vertical-align: top;\n",
       "    }\n",
       "\n",
       "    .dataframe thead th {\n",
       "        text-align: right;\n",
       "    }\n",
       "</style>\n",
       "<table border=\"1\" class=\"dataframe\">\n",
       "  <thead>\n",
       "    <tr style=\"text-align: right;\">\n",
       "      <th></th>\n",
       "      <th>County</th>\n",
       "      <th>Program ID</th>\n",
       "      <th>Budget</th>\n",
       "      <th>First Year Gross kWh</th>\n",
       "      <th>First Year Gross Therm</th>\n",
       "      <th>First Year Net kWh</th>\n",
       "      <th>First Year Net Therm</th>\n",
       "    </tr>\n",
       "  </thead>\n",
       "  <tbody>\n",
       "    <tr>\n",
       "      <th>0</th>\n",
       "      <td>NaN</td>\n",
       "      <td>BAYREN06</td>\n",
       "      <td>352223.115500</td>\n",
       "      <td>0.000000</td>\n",
       "      <td>0.000000</td>\n",
       "      <td>0.000000</td>\n",
       "      <td>0.000000</td>\n",
       "    </tr>\n",
       "    <tr>\n",
       "      <th>1</th>\n",
       "      <td>NaN</td>\n",
       "      <td>BAYREN06</td>\n",
       "      <td>287466.113500</td>\n",
       "      <td>0.000000</td>\n",
       "      <td>0.000000</td>\n",
       "      <td>0.000000</td>\n",
       "      <td>0.000000</td>\n",
       "    </tr>\n",
       "    <tr>\n",
       "      <th>2</th>\n",
       "      <td>NaN</td>\n",
       "      <td>BAYREN06</td>\n",
       "      <td>287466.113500</td>\n",
       "      <td>0.000000</td>\n",
       "      <td>0.000000</td>\n",
       "      <td>0.000000</td>\n",
       "      <td>0.000000</td>\n",
       "    </tr>\n",
       "    <tr>\n",
       "      <th>3</th>\n",
       "      <td>NaN</td>\n",
       "      <td>BAYREN06</td>\n",
       "      <td>352223.115500</td>\n",
       "      <td>0.000000</td>\n",
       "      <td>0.000000</td>\n",
       "      <td>0.000000</td>\n",
       "      <td>0.000000</td>\n",
       "    </tr>\n",
       "    <tr>\n",
       "      <th>4</th>\n",
       "      <td>NaN</td>\n",
       "      <td>LCE-COM-001</td>\n",
       "      <td>200.320838</td>\n",
       "      <td>230.027213</td>\n",
       "      <td>-0.883901</td>\n",
       "      <td>149.517688</td>\n",
       "      <td>-0.574536</td>\n",
       "    </tr>\n",
       "  </tbody>\n",
       "</table>\n",
       "</div>"
      ],
      "text/plain": [
       "  County   Program ID         Budget  First Year Gross kWh  \\\n",
       "0    NaN     BAYREN06  352223.115500              0.000000   \n",
       "1    NaN     BAYREN06  287466.113500              0.000000   \n",
       "2    NaN     BAYREN06  287466.113500              0.000000   \n",
       "3    NaN     BAYREN06  352223.115500              0.000000   \n",
       "4    NaN  LCE-COM-001     200.320838            230.027213   \n",
       "\n",
       "   First Year Gross Therm  First Year Net kWh  First Year Net Therm  \n",
       "0                0.000000            0.000000              0.000000  \n",
       "1                0.000000            0.000000              0.000000  \n",
       "2                0.000000            0.000000              0.000000  \n",
       "3                0.000000            0.000000              0.000000  \n",
       "4               -0.883901          149.517688             -0.574536  "
      ]
     },
     "execution_count": 7,
     "metadata": {},
     "output_type": "execute_result"
    }
   ],
   "source": [
    "relevant.head()"
   ]
  },
  {
   "cell_type": "code",
   "execution_count": 8,
   "metadata": {},
   "outputs": [
    {
     "data": {
      "text/plain": [
       "NaN                                712876\n",
       "San Mateo                           53981\n",
       "Kern                                22070\n",
       "Sonoma                              17113\n",
       "Fresno                              12146\n",
       "Santa Clara, Alameda, San Mateo     10618\n",
       "Marin                                7995\n",
       "Monterey                             6794\n",
       "San Luis Obispo                      3797\n",
       "Solano                               3697\n",
       "San Francisco                        3607\n",
       "Redwood                              3435\n",
       "Mendocino                            2184\n",
       "Los Angeles                          2030\n",
       "Santa Barbara                        2010\n",
       "Orange                               1372\n",
       "Long Beach                           1174\n",
       "Madera                                941\n",
       "Napa                                  898\n",
       "Riverside                             659\n",
       "San Bernardino                        406\n",
       "San Joaquin                           143\n",
       "Ventura                               137\n",
       "Yolo                                  133\n",
       "Sutter                                116\n",
       "San Diego                              96\n",
       "Name: County, dtype: int64"
      ]
     },
     "execution_count": 8,
     "metadata": {},
     "output_type": "execute_result"
    }
   ],
   "source": [
    "relevant['County'].value_counts(dropna = False)"
   ]
  },
  {
   "cell_type": "markdown",
   "metadata": {},
   "source": [
    "From this, everything looks pretty normal, except maybe the Santa Clara, Alameda, San Mateo value but as long as that is consistent it's ok"
   ]
  },
  {
   "cell_type": "markdown",
   "metadata": {},
   "source": [
    "FYI: the file smaller_cedars is made up of individual claims, and one energy efficiency program in a single county can have thousands of claims. So each time a County appears above, it is because there was a unique claim filed in the county. To check that: "
   ]
  },
  {
   "cell_type": "code",
   "execution_count": 9,
   "metadata": {},
   "outputs": [
    {
     "data": {
      "text/plain": [
       "SCE2016_Q1_0129070                   1\n",
       "SCE-2017-Q2-0086997                  1\n",
       "PGE-2017-Q3-3971                     1\n",
       "PGE-2017-Q4-32118                    1\n",
       "SCE-2018-Q4-0078008                  1\n",
       "                                    ..\n",
       "PGE-2017-Q4-147382                   1\n",
       "PGE-2018-Q3-15536                    1\n",
       "SDGE-2018-3245-10941032-11149386S    1\n",
       "SDGE3223-2016-10362697-1144082       1\n",
       "PGE-2020-Q2-5286                     1\n",
       "Name: Claim ID, Length: 870428, dtype: int64"
      ]
     },
     "execution_count": 9,
     "metadata": {},
     "output_type": "execute_result"
    }
   ],
   "source": [
    "smaller_cedars['Claim ID'].value_counts()"
   ]
  },
  {
   "cell_type": "code",
   "execution_count": 10,
   "metadata": {},
   "outputs": [
    {
     "data": {
      "text/plain": [
       "(870428, 152)"
      ]
     },
     "execution_count": 10,
     "metadata": {},
     "output_type": "execute_result"
    }
   ],
   "source": [
    "smaller_cedars.shape"
   ]
  },
  {
   "cell_type": "markdown",
   "metadata": {},
   "source": [
    "whoooo all good! So, since we know that each entry is a unique claim, the following will give us our 'number of claims' column"
   ]
  },
  {
   "cell_type": "code",
   "execution_count": 42,
   "metadata": {},
   "outputs": [],
   "source": [
    "cc = relevant.groupby('County', dropna = False).size() # county claims"
   ]
  },
  {
   "cell_type": "code",
   "execution_count": 41,
   "metadata": {},
   "outputs": [
    {
     "data": {
      "text/plain": [
       "(870428, 7)"
      ]
     },
     "execution_count": 41,
     "metadata": {},
     "output_type": "execute_result"
    }
   ],
   "source": [
    "relevant.shape"
   ]
  },
  {
   "cell_type": "markdown",
   "metadata": {},
   "source": [
    "And to check that every claim is accounted for in cc:"
   ]
  },
  {
   "cell_type": "code",
   "execution_count": 43,
   "metadata": {},
   "outputs": [
    {
     "data": {
      "text/plain": [
       "True"
      ]
     },
     "execution_count": 43,
     "metadata": {},
     "output_type": "execute_result"
    }
   ],
   "source": [
    "cc.sum() == len(neww['County'])"
   ]
  },
  {
   "cell_type": "markdown",
   "metadata": {},
   "source": [
    ":)"
   ]
  },
  {
   "cell_type": "markdown",
   "metadata": {},
   "source": [
    "**BUT** weird thing happens"
   ]
  },
  {
   "cell_type": "code",
   "execution_count": 44,
   "metadata": {},
   "outputs": [
    {
     "data": {
      "text/plain": [
       "County\n",
       "Fresno         12146\n",
       "Kern           22070\n",
       "Long Beach      1174\n",
       "Los Angeles     2030\n",
       "Madera           941\n",
       "dtype: int64"
      ]
     },
     "execution_count": 44,
     "metadata": {},
     "output_type": "execute_result"
    }
   ],
   "source": [
    "cc.head()"
   ]
  },
  {
   "cell_type": "markdown",
   "metadata": {},
   "source": [
    "There are two Los Angeles entries! However, I didn't notice this right away and just continued along.\n",
    "The following is how I found the number of programs per county."
   ]
  },
  {
   "cell_type": "code",
   "execution_count": 46,
   "metadata": {},
   "outputs": [
    {
     "data": {
      "text/plain": [
       "[('Fresno', 'PGE211010'),\n",
       " ('Kern', 'PGE211011'),\n",
       " ('Kern', 'SCE-13-L-002K'),\n",
       " ('Kern', 'SCG3743'),\n",
       " ('Long Beach', 'SCE-13-L-002B'),\n",
       " ('Los Angeles', 'SCE-13-L-002F')]"
      ]
     },
     "execution_count": 46,
     "metadata": {},
     "output_type": "execute_result"
    }
   ],
   "source": [
    "prg = relevant.groupby(['County', 'Program ID'], dropna = False).size().index.tolist() \n",
    "#just need to count the number of times a county shows up in this list\n",
    "\n",
    "a,b = [list(c) for c in zip(*prg)]\n",
    "\n",
    "ccp = pd.Series(a) # made a series so can use value_counts\n",
    "\n",
    "cp = ccp.value_counts(dropna = False) #total programs per county\n",
    "\n",
    "prg[0:6]"
   ]
  },
  {
   "cell_type": "code",
   "execution_count": 47,
   "metadata": {},
   "outputs": [
    {
     "data": {
      "text/plain": [
       "NaN            163\n",
       "Los Angeles     11\n",
       "Riverside        6\n",
       "Orange           6\n",
       "San Diego        6\n",
       "dtype: int64"
      ]
     },
     "execution_count": 47,
     "metadata": {},
     "output_type": "execute_result"
    }
   ],
   "source": [
    "cp.head()"
   ]
  },
  {
   "cell_type": "markdown",
   "metadata": {},
   "source": [
    "at first glance, cp doesn't have those doubles, so I still didn't notice."
   ]
  },
  {
   "cell_type": "code",
   "execution_count": 16,
   "metadata": {},
   "outputs": [],
   "source": [
    "otherstuff = relevant.groupby('County', dropna = False)"
   ]
  },
  {
   "cell_type": "code",
   "execution_count": 34,
   "metadata": {},
   "outputs": [],
   "source": [
    "cbs = otherstuff.sum() #county budget and energy savings"
   ]
  },
  {
   "cell_type": "code",
   "execution_count": 35,
   "metadata": {},
   "outputs": [
    {
     "data": {
      "text/html": [
       "<div>\n",
       "<style scoped>\n",
       "    .dataframe tbody tr th:only-of-type {\n",
       "        vertical-align: middle;\n",
       "    }\n",
       "\n",
       "    .dataframe tbody tr th {\n",
       "        vertical-align: top;\n",
       "    }\n",
       "\n",
       "    .dataframe thead th {\n",
       "        text-align: right;\n",
       "    }\n",
       "</style>\n",
       "<table border=\"1\" class=\"dataframe\">\n",
       "  <thead>\n",
       "    <tr style=\"text-align: right;\">\n",
       "      <th></th>\n",
       "      <th>Budget</th>\n",
       "      <th>First Year Gross kWh</th>\n",
       "      <th>First Year Gross Therm</th>\n",
       "      <th>First Year Net kWh</th>\n",
       "      <th>First Year Net Therm</th>\n",
       "    </tr>\n",
       "    <tr>\n",
       "      <th>County</th>\n",
       "      <th></th>\n",
       "      <th></th>\n",
       "      <th></th>\n",
       "      <th></th>\n",
       "      <th></th>\n",
       "    </tr>\n",
       "  </thead>\n",
       "  <tbody>\n",
       "    <tr>\n",
       "      <th>Fresno</th>\n",
       "      <td>7.369325e+06</td>\n",
       "      <td>1.351996e+07</td>\n",
       "      <td>-4.365937e+04</td>\n",
       "      <td>1.094330e+07</td>\n",
       "      <td>-3.176930e+04</td>\n",
       "    </tr>\n",
       "    <tr>\n",
       "      <th>Kern</th>\n",
       "      <td>9.892057e+06</td>\n",
       "      <td>2.212044e+07</td>\n",
       "      <td>-9.845322e+04</td>\n",
       "      <td>1.883259e+07</td>\n",
       "      <td>-7.907397e+04</td>\n",
       "    </tr>\n",
       "    <tr>\n",
       "      <th>Long Beach</th>\n",
       "      <td>4.118075e+06</td>\n",
       "      <td>7.739129e+06</td>\n",
       "      <td>9.458570e+02</td>\n",
       "      <td>5.150099e+06</td>\n",
       "      <td>3.734130e+02</td>\n",
       "    </tr>\n",
       "    <tr>\n",
       "      <th>Los Angeles</th>\n",
       "      <td>1.385835e+07</td>\n",
       "      <td>1.300022e+07</td>\n",
       "      <td>2.124738e+04</td>\n",
       "      <td>9.190267e+06</td>\n",
       "      <td>1.164099e+04</td>\n",
       "    </tr>\n",
       "    <tr>\n",
       "      <th>Madera</th>\n",
       "      <td>1.010586e+06</td>\n",
       "      <td>1.839668e+06</td>\n",
       "      <td>-5.776970e+03</td>\n",
       "      <td>1.511291e+06</td>\n",
       "      <td>-4.371343e+03</td>\n",
       "    </tr>\n",
       "    <tr>\n",
       "      <th>Marin</th>\n",
       "      <td>3.284334e+06</td>\n",
       "      <td>3.036558e+06</td>\n",
       "      <td>-1.750944e+04</td>\n",
       "      <td>2.499033e+06</td>\n",
       "      <td>-1.456145e+04</td>\n",
       "    </tr>\n",
       "    <tr>\n",
       "      <th>Mendocino</th>\n",
       "      <td>2.175631e+06</td>\n",
       "      <td>2.998642e+06</td>\n",
       "      <td>-2.022518e+04</td>\n",
       "      <td>2.522084e+06</td>\n",
       "      <td>-1.691239e+04</td>\n",
       "    </tr>\n",
       "    <tr>\n",
       "      <th>Monterey</th>\n",
       "      <td>1.490090e+07</td>\n",
       "      <td>2.623487e+07</td>\n",
       "      <td>-9.608982e+04</td>\n",
       "      <td>2.149940e+07</td>\n",
       "      <td>-8.495898e+04</td>\n",
       "    </tr>\n",
       "    <tr>\n",
       "      <th>Napa</th>\n",
       "      <td>1.241744e+06</td>\n",
       "      <td>1.885115e+06</td>\n",
       "      <td>-8.899038e+03</td>\n",
       "      <td>1.391893e+06</td>\n",
       "      <td>-6.879284e+03</td>\n",
       "    </tr>\n",
       "    <tr>\n",
       "      <th>Orange</th>\n",
       "      <td>6.412684e+06</td>\n",
       "      <td>9.020941e+06</td>\n",
       "      <td>5.318130e+02</td>\n",
       "      <td>6.137113e+06</td>\n",
       "      <td>1.114858e+02</td>\n",
       "    </tr>\n",
       "    <tr>\n",
       "      <th>Redwood</th>\n",
       "      <td>4.668432e+06</td>\n",
       "      <td>4.402746e+06</td>\n",
       "      <td>-3.449123e+04</td>\n",
       "      <td>3.723094e+06</td>\n",
       "      <td>-3.138886e+04</td>\n",
       "    </tr>\n",
       "    <tr>\n",
       "      <th>Riverside</th>\n",
       "      <td>3.351580e+06</td>\n",
       "      <td>3.116048e+06</td>\n",
       "      <td>-1.900345e+02</td>\n",
       "      <td>2.041265e+06</td>\n",
       "      <td>-1.380444e+02</td>\n",
       "    </tr>\n",
       "    <tr>\n",
       "      <th>San Bernardino</th>\n",
       "      <td>3.782030e+06</td>\n",
       "      <td>4.529485e+06</td>\n",
       "      <td>-4.934913e+02</td>\n",
       "      <td>2.948616e+06</td>\n",
       "      <td>-3.256540e+02</td>\n",
       "    </tr>\n",
       "    <tr>\n",
       "      <th>San Diego</th>\n",
       "      <td>2.740883e+07</td>\n",
       "      <td>0.000000e+00</td>\n",
       "      <td>0.000000e+00</td>\n",
       "      <td>0.000000e+00</td>\n",
       "      <td>0.000000e+00</td>\n",
       "    </tr>\n",
       "    <tr>\n",
       "      <th>San Francisco</th>\n",
       "      <td>2.088560e+07</td>\n",
       "      <td>1.767096e+07</td>\n",
       "      <td>-6.655681e+04</td>\n",
       "      <td>1.253093e+07</td>\n",
       "      <td>-4.891306e+04</td>\n",
       "    </tr>\n",
       "    <tr>\n",
       "      <th>San Joaquin</th>\n",
       "      <td>2.396000e+06</td>\n",
       "      <td>7.289630e+06</td>\n",
       "      <td>1.548574e+02</td>\n",
       "      <td>4.829155e+06</td>\n",
       "      <td>-1.024335e+01</td>\n",
       "    </tr>\n",
       "    <tr>\n",
       "      <th>San Luis Obispo</th>\n",
       "      <td>3.967133e+06</td>\n",
       "      <td>5.905561e+06</td>\n",
       "      <td>-2.974133e+04</td>\n",
       "      <td>4.689820e+06</td>\n",
       "      <td>-2.314543e+04</td>\n",
       "    </tr>\n",
       "    <tr>\n",
       "      <th>San Mateo</th>\n",
       "      <td>6.424121e+06</td>\n",
       "      <td>1.921073e+07</td>\n",
       "      <td>-2.573790e+04</td>\n",
       "      <td>1.353908e+07</td>\n",
       "      <td>-2.055229e+04</td>\n",
       "    </tr>\n",
       "    <tr>\n",
       "      <th>Santa Barbara</th>\n",
       "      <td>4.274687e+06</td>\n",
       "      <td>5.835141e+06</td>\n",
       "      <td>-1.856478e+04</td>\n",
       "      <td>5.041214e+06</td>\n",
       "      <td>-1.636729e+04</td>\n",
       "    </tr>\n",
       "    <tr>\n",
       "      <th>Santa Clara, Alameda, San Mateo</th>\n",
       "      <td>1.528599e+07</td>\n",
       "      <td>2.528037e+07</td>\n",
       "      <td>-6.949819e+04</td>\n",
       "      <td>1.883498e+07</td>\n",
       "      <td>-5.221947e+04</td>\n",
       "    </tr>\n",
       "    <tr>\n",
       "      <th>Solano</th>\n",
       "      <td>5.533082e+06</td>\n",
       "      <td>1.132172e+07</td>\n",
       "      <td>-4.365128e+04</td>\n",
       "      <td>9.052285e+06</td>\n",
       "      <td>-3.596585e+04</td>\n",
       "    </tr>\n",
       "    <tr>\n",
       "      <th>Sonoma</th>\n",
       "      <td>7.563892e+06</td>\n",
       "      <td>1.619449e+07</td>\n",
       "      <td>-5.818332e+04</td>\n",
       "      <td>1.253519e+07</td>\n",
       "      <td>-4.595989e+04</td>\n",
       "    </tr>\n",
       "    <tr>\n",
       "      <th>Sutter</th>\n",
       "      <td>7.205054e+05</td>\n",
       "      <td>8.969670e+05</td>\n",
       "      <td>-1.863611e+03</td>\n",
       "      <td>6.437739e+05</td>\n",
       "      <td>-1.398426e+03</td>\n",
       "    </tr>\n",
       "    <tr>\n",
       "      <th>Ventura</th>\n",
       "      <td>3.213540e+06</td>\n",
       "      <td>3.203017e+06</td>\n",
       "      <td>3.673647e+04</td>\n",
       "      <td>2.124402e+06</td>\n",
       "      <td>2.015957e+04</td>\n",
       "    </tr>\n",
       "    <tr>\n",
       "      <th>Yolo</th>\n",
       "      <td>4.722746e+05</td>\n",
       "      <td>7.856663e+05</td>\n",
       "      <td>-1.700924e+03</td>\n",
       "      <td>6.034713e+05</td>\n",
       "      <td>-1.319108e+03</td>\n",
       "    </tr>\n",
       "    <tr>\n",
       "      <th>NaN</th>\n",
       "      <td>1.091500e+09</td>\n",
       "      <td>1.963210e+09</td>\n",
       "      <td>4.074338e+07</td>\n",
       "      <td>1.517200e+09</td>\n",
       "      <td>2.566628e+07</td>\n",
       "    </tr>\n",
       "  </tbody>\n",
       "</table>\n",
       "</div>"
      ],
      "text/plain": [
       "                                       Budget  First Year Gross kWh  \\\n",
       "County                                                                \n",
       "Fresno                           7.369325e+06          1.351996e+07   \n",
       "Kern                             9.892057e+06          2.212044e+07   \n",
       "Long Beach                       4.118075e+06          7.739129e+06   \n",
       "Los Angeles                      1.385835e+07          1.300022e+07   \n",
       "Madera                           1.010586e+06          1.839668e+06   \n",
       "Marin                            3.284334e+06          3.036558e+06   \n",
       "Mendocino                        2.175631e+06          2.998642e+06   \n",
       "Monterey                         1.490090e+07          2.623487e+07   \n",
       "Napa                             1.241744e+06          1.885115e+06   \n",
       "Orange                           6.412684e+06          9.020941e+06   \n",
       "Redwood                          4.668432e+06          4.402746e+06   \n",
       "Riverside                        3.351580e+06          3.116048e+06   \n",
       "San Bernardino                   3.782030e+06          4.529485e+06   \n",
       "San Diego                        2.740883e+07          0.000000e+00   \n",
       "San Francisco                    2.088560e+07          1.767096e+07   \n",
       "San Joaquin                      2.396000e+06          7.289630e+06   \n",
       "San Luis Obispo                  3.967133e+06          5.905561e+06   \n",
       "San Mateo                        6.424121e+06          1.921073e+07   \n",
       "Santa Barbara                    4.274687e+06          5.835141e+06   \n",
       "Santa Clara, Alameda, San Mateo  1.528599e+07          2.528037e+07   \n",
       "Solano                           5.533082e+06          1.132172e+07   \n",
       "Sonoma                           7.563892e+06          1.619449e+07   \n",
       "Sutter                           7.205054e+05          8.969670e+05   \n",
       "Ventura                          3.213540e+06          3.203017e+06   \n",
       "Yolo                             4.722746e+05          7.856663e+05   \n",
       "NaN                              1.091500e+09          1.963210e+09   \n",
       "\n",
       "                                 First Year Gross Therm  First Year Net kWh  \\\n",
       "County                                                                        \n",
       "Fresno                                    -4.365937e+04        1.094330e+07   \n",
       "Kern                                      -9.845322e+04        1.883259e+07   \n",
       "Long Beach                                 9.458570e+02        5.150099e+06   \n",
       "Los Angeles                                2.124738e+04        9.190267e+06   \n",
       "Madera                                    -5.776970e+03        1.511291e+06   \n",
       "Marin                                     -1.750944e+04        2.499033e+06   \n",
       "Mendocino                                 -2.022518e+04        2.522084e+06   \n",
       "Monterey                                  -9.608982e+04        2.149940e+07   \n",
       "Napa                                      -8.899038e+03        1.391893e+06   \n",
       "Orange                                     5.318130e+02        6.137113e+06   \n",
       "Redwood                                   -3.449123e+04        3.723094e+06   \n",
       "Riverside                                 -1.900345e+02        2.041265e+06   \n",
       "San Bernardino                            -4.934913e+02        2.948616e+06   \n",
       "San Diego                                  0.000000e+00        0.000000e+00   \n",
       "San Francisco                             -6.655681e+04        1.253093e+07   \n",
       "San Joaquin                                1.548574e+02        4.829155e+06   \n",
       "San Luis Obispo                           -2.974133e+04        4.689820e+06   \n",
       "San Mateo                                 -2.573790e+04        1.353908e+07   \n",
       "Santa Barbara                             -1.856478e+04        5.041214e+06   \n",
       "Santa Clara, Alameda, San Mateo           -6.949819e+04        1.883498e+07   \n",
       "Solano                                    -4.365128e+04        9.052285e+06   \n",
       "Sonoma                                    -5.818332e+04        1.253519e+07   \n",
       "Sutter                                    -1.863611e+03        6.437739e+05   \n",
       "Ventura                                    3.673647e+04        2.124402e+06   \n",
       "Yolo                                      -1.700924e+03        6.034713e+05   \n",
       "NaN                                        4.074338e+07        1.517200e+09   \n",
       "\n",
       "                                 First Year Net Therm  \n",
       "County                                                 \n",
       "Fresno                                  -3.176930e+04  \n",
       "Kern                                    -7.907397e+04  \n",
       "Long Beach                               3.734130e+02  \n",
       "Los Angeles                              1.164099e+04  \n",
       "Madera                                  -4.371343e+03  \n",
       "Marin                                   -1.456145e+04  \n",
       "Mendocino                               -1.691239e+04  \n",
       "Monterey                                -8.495898e+04  \n",
       "Napa                                    -6.879284e+03  \n",
       "Orange                                   1.114858e+02  \n",
       "Redwood                                 -3.138886e+04  \n",
       "Riverside                               -1.380444e+02  \n",
       "San Bernardino                          -3.256540e+02  \n",
       "San Diego                                0.000000e+00  \n",
       "San Francisco                           -4.891306e+04  \n",
       "San Joaquin                             -1.024335e+01  \n",
       "San Luis Obispo                         -2.314543e+04  \n",
       "San Mateo                               -2.055229e+04  \n",
       "Santa Barbara                           -1.636729e+04  \n",
       "Santa Clara, Alameda, San Mateo         -5.221947e+04  \n",
       "Solano                                  -3.596585e+04  \n",
       "Sonoma                                  -4.595989e+04  \n",
       "Sutter                                  -1.398426e+03  \n",
       "Ventura                                  2.015957e+04  \n",
       "Yolo                                    -1.319108e+03  \n",
       "NaN                                      2.566628e+07  "
      ]
     },
     "execution_count": 35,
     "metadata": {},
     "output_type": "execute_result"
    }
   ],
   "source": [
    "cbs"
   ]
  },
  {
   "cell_type": "markdown",
   "metadata": {},
   "source": [
    "nowwwww is when I noticed those duplicates. "
   ]
  },
  {
   "cell_type": "code",
   "execution_count": 36,
   "metadata": {},
   "outputs": [
    {
     "data": {
      "text/plain": [
       "Index([                         'Fresno',                            'Kern',\n",
       "                            'Long Beach',                     'Los Angeles',\n",
       "                                'Madera',                           'Marin',\n",
       "                             'Mendocino',                        'Monterey',\n",
       "                                  'Napa',                          'Orange',\n",
       "                               'Redwood',                       'Riverside',\n",
       "                        'San Bernardino',                       'San Diego',\n",
       "                         'San Francisco',                     'San Joaquin',\n",
       "                       'San Luis Obispo',                       'San Mateo',\n",
       "                         'Santa Barbara', 'Santa Clara, Alameda, San Mateo',\n",
       "                                'Solano',                          'Sonoma',\n",
       "                                'Sutter',                         'Ventura',\n",
       "                                  'Yolo',                               nan],\n",
       "      dtype='object', name='County')"
      ]
     },
     "execution_count": 36,
     "metadata": {},
     "output_type": "execute_result"
    }
   ],
   "source": [
    "cbs.index"
   ]
  },
  {
   "cell_type": "markdown",
   "metadata": {},
   "source": [
    "Now it is clear to see that some of the names of the counties have a space at the end. I tried to replace the values with a space with .replace"
   ]
  },
  {
   "cell_type": "code",
   "execution_count": 21,
   "metadata": {},
   "outputs": [
    {
     "data": {
      "text/plain": [
       "Index([                         'Fresno',                            'Kern',\n",
       "                            'Long Beach',                     'Los Angeles',\n",
       "                                'Madera',                           'Marin',\n",
       "                             'Mendocino',                        'Monterey',\n",
       "                                  'Napa',                          'Orange',\n",
       "                               'Redwood',                       'Riverside',\n",
       "                        'San Bernardino',                       'San Diego',\n",
       "                         'San Francisco',                     'San Joaquin',\n",
       "                       'San Luis Obispo',                       'San Mateo',\n",
       "                         'Santa Barbara', 'Santa Clara, Alameda, San Mateo',\n",
       "                                'Solano',                          'Sonoma',\n",
       "                                'Sutter',                         'Ventura',\n",
       "                                  'Yolo',                               nan],\n",
       "      dtype='object', name='County')"
      ]
     },
     "execution_count": 21,
     "metadata": {},
     "output_type": "execute_result"
    }
   ],
   "source": [
    "cbs.index"
   ]
  },
  {
   "cell_type": "markdown",
   "metadata": {},
   "source": [
    "but that did not work. I was thinking about adding up the columns somewhat manually, but figured it would be more fun to figure how to do it with pandas. ohhhhh its because it is an index not a column so .replace doesn't work"
   ]
  },
  {
   "cell_type": "markdown",
   "metadata": {},
   "source": [
    "** GOTTA REPLACE IN dataframe NOT CBS BECAUSE CBS IS JUST A DATAFRAME AND DOES NOT DO ADDITION and then otherstuff is a groupby object**"
   ]
  },
  {
   "cell_type": "code",
   "execution_count": 69,
   "metadata": {},
   "outputs": [],
   "source": [
    "cc = cc.rename('Total Claims')"
   ]
  },
  {
   "cell_type": "code",
   "execution_count": 68,
   "metadata": {},
   "outputs": [],
   "source": [
    "cp = cp.rename('Total Programs')"
   ]
  },
  {
   "cell_type": "code",
   "execution_count": 80,
   "metadata": {},
   "outputs": [],
   "source": [
    "cbs = cbs.join(cc)"
   ]
  },
  {
   "cell_type": "code",
   "execution_count": 85,
   "metadata": {},
   "outputs": [
    {
     "data": {
      "text/plain": [
       "County\n",
       "Fresno                             True\n",
       "Kern                               True\n",
       "Long Beach                         True\n",
       "Los Angeles                        True\n",
       "Madera                             True\n",
       "Marin                              True\n",
       "Mendocino                          True\n",
       "Monterey                           True\n",
       "Napa                               True\n",
       "Orange                             True\n",
       "Redwood                            True\n",
       "Riverside                          True\n",
       "San Bernardino                     True\n",
       "San Diego                          True\n",
       "San Francisco                      True\n",
       "San Joaquin                        True\n",
       "San Luis Obispo                    True\n",
       "San Mateo                          True\n",
       "Santa Barbara                      True\n",
       "Santa Clara, Alameda, San Mateo    True\n",
       "Solano                             True\n",
       "Sonoma                             True\n",
       "Sutter                             True\n",
       "Ventura                            True\n",
       "Yolo                               True\n",
       "NaN                                True\n",
       "Name: Total Claims, dtype: bool"
      ]
     },
     "execution_count": 85,
     "metadata": {},
     "output_type": "execute_result"
    }
   ],
   "source": [
    "cbs['Total Claims'] == cc"
   ]
  },
  {
   "cell_type": "code",
   "execution_count": 87,
   "metadata": {},
   "outputs": [],
   "source": [
    "cbs = cbs.join(cp)"
   ]
  },
  {
   "cell_type": "code",
   "execution_count": 95,
   "metadata": {},
   "outputs": [
    {
     "data": {
      "text/html": [
       "<div>\n",
       "<style scoped>\n",
       "    .dataframe tbody tr th:only-of-type {\n",
       "        vertical-align: middle;\n",
       "    }\n",
       "\n",
       "    .dataframe tbody tr th {\n",
       "        vertical-align: top;\n",
       "    }\n",
       "\n",
       "    .dataframe thead th {\n",
       "        text-align: right;\n",
       "    }\n",
       "</style>\n",
       "<table border=\"1\" class=\"dataframe\">\n",
       "  <thead>\n",
       "    <tr style=\"text-align: right;\">\n",
       "      <th></th>\n",
       "      <th>Budget</th>\n",
       "      <th>First Year Gross kWh</th>\n",
       "      <th>First Year Gross Therm</th>\n",
       "      <th>First Year Net kWh</th>\n",
       "      <th>First Year Net Therm</th>\n",
       "      <th>Total Claims</th>\n",
       "      <th>Total Programs</th>\n",
       "    </tr>\n",
       "    <tr>\n",
       "      <th>County</th>\n",
       "      <th></th>\n",
       "      <th></th>\n",
       "      <th></th>\n",
       "      <th></th>\n",
       "      <th></th>\n",
       "      <th></th>\n",
       "      <th></th>\n",
       "    </tr>\n",
       "  </thead>\n",
       "  <tbody>\n",
       "    <tr>\n",
       "      <th>Fresno</th>\n",
       "      <td>7.369325e+06</td>\n",
       "      <td>1.351996e+07</td>\n",
       "      <td>-4.365937e+04</td>\n",
       "      <td>1.094330e+07</td>\n",
       "      <td>-3.176930e+04</td>\n",
       "      <td>12146</td>\n",
       "      <td>1</td>\n",
       "    </tr>\n",
       "    <tr>\n",
       "      <th>Kern</th>\n",
       "      <td>9.892057e+06</td>\n",
       "      <td>2.212044e+07</td>\n",
       "      <td>-9.845322e+04</td>\n",
       "      <td>1.883259e+07</td>\n",
       "      <td>-7.907397e+04</td>\n",
       "      <td>22070</td>\n",
       "      <td>3</td>\n",
       "    </tr>\n",
       "    <tr>\n",
       "      <th>Long Beach</th>\n",
       "      <td>4.118075e+06</td>\n",
       "      <td>7.739129e+06</td>\n",
       "      <td>9.458570e+02</td>\n",
       "      <td>5.150099e+06</td>\n",
       "      <td>3.734130e+02</td>\n",
       "      <td>1174</td>\n",
       "      <td>1</td>\n",
       "    </tr>\n",
       "    <tr>\n",
       "      <th>Los Angeles</th>\n",
       "      <td>1.385835e+07</td>\n",
       "      <td>1.300022e+07</td>\n",
       "      <td>2.124738e+04</td>\n",
       "      <td>9.190267e+06</td>\n",
       "      <td>1.164099e+04</td>\n",
       "      <td>2030</td>\n",
       "      <td>11</td>\n",
       "    </tr>\n",
       "    <tr>\n",
       "      <th>Madera</th>\n",
       "      <td>1.010586e+06</td>\n",
       "      <td>1.839668e+06</td>\n",
       "      <td>-5.776970e+03</td>\n",
       "      <td>1.511291e+06</td>\n",
       "      <td>-4.371343e+03</td>\n",
       "      <td>941</td>\n",
       "      <td>1</td>\n",
       "    </tr>\n",
       "    <tr>\n",
       "      <th>Marin</th>\n",
       "      <td>3.284334e+06</td>\n",
       "      <td>3.036558e+06</td>\n",
       "      <td>-1.750944e+04</td>\n",
       "      <td>2.499033e+06</td>\n",
       "      <td>-1.456145e+04</td>\n",
       "      <td>7995</td>\n",
       "      <td>1</td>\n",
       "    </tr>\n",
       "    <tr>\n",
       "      <th>Mendocino</th>\n",
       "      <td>2.175631e+06</td>\n",
       "      <td>2.998642e+06</td>\n",
       "      <td>-2.022518e+04</td>\n",
       "      <td>2.522084e+06</td>\n",
       "      <td>-1.691239e+04</td>\n",
       "      <td>2184</td>\n",
       "      <td>1</td>\n",
       "    </tr>\n",
       "    <tr>\n",
       "      <th>Monterey</th>\n",
       "      <td>1.490090e+07</td>\n",
       "      <td>2.623487e+07</td>\n",
       "      <td>-9.608982e+04</td>\n",
       "      <td>2.149940e+07</td>\n",
       "      <td>-8.495898e+04</td>\n",
       "      <td>6794</td>\n",
       "      <td>1</td>\n",
       "    </tr>\n",
       "    <tr>\n",
       "      <th>Napa</th>\n",
       "      <td>1.241744e+06</td>\n",
       "      <td>1.885115e+06</td>\n",
       "      <td>-8.899038e+03</td>\n",
       "      <td>1.391893e+06</td>\n",
       "      <td>-6.879284e+03</td>\n",
       "      <td>898</td>\n",
       "      <td>1</td>\n",
       "    </tr>\n",
       "    <tr>\n",
       "      <th>Orange</th>\n",
       "      <td>6.412684e+06</td>\n",
       "      <td>9.020941e+06</td>\n",
       "      <td>5.318130e+02</td>\n",
       "      <td>6.137113e+06</td>\n",
       "      <td>1.114858e+02</td>\n",
       "      <td>1372</td>\n",
       "      <td>6</td>\n",
       "    </tr>\n",
       "    <tr>\n",
       "      <th>Redwood</th>\n",
       "      <td>4.668432e+06</td>\n",
       "      <td>4.402746e+06</td>\n",
       "      <td>-3.449123e+04</td>\n",
       "      <td>3.723094e+06</td>\n",
       "      <td>-3.138886e+04</td>\n",
       "      <td>3435</td>\n",
       "      <td>1</td>\n",
       "    </tr>\n",
       "    <tr>\n",
       "      <th>Riverside</th>\n",
       "      <td>3.351580e+06</td>\n",
       "      <td>3.116048e+06</td>\n",
       "      <td>-1.900345e+02</td>\n",
       "      <td>2.041265e+06</td>\n",
       "      <td>-1.380444e+02</td>\n",
       "      <td>659</td>\n",
       "      <td>6</td>\n",
       "    </tr>\n",
       "    <tr>\n",
       "      <th>San Bernardino</th>\n",
       "      <td>3.782030e+06</td>\n",
       "      <td>4.529485e+06</td>\n",
       "      <td>-4.934913e+02</td>\n",
       "      <td>2.948616e+06</td>\n",
       "      <td>-3.256540e+02</td>\n",
       "      <td>406</td>\n",
       "      <td>6</td>\n",
       "    </tr>\n",
       "    <tr>\n",
       "      <th>San Diego</th>\n",
       "      <td>2.740883e+07</td>\n",
       "      <td>0.000000e+00</td>\n",
       "      <td>0.000000e+00</td>\n",
       "      <td>0.000000e+00</td>\n",
       "      <td>0.000000e+00</td>\n",
       "      <td>96</td>\n",
       "      <td>6</td>\n",
       "    </tr>\n",
       "    <tr>\n",
       "      <th>San Francisco</th>\n",
       "      <td>2.088560e+07</td>\n",
       "      <td>1.767096e+07</td>\n",
       "      <td>-6.655681e+04</td>\n",
       "      <td>1.253093e+07</td>\n",
       "      <td>-4.891306e+04</td>\n",
       "      <td>3607</td>\n",
       "      <td>1</td>\n",
       "    </tr>\n",
       "    <tr>\n",
       "      <th>San Joaquin</th>\n",
       "      <td>2.396000e+06</td>\n",
       "      <td>7.289630e+06</td>\n",
       "      <td>1.548574e+02</td>\n",
       "      <td>4.829155e+06</td>\n",
       "      <td>-1.024335e+01</td>\n",
       "      <td>143</td>\n",
       "      <td>2</td>\n",
       "    </tr>\n",
       "    <tr>\n",
       "      <th>San Luis Obispo</th>\n",
       "      <td>3.967133e+06</td>\n",
       "      <td>5.905561e+06</td>\n",
       "      <td>-2.974133e+04</td>\n",
       "      <td>4.689820e+06</td>\n",
       "      <td>-2.314543e+04</td>\n",
       "      <td>3797</td>\n",
       "      <td>2</td>\n",
       "    </tr>\n",
       "    <tr>\n",
       "      <th>San Mateo</th>\n",
       "      <td>6.424121e+06</td>\n",
       "      <td>1.921073e+07</td>\n",
       "      <td>-2.573790e+04</td>\n",
       "      <td>1.353908e+07</td>\n",
       "      <td>-2.055229e+04</td>\n",
       "      <td>53981</td>\n",
       "      <td>1</td>\n",
       "    </tr>\n",
       "    <tr>\n",
       "      <th>Santa Barbara</th>\n",
       "      <td>4.274687e+06</td>\n",
       "      <td>5.835141e+06</td>\n",
       "      <td>-1.856478e+04</td>\n",
       "      <td>5.041214e+06</td>\n",
       "      <td>-1.636729e+04</td>\n",
       "      <td>2010</td>\n",
       "      <td>3</td>\n",
       "    </tr>\n",
       "    <tr>\n",
       "      <th>Santa Clara, Alameda, San Mateo</th>\n",
       "      <td>1.528599e+07</td>\n",
       "      <td>2.528037e+07</td>\n",
       "      <td>-6.949819e+04</td>\n",
       "      <td>1.883498e+07</td>\n",
       "      <td>-5.221947e+04</td>\n",
       "      <td>10618</td>\n",
       "      <td>1</td>\n",
       "    </tr>\n",
       "    <tr>\n",
       "      <th>Solano</th>\n",
       "      <td>5.533082e+06</td>\n",
       "      <td>1.132172e+07</td>\n",
       "      <td>-4.365128e+04</td>\n",
       "      <td>9.052285e+06</td>\n",
       "      <td>-3.596585e+04</td>\n",
       "      <td>3697</td>\n",
       "      <td>1</td>\n",
       "    </tr>\n",
       "    <tr>\n",
       "      <th>Sonoma</th>\n",
       "      <td>7.563892e+06</td>\n",
       "      <td>1.619449e+07</td>\n",
       "      <td>-5.818332e+04</td>\n",
       "      <td>1.253519e+07</td>\n",
       "      <td>-4.595989e+04</td>\n",
       "      <td>17113</td>\n",
       "      <td>1</td>\n",
       "    </tr>\n",
       "    <tr>\n",
       "      <th>Sutter</th>\n",
       "      <td>7.205054e+05</td>\n",
       "      <td>8.969670e+05</td>\n",
       "      <td>-1.863611e+03</td>\n",
       "      <td>6.437739e+05</td>\n",
       "      <td>-1.398426e+03</td>\n",
       "      <td>116</td>\n",
       "      <td>1</td>\n",
       "    </tr>\n",
       "    <tr>\n",
       "      <th>Ventura</th>\n",
       "      <td>3.213540e+06</td>\n",
       "      <td>3.203017e+06</td>\n",
       "      <td>3.673647e+04</td>\n",
       "      <td>2.124402e+06</td>\n",
       "      <td>2.015957e+04</td>\n",
       "      <td>137</td>\n",
       "      <td>4</td>\n",
       "    </tr>\n",
       "    <tr>\n",
       "      <th>Yolo</th>\n",
       "      <td>4.722746e+05</td>\n",
       "      <td>7.856663e+05</td>\n",
       "      <td>-1.700924e+03</td>\n",
       "      <td>6.034713e+05</td>\n",
       "      <td>-1.319108e+03</td>\n",
       "      <td>133</td>\n",
       "      <td>1</td>\n",
       "    </tr>\n",
       "    <tr>\n",
       "      <th>NaN</th>\n",
       "      <td>1.091500e+09</td>\n",
       "      <td>1.963210e+09</td>\n",
       "      <td>4.074338e+07</td>\n",
       "      <td>1.517200e+09</td>\n",
       "      <td>2.566628e+07</td>\n",
       "      <td>712876</td>\n",
       "      <td>163</td>\n",
       "    </tr>\n",
       "  </tbody>\n",
       "</table>\n",
       "</div>"
      ],
      "text/plain": [
       "                                       Budget  First Year Gross kWh  \\\n",
       "County                                                                \n",
       "Fresno                           7.369325e+06          1.351996e+07   \n",
       "Kern                             9.892057e+06          2.212044e+07   \n",
       "Long Beach                       4.118075e+06          7.739129e+06   \n",
       "Los Angeles                      1.385835e+07          1.300022e+07   \n",
       "Madera                           1.010586e+06          1.839668e+06   \n",
       "Marin                            3.284334e+06          3.036558e+06   \n",
       "Mendocino                        2.175631e+06          2.998642e+06   \n",
       "Monterey                         1.490090e+07          2.623487e+07   \n",
       "Napa                             1.241744e+06          1.885115e+06   \n",
       "Orange                           6.412684e+06          9.020941e+06   \n",
       "Redwood                          4.668432e+06          4.402746e+06   \n",
       "Riverside                        3.351580e+06          3.116048e+06   \n",
       "San Bernardino                   3.782030e+06          4.529485e+06   \n",
       "San Diego                        2.740883e+07          0.000000e+00   \n",
       "San Francisco                    2.088560e+07          1.767096e+07   \n",
       "San Joaquin                      2.396000e+06          7.289630e+06   \n",
       "San Luis Obispo                  3.967133e+06          5.905561e+06   \n",
       "San Mateo                        6.424121e+06          1.921073e+07   \n",
       "Santa Barbara                    4.274687e+06          5.835141e+06   \n",
       "Santa Clara, Alameda, San Mateo  1.528599e+07          2.528037e+07   \n",
       "Solano                           5.533082e+06          1.132172e+07   \n",
       "Sonoma                           7.563892e+06          1.619449e+07   \n",
       "Sutter                           7.205054e+05          8.969670e+05   \n",
       "Ventura                          3.213540e+06          3.203017e+06   \n",
       "Yolo                             4.722746e+05          7.856663e+05   \n",
       "NaN                              1.091500e+09          1.963210e+09   \n",
       "\n",
       "                                 First Year Gross Therm  First Year Net kWh  \\\n",
       "County                                                                        \n",
       "Fresno                                    -4.365937e+04        1.094330e+07   \n",
       "Kern                                      -9.845322e+04        1.883259e+07   \n",
       "Long Beach                                 9.458570e+02        5.150099e+06   \n",
       "Los Angeles                                2.124738e+04        9.190267e+06   \n",
       "Madera                                    -5.776970e+03        1.511291e+06   \n",
       "Marin                                     -1.750944e+04        2.499033e+06   \n",
       "Mendocino                                 -2.022518e+04        2.522084e+06   \n",
       "Monterey                                  -9.608982e+04        2.149940e+07   \n",
       "Napa                                      -8.899038e+03        1.391893e+06   \n",
       "Orange                                     5.318130e+02        6.137113e+06   \n",
       "Redwood                                   -3.449123e+04        3.723094e+06   \n",
       "Riverside                                 -1.900345e+02        2.041265e+06   \n",
       "San Bernardino                            -4.934913e+02        2.948616e+06   \n",
       "San Diego                                  0.000000e+00        0.000000e+00   \n",
       "San Francisco                             -6.655681e+04        1.253093e+07   \n",
       "San Joaquin                                1.548574e+02        4.829155e+06   \n",
       "San Luis Obispo                           -2.974133e+04        4.689820e+06   \n",
       "San Mateo                                 -2.573790e+04        1.353908e+07   \n",
       "Santa Barbara                             -1.856478e+04        5.041214e+06   \n",
       "Santa Clara, Alameda, San Mateo           -6.949819e+04        1.883498e+07   \n",
       "Solano                                    -4.365128e+04        9.052285e+06   \n",
       "Sonoma                                    -5.818332e+04        1.253519e+07   \n",
       "Sutter                                    -1.863611e+03        6.437739e+05   \n",
       "Ventura                                    3.673647e+04        2.124402e+06   \n",
       "Yolo                                      -1.700924e+03        6.034713e+05   \n",
       "NaN                                        4.074338e+07        1.517200e+09   \n",
       "\n",
       "                                 First Year Net Therm  Total Claims  \\\n",
       "County                                                                \n",
       "Fresno                                  -3.176930e+04         12146   \n",
       "Kern                                    -7.907397e+04         22070   \n",
       "Long Beach                               3.734130e+02          1174   \n",
       "Los Angeles                              1.164099e+04          2030   \n",
       "Madera                                  -4.371343e+03           941   \n",
       "Marin                                   -1.456145e+04          7995   \n",
       "Mendocino                               -1.691239e+04          2184   \n",
       "Monterey                                -8.495898e+04          6794   \n",
       "Napa                                    -6.879284e+03           898   \n",
       "Orange                                   1.114858e+02          1372   \n",
       "Redwood                                 -3.138886e+04          3435   \n",
       "Riverside                               -1.380444e+02           659   \n",
       "San Bernardino                          -3.256540e+02           406   \n",
       "San Diego                                0.000000e+00            96   \n",
       "San Francisco                           -4.891306e+04          3607   \n",
       "San Joaquin                             -1.024335e+01           143   \n",
       "San Luis Obispo                         -2.314543e+04          3797   \n",
       "San Mateo                               -2.055229e+04         53981   \n",
       "Santa Barbara                           -1.636729e+04          2010   \n",
       "Santa Clara, Alameda, San Mateo         -5.221947e+04         10618   \n",
       "Solano                                  -3.596585e+04          3697   \n",
       "Sonoma                                  -4.595989e+04         17113   \n",
       "Sutter                                  -1.398426e+03           116   \n",
       "Ventura                                  2.015957e+04           137   \n",
       "Yolo                                    -1.319108e+03           133   \n",
       "NaN                                      2.566628e+07        712876   \n",
       "\n",
       "                                 Total Programs  \n",
       "County                                           \n",
       "Fresno                                        1  \n",
       "Kern                                          3  \n",
       "Long Beach                                    1  \n",
       "Los Angeles                                  11  \n",
       "Madera                                        1  \n",
       "Marin                                         1  \n",
       "Mendocino                                     1  \n",
       "Monterey                                      1  \n",
       "Napa                                          1  \n",
       "Orange                                        6  \n",
       "Redwood                                       1  \n",
       "Riverside                                     6  \n",
       "San Bernardino                                6  \n",
       "San Diego                                     6  \n",
       "San Francisco                                 1  \n",
       "San Joaquin                                   2  \n",
       "San Luis Obispo                               2  \n",
       "San Mateo                                     1  \n",
       "Santa Barbara                                 3  \n",
       "Santa Clara, Alameda, San Mateo               1  \n",
       "Solano                                        1  \n",
       "Sonoma                                        1  \n",
       "Sutter                                        1  \n",
       "Ventura                                       4  \n",
       "Yolo                                          1  \n",
       "NaN                                         163  "
      ]
     },
     "execution_count": 95,
     "metadata": {},
     "output_type": "execute_result"
    }
   ],
   "source": [
    "cbs"
   ]
  },
  {
   "cell_type": "code",
   "execution_count": 102,
   "metadata": {},
   "outputs": [],
   "source": [
    "cbs.to_csv('data/county_claims_programs_savings.csv')"
   ]
  },
  {
   "cell_type": "code",
   "execution_count": 103,
   "metadata": {},
   "outputs": [],
   "source": [
    "test = pd.read_csv('data/county_claims_programs_savings.csv')"
   ]
  },
  {
   "cell_type": "code",
   "execution_count": 108,
   "metadata": {},
   "outputs": [
    {
     "data": {
      "text/plain": [
       "County                     object\n",
       "Budget                    float64\n",
       "First Year Gross kWh      float64\n",
       "First Year Gross Therm    float64\n",
       "First Year Net kWh        float64\n",
       "First Year Net Therm      float64\n",
       "Total Claims                int64\n",
       "Total Programs              int64\n",
       "dtype: object"
      ]
     },
     "metadata": {},
     "output_type": "display_data"
    }
   ],
   "source": [
    "display(test.dtypes)"
   ]
  },
  {
   "cell_type": "code",
   "execution_count": null,
   "metadata": {},
   "outputs": [],
   "source": []
  }
 ],
 "metadata": {
  "kernelspec": {
   "display_name": "Python 3",
   "language": "python",
   "name": "python3"
  },
  "language_info": {
   "codemirror_mode": {
    "name": "ipython",
    "version": 3
   },
   "file_extension": ".py",
   "mimetype": "text/x-python",
   "name": "python",
   "nbconvert_exporter": "python",
   "pygments_lexer": "ipython3",
   "version": "3.8.5"
  }
 },
 "nbformat": 4,
 "nbformat_minor": 4
}
