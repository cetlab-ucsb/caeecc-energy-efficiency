{
 "cells": [
  {
   "cell_type": "markdown",
   "metadata": {},
   "source": [
    "## **Resource program and On-bill financing exploration**"
   ]
  },
  {
   "cell_type": "markdown",
   "metadata": {},
   "source": [
    "Importing data and merging to create one complete relevant dataframe"
   ]
  },
  {
   "cell_type": "code",
   "execution_count": 1,
   "metadata": {},
   "outputs": [],
   "source": [
    "import pandas as pd"
   ]
  },
  {
   "cell_type": "code",
   "execution_count": 6,
   "metadata": {},
   "outputs": [],
   "source": [
    "cpuc = pd.read_csv('data/cpuc_claims_selected_programs_2017_2019.csv') #cpuc claims\n",
    "chris_data = pd.read_csv('data/specific_cedars_programs.csv') #chris's programs\n",
    "cedars = pd.read_csv('data/claims_selected_programs_2016_2020.csv', \n",
    "                     usecols = ['Claim ID', 'Program ID', 'Budget', 'First Year Gross kWh', 'First Year Gross Therm'])\n",
    "                    #useful cedars columns"
   ]
  },
  {
   "cell_type": "code",
   "execution_count": 4,
   "metadata": {},
   "outputs": [
    {
     "data": {
      "text/plain": [
       "Index(['ClaimID', 'PrgID', 'Sector', 'SiteCity', 'SiteZipCode', 'SiteID',\n",
       "       'NAICSCode', 'BldgHVAC', 'BldgLoc', 'BldgType', 'BldgVint',\n",
       "       'E3ClimateZone', 'E3GasSavProfile', 'E3GasSector',\n",
       "       'E3MeaElecEndUseShape', 'E3TargetSector', 'ImplementationID',\n",
       "       'InstallationDate', 'NAICSBldgType', 'NumUnits', 'OBF_Flag',\n",
       "       'PrgElement', 'RateScheduleElec', 'RateScheduleGas', 'REN_Flag',\n",
       "       'Residential_Flag', 'SchoolIdentifier', 'TotalFirstYearGrosskW',\n",
       "       'TotalFirstYearGrosskWh', 'TotalFirstYearGrossTherm',\n",
       "       'TotalGrossIncentive', 'TotalGrossMeasureCost',\n",
       "       'TotalGrossMeasureCost_ER', 'TotalLifecycleGrosskW',\n",
       "       'TotalLifecycleGrosskWh', 'TotalLifecycleGrossTherm', 'Upstream_Flag',\n",
       "       'WaterOnly_Flag', 'PrgYear'],\n",
       "      dtype='object')"
      ]
     },
     "execution_count": 4,
     "metadata": {},
     "output_type": "execute_result"
    }
   ],
   "source": [
    "cpuc.columns"
   ]
  },
  {
   "cell_type": "code",
   "execution_count": 5,
   "metadata": {},
   "outputs": [
    {
     "data": {
      "text/plain": [
       "Index(['PA', 'PrgID', 'ProgramName', 'Grouping', 'County', 'Selected',\n",
       "       'PrimarySector', 'Sector', 'BP Sector', 'ProgramImplementer',\n",
       "       'ProgramCategory', 'StatewideProgram', 'ImplementationContractor',\n",
       "       'ProgramManager', 'StartYear', 'EndYear', 'Resource_Flag',\n",
       "       'NonResource_Flag', 'Deemed_Flag', 'Custom_Flag', 'Upstream_Flag',\n",
       "       'Midstream_Flag', 'Downstream_Flag', 'DirectInstall', 'Audit_Flag',\n",
       "       'Financing', 'ParentProgram', 'Exclude_From_Budget', 'Exclude_From_CE'],\n",
       "      dtype='object')"
      ]
     },
     "execution_count": 5,
     "metadata": {},
     "output_type": "execute_result"
    }
   ],
   "source": [
    "chris_data.columns"
   ]
  },
  {
   "cell_type": "code",
   "execution_count": 7,
   "metadata": {},
   "outputs": [],
   "source": [
    "cpuc_chris = cpuc.merge(chris_data, left_on='PrgID', right_on='PrgID', how='left')"
   ]
  },
  {
   "cell_type": "code",
   "execution_count": 8,
   "metadata": {},
   "outputs": [],
   "source": [
    "full_set = cpuc_chris.merge(cedars, left_on='ClaimID', right_on='Claim ID', how='left')"
   ]
  },
  {
   "cell_type": "code",
   "execution_count": 10,
   "metadata": {},
   "outputs": [
    {
     "data": {
      "text/plain": [
       "Index(['ClaimID', 'PrgID', 'Sector_x', 'SiteCity', 'SiteZipCode', 'SiteID',\n",
       "       'NAICSCode', 'BldgHVAC', 'BldgLoc', 'BldgType', 'BldgVint',\n",
       "       'E3ClimateZone', 'E3GasSavProfile', 'E3GasSector',\n",
       "       'E3MeaElecEndUseShape', 'E3TargetSector', 'ImplementationID',\n",
       "       'InstallationDate', 'NAICSBldgType', 'NumUnits', 'OBF_Flag',\n",
       "       'PrgElement', 'RateScheduleElec', 'RateScheduleGas', 'REN_Flag',\n",
       "       'Residential_Flag', 'SchoolIdentifier', 'TotalFirstYearGrosskW',\n",
       "       'TotalFirstYearGrosskWh', 'TotalFirstYearGrossTherm',\n",
       "       'TotalGrossIncentive', 'TotalGrossMeasureCost',\n",
       "       'TotalGrossMeasureCost_ER', 'TotalLifecycleGrosskW',\n",
       "       'TotalLifecycleGrosskWh', 'TotalLifecycleGrossTherm', 'Upstream_Flag_x',\n",
       "       'WaterOnly_Flag', 'PrgYear', 'PA', 'ProgramName', 'Grouping', 'County',\n",
       "       'Selected', 'PrimarySector', 'Sector_y', 'BP Sector',\n",
       "       'ProgramImplementer', 'ProgramCategory', 'StatewideProgram',\n",
       "       'ImplementationContractor', 'ProgramManager', 'StartYear', 'EndYear',\n",
       "       'Resource_Flag', 'NonResource_Flag', 'Deemed_Flag', 'Custom_Flag',\n",
       "       'Upstream_Flag_y', 'Midstream_Flag', 'Downstream_Flag', 'DirectInstall',\n",
       "       'Audit_Flag', 'Financing', 'ParentProgram', 'Exclude_From_Budget',\n",
       "       'Exclude_From_CE', 'Claim ID', 'Program ID', 'First Year Gross kWh',\n",
       "       'First Year Gross Therm', 'Budget'],\n",
       "      dtype='object')"
      ]
     },
     "execution_count": 10,
     "metadata": {},
     "output_type": "execute_result"
    }
   ],
   "source": [
    "full_set.columns"
   ]
  },
  {
   "cell_type": "code",
   "execution_count": 11,
   "metadata": {},
   "outputs": [],
   "source": [
    "selected = full_set[full_set['Selected']=='x']"
   ]
  },
  {
   "cell_type": "code",
   "execution_count": 13,
   "metadata": {},
   "outputs": [
    {
     "data": {
      "text/plain": [
       "SCE-13-SW-002F    120714\n",
       "SCE-13-SW-002D    101776\n",
       "PGE21015           95646\n",
       "PGE211019          53606\n",
       "SDGE3245           44387\n",
       "                   ...  \n",
       "SCE-13-L-003H          2\n",
       "PGE210128              2\n",
       "PGE21016               2\n",
       "PGE210115              1\n",
       "PGE21091LP             1\n",
       "Name: PrgID, Length: 200, dtype: int64"
      ]
     },
     "execution_count": 13,
     "metadata": {},
     "output_type": "execute_result"
    }
   ],
   "source": [
    "selected['PrgID'].value_counts()"
   ]
  },
  {
   "cell_type": "markdown",
   "metadata": {},
   "source": [
    "#### **Now that I have the df 'selected' will look at percentage of non-resource to resource programs and their budgets, and the same for programs with on-bill financing. Also will see if the two are related.**"
   ]
  },
  {
   "cell_type": "code",
   "execution_count": null,
   "metadata": {},
   "outputs": [],
   "source": []
  }
 ],
 "metadata": {
  "kernelspec": {
   "display_name": "Python 3",
   "language": "python",
   "name": "python3"
  },
  "language_info": {
   "codemirror_mode": {
    "name": "ipython",
    "version": 3
   },
   "file_extension": ".py",
   "mimetype": "text/x-python",
   "name": "python",
   "nbconvert_exporter": "python",
   "pygments_lexer": "ipython3",
   "version": "3.8.5"
  }
 },
 "nbformat": 4,
 "nbformat_minor": 4
}
