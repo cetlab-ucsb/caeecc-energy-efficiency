{
 "cells": [
  {
   "cell_type": "code",
   "execution_count": 1,
   "metadata": {},
   "outputs": [],
   "source": [
    "import pandas as pd\n",
    "import numpy as np\n",
    "from sklearn.decomposition import PCA\n",
    "from sklearn import preprocessing\n",
    "import matplotlib.pyplot as plt"
   ]
  },
  {
   "cell_type": "code",
   "execution_count": 2,
   "metadata": {},
   "outputs": [],
   "source": [
    "county_data = pd.read_csv('data/better_cpuc_compiled.csv')"
   ]
  },
  {
   "cell_type": "code",
   "execution_count": 3,
   "metadata": {},
   "outputs": [],
   "source": [
    "county_data.drop(columns='Unnamed: 0', inplace=True)\n",
    "\n",
    "county_data.set_index('County', inplace=True)"
   ]
  },
  {
   "cell_type": "markdown",
   "metadata": {},
   "source": [
    "# from statsquest youtube"
   ]
  },
  {
   "cell_type": "code",
   "execution_count": 4,
   "metadata": {},
   "outputs": [
    {
     "name": "stderr",
     "output_type": "stream",
     "text": [
      "C:\\Users\\audre\\anaconda3\\lib\\site-packages\\sklearn\\preprocessing\\_data.py:174: UserWarning: Numerical issues were encountered when centering the data and might not be solved. Dataset may contain too large values. You may need to prescale your features.\n",
      "  warnings.warn(\"Numerical issues were encountered \"\n"
     ]
    }
   ],
   "source": [
    "scaled_data = preprocessing.scale(county_data.T)"
   ]
  },
  {
   "cell_type": "code",
   "execution_count": 5,
   "metadata": {},
   "outputs": [],
   "source": [
    "pca = PCA()\n",
    "pca.fit(scaled_data)\n",
    "pca_data = pca.transform(scaled_data)"
   ]
  },
  {
   "cell_type": "code",
   "execution_count": 6,
   "metadata": {},
   "outputs": [
    {
     "data": {
      "image/png": "[encoded data removed]",
      "text/plain": [
       "<Figure size 432x288 with 1 Axes>"
      ]
     },
     "metadata": {
      "needs_background": "light"
     },
     "output_type": "display_data"
    }
   ],
   "source": [
    "#The following code constructs the Scree plot\n",
    "per_var = np.round(pca.explained_variance_ratio_* 100, decimals=1)\n",
    "labels = ['PC' + str(x) for x in range(1, len(per_var)+1)]\n",
    " \n",
    "plt.bar(x=range(1,len(per_var)+1), height=per_var, tick_label=labels)\n",
    "plt.ylabel('Percentage of Explained Variance')\n",
    "plt.xlabel('Principal Component')\n",
    "plt.title('Scree Plot')\n",
    "plt.show()"
   ]
  },
  {
   "cell_type": "code",
   "execution_count": 7,
   "metadata": {},
   "outputs": [
    {
     "data": {
      "text/plain": [
       "Index(['Population', 'Mean Income', 'CES Score Median',\n",
       "       'TotalFirstYearGrosskWh', 'TotalFirstYearGrossTherm', 'Budget',\n",
       "       'Total Claims', 'Total Programs', 'IRR', 'Tax Revenue (2016-2018)'],\n",
       "      dtype='object')"
      ]
     },
     "execution_count": 7,
     "metadata": {},
     "output_type": "execute_result"
    }
   ],
   "source": [
    "county_data.columns"
   ]
  },
  {
   "cell_type": "code",
   "execution_count": 8,
   "metadata": {},
   "outputs": [],
   "source": [
    "county_data.reset_index(inplace=True)"
   ]
  },
  {
   "cell_type": "markdown",
   "metadata": {},
   "source": [
    "# Covariance matrix\n",
    "to determine which variables to squish into one PC"
   ]
  },
  {
   "cell_type": "code",
   "execution_count": 29,
   "metadata": {},
   "outputs": [],
   "source": [
    "covariance_matrix = county_data.drop(\n",
    "    columns=['County','Budget', 'TotalFirstYearGrosskWh', 'TotalFirstYearGrossTherm', 'Total Claims', 'Total Programs']).cov()"
   ]
  },
  {
   "cell_type": "code",
   "execution_count": 30,
   "metadata": {},
   "outputs": [],
   "source": [
    "var_list = list(covariance_matrix.index)"
   ]
  },
  {
   "cell_type": "code",
   "execution_count": 31,
   "metadata": {},
   "outputs": [
    {
     "name": "stdout",
     "output_type": "stream",
     "text": [
      "2159501742668.8196\n",
      "Population and Population\n",
      "\n",
      "276970580.0323653\n",
      "Population and Mean Income\n",
      "\n",
      "3395563.123796662\n",
      "Population and CES Score Median\n",
      "\n",
      "4401735720318215.0\n",
      "Population and Tax Revenue (2016-2018)\n",
      "\n",
      "276970580.0323653\n",
      "Mean Income and Population\n",
      "\n",
      "70614891.51633392\n",
      "Mean Income and Mean Income\n",
      "\n",
      "1354728779917.6887\n",
      "Mean Income and Tax Revenue (2016-2018)\n",
      "\n",
      "3395563.123796662\n",
      "CES Score Median and Population\n",
      "\n",
      "103.65088974540357\n",
      "CES Score Median and CES Score Median\n",
      "\n",
      "6510483056.857431\n",
      "CES Score Median and Tax Revenue (2016-2018)\n",
      "\n",
      "4401735720318215.0\n",
      "Tax Revenue (2016-2018) and Population\n",
      "\n",
      "1354728779917.6887\n",
      "Tax Revenue (2016-2018) and Mean Income\n",
      "\n",
      "6510483056.857431\n",
      "Tax Revenue (2016-2018) and CES Score Median\n",
      "\n",
      "1.0169227478377265e+19\n",
      "Tax Revenue (2016-2018) and Tax Revenue (2016-2018)\n",
      "\n"
     ]
    }
   ],
   "source": [
    "for var in var_list:\n",
    "    for car in var_list:\n",
    "        if covariance_matrix.loc[var,car] >= 0.5:\n",
    "            print(covariance_matrix.loc[var,car])\n",
    "            print(var+' and '+car+'\\n')"
   ]
  },
  {
   "cell_type": "markdown",
   "metadata": {},
   "source": [
    "# WHY ARE THESE COVARIANCES SO HIGH?????? SEEMS LIKE EVERYTHING IS EXTREMELY VARIED BUT MOVES TOGETHER? OR I'VE GOTTA LEARN MORE ABOUT COVARIANCE\n",
    "ya turns out we were looking at correlation before, not covariance, so that's why theses numbers seem so high. Still kinda crazy how high they are though"
   ]
  },
  {
   "cell_type": "code",
   "execution_count": 32,
   "metadata": {},
   "outputs": [],
   "source": [
    "correlation_matrix = county_data.drop(\n",
    "    columns=['County','Budget', 'TotalFirstYearGrosskWh', 'TotalFirstYearGrossTherm','Total Claims', 'Total Programs']).corr()"
   ]
  },
  {
   "cell_type": "code",
   "execution_count": 43,
   "metadata": {},
   "outputs": [
    {
     "name": "stdout",
     "output_type": "stream",
     "text": [
      "1.0\n",
      "Population and Population\n",
      "\n",
      "0.9392975800255418\n",
      "Population and Tax Revenue (2016-2018)\n",
      "\n",
      "1.0\n",
      "Mean Income and Mean Income\n",
      "\n",
      "1.0\n",
      "CES Score Median and CES Score Median\n",
      "\n",
      "1.0\n",
      "IRR and IRR\n",
      "\n",
      "0.9392975800255418\n",
      "Tax Revenue (2016-2018) and Population\n",
      "\n",
      "1.0\n",
      "Tax Revenue (2016-2018) and Tax Revenue (2016-2018)\n",
      "\n"
     ]
    }
   ],
   "source": [
    "for var in var_list:\n",
    "    for car in var_list:\n",
    "        if correlation_matrix.loc[var,car] >= 0.5:\n",
    "            print(correlation_matrix.loc[var,car])\n",
    "            print(var+' and '+car+'\\n')"
   ]
  },
  {
   "cell_type": "markdown",
   "metadata": {},
   "source": [
    "from the above its clear that tax revenue and population are extremely correlated....might be worth it to just drop one because they are almost the same variable with 0.94 correlation..... if I drop population do IRR and tax revenue become more/less correlated or is there no change?"
   ]
  },
  {
   "cell_type": "code",
   "execution_count": 36,
   "metadata": {},
   "outputs": [],
   "source": [
    "correlation_matrix_nop = county_data.drop(\n",
    "    columns=['County','Budget', 'TotalFirstYearGrosskWh', 'TotalFirstYearGrossTherm','Total Claims', 'Total Programs', 'Population']).corr()"
   ]
  },
  {
   "cell_type": "code",
   "execution_count": 39,
   "metadata": {},
   "outputs": [
    {
     "name": "stdout",
     "output_type": "stream",
     "text": [
      "1.0\n",
      "Mean Income and Mean Income\n",
      "\n",
      "1.0\n",
      "CES Score Median and CES Score Median\n",
      "\n",
      "1.0\n",
      "IRR and IRR\n",
      "\n",
      "1.0\n",
      "Tax Revenue (2016-2018) and Tax Revenue (2016-2018)\n",
      "\n"
     ]
    }
   ],
   "source": [
    "car_list = list(correlation_matrix_nop.index)\n",
    "for var in car_list:\n",
    "    for car in car_list:\n",
    "        if correlation_matrix_nop.loc[var,car] >= 0.5:\n",
    "            print(correlation_matrix_nop.loc[var,car])\n",
    "            print(var+' and '+car+'\\n')"
   ]
  },
  {
   "cell_type": "code",
   "execution_count": 44,
   "metadata": {},
   "outputs": [
    {
     "data": {
      "text/plain": [
       "Population                -0.568694\n",
       "Mean Income               -0.088598\n",
       "CES Score Median          -0.126472\n",
       "IRR                        1.000000\n",
       "Tax Revenue (2016-2018)   -0.453974\n",
       "Name: IRR, dtype: float64"
      ]
     },
     "execution_count": 44,
     "metadata": {},
     "output_type": "execute_result"
    }
   ],
   "source": [
    "correlation_matrix['IRR']"
   ]
  },
  {
   "cell_type": "code",
   "execution_count": 45,
   "metadata": {},
   "outputs": [
    {
     "data": {
      "text/plain": [
       "Mean Income               -0.088598\n",
       "CES Score Median          -0.126472\n",
       "IRR                        1.000000\n",
       "Tax Revenue (2016-2018)   -0.453974\n",
       "Name: IRR, dtype: float64"
      ]
     },
     "execution_count": 45,
     "metadata": {},
     "output_type": "execute_result"
    }
   ],
   "source": [
    "correlation_matrix_nop['IRR']"
   ]
  },
  {
   "cell_type": "markdown",
   "metadata": {},
   "source": [
    "alright so correlation does not change if other variables are no longer present.....should talk to team to decide if the best way to approach this is with PCA or to drop population/tax revenue before we run more regressions"
   ]
  },
  {
   "cell_type": "markdown",
   "metadata": {},
   "source": [
    "# from the following article:\n",
    "https://towardsdatascience.com/pca-using-python-scikit-learn-e653f8989e60"
   ]
  },
  {
   "cell_type": "code",
   "execution_count": 73,
   "metadata": {},
   "outputs": [],
   "source": [
    "from sklearn.preprocessing import StandardScaler\n",
    "\n",
    "features = ['Population', 'IRR', 'Tax Revenue (2016-2018)']\n",
    "\n",
    "# features = ['Population', 'Mean Income', 'CES Score Median',\n",
    "#        'Total Claims', 'Total Programs', 'IRR', 'Tax Revenue (2016-2018)']\n",
    "\n",
    "\n",
    "# Separating out the features\n",
    "x = county_data.loc[:, features].values\n",
    "\n",
    "# Standardizing the features\n",
    "x = StandardScaler().fit_transform(x)"
   ]
  },
  {
   "cell_type": "code",
   "execution_count": 74,
   "metadata": {},
   "outputs": [],
   "source": [
    "from sklearn.decomposition import PCA\n",
    "\n",
    "n=3\n",
    "pca = PCA(n_components=n)\n",
    "\n",
    "principalComponents = pca.fit_transform(x)\n",
    "\n",
    "principalDf = pd.DataFrame(data = principalComponents\n",
    "             , columns = ['PC' + str(x) for x in range(1, n+1)])"
   ]
  },
  {
   "cell_type": "code",
   "execution_count": 75,
   "metadata": {},
   "outputs": [
    {
     "data": {
      "text/html": [
       "<div>\n",
       "<style scoped>\n",
       "    .dataframe tbody tr th:only-of-type {\n",
       "        vertical-align: middle;\n",
       "    }\n",
       "\n",
       "    .dataframe tbody tr th {\n",
       "        vertical-align: top;\n",
       "    }\n",
       "\n",
       "    .dataframe thead th {\n",
       "        text-align: right;\n",
       "    }\n",
       "</style>\n",
       "<table border=\"1\" class=\"dataframe\">\n",
       "  <thead>\n",
       "    <tr style=\"text-align: right;\">\n",
       "      <th></th>\n",
       "      <th>PC1</th>\n",
       "      <th>PC2</th>\n",
       "      <th>PC3</th>\n",
       "    </tr>\n",
       "  </thead>\n",
       "  <tbody>\n",
       "    <tr>\n",
       "      <th>0</th>\n",
       "      <td>1.449287</td>\n",
       "      <td>-0.965504</td>\n",
       "      <td>0.009790</td>\n",
       "    </tr>\n",
       "    <tr>\n",
       "      <th>1</th>\n",
       "      <td>-1.458132</td>\n",
       "      <td>1.349377</td>\n",
       "      <td>-0.172053</td>\n",
       "    </tr>\n",
       "    <tr>\n",
       "      <th>2</th>\n",
       "      <td>-0.780753</td>\n",
       "      <td>0.177350</td>\n",
       "      <td>-0.016432</td>\n",
       "    </tr>\n",
       "    <tr>\n",
       "      <th>3</th>\n",
       "      <td>-0.348038</td>\n",
       "      <td>-0.272243</td>\n",
       "      <td>0.030548</td>\n",
       "    </tr>\n",
       "    <tr>\n",
       "      <th>4</th>\n",
       "      <td>-0.802072</td>\n",
       "      <td>0.236660</td>\n",
       "      <td>-0.021523</td>\n",
       "    </tr>\n",
       "  </tbody>\n",
       "</table>\n",
       "</div>"
      ],
      "text/plain": [
       "        PC1       PC2       PC3\n",
       "0  1.449287 -0.965504  0.009790\n",
       "1 -1.458132  1.349377 -0.172053\n",
       "2 -0.780753  0.177350 -0.016432\n",
       "3 -0.348038 -0.272243  0.030548\n",
       "4 -0.802072  0.236660 -0.021523"
      ]
     },
     "execution_count": 75,
     "metadata": {},
     "output_type": "execute_result"
    }
   ],
   "source": [
    "principalDf.head()"
   ]
  },
  {
   "cell_type": "code",
   "execution_count": 76,
   "metadata": {},
   "outputs": [
    {
     "data": {
      "image/png": "[encoded data removed]",
      "text/plain": [
       "<Figure size 576x576 with 1 Axes>"
      ]
     },
     "metadata": {
      "needs_background": "light"
     },
     "output_type": "display_data"
    }
   ],
   "source": [
    "fig = plt.figure(figsize = (8,8))\n",
    "ax = fig.add_subplot(1,1,1) \n",
    "ax.set_xlabel('Principal Component 1', fontsize = 15)\n",
    "ax.set_ylabel('Principal Component 2', fontsize = 15)\n",
    "ax.set_title('2 component PCA', fontsize = 20)\n",
    "\n",
    "counties = list(county_data['County'])\n",
    "\n",
    "ax.scatter(principalDf.loc[:, 'PC1']\n",
    "            , principalDf.loc[:, 'PC2']\n",
    "            , s = 50)\n",
    "    \n",
    "\n",
    "ax.grid()"
   ]
  },
  {
   "cell_type": "code",
   "execution_count": 77,
   "metadata": {},
   "outputs": [
    {
     "data": {
      "image/png": "[encoded data removed]",
      "text/plain": [
       "<Figure size 432x288 with 1 Axes>"
      ]
     },
     "metadata": {
      "needs_background": "light"
     },
     "output_type": "display_data"
    }
   ],
   "source": [
    "per_var = pca.explained_variance_ratio_\n",
    "labels = ['PC' + str(x) for x in range(1, len(per_var)+1)]\n",
    " \n",
    "plt.bar(x=range(1,len(per_var)+1), height=per_var, tick_label=labels)\n",
    "plt.ylim([0,1])\n",
    "plt.ylabel('Percentage of Explained Variance')\n",
    "plt.xlabel('Principal Component')\n",
    "plt.title('Scree Plot')\n",
    "plt.show()"
   ]
  },
  {
   "cell_type": "markdown",
   "metadata": {},
   "source": [
    "From the above bar graph, it is clear that PC1 explains the ?most variance? compared to the other principal components, thus it is valid to use as a proxy for population, tax revenue, and IRR"
   ]
  },
  {
   "cell_type": "code",
   "execution_count": 81,
   "metadata": {},
   "outputs": [
    {
     "data": {
      "image/png": "[encoded data removed]",
      "text/plain": [
       "<Figure size 432x288 with 1 Axes>"
      ]
     },
     "metadata": {
      "needs_background": "light"
     },
     "output_type": "display_data"
    }
   ],
   "source": [
    "features = ['IRR', 'Tax Revenue (2016-2018)']\n",
    "\n",
    "# features = ['Population', 'Mean Income', 'CES Score Median',\n",
    "#        'Total Claims', 'Total Programs', 'IRR', 'Tax Revenue (2016-2018)']\n",
    "\n",
    "\n",
    "# Separating out the features\n",
    "y = county_data.loc[:, features].values\n",
    "\n",
    "# Standardizing the features\n",
    "y = StandardScaler().fit_transform(y)\n",
    "\n",
    "n=2\n",
    "pca = PCA(n_components=n)\n",
    "\n",
    "principalComponents = pca.fit_transform(y)\n",
    "\n",
    "principalDf_nopop = pd.DataFrame(data = principalComponents\n",
    "             , columns = ['PC' + str(y) for x in range(1, n+1)])\n",
    "\n",
    "per_var_nopop = pca.explained_variance_ratio_\n",
    "labels = ['PC' + str(x) for x in range(1, len(per_var_nopop)+1)]\n",
    " \n",
    "plt.bar(x=range(1,len(per_var_nopop)+1), height=per_var_nopop, tick_label=labels)\n",
    "plt.ylim([0,1])\n",
    "plt.ylabel('Percentage of Explained Variance')\n",
    "plt.xlabel('Principal Component')\n",
    "plt.title('Scree Plot')\n",
    "plt.show()"
   ]
  },
  {
   "cell_type": "code",
   "execution_count": 82,
   "metadata": {},
   "outputs": [
    {
     "data": {
      "text/plain": [
       "array([0.7775235 , 0.20550555, 0.01697095])"
      ]
     },
     "execution_count": 82,
     "metadata": {},
     "output_type": "execute_result"
    }
   ],
   "source": [
    "per_var"
   ]
  },
  {
   "cell_type": "code",
   "execution_count": 83,
   "metadata": {},
   "outputs": [
    {
     "data": {
      "text/plain": [
       "array([0.72698712, 0.27301288])"
      ]
     },
     "execution_count": 83,
     "metadata": {},
     "output_type": "execute_result"
    }
   ],
   "source": [
    "per_var_nopop"
   ]
  },
  {
   "cell_type": "markdown",
   "metadata": {},
   "source": [
    "so with no population, pc1 of tax revenue and irr still explains a good amount of variance.....not really sure what the significance of this is but will investigate"
   ]
  },
  {
   "cell_type": "code",
   "execution_count": null,
   "metadata": {},
   "outputs": [],
   "source": []
  }
 ],
 "metadata": {
  "kernelspec": {
   "display_name": "Python 3",
   "language": "python",
   "name": "python3"
  },
  "language_info": {
   "codemirror_mode": {
    "name": "ipython",
    "version": 3
   },
   "file_extension": ".py",
   "mimetype": "text/x-python",
   "name": "python",
   "nbconvert_exporter": "python",
   "pygments_lexer": "ipython3",
   "version": "3.8.5"
  }
 },
 "nbformat": 4,
 "nbformat_minor": 4
}
