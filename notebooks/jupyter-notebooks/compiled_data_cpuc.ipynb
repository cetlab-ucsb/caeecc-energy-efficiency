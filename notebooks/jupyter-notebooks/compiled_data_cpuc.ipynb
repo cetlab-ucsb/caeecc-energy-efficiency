{
 "cells": [
  {
   "cell_type": "code",
   "execution_count": 1,
   "metadata": {},
   "outputs": [],
   "source": [
    "import pandas as pd"
   ]
  },
  {
   "cell_type": "code",
   "execution_count": 3,
   "metadata": {},
   "outputs": [
    {
     "name": "stderr",
     "output_type": "stream",
     "text": [
      "C:\\Users\\audre\\anaconda3\\lib\\site-packages\\IPython\\core\\interactiveshell.py:3146: DtypeWarning: Columns (4,6,11,16,18,21,22,23,26) have mixed types.Specify dtype option on import or set low_memory=False.\n",
      "  has_raised = await self.run_ast_nodes(code_ast.body, cell_name,\n"
     ]
    }
   ],
   "source": [
    "cpuc = pd.read_csv('data/cpuc_claims_selected_programs_2017_2019.csv')"
   ]
  },
  {
   "cell_type": "code",
   "execution_count": 4,
   "metadata": {},
   "outputs": [
    {
     "data": {
      "text/plain": [
       "(746373, 39)"
      ]
     },
     "execution_count": 4,
     "metadata": {},
     "output_type": "execute_result"
    }
   ],
   "source": [
    "cpuc.shape"
   ]
  },
  {
   "cell_type": "code",
   "execution_count": 6,
   "metadata": {},
   "outputs": [
    {
     "data": {
      "text/plain": [
       "Index(['ClaimID', 'PrgID', 'Sector', 'SiteCity', 'SiteZipCode', 'SiteID',\n",
       "       'NAICSCode', 'BldgHVAC', 'BldgLoc', 'BldgType', 'BldgVint',\n",
       "       'E3ClimateZone', 'E3GasSavProfile', 'E3GasSector',\n",
       "       'E3MeaElecEndUseShape', 'E3TargetSector', 'ImplementationID',\n",
       "       'InstallationDate', 'NAICSBldgType', 'NumUnits', 'OBF_Flag',\n",
       "       'PrgElement', 'RateScheduleElec', 'RateScheduleGas', 'REN_Flag',\n",
       "       'Residential_Flag', 'SchoolIdentifier', 'TotalFirstYearGrosskW',\n",
       "       'TotalFirstYearGrosskWh', 'TotalFirstYearGrossTherm',\n",
       "       'TotalGrossIncentive', 'TotalGrossMeasureCost',\n",
       "       'TotalGrossMeasureCost_ER', 'TotalLifecycleGrosskW',\n",
       "       'TotalLifecycleGrosskWh', 'TotalLifecycleGrossTherm', 'Upstream_Flag',\n",
       "       'WaterOnly_Flag', 'PrgYear'],\n",
       "      dtype='object')"
      ]
     },
     "execution_count": 6,
     "metadata": {},
     "output_type": "execute_result"
    }
   ],
   "source": [
    "cpuc.columns"
   ]
  },
  {
   "cell_type": "code",
   "execution_count": 7,
   "metadata": {},
   "outputs": [
    {
     "data": {
      "text/html": [
       "<div>\n",
       "<style scoped>\n",
       "    .dataframe tbody tr th:only-of-type {\n",
       "        vertical-align: middle;\n",
       "    }\n",
       "\n",
       "    .dataframe tbody tr th {\n",
       "        vertical-align: top;\n",
       "    }\n",
       "\n",
       "    .dataframe thead th {\n",
       "        text-align: right;\n",
       "    }\n",
       "</style>\n",
       "<table border=\"1\" class=\"dataframe\">\n",
       "  <thead>\n",
       "    <tr style=\"text-align: right;\">\n",
       "      <th></th>\n",
       "      <th>ClaimID</th>\n",
       "      <th>PrgID</th>\n",
       "      <th>Sector</th>\n",
       "      <th>SiteCity</th>\n",
       "      <th>SiteZipCode</th>\n",
       "      <th>SiteID</th>\n",
       "      <th>NAICSCode</th>\n",
       "      <th>BldgHVAC</th>\n",
       "      <th>BldgLoc</th>\n",
       "      <th>BldgType</th>\n",
       "      <th>...</th>\n",
       "      <th>TotalFirstYearGrossTherm</th>\n",
       "      <th>TotalGrossIncentive</th>\n",
       "      <th>TotalGrossMeasureCost</th>\n",
       "      <th>TotalGrossMeasureCost_ER</th>\n",
       "      <th>TotalLifecycleGrosskW</th>\n",
       "      <th>TotalLifecycleGrosskWh</th>\n",
       "      <th>TotalLifecycleGrossTherm</th>\n",
       "      <th>Upstream_Flag</th>\n",
       "      <th>WaterOnly_Flag</th>\n",
       "      <th>PrgYear</th>\n",
       "    </tr>\n",
       "  </thead>\n",
       "  <tbody>\n",
       "    <tr>\n",
       "      <th>0</th>\n",
       "      <td>PGE-2017-Q4-85848</td>\n",
       "      <td>PGE21015</td>\n",
       "      <td>Com</td>\n",
       "      <td>PLEASANTON</td>\n",
       "      <td>94588</td>\n",
       "      <td>PGE-1118107</td>\n",
       "      <td>541512</td>\n",
       "      <td>cPVVG</td>\n",
       "      <td>CZ12</td>\n",
       "      <td>OFL</td>\n",
       "      <td>...</td>\n",
       "      <td>1790.515</td>\n",
       "      <td>38.0</td>\n",
       "      <td>0.000</td>\n",
       "      <td>0.0</td>\n",
       "      <td>-5.085137</td>\n",
       "      <td>56121.94555</td>\n",
       "      <td>5908.6995</td>\n",
       "      <td>False</td>\n",
       "      <td>False</td>\n",
       "      <td>2017.0</td>\n",
       "    </tr>\n",
       "    <tr>\n",
       "      <th>1</th>\n",
       "      <td>PGE-2017-Q4-94241</td>\n",
       "      <td>PGE211009</td>\n",
       "      <td>Res</td>\n",
       "      <td>WALNUT CREEK</td>\n",
       "      <td>94596</td>\n",
       "      <td>PGE-1133955</td>\n",
       "      <td>NaN</td>\n",
       "      <td>rWtd</td>\n",
       "      <td>CZ12</td>\n",
       "      <td>SFM</td>\n",
       "      <td>...</td>\n",
       "      <td>-0.832</td>\n",
       "      <td>79.2</td>\n",
       "      <td>79.200</td>\n",
       "      <td>0.0</td>\n",
       "      <td>0.068352</td>\n",
       "      <td>560.64000</td>\n",
       "      <td>-13.3120</td>\n",
       "      <td>False</td>\n",
       "      <td>False</td>\n",
       "      <td>2017.0</td>\n",
       "    </tr>\n",
       "    <tr>\n",
       "      <th>2</th>\n",
       "      <td>PGE-2017-Q4-88304</td>\n",
       "      <td>PGE211009</td>\n",
       "      <td>Res</td>\n",
       "      <td>UNION CITY</td>\n",
       "      <td>94587</td>\n",
       "      <td>PGE-1103730</td>\n",
       "      <td>NaN</td>\n",
       "      <td>rWtd</td>\n",
       "      <td>3A</td>\n",
       "      <td>SFM</td>\n",
       "      <td>...</td>\n",
       "      <td>-0.312</td>\n",
       "      <td>29.7</td>\n",
       "      <td>29.700</td>\n",
       "      <td>0.0</td>\n",
       "      <td>0.025632</td>\n",
       "      <td>210.24000</td>\n",
       "      <td>-4.9920</td>\n",
       "      <td>False</td>\n",
       "      <td>False</td>\n",
       "      <td>2017.0</td>\n",
       "    </tr>\n",
       "    <tr>\n",
       "      <th>3</th>\n",
       "      <td>PGE-2017-Q4-8624</td>\n",
       "      <td>PGE21012</td>\n",
       "      <td>Com</td>\n",
       "      <td>SAINT HELENA</td>\n",
       "      <td>94574</td>\n",
       "      <td>PGE-1082391</td>\n",
       "      <td>713910</td>\n",
       "      <td>cWtd</td>\n",
       "      <td>CZ02</td>\n",
       "      <td>ASM</td>\n",
       "      <td>...</td>\n",
       "      <td>643.678</td>\n",
       "      <td>599.7</td>\n",
       "      <td>4459.769</td>\n",
       "      <td>0.0</td>\n",
       "      <td>0.000000</td>\n",
       "      <td>0.00000</td>\n",
       "      <td>12873.5600</td>\n",
       "      <td>False</td>\n",
       "      <td>False</td>\n",
       "      <td>2017.0</td>\n",
       "    </tr>\n",
       "    <tr>\n",
       "      <th>4</th>\n",
       "      <td>PGE-2017-Q4-88820</td>\n",
       "      <td>PGE211009</td>\n",
       "      <td>Res</td>\n",
       "      <td>FREMONT</td>\n",
       "      <td>94539</td>\n",
       "      <td>PGE-1120910</td>\n",
       "      <td>NaN</td>\n",
       "      <td>rWtd</td>\n",
       "      <td>3B</td>\n",
       "      <td>SFM</td>\n",
       "      <td>...</td>\n",
       "      <td>-0.832</td>\n",
       "      <td>79.2</td>\n",
       "      <td>79.200</td>\n",
       "      <td>0.0</td>\n",
       "      <td>0.068352</td>\n",
       "      <td>560.64000</td>\n",
       "      <td>-13.3120</td>\n",
       "      <td>False</td>\n",
       "      <td>False</td>\n",
       "      <td>2017.0</td>\n",
       "    </tr>\n",
       "  </tbody>\n",
       "</table>\n",
       "<p>5 rows × 39 columns</p>\n",
       "</div>"
      ],
      "text/plain": [
       "             ClaimID      PrgID Sector      SiteCity SiteZipCode       SiteID  \\\n",
       "0  PGE-2017-Q4-85848   PGE21015    Com    PLEASANTON       94588  PGE-1118107   \n",
       "1  PGE-2017-Q4-94241  PGE211009    Res  WALNUT CREEK       94596  PGE-1133955   \n",
       "2  PGE-2017-Q4-88304  PGE211009    Res    UNION CITY       94587  PGE-1103730   \n",
       "3   PGE-2017-Q4-8624   PGE21012    Com  SAINT HELENA       94574  PGE-1082391   \n",
       "4  PGE-2017-Q4-88820  PGE211009    Res       FREMONT       94539  PGE-1120910   \n",
       "\n",
       "  NAICSCode BldgHVAC BldgLoc BldgType  ... TotalFirstYearGrossTherm  \\\n",
       "0    541512    cPVVG    CZ12      OFL  ...                 1790.515   \n",
       "1       NaN     rWtd    CZ12      SFM  ...                   -0.832   \n",
       "2       NaN     rWtd      3A      SFM  ...                   -0.312   \n",
       "3    713910     cWtd    CZ02      ASM  ...                  643.678   \n",
       "4       NaN     rWtd      3B      SFM  ...                   -0.832   \n",
       "\n",
       "  TotalGrossIncentive TotalGrossMeasureCost TotalGrossMeasureCost_ER  \\\n",
       "0                38.0                 0.000                      0.0   \n",
       "1                79.2                79.200                      0.0   \n",
       "2                29.7                29.700                      0.0   \n",
       "3               599.7              4459.769                      0.0   \n",
       "4                79.2                79.200                      0.0   \n",
       "\n",
       "  TotalLifecycleGrosskW TotalLifecycleGrosskWh TotalLifecycleGrossTherm  \\\n",
       "0             -5.085137            56121.94555                5908.6995   \n",
       "1              0.068352              560.64000                 -13.3120   \n",
       "2              0.025632              210.24000                  -4.9920   \n",
       "3              0.000000                0.00000               12873.5600   \n",
       "4              0.068352              560.64000                 -13.3120   \n",
       "\n",
       "  Upstream_Flag WaterOnly_Flag  PrgYear  \n",
       "0         False          False   2017.0  \n",
       "1         False          False   2017.0  \n",
       "2         False          False   2017.0  \n",
       "3         False          False   2017.0  \n",
       "4         False          False   2017.0  \n",
       "\n",
       "[5 rows x 39 columns]"
      ]
     },
     "execution_count": 7,
     "metadata": {},
     "output_type": "execute_result"
    }
   ],
   "source": [
    "cpuc.head()"
   ]
  },
  {
   "cell_type": "code",
   "execution_count": 9,
   "metadata": {},
   "outputs": [
    {
     "name": "stderr",
     "output_type": "stream",
     "text": [
      "C:\\Users\\audre\\anaconda3\\lib\\site-packages\\IPython\\core\\interactiveshell.py:3146: DtypeWarning: Columns (7,27,33,37,38,40,71) have mixed types.Specify dtype option on import or set low_memory=False.\n",
      "  has_raised = await self.run_ast_nodes(code_ast.body, cell_name,\n"
     ]
    }
   ],
   "source": [
    "cedars = pd.read_csv('data/claims_selected_programs_2016_2020.csv')"
   ]
  },
  {
   "cell_type": "code",
   "execution_count": 10,
   "metadata": {},
   "outputs": [
    {
     "data": {
      "text/plain": [
       "Index(['Claim ID', 'Year', 'PA', 'Program ID', 'Program Name',\n",
       "       'Primary Sector', 'Program Sector', 'Statewide Program',\n",
       "       'Program Category', 'Direct Install',\n",
       "       ...\n",
       "       'First Year Net Elec NOx', 'First Year Net Gas NOx',\n",
       "       'Lifecycle Gross Elec NOx', 'Lifecycle Gross Gas NOx',\n",
       "       'Lifecycle Net Elec NOx', 'Lifecycle Net Gas NOx',\n",
       "       'First Year Gross PM10', 'First Year Net PM10', 'Lifecycle Gross PM10',\n",
       "       'Lifecycle Net PM10'],\n",
       "      dtype='object', length=152)"
      ]
     },
     "execution_count": 10,
     "metadata": {},
     "output_type": "execute_result"
    }
   ],
   "source": [
    "cedars.columns"
   ]
  },
  {
   "cell_type": "code",
   "execution_count": 11,
   "metadata": {},
   "outputs": [
    {
     "data": {
      "text/html": [
       "<div>\n",
       "<style scoped>\n",
       "    .dataframe tbody tr th:only-of-type {\n",
       "        vertical-align: middle;\n",
       "    }\n",
       "\n",
       "    .dataframe tbody tr th {\n",
       "        vertical-align: top;\n",
       "    }\n",
       "\n",
       "    .dataframe thead th {\n",
       "        text-align: right;\n",
       "    }\n",
       "</style>\n",
       "<table border=\"1\" class=\"dataframe\">\n",
       "  <thead>\n",
       "    <tr style=\"text-align: right;\">\n",
       "      <th></th>\n",
       "      <th>Claim ID</th>\n",
       "      <th>Year</th>\n",
       "      <th>PA</th>\n",
       "      <th>Program ID</th>\n",
       "      <th>Program Name</th>\n",
       "      <th>Primary Sector</th>\n",
       "      <th>Program Sector</th>\n",
       "      <th>Statewide Program</th>\n",
       "      <th>Program Category</th>\n",
       "      <th>Direct Install</th>\n",
       "      <th>...</th>\n",
       "      <th>First Year Net Elec NOx</th>\n",
       "      <th>First Year Net Gas NOx</th>\n",
       "      <th>Lifecycle Gross Elec NOx</th>\n",
       "      <th>Lifecycle Gross Gas NOx</th>\n",
       "      <th>Lifecycle Net Elec NOx</th>\n",
       "      <th>Lifecycle Net Gas NOx</th>\n",
       "      <th>First Year Gross PM10</th>\n",
       "      <th>First Year Net PM10</th>\n",
       "      <th>Lifecycle Gross PM10</th>\n",
       "      <th>Lifecycle Net PM10</th>\n",
       "    </tr>\n",
       "  </thead>\n",
       "  <tbody>\n",
       "    <tr>\n",
       "      <th>130306</th>\n",
       "      <td>PGE-2017-Q4-85848</td>\n",
       "      <td>2017</td>\n",
       "      <td>PGE</td>\n",
       "      <td>PGE21015</td>\n",
       "      <td>Commercial HVAC</td>\n",
       "      <td>Commercial</td>\n",
       "      <td>Com</td>\n",
       "      <td>Commercial HVAC</td>\n",
       "      <td>Market Transformation</td>\n",
       "      <td>No</td>\n",
       "      <td>...</td>\n",
       "      <td>1.904743</td>\n",
       "      <td>12.848736</td>\n",
       "      <td>8.05853</td>\n",
       "      <td>54.360035</td>\n",
       "      <td>6.285653</td>\n",
       "      <td>42.400828</td>\n",
       "      <td>1.210255</td>\n",
       "      <td>0.943999</td>\n",
       "      <td>3.993842</td>\n",
       "      <td>3.115196</td>\n",
       "    </tr>\n",
       "  </tbody>\n",
       "</table>\n",
       "<p>1 rows × 152 columns</p>\n",
       "</div>"
      ],
      "text/plain": [
       "                 Claim ID  Year   PA Program ID     Program Name  \\\n",
       "130306  PGE-2017-Q4-85848  2017  PGE   PGE21015  Commercial HVAC   \n",
       "\n",
       "       Primary Sector Program Sector Statewide Program       Program Category  \\\n",
       "130306     Commercial            Com   Commercial HVAC  Market Transformation   \n",
       "\n",
       "       Direct Install  ... First Year Net Elec NOx First Year Net Gas NOx  \\\n",
       "130306             No  ...                1.904743              12.848736   \n",
       "\n",
       "        Lifecycle Gross Elec NOx  Lifecycle Gross Gas NOx  \\\n",
       "130306                   8.05853                54.360035   \n",
       "\n",
       "        Lifecycle Net Elec NOx  Lifecycle Net Gas NOx  First Year Gross PM10  \\\n",
       "130306                6.285653              42.400828               1.210255   \n",
       "\n",
       "        First Year Net PM10  Lifecycle Gross PM10  Lifecycle Net PM10  \n",
       "130306             0.943999              3.993842            3.115196  \n",
       "\n",
       "[1 rows x 152 columns]"
      ]
     },
     "execution_count": 11,
     "metadata": {},
     "output_type": "execute_result"
    }
   ],
   "source": [
    "cedars[cedars['Claim ID'] == 'PGE-2017-Q4-85848']"
   ]
  },
  {
   "cell_type": "code",
   "execution_count": 13,
   "metadata": {},
   "outputs": [
    {
     "data": {
      "text/plain": [
       "(870428, 152)"
      ]
     },
     "execution_count": 13,
     "metadata": {},
     "output_type": "execute_result"
    }
   ],
   "source": [
    "cedars.shape"
   ]
  },
  {
   "cell_type": "code",
   "execution_count": 14,
   "metadata": {},
   "outputs": [
    {
     "data": {
      "text/plain": [
       "(746373, 39)"
      ]
     },
     "execution_count": 14,
     "metadata": {},
     "output_type": "execute_result"
    }
   ],
   "source": [
    "cpuc.shape"
   ]
  },
  {
   "cell_type": "markdown",
   "metadata": {},
   "source": [
    "discrepency in number of claims because cedars has more years"
   ]
  },
  {
   "cell_type": "code",
   "execution_count": 16,
   "metadata": {},
   "outputs": [],
   "source": [
    "chris_data = pd.read_csv('data/specific_cedars_programs.csv')"
   ]
  },
  {
   "cell_type": "code",
   "execution_count": 18,
   "metadata": {},
   "outputs": [
    {
     "data": {
      "text/plain": [
       "Index(['PA', 'PrgID', 'ProgramName', 'Grouping', 'County', 'Selected',\n",
       "       'PrimarySector', 'Sector', 'BP Sector', 'ProgramImplementer',\n",
       "       'ProgramCategory', 'StatewideProgram', 'ImplementationContractor',\n",
       "       'ProgramManager', 'StartYear', 'EndYear', 'Resource_Flag',\n",
       "       'NonResource_Flag', 'Deemed_Flag', 'Custom_Flag', 'Upstream_Flag',\n",
       "       'Midstream_Flag', 'Downstream_Flag', 'DirectInstall', 'Audit_Flag',\n",
       "       'Financing', 'ParentProgram', 'Exclude_From_Budget', 'Exclude_From_CE'],\n",
       "      dtype='object')"
      ]
     },
     "execution_count": 18,
     "metadata": {},
     "output_type": "execute_result"
    }
   ],
   "source": [
    "chris_data.columns"
   ]
  },
  {
   "cell_type": "code",
   "execution_count": 31,
   "metadata": {},
   "outputs": [],
   "source": [
    "rchris_data = chris_data[['PrgID', 'Grouping', 'Selected']]"
   ]
  },
  {
   "cell_type": "code",
   "execution_count": 32,
   "metadata": {},
   "outputs": [
    {
     "data": {
      "text/plain": [
       "Index(['PrgID', 'Grouping', 'Selected'], dtype='object')"
      ]
     },
     "execution_count": 32,
     "metadata": {},
     "output_type": "execute_result"
    }
   ],
   "source": [
    "rchris_data.columns"
   ]
  },
  {
   "cell_type": "code",
   "execution_count": 25,
   "metadata": {},
   "outputs": [],
   "source": [
    "zip_codes = pd.read_csv('data/claims_zip_county_mapping.csv')"
   ]
  },
  {
   "cell_type": "code",
   "execution_count": 26,
   "metadata": {},
   "outputs": [
    {
     "data": {
      "text/html": [
       "<div>\n",
       "<style scoped>\n",
       "    .dataframe tbody tr th:only-of-type {\n",
       "        vertical-align: middle;\n",
       "    }\n",
       "\n",
       "    .dataframe tbody tr th {\n",
       "        vertical-align: top;\n",
       "    }\n",
       "\n",
       "    .dataframe thead th {\n",
       "        text-align: right;\n",
       "    }\n",
       "</style>\n",
       "<table border=\"1\" class=\"dataframe\">\n",
       "  <thead>\n",
       "    <tr style=\"text-align: right;\">\n",
       "      <th></th>\n",
       "      <th>PrgYear</th>\n",
       "      <th>ClaimID</th>\n",
       "      <th>PrgID</th>\n",
       "      <th>ZCTA5</th>\n",
       "      <th>COUNTY</th>\n",
       "      <th>county_name</th>\n",
       "    </tr>\n",
       "  </thead>\n",
       "  <tbody>\n",
       "    <tr>\n",
       "      <th>0</th>\n",
       "      <td>2018.0</td>\n",
       "      <td>PGE-2018-Q1-56061</td>\n",
       "      <td>PGE211009</td>\n",
       "      <td>94505</td>\n",
       "      <td>1</td>\n",
       "      <td>Alameda County</td>\n",
       "    </tr>\n",
       "    <tr>\n",
       "      <th>1</th>\n",
       "      <td>2018.0</td>\n",
       "      <td>PGE-2018-Q1-57048</td>\n",
       "      <td>PGE211009</td>\n",
       "      <td>94505</td>\n",
       "      <td>1</td>\n",
       "      <td>Alameda County</td>\n",
       "    </tr>\n",
       "    <tr>\n",
       "      <th>2</th>\n",
       "      <td>2018.0</td>\n",
       "      <td>PGE-2018-Q1-53035</td>\n",
       "      <td>PGE211009</td>\n",
       "      <td>94505</td>\n",
       "      <td>1</td>\n",
       "      <td>Alameda County</td>\n",
       "    </tr>\n",
       "    <tr>\n",
       "      <th>3</th>\n",
       "      <td>2018.0</td>\n",
       "      <td>PGE-2018-Q1-69508</td>\n",
       "      <td>PGE211009</td>\n",
       "      <td>94505</td>\n",
       "      <td>1</td>\n",
       "      <td>Alameda County</td>\n",
       "    </tr>\n",
       "    <tr>\n",
       "      <th>4</th>\n",
       "      <td>2019.0</td>\n",
       "      <td>PGE-2019-Q4-35826</td>\n",
       "      <td>PGE2110051</td>\n",
       "      <td>94536</td>\n",
       "      <td>1</td>\n",
       "      <td>Alameda County</td>\n",
       "    </tr>\n",
       "  </tbody>\n",
       "</table>\n",
       "</div>"
      ],
      "text/plain": [
       "   PrgYear            ClaimID       PrgID  ZCTA5  COUNTY     county_name\n",
       "0   2018.0  PGE-2018-Q1-56061   PGE211009  94505       1  Alameda County\n",
       "1   2018.0  PGE-2018-Q1-57048   PGE211009  94505       1  Alameda County\n",
       "2   2018.0  PGE-2018-Q1-53035   PGE211009  94505       1  Alameda County\n",
       "3   2018.0  PGE-2018-Q1-69508   PGE211009  94505       1  Alameda County\n",
       "4   2019.0  PGE-2019-Q4-35826  PGE2110051  94536       1  Alameda County"
      ]
     },
     "execution_count": 26,
     "metadata": {},
     "output_type": "execute_result"
    }
   ],
   "source": [
    "zip_codes.head()"
   ]
  },
  {
   "cell_type": "code",
   "execution_count": 73,
   "metadata": {},
   "outputs": [
    {
     "data": {
      "text/plain": [
       "(187700, 6)"
      ]
     },
     "execution_count": 73,
     "metadata": {},
     "output_type": "execute_result"
    }
   ],
   "source": [
    "zip_codes.shape"
   ]
  },
  {
   "cell_type": "code",
   "execution_count": 28,
   "metadata": {},
   "outputs": [],
   "source": [
    "cpuc_counties = cpuc.merge(zip_codes, left_on = 'ClaimID', right_on = 'ClaimID', how = 'left' )"
   ]
  },
  {
   "cell_type": "code",
   "execution_count": 29,
   "metadata": {},
   "outputs": [
    {
     "data": {
      "text/plain": [
       "(762719, 44)"
      ]
     },
     "execution_count": 29,
     "metadata": {},
     "output_type": "execute_result"
    }
   ],
   "source": [
    "cpuc_counties.shape"
   ]
  },
  {
   "cell_type": "code",
   "execution_count": 35,
   "metadata": {},
   "outputs": [
    {
     "data": {
      "text/plain": [
       "Index(['ClaimID', 'PrgID_x', 'Sector', 'SiteCity', 'SiteZipCode', 'SiteID',\n",
       "       'NAICSCode', 'BldgHVAC', 'BldgLoc', 'BldgType', 'BldgVint',\n",
       "       'E3ClimateZone', 'E3GasSavProfile', 'E3GasSector',\n",
       "       'E3MeaElecEndUseShape', 'E3TargetSector', 'ImplementationID',\n",
       "       'InstallationDate', 'NAICSBldgType', 'NumUnits', 'OBF_Flag',\n",
       "       'PrgElement', 'RateScheduleElec', 'RateScheduleGas', 'REN_Flag',\n",
       "       'Residential_Flag', 'SchoolIdentifier', 'TotalFirstYearGrosskW',\n",
       "       'TotalFirstYearGrosskWh', 'TotalFirstYearGrossTherm',\n",
       "       'TotalGrossIncentive', 'TotalGrossMeasureCost',\n",
       "       'TotalGrossMeasureCost_ER', 'TotalLifecycleGrosskW',\n",
       "       'TotalLifecycleGrosskWh', 'TotalLifecycleGrossTherm', 'Upstream_Flag',\n",
       "       'WaterOnly_Flag', 'PrgYear_x', 'PrgYear_y', 'PrgID_y', 'ZCTA5',\n",
       "       'COUNTY', 'county_name'],\n",
       "      dtype='object')"
      ]
     },
     "execution_count": 35,
     "metadata": {},
     "output_type": "execute_result"
    }
   ],
   "source": [
    "cpuc_counties.columns"
   ]
  },
  {
   "cell_type": "code",
   "execution_count": 36,
   "metadata": {},
   "outputs": [],
   "source": [
    "cpuc_counties_grouping = cpuc_counties.merge(rchris_data, left_on = 'PrgID_x', right_on = 'PrgID', how = 'left')"
   ]
  },
  {
   "cell_type": "code",
   "execution_count": 38,
   "metadata": {},
   "outputs": [
    {
     "data": {
      "text/plain": [
       "x    762719\n",
       "Name: Selected, dtype: int64"
      ]
     },
     "execution_count": 38,
     "metadata": {},
     "output_type": "execute_result"
    }
   ],
   "source": [
    "cpuc_counties_grouping['Selected'].value_counts()"
   ]
  },
  {
   "cell_type": "code",
   "execution_count": 39,
   "metadata": {},
   "outputs": [],
   "source": [
    "rcedars = cedars[['Claim ID', 'Budget']]"
   ]
  },
  {
   "cell_type": "code",
   "execution_count": 40,
   "metadata": {},
   "outputs": [],
   "source": [
    "cpuc_counties_grouping_budget = cpuc_counties_grouping.merge(rcedars, left_on = 'ClaimID', right_on = 'Claim ID', how = 'left')"
   ]
  },
  {
   "cell_type": "code",
   "execution_count": 41,
   "metadata": {},
   "outputs": [
    {
     "data": {
      "text/plain": [
       "(762719, 49)"
      ]
     },
     "execution_count": 41,
     "metadata": {},
     "output_type": "execute_result"
    }
   ],
   "source": [
    "cpuc_counties_grouping_budget.shape"
   ]
  },
  {
   "cell_type": "code",
   "execution_count": 42,
   "metadata": {},
   "outputs": [],
   "source": [
    "cgb = cpuc_counties_grouping_budget.copy()"
   ]
  },
  {
   "cell_type": "code",
   "execution_count": 43,
   "metadata": {},
   "outputs": [
    {
     "data": {
      "text/plain": [
       "Index(['ClaimID', 'PrgID_x', 'Sector', 'SiteCity', 'SiteZipCode', 'SiteID',\n",
       "       'NAICSCode', 'BldgHVAC', 'BldgLoc', 'BldgType', 'BldgVint',\n",
       "       'E3ClimateZone', 'E3GasSavProfile', 'E3GasSector',\n",
       "       'E3MeaElecEndUseShape', 'E3TargetSector', 'ImplementationID',\n",
       "       'InstallationDate', 'NAICSBldgType', 'NumUnits', 'OBF_Flag',\n",
       "       'PrgElement', 'RateScheduleElec', 'RateScheduleGas', 'REN_Flag',\n",
       "       'Residential_Flag', 'SchoolIdentifier', 'TotalFirstYearGrosskW',\n",
       "       'TotalFirstYearGrosskWh', 'TotalFirstYearGrossTherm',\n",
       "       'TotalGrossIncentive', 'TotalGrossMeasureCost',\n",
       "       'TotalGrossMeasureCost_ER', 'TotalLifecycleGrosskW',\n",
       "       'TotalLifecycleGrosskWh', 'TotalLifecycleGrossTherm', 'Upstream_Flag',\n",
       "       'WaterOnly_Flag', 'PrgYear_x', 'PrgYear_y', 'PrgID_y', 'ZCTA5',\n",
       "       'COUNTY', 'county_name', 'PrgID', 'Grouping', 'Selected', 'Claim ID',\n",
       "       'Budget'],\n",
       "      dtype='object')"
      ]
     },
     "execution_count": 43,
     "metadata": {},
     "output_type": "execute_result"
    }
   ],
   "source": [
    "cgb.columns"
   ]
  },
  {
   "cell_type": "code",
   "execution_count": 67,
   "metadata": {},
   "outputs": [],
   "source": [
    "cgb = cgb[['ClaimID', 'PrgID_x','Budget', 'TotalFirstYearGrosskWh', 'TotalFirstYearGrossTherm', 'COUNTY', 'county_name']]"
   ]
  },
  {
   "cell_type": "code",
   "execution_count": 68,
   "metadata": {},
   "outputs": [
    {
     "data": {
      "text/plain": [
       "PGE-2018-Q2-53851                   8\n",
       "PGE-2018-Q2-53854                   8\n",
       "PGE-2018-Q2-53855                   8\n",
       "PGE-2018-Q2-53857                   8\n",
       "PGE-2018-Q2-53852                   8\n",
       "                                   ..\n",
       "SCG-2019-3805-12221241-3466820      1\n",
       "PGE-2017-Q3-51566                   1\n",
       "SCG-2018-3711-11212928-2139009      1\n",
       "SDGE-2018-3226-10876258-3661020     1\n",
       "SDGE-2019-3226-11002466-12508649    1\n",
       "Name: ClaimID, Length: 599968, dtype: int64"
      ]
     },
     "execution_count": 68,
     "metadata": {},
     "output_type": "execute_result"
    }
   ],
   "source": [
    "cgb['ClaimID'].value_counts()"
   ]
  },
  {
   "cell_type": "code",
   "execution_count": 70,
   "metadata": {},
   "outputs": [],
   "source": [
    "cgb = cgb.drop_duplicates()"
   ]
  },
  {
   "cell_type": "code",
   "execution_count": 72,
   "metadata": {},
   "outputs": [
    {
     "data": {
      "text/html": [
       "<div>\n",
       "<style scoped>\n",
       "    .dataframe tbody tr th:only-of-type {\n",
       "        vertical-align: middle;\n",
       "    }\n",
       "\n",
       "    .dataframe tbody tr th {\n",
       "        vertical-align: top;\n",
       "    }\n",
       "\n",
       "    .dataframe thead th {\n",
       "        text-align: right;\n",
       "    }\n",
       "</style>\n",
       "<table border=\"1\" class=\"dataframe\">\n",
       "  <thead>\n",
       "    <tr style=\"text-align: right;\">\n",
       "      <th></th>\n",
       "      <th>ClaimID</th>\n",
       "      <th>PrgID_x</th>\n",
       "      <th>Budget</th>\n",
       "      <th>TotalFirstYearGrosskWh</th>\n",
       "      <th>TotalFirstYearGrossTherm</th>\n",
       "      <th>COUNTY</th>\n",
       "      <th>county_name</th>\n",
       "    </tr>\n",
       "  </thead>\n",
       "  <tbody>\n",
       "    <tr>\n",
       "      <th>0</th>\n",
       "      <td>PGE-2017-Q4-85848</td>\n",
       "      <td>PGE21015</td>\n",
       "      <td>5541.932761</td>\n",
       "      <td>17006.650170</td>\n",
       "      <td>1790.515</td>\n",
       "      <td>NaN</td>\n",
       "      <td>NaN</td>\n",
       "    </tr>\n",
       "    <tr>\n",
       "      <th>1</th>\n",
       "      <td>PGE-2017-Q4-94241</td>\n",
       "      <td>PGE211009</td>\n",
       "      <td>106.846221</td>\n",
       "      <td>35.040000</td>\n",
       "      <td>-0.832</td>\n",
       "      <td>13.0</td>\n",
       "      <td>Contra Costa County</td>\n",
       "    </tr>\n",
       "    <tr>\n",
       "      <th>2</th>\n",
       "      <td>PGE-2017-Q4-88304</td>\n",
       "      <td>PGE211009</td>\n",
       "      <td>39.779768</td>\n",
       "      <td>13.140000</td>\n",
       "      <td>-0.312</td>\n",
       "      <td>1.0</td>\n",
       "      <td>Alameda County</td>\n",
       "    </tr>\n",
       "    <tr>\n",
       "      <th>3</th>\n",
       "      <td>PGE-2017-Q4-8624</td>\n",
       "      <td>PGE21012</td>\n",
       "      <td>1354.671628</td>\n",
       "      <td>0.000000</td>\n",
       "      <td>643.678</td>\n",
       "      <td>NaN</td>\n",
       "      <td>NaN</td>\n",
       "    </tr>\n",
       "    <tr>\n",
       "      <th>4</th>\n",
       "      <td>PGE-2017-Q4-88820</td>\n",
       "      <td>PGE211009</td>\n",
       "      <td>106.118823</td>\n",
       "      <td>35.040000</td>\n",
       "      <td>-0.832</td>\n",
       "      <td>1.0</td>\n",
       "      <td>Alameda County</td>\n",
       "    </tr>\n",
       "    <tr>\n",
       "      <th>...</th>\n",
       "      <td>...</td>\n",
       "      <td>...</td>\n",
       "      <td>...</td>\n",
       "      <td>...</td>\n",
       "      <td>...</td>\n",
       "      <td>...</td>\n",
       "      <td>...</td>\n",
       "    </tr>\n",
       "    <tr>\n",
       "      <th>762714</th>\n",
       "      <td>SDGE-2019-4061-11015387-12663812</td>\n",
       "      <td>SDGE4061</td>\n",
       "      <td>748.712453</td>\n",
       "      <td>2533.022933</td>\n",
       "      <td>0.000</td>\n",
       "      <td>NaN</td>\n",
       "      <td>NaN</td>\n",
       "    </tr>\n",
       "    <tr>\n",
       "      <th>762715</th>\n",
       "      <td>SDGE-2019-4061-2019Q1ProgramCostPlaceholder</td>\n",
       "      <td>SDGE4061</td>\n",
       "      <td>0.000000</td>\n",
       "      <td>0.000000</td>\n",
       "      <td>0.000</td>\n",
       "      <td>NaN</td>\n",
       "      <td>NaN</td>\n",
       "    </tr>\n",
       "    <tr>\n",
       "      <th>762716</th>\n",
       "      <td>SDGE-2019-4061-2019Q2ProgramCostPlaceholder</td>\n",
       "      <td>SDGE4061</td>\n",
       "      <td>0.000000</td>\n",
       "      <td>0.000000</td>\n",
       "      <td>0.000</td>\n",
       "      <td>NaN</td>\n",
       "      <td>NaN</td>\n",
       "    </tr>\n",
       "    <tr>\n",
       "      <th>762717</th>\n",
       "      <td>SDGE-2019-4061-2019Q3ProgramCostPlaceholder</td>\n",
       "      <td>SDGE4061</td>\n",
       "      <td>0.000000</td>\n",
       "      <td>0.000000</td>\n",
       "      <td>0.000</td>\n",
       "      <td>NaN</td>\n",
       "      <td>NaN</td>\n",
       "    </tr>\n",
       "    <tr>\n",
       "      <th>762718</th>\n",
       "      <td>SDGE-2019-4061-2019Q4PROGRAMCOSTPLACEHOLDER</td>\n",
       "      <td>SDGE4061</td>\n",
       "      <td>0.000000</td>\n",
       "      <td>0.000000</td>\n",
       "      <td>0.000</td>\n",
       "      <td>NaN</td>\n",
       "      <td>NaN</td>\n",
       "    </tr>\n",
       "  </tbody>\n",
       "</table>\n",
       "<p>615973 rows × 7 columns</p>\n",
       "</div>"
      ],
      "text/plain": [
       "                                            ClaimID    PrgID_x       Budget  \\\n",
       "0                                 PGE-2017-Q4-85848   PGE21015  5541.932761   \n",
       "1                                 PGE-2017-Q4-94241  PGE211009   106.846221   \n",
       "2                                 PGE-2017-Q4-88304  PGE211009    39.779768   \n",
       "3                                  PGE-2017-Q4-8624   PGE21012  1354.671628   \n",
       "4                                 PGE-2017-Q4-88820  PGE211009   106.118823   \n",
       "...                                             ...        ...          ...   \n",
       "762714             SDGE-2019-4061-11015387-12663812   SDGE4061   748.712453   \n",
       "762715  SDGE-2019-4061-2019Q1ProgramCostPlaceholder   SDGE4061     0.000000   \n",
       "762716  SDGE-2019-4061-2019Q2ProgramCostPlaceholder   SDGE4061     0.000000   \n",
       "762717  SDGE-2019-4061-2019Q3ProgramCostPlaceholder   SDGE4061     0.000000   \n",
       "762718  SDGE-2019-4061-2019Q4PROGRAMCOSTPLACEHOLDER   SDGE4061     0.000000   \n",
       "\n",
       "        TotalFirstYearGrosskWh  TotalFirstYearGrossTherm  COUNTY  \\\n",
       "0                 17006.650170                  1790.515     NaN   \n",
       "1                    35.040000                    -0.832    13.0   \n",
       "2                    13.140000                    -0.312     1.0   \n",
       "3                     0.000000                   643.678     NaN   \n",
       "4                    35.040000                    -0.832     1.0   \n",
       "...                        ...                       ...     ...   \n",
       "762714             2533.022933                     0.000     NaN   \n",
       "762715                0.000000                     0.000     NaN   \n",
       "762716                0.000000                     0.000     NaN   \n",
       "762717                0.000000                     0.000     NaN   \n",
       "762718                0.000000                     0.000     NaN   \n",
       "\n",
       "                county_name  \n",
       "0                       NaN  \n",
       "1       Contra Costa County  \n",
       "2            Alameda County  \n",
       "3                       NaN  \n",
       "4            Alameda County  \n",
       "...                     ...  \n",
       "762714                  NaN  \n",
       "762715                  NaN  \n",
       "762716                  NaN  \n",
       "762717                  NaN  \n",
       "762718                  NaN  \n",
       "\n",
       "[615973 rows x 7 columns]"
      ]
     },
     "execution_count": 72,
     "metadata": {},
     "output_type": "execute_result"
    }
   ],
   "source": [
    "cgb.drop_duplicates()"
   ]
  },
  {
   "cell_type": "code",
   "execution_count": null,
   "metadata": {},
   "outputs": [],
   "source": []
  }
 ],
 "metadata": {
  "kernelspec": {
   "display_name": "Python 3",
   "language": "python",
   "name": "python3"
  },
  "language_info": {
   "codemirror_mode": {
    "name": "ipython",
    "version": 3
   },
   "file_extension": ".py",
   "mimetype": "text/x-python",
   "name": "python",
   "nbconvert_exporter": "python",
   "pygments_lexer": "ipython3",
   "version": "3.8.5"
  }
 },
 "nbformat": 4,
 "nbformat_minor": 4
}
