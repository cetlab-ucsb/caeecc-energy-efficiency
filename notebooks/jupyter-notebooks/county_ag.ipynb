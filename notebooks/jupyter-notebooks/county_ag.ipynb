{
 "cells": [
  {
   "cell_type": "markdown",
   "metadata": {},
   "source": [
    "## Goal: aggregate local government programs at the city level"
   ]
  },
  {
   "cell_type": "code",
   "execution_count": 1,
   "metadata": {},
   "outputs": [],
   "source": [
    "import pandas as pd"
   ]
  },
  {
   "cell_type": "code",
   "execution_count": 3,
   "metadata": {
    "jupyter": {
     "source_hidden": true
    }
   },
   "outputs": [],
   "source": [
    "def no_dupes(df):\n",
    "    \n",
    "    #creating df of number of times a claim repeats\n",
    "\n",
    "    repeats = df['ClaimID'].value_counts().to_frame().reset_index()\n",
    "\n",
    "    #getting list of duplicate claims\n",
    "    \n",
    "    all_dupes = repeats[repeats['ClaimID']>1]\n",
    "    dupes = all_dupes['index'].to_list()\n",
    "   \n",
    "\n",
    "    #getting one index value per duplicate claim\n",
    "\n",
    "    goodi=[]\n",
    "    for e in dupes:\n",
    "        goodi.append(min(df[df['ClaimID'].isin([e])].index.to_list()))\n",
    "    \n",
    "    # full list of duplicate claim indicies\n",
    "\n",
    "    alli=[]\n",
    "    for e in dupes:\n",
    "        alli = alli + df[df['ClaimID'].isin([e])].index.to_list()\n",
    "\n",
    "\n",
    "    # take goodi from alli\n",
    "    badi = [i for i in alli if i not in goodi]\n",
    "\n",
    "    #drop duplicate indicies\n",
    "    return(df.drop(index=badi).reset_index())"
   ]
  },
  {
   "cell_type": "code",
   "execution_count": 4,
   "metadata": {},
   "outputs": [],
   "source": [
    "column_list = ['TotalFirstYearGrosskWh',\n",
    "       'TotalFirstYearGrossTherm','TotalLifecycleGrosskWh',\n",
    "       'TotalLifecycleGrossTherm','Budget']\n",
    "def aggregate_me(df, by, lg, column_list):\n",
    "    \n",
    "    # making df usable\n",
    "\n",
    "    df[by] = df[by].str.upper()\n",
    "    \n",
    "    #filtering for local government\n",
    "\n",
    "    if lg: \n",
    "\n",
    "        lglist = ['Local Government (Counties)',\n",
    "         'Local Government ()',\n",
    "         'Local Government (Cities)',\n",
    "         'Local Government ']\n",
    "\n",
    "        df = df[df['Grouping'].isin(lglist)]\n",
    "\n",
    "\n",
    "    # creating a total programs column\n",
    "\n",
    "    prg = df.groupby([by, 'PrgID'], dropna = False).size().index.tolist() \n",
    "    #need to count the number of times a city/county shows up \n",
    "\n",
    "    e,f = [list(c) for c in zip(*prg)]\n",
    "\n",
    "    ccp = pd.Series(e) # made a series so can use value_counts\n",
    "\n",
    "    ccp = ccp.str.upper()\n",
    "\n",
    "    tp = ccp.value_counts(dropna = False) #total programs per city\n",
    "    \n",
    "    # creating a total claims column\n",
    "    \n",
    "    df['Total Claims'] = [1]*len(df)\n",
    "    \n",
    "    #aggregate!\n",
    "    relevant_columns = column_list + ['Total Claims']\n",
    "    agg = df.groupby(by).sum()[relevant_columns]\n",
    "    agg['Total Programs'] = tp\n",
    "    \n",
    "    # Resource/OBF budget as percentage of total budget\n",
    "    obf_budget = df.groupby([by, 'OBF_Flag']).Budget.sum().unstack().fillna(0).loc[:, True]\n",
    "    resource_budget = df.groupby([by, 'Resource_Flag']).Budget.sum().unstack().fillna(0).loc[:, 1]\n",
    "    agg['% OBF Budget'] = (obf_budget/agg['Budget'])*100\n",
    "    agg['% Resource Budget'] = (resource_budget/agg['Budget'])*100\n",
    "    \n",
    "    return(agg.reset_index())"
   ]
  },
  {
   "cell_type": "code",
   "execution_count": 6,
   "metadata": {},
   "outputs": [
    {
     "name": "stderr",
     "output_type": "stream",
     "text": [
      "C:\\Users\\audre\\anaconda3\\lib\\site-packages\\IPython\\core\\interactiveshell.py:3146: DtypeWarning: Columns (18,21,22,23,55) have mixed types.Specify dtype option on import or set low_memory=False.\n",
      "  has_raised = await self.run_ast_nodes(code_ast.body, cell_name,\n"
     ]
    }
   ],
   "source": [
    "lg = pd.read_csv('data/lg_with_budget_and_resource.csv')"
   ]
  },
  {
   "cell_type": "code",
   "execution_count": 10,
   "metadata": {},
   "outputs": [],
   "source": [
    "lg = lg.drop_duplicates()"
   ]
  },
  {
   "cell_type": "code",
   "execution_count": 11,
   "metadata": {},
   "outputs": [
    {
     "data": {
      "text/plain": [
       "(192092, 72)"
      ]
     },
     "execution_count": 11,
     "metadata": {},
     "output_type": "execute_result"
    }
   ],
   "source": [
    "lg.shape"
   ]
  },
  {
   "cell_type": "code",
   "execution_count": 12,
   "metadata": {},
   "outputs": [],
   "source": [
    "local_gov = lg.copy()"
   ]
  },
  {
   "cell_type": "code",
   "execution_count": 13,
   "metadata": {},
   "outputs": [],
   "source": [
    "local_gov = no_dupes(local_gov)"
   ]
  },
  {
   "cell_type": "code",
   "execution_count": 14,
   "metadata": {},
   "outputs": [
    {
     "data": {
      "text/plain": [
       "(192092, 73)"
      ]
     },
     "execution_count": 14,
     "metadata": {},
     "output_type": "execute_result"
    }
   ],
   "source": [
    "local_gov.shape"
   ]
  },
  {
   "cell_type": "markdown",
   "metadata": {},
   "source": [
    "### Need to add county data"
   ]
  },
  {
   "cell_type": "code",
   "execution_count": 15,
   "metadata": {},
   "outputs": [],
   "source": [
    "c = pd.read_csv('data/city_county_mapping.csv')"
   ]
  },
  {
   "cell_type": "code",
   "execution_count": 16,
   "metadata": {},
   "outputs": [],
   "source": [
    "local_gov = local_gov.merge(c, left_on='SiteCity', right_on='city', how='left')"
   ]
  },
  {
   "cell_type": "code",
   "execution_count": 17,
   "metadata": {},
   "outputs": [
    {
     "data": {
      "text/plain": [
       "Index(['index', 'ClaimID', 'PrgID', 'Sector_x', 'SiteCity', 'SiteZipCode',\n",
       "       'SiteID', 'NAICSCode', 'BldgHVAC', 'BldgLoc', 'BldgType', 'BldgVint',\n",
       "       'E3ClimateZone', 'E3GasSavProfile', 'E3GasSector',\n",
       "       'E3MeaElecEndUseShape', 'E3TargetSector', 'ImplementationID',\n",
       "       'InstallationDate', 'NAICSBldgType', 'NumUnits', 'OBF_Flag',\n",
       "       'PrgElement', 'RateScheduleElec', 'RateScheduleGas', 'REN_Flag',\n",
       "       'Residential_Flag', 'SchoolIdentifier', 'TotalFirstYearGrosskW',\n",
       "       'TotalFirstYearGrosskWh', 'TotalFirstYearGrossTherm',\n",
       "       'TotalGrossIncentive', 'TotalGrossMeasureCost',\n",
       "       'TotalGrossMeasureCost_ER', 'TotalLifecycleGrosskW',\n",
       "       'TotalLifecycleGrosskWh', 'TotalLifecycleGrossTherm', 'Upstream_Flag_x',\n",
       "       'WaterOnly_Flag', 'PrgYear', 'Claim ID', 'Program ID',\n",
       "       'First Year Gross kWh', 'First Year Gross Therm', 'Budget', 'PA',\n",
       "       'ProgramName', 'Grouping', 'County', 'Selected', 'PrimarySector',\n",
       "       'Sector_y', 'BP Sector', 'ProgramImplementer', 'ProgramCategory',\n",
       "       'StatewideProgram', 'ImplementationContractor', 'ProgramManager',\n",
       "       'StartYear', 'EndYear', 'Resource_Flag', 'NonResource_Flag',\n",
       "       'Deemed_Flag', 'Custom_Flag', 'Upstream_Flag_y', 'Midstream_Flag',\n",
       "       'Downstream_Flag', 'DirectInstall', 'Audit_Flag', 'Financing',\n",
       "       'ParentProgram', 'Exclude_From_Budget', 'Exclude_From_CE', 'city',\n",
       "       'county'],\n",
       "      dtype='object')"
      ]
     },
     "execution_count": 17,
     "metadata": {},
     "output_type": "execute_result"
    }
   ],
   "source": [
    "local_gov.columns"
   ]
  },
  {
   "cell_type": "markdown",
   "metadata": {},
   "source": [
    "### Now for the aggregation!"
   ]
  },
  {
   "cell_type": "code",
   "execution_count": 18,
   "metadata": {},
   "outputs": [],
   "source": [
    "county_ag = aggregate_me(local_gov, 'county', False, column_list)"
   ]
  },
  {
   "cell_type": "code",
   "execution_count": 19,
   "metadata": {},
   "outputs": [
    {
     "data": {
      "text/html": [
       "<div>\n",
       "<style scoped>\n",
       "    .dataframe tbody tr th:only-of-type {\n",
       "        vertical-align: middle;\n",
       "    }\n",
       "\n",
       "    .dataframe tbody tr th {\n",
       "        vertical-align: top;\n",
       "    }\n",
       "\n",
       "    .dataframe thead th {\n",
       "        text-align: right;\n",
       "    }\n",
       "</style>\n",
       "<table border=\"1\" class=\"dataframe\">\n",
       "  <thead>\n",
       "    <tr style=\"text-align: right;\">\n",
       "      <th></th>\n",
       "      <th>county</th>\n",
       "      <th>TotalFirstYearGrosskWh</th>\n",
       "      <th>TotalFirstYearGrossTherm</th>\n",
       "      <th>TotalLifecycleGrosskWh</th>\n",
       "      <th>TotalLifecycleGrossTherm</th>\n",
       "      <th>Budget</th>\n",
       "      <th>Total Claims</th>\n",
       "      <th>Total Programs</th>\n",
       "      <th>% OBF Budget</th>\n",
       "      <th>% Resource Budget</th>\n",
       "    </tr>\n",
       "  </thead>\n",
       "  <tbody>\n",
       "    <tr>\n",
       "      <th>0</th>\n",
       "      <td>ALAMEDA</td>\n",
       "      <td>1.313266e+07</td>\n",
       "      <td>-55166.943648</td>\n",
       "      <td>1.375638e+08</td>\n",
       "      <td>-572536.128952</td>\n",
       "      <td>8.383464e+06</td>\n",
       "      <td>24202</td>\n",
       "      <td>7</td>\n",
       "      <td>21.651553</td>\n",
       "      <td>100.0</td>\n",
       "    </tr>\n",
       "    <tr>\n",
       "      <th>1</th>\n",
       "      <td>AMADOR</td>\n",
       "      <td>6.303598e+05</td>\n",
       "      <td>-4445.044561</td>\n",
       "      <td>6.969587e+06</td>\n",
       "      <td>-47535.941272</td>\n",
       "      <td>5.484184e+05</td>\n",
       "      <td>129</td>\n",
       "      <td>2</td>\n",
       "      <td>0.000000</td>\n",
       "      <td>100.0</td>\n",
       "    </tr>\n",
       "    <tr>\n",
       "      <th>2</th>\n",
       "      <td>BUTTE</td>\n",
       "      <td>1.786076e+06</td>\n",
       "      <td>-2434.795903</td>\n",
       "      <td>2.032414e+07</td>\n",
       "      <td>-26140.758805</td>\n",
       "      <td>1.665998e+06</td>\n",
       "      <td>5011</td>\n",
       "      <td>5</td>\n",
       "      <td>16.661132</td>\n",
       "      <td>100.0</td>\n",
       "    </tr>\n",
       "    <tr>\n",
       "      <th>3</th>\n",
       "      <td>CALAVERAS</td>\n",
       "      <td>5.730568e+04</td>\n",
       "      <td>-407.880660</td>\n",
       "      <td>6.178263e+05</td>\n",
       "      <td>-4790.258736</td>\n",
       "      <td>4.330963e+04</td>\n",
       "      <td>18</td>\n",
       "      <td>2</td>\n",
       "      <td>3.253734</td>\n",
       "      <td>100.0</td>\n",
       "    </tr>\n",
       "    <tr>\n",
       "      <th>4</th>\n",
       "      <td>COLUSA</td>\n",
       "      <td>1.957298e+05</td>\n",
       "      <td>-478.134807</td>\n",
       "      <td>1.949328e+06</td>\n",
       "      <td>-5486.333745</td>\n",
       "      <td>1.150678e+05</td>\n",
       "      <td>11</td>\n",
       "      <td>2</td>\n",
       "      <td>18.890025</td>\n",
       "      <td>100.0</td>\n",
       "    </tr>\n",
       "  </tbody>\n",
       "</table>\n",
       "</div>"
      ],
      "text/plain": [
       "      county  TotalFirstYearGrosskWh  TotalFirstYearGrossTherm  \\\n",
       "0    ALAMEDA            1.313266e+07             -55166.943648   \n",
       "1     AMADOR            6.303598e+05              -4445.044561   \n",
       "2      BUTTE            1.786076e+06              -2434.795903   \n",
       "3  CALAVERAS            5.730568e+04               -407.880660   \n",
       "4     COLUSA            1.957298e+05               -478.134807   \n",
       "\n",
       "   TotalLifecycleGrosskWh  TotalLifecycleGrossTherm        Budget  \\\n",
       "0            1.375638e+08            -572536.128952  8.383464e+06   \n",
       "1            6.969587e+06             -47535.941272  5.484184e+05   \n",
       "2            2.032414e+07             -26140.758805  1.665998e+06   \n",
       "3            6.178263e+05              -4790.258736  4.330963e+04   \n",
       "4            1.949328e+06              -5486.333745  1.150678e+05   \n",
       "\n",
       "   Total Claims  Total Programs  % OBF Budget  % Resource Budget  \n",
       "0         24202               7     21.651553              100.0  \n",
       "1           129               2      0.000000              100.0  \n",
       "2          5011               5     16.661132              100.0  \n",
       "3            18               2      3.253734              100.0  \n",
       "4            11               2     18.890025              100.0  "
      ]
     },
     "execution_count": 19,
     "metadata": {},
     "output_type": "execute_result"
    }
   ],
   "source": [
    "county_ag.head()"
   ]
  },
  {
   "cell_type": "code",
   "execution_count": 23,
   "metadata": {},
   "outputs": [
    {
     "data": {
      "text/plain": [
       "Local Government (Counties)    168740\n",
       "Local Government ()             21392\n",
       "Local Government (Cities)        1947\n",
       "Local Government                   13\n",
       "Name: Grouping, dtype: int64"
      ]
     },
     "execution_count": 23,
     "metadata": {},
     "output_type": "execute_result"
    }
   ],
   "source": [
    "local_gov.Grouping.value_counts(dropna=False)"
   ]
  },
  {
   "cell_type": "markdown",
   "metadata": {},
   "source": [
    "# whooo it worked big party"
   ]
  },
  {
   "cell_type": "markdown",
   "metadata": {},
   "source": [
    "now going to make the complete dataset, add demographic info"
   ]
  },
  {
   "cell_type": "code",
   "execution_count": 28,
   "metadata": {},
   "outputs": [],
   "source": [
    "dems = pd.read_csv('data/county_demographics.csv')"
   ]
  },
  {
   "cell_type": "code",
   "execution_count": 29,
   "metadata": {},
   "outputs": [
    {
     "data": {
      "text/html": [
       "<div>\n",
       "<style scoped>\n",
       "    .dataframe tbody tr th:only-of-type {\n",
       "        vertical-align: middle;\n",
       "    }\n",
       "\n",
       "    .dataframe tbody tr th {\n",
       "        vertical-align: top;\n",
       "    }\n",
       "\n",
       "    .dataframe thead th {\n",
       "        text-align: right;\n",
       "    }\n",
       "</style>\n",
       "<table border=\"1\" class=\"dataframe\">\n",
       "  <thead>\n",
       "    <tr style=\"text-align: right;\">\n",
       "      <th></th>\n",
       "      <th>county</th>\n",
       "      <th>TotalFirstYearGrosskWh</th>\n",
       "      <th>TotalFirstYearGrossTherm</th>\n",
       "      <th>TotalLifecycleGrosskWh</th>\n",
       "      <th>TotalLifecycleGrossTherm</th>\n",
       "      <th>Budget</th>\n",
       "      <th>Total Claims</th>\n",
       "      <th>Total Programs</th>\n",
       "      <th>% OBF Budget</th>\n",
       "      <th>% Resource Budget</th>\n",
       "    </tr>\n",
       "  </thead>\n",
       "  <tbody>\n",
       "    <tr>\n",
       "      <th>0</th>\n",
       "      <td>ALAMEDA</td>\n",
       "      <td>1.313266e+07</td>\n",
       "      <td>-55166.943648</td>\n",
       "      <td>1.375638e+08</td>\n",
       "      <td>-572536.128952</td>\n",
       "      <td>8.383464e+06</td>\n",
       "      <td>24202</td>\n",
       "      <td>7</td>\n",
       "      <td>21.651553</td>\n",
       "      <td>100.0</td>\n",
       "    </tr>\n",
       "    <tr>\n",
       "      <th>1</th>\n",
       "      <td>AMADOR</td>\n",
       "      <td>6.303598e+05</td>\n",
       "      <td>-4445.044561</td>\n",
       "      <td>6.969587e+06</td>\n",
       "      <td>-47535.941272</td>\n",
       "      <td>5.484184e+05</td>\n",
       "      <td>129</td>\n",
       "      <td>2</td>\n",
       "      <td>0.000000</td>\n",
       "      <td>100.0</td>\n",
       "    </tr>\n",
       "    <tr>\n",
       "      <th>2</th>\n",
       "      <td>BUTTE</td>\n",
       "      <td>1.786076e+06</td>\n",
       "      <td>-2434.795903</td>\n",
       "      <td>2.032414e+07</td>\n",
       "      <td>-26140.758805</td>\n",
       "      <td>1.665998e+06</td>\n",
       "      <td>5011</td>\n",
       "      <td>5</td>\n",
       "      <td>16.661132</td>\n",
       "      <td>100.0</td>\n",
       "    </tr>\n",
       "    <tr>\n",
       "      <th>3</th>\n",
       "      <td>CALAVERAS</td>\n",
       "      <td>5.730568e+04</td>\n",
       "      <td>-407.880660</td>\n",
       "      <td>6.178263e+05</td>\n",
       "      <td>-4790.258736</td>\n",
       "      <td>4.330963e+04</td>\n",
       "      <td>18</td>\n",
       "      <td>2</td>\n",
       "      <td>3.253734</td>\n",
       "      <td>100.0</td>\n",
       "    </tr>\n",
       "    <tr>\n",
       "      <th>4</th>\n",
       "      <td>COLUSA</td>\n",
       "      <td>1.957298e+05</td>\n",
       "      <td>-478.134807</td>\n",
       "      <td>1.949328e+06</td>\n",
       "      <td>-5486.333745</td>\n",
       "      <td>1.150678e+05</td>\n",
       "      <td>11</td>\n",
       "      <td>2</td>\n",
       "      <td>18.890025</td>\n",
       "      <td>100.0</td>\n",
       "    </tr>\n",
       "  </tbody>\n",
       "</table>\n",
       "</div>"
      ],
      "text/plain": [
       "      county  TotalFirstYearGrosskWh  TotalFirstYearGrossTherm  \\\n",
       "0    ALAMEDA            1.313266e+07             -55166.943648   \n",
       "1     AMADOR            6.303598e+05              -4445.044561   \n",
       "2      BUTTE            1.786076e+06              -2434.795903   \n",
       "3  CALAVERAS            5.730568e+04               -407.880660   \n",
       "4     COLUSA            1.957298e+05               -478.134807   \n",
       "\n",
       "   TotalLifecycleGrosskWh  TotalLifecycleGrossTherm        Budget  \\\n",
       "0            1.375638e+08            -572536.128952  8.383464e+06   \n",
       "1            6.969587e+06             -47535.941272  5.484184e+05   \n",
       "2            2.032414e+07             -26140.758805  1.665998e+06   \n",
       "3            6.178263e+05              -4790.258736  4.330963e+04   \n",
       "4            1.949328e+06              -5486.333745  1.150678e+05   \n",
       "\n",
       "   Total Claims  Total Programs  % OBF Budget  % Resource Budget  \n",
       "0         24202               7     21.651553              100.0  \n",
       "1           129               2      0.000000              100.0  \n",
       "2          5011               5     16.661132              100.0  \n",
       "3            18               2      3.253734              100.0  \n",
       "4            11               2     18.890025              100.0  "
      ]
     },
     "execution_count": 29,
     "metadata": {},
     "output_type": "execute_result"
    }
   ],
   "source": [
    "county_ag.head()"
   ]
  },
  {
   "cell_type": "code",
   "execution_count": 30,
   "metadata": {},
   "outputs": [
    {
     "data": {
      "text/html": [
       "<div>\n",
       "<style scoped>\n",
       "    .dataframe tbody tr th:only-of-type {\n",
       "        vertical-align: middle;\n",
       "    }\n",
       "\n",
       "    .dataframe tbody tr th {\n",
       "        vertical-align: top;\n",
       "    }\n",
       "\n",
       "    .dataframe thead th {\n",
       "        text-align: right;\n",
       "    }\n",
       "</style>\n",
       "<table border=\"1\" class=\"dataframe\">\n",
       "  <thead>\n",
       "    <tr style=\"text-align: right;\">\n",
       "      <th></th>\n",
       "      <th>County</th>\n",
       "      <th>Population</th>\n",
       "      <th>Mean Income</th>\n",
       "      <th>CES Score Median</th>\n",
       "      <th>IRR</th>\n",
       "      <th>TotalRevenue</th>\n",
       "      <th>dac_proportion</th>\n",
       "      <th>ces_score_median</th>\n",
       "      <th>ces_percentile_median</th>\n",
       "      <th>median_household_income_usd</th>\n",
       "    </tr>\n",
       "  </thead>\n",
       "  <tbody>\n",
       "    <tr>\n",
       "      <th>0</th>\n",
       "      <td>ALAMEDA</td>\n",
       "      <td>1656754</td>\n",
       "      <td>76626</td>\n",
       "      <td>21.532906</td>\n",
       "      <td>0.270123</td>\n",
       "      <td>9617053146</td>\n",
       "      <td>0.105556</td>\n",
       "      <td>21.532906</td>\n",
       "      <td>42.098625</td>\n",
       "      <td>99406</td>\n",
       "    </tr>\n",
       "    <tr>\n",
       "      <th>1</th>\n",
       "      <td>ALPINE</td>\n",
       "      <td>1039</td>\n",
       "      <td>78945</td>\n",
       "      <td>11.343357</td>\n",
       "      <td>0.656045</td>\n",
       "      <td>60490797</td>\n",
       "      <td>0.000000</td>\n",
       "      <td>11.343357</td>\n",
       "      <td>15.853197</td>\n",
       "      <td>63750</td>\n",
       "    </tr>\n",
       "    <tr>\n",
       "      <th>2</th>\n",
       "      <td>AMADOR</td>\n",
       "      <td>38429</td>\n",
       "      <td>51453</td>\n",
       "      <td>23.257549</td>\n",
       "      <td>0.502563</td>\n",
       "      <td>243032260</td>\n",
       "      <td>0.000000</td>\n",
       "      <td>23.257549</td>\n",
       "      <td>45.756085</td>\n",
       "      <td>62772</td>\n",
       "    </tr>\n",
       "    <tr>\n",
       "      <th>3</th>\n",
       "      <td>BUTTE</td>\n",
       "      <td>225817</td>\n",
       "      <td>62405</td>\n",
       "      <td>20.033261</td>\n",
       "      <td>0.434555</td>\n",
       "      <td>1290504922</td>\n",
       "      <td>0.039216</td>\n",
       "      <td>20.033261</td>\n",
       "      <td>38.365494</td>\n",
       "      <td>52537</td>\n",
       "    </tr>\n",
       "    <tr>\n",
       "      <th>4</th>\n",
       "      <td>CALAVERAS</td>\n",
       "      <td>45514</td>\n",
       "      <td>70651</td>\n",
       "      <td>15.180852</td>\n",
       "      <td>0.509595</td>\n",
       "      <td>677652486</td>\n",
       "      <td>0.000000</td>\n",
       "      <td>15.180852</td>\n",
       "      <td>25.551772</td>\n",
       "      <td>63158</td>\n",
       "    </tr>\n",
       "  </tbody>\n",
       "</table>\n",
       "</div>"
      ],
      "text/plain": [
       "      County  Population  Mean Income  CES Score Median       IRR  \\\n",
       "0    ALAMEDA     1656754        76626         21.532906  0.270123   \n",
       "1     ALPINE        1039        78945         11.343357  0.656045   \n",
       "2     AMADOR       38429        51453         23.257549  0.502563   \n",
       "3      BUTTE      225817        62405         20.033261  0.434555   \n",
       "4  CALAVERAS       45514        70651         15.180852  0.509595   \n",
       "\n",
       "   TotalRevenue  dac_proportion  ces_score_median  ces_percentile_median  \\\n",
       "0    9617053146        0.105556         21.532906              42.098625   \n",
       "1      60490797        0.000000         11.343357              15.853197   \n",
       "2     243032260        0.000000         23.257549              45.756085   \n",
       "3    1290504922        0.039216         20.033261              38.365494   \n",
       "4     677652486        0.000000         15.180852              25.551772   \n",
       "\n",
       "   median_household_income_usd  \n",
       "0                        99406  \n",
       "1                        63750  \n",
       "2                        62772  \n",
       "3                        52537  \n",
       "4                        63158  "
      ]
     },
     "execution_count": 30,
     "metadata": {},
     "output_type": "execute_result"
    }
   ],
   "source": [
    "dems.head()"
   ]
  },
  {
   "cell_type": "code",
   "execution_count": 35,
   "metadata": {},
   "outputs": [],
   "source": [
    "counties_1 = dems.merge(county_ag, left_on='County', right_on='county', how='left')"
   ]
  },
  {
   "cell_type": "code",
   "execution_count": 36,
   "metadata": {},
   "outputs": [
    {
     "data": {
      "text/plain": [
       "(58, 20)"
      ]
     },
     "execution_count": 36,
     "metadata": {},
     "output_type": "execute_result"
    }
   ],
   "source": [
    "counties_1.shape"
   ]
  },
  {
   "cell_type": "code",
   "execution_count": 37,
   "metadata": {},
   "outputs": [
    {
     "data": {
      "text/plain": [
       "(58, 10)"
      ]
     },
     "execution_count": 37,
     "metadata": {},
     "output_type": "execute_result"
    }
   ],
   "source": [
    "dems.shape"
   ]
  },
  {
   "cell_type": "code",
   "execution_count": 38,
   "metadata": {},
   "outputs": [
    {
     "data": {
      "text/plain": [
       "(51, 10)"
      ]
     },
     "execution_count": 38,
     "metadata": {},
     "output_type": "execute_result"
    }
   ],
   "source": [
    "county_ag.shape"
   ]
  },
  {
   "cell_type": "code",
   "execution_count": 40,
   "metadata": {},
   "outputs": [
    {
     "data": {
      "text/html": [
       "<div>\n",
       "<style scoped>\n",
       "    .dataframe tbody tr th:only-of-type {\n",
       "        vertical-align: middle;\n",
       "    }\n",
       "\n",
       "    .dataframe tbody tr th {\n",
       "        vertical-align: top;\n",
       "    }\n",
       "\n",
       "    .dataframe thead th {\n",
       "        text-align: right;\n",
       "    }\n",
       "</style>\n",
       "<table border=\"1\" class=\"dataframe\">\n",
       "  <thead>\n",
       "    <tr style=\"text-align: right;\">\n",
       "      <th></th>\n",
       "      <th>County</th>\n",
       "      <th>Population</th>\n",
       "      <th>Mean Income</th>\n",
       "      <th>CES Score Median</th>\n",
       "      <th>IRR</th>\n",
       "      <th>TotalRevenue</th>\n",
       "      <th>dac_proportion</th>\n",
       "      <th>ces_score_median</th>\n",
       "      <th>ces_percentile_median</th>\n",
       "      <th>median_household_income_usd</th>\n",
       "      <th>county</th>\n",
       "      <th>TotalFirstYearGrosskWh</th>\n",
       "      <th>TotalFirstYearGrossTherm</th>\n",
       "      <th>TotalLifecycleGrosskWh</th>\n",
       "      <th>TotalLifecycleGrossTherm</th>\n",
       "      <th>Budget</th>\n",
       "      <th>Total Claims</th>\n",
       "      <th>Total Programs</th>\n",
       "      <th>% OBF Budget</th>\n",
       "      <th>% Resource Budget</th>\n",
       "    </tr>\n",
       "  </thead>\n",
       "  <tbody>\n",
       "    <tr>\n",
       "      <th>1</th>\n",
       "      <td>ALPINE</td>\n",
       "      <td>1039</td>\n",
       "      <td>78945</td>\n",
       "      <td>11.343357</td>\n",
       "      <td>0.656045</td>\n",
       "      <td>60490797</td>\n",
       "      <td>0.000000</td>\n",
       "      <td>11.343357</td>\n",
       "      <td>15.853197</td>\n",
       "      <td>63750</td>\n",
       "      <td>NaN</td>\n",
       "      <td>NaN</td>\n",
       "      <td>NaN</td>\n",
       "      <td>NaN</td>\n",
       "      <td>NaN</td>\n",
       "      <td>NaN</td>\n",
       "      <td>NaN</td>\n",
       "      <td>NaN</td>\n",
       "      <td>NaN</td>\n",
       "      <td>NaN</td>\n",
       "    </tr>\n",
       "    <tr>\n",
       "      <th>7</th>\n",
       "      <td>DEL NORTE</td>\n",
       "      <td>27495</td>\n",
       "      <td>62144</td>\n",
       "      <td>16.844851</td>\n",
       "      <td>0.530593</td>\n",
       "      <td>225894688</td>\n",
       "      <td>0.000000</td>\n",
       "      <td>16.844851</td>\n",
       "      <td>29.978560</td>\n",
       "      <td>45283</td>\n",
       "      <td>NaN</td>\n",
       "      <td>NaN</td>\n",
       "      <td>NaN</td>\n",
       "      <td>NaN</td>\n",
       "      <td>NaN</td>\n",
       "      <td>NaN</td>\n",
       "      <td>NaN</td>\n",
       "      <td>NaN</td>\n",
       "      <td>NaN</td>\n",
       "      <td>NaN</td>\n",
       "    </tr>\n",
       "    <tr>\n",
       "      <th>12</th>\n",
       "      <td>IMPERIAL</td>\n",
       "      <td>180701</td>\n",
       "      <td>65273</td>\n",
       "      <td>39.583822</td>\n",
       "      <td>0.483676</td>\n",
       "      <td>1305614242</td>\n",
       "      <td>0.483871</td>\n",
       "      <td>39.583822</td>\n",
       "      <td>75.387817</td>\n",
       "      <td>47622</td>\n",
       "      <td>NaN</td>\n",
       "      <td>NaN</td>\n",
       "      <td>NaN</td>\n",
       "      <td>NaN</td>\n",
       "      <td>NaN</td>\n",
       "      <td>NaN</td>\n",
       "      <td>NaN</td>\n",
       "      <td>NaN</td>\n",
       "      <td>NaN</td>\n",
       "      <td>NaN</td>\n",
       "    </tr>\n",
       "    <tr>\n",
       "      <th>17</th>\n",
       "      <td>LASSEN</td>\n",
       "      <td>30818</td>\n",
       "      <td>46389</td>\n",
       "      <td>15.820526</td>\n",
       "      <td>0.562445</td>\n",
       "      <td>206480533</td>\n",
       "      <td>0.000000</td>\n",
       "      <td>15.820526</td>\n",
       "      <td>27.355278</td>\n",
       "      <td>56352</td>\n",
       "      <td>NaN</td>\n",
       "      <td>NaN</td>\n",
       "      <td>NaN</td>\n",
       "      <td>NaN</td>\n",
       "      <td>NaN</td>\n",
       "      <td>NaN</td>\n",
       "      <td>NaN</td>\n",
       "      <td>NaN</td>\n",
       "      <td>NaN</td>\n",
       "      <td>NaN</td>\n",
       "    </tr>\n",
       "    <tr>\n",
       "      <th>24</th>\n",
       "      <td>MODOC</td>\n",
       "      <td>8907</td>\n",
       "      <td>57068</td>\n",
       "      <td>16.525398</td>\n",
       "      <td>0.609696</td>\n",
       "      <td>96893007</td>\n",
       "      <td>0.000000</td>\n",
       "      <td>16.525398</td>\n",
       "      <td>29.253374</td>\n",
       "      <td>45507</td>\n",
       "      <td>NaN</td>\n",
       "      <td>NaN</td>\n",
       "      <td>NaN</td>\n",
       "      <td>NaN</td>\n",
       "      <td>NaN</td>\n",
       "      <td>NaN</td>\n",
       "      <td>NaN</td>\n",
       "      <td>NaN</td>\n",
       "      <td>NaN</td>\n",
       "      <td>NaN</td>\n",
       "    </tr>\n",
       "    <tr>\n",
       "      <th>45</th>\n",
       "      <td>SIERRA</td>\n",
       "      <td>3040</td>\n",
       "      <td>61491</td>\n",
       "      <td>19.965483</td>\n",
       "      <td>0.614994</td>\n",
       "      <td>65142974</td>\n",
       "      <td>0.000000</td>\n",
       "      <td>19.965483</td>\n",
       "      <td>38.201539</td>\n",
       "      <td>52148</td>\n",
       "      <td>NaN</td>\n",
       "      <td>NaN</td>\n",
       "      <td>NaN</td>\n",
       "      <td>NaN</td>\n",
       "      <td>NaN</td>\n",
       "      <td>NaN</td>\n",
       "      <td>NaN</td>\n",
       "      <td>NaN</td>\n",
       "      <td>NaN</td>\n",
       "      <td>NaN</td>\n",
       "    </tr>\n",
       "    <tr>\n",
       "      <th>52</th>\n",
       "      <td>TRINITY</td>\n",
       "      <td>12700</td>\n",
       "      <td>46949</td>\n",
       "      <td>8.569741</td>\n",
       "      <td>0.585870</td>\n",
       "      <td>173811393</td>\n",
       "      <td>0.000000</td>\n",
       "      <td>8.569741</td>\n",
       "      <td>9.837306</td>\n",
       "      <td>40846</td>\n",
       "      <td>NaN</td>\n",
       "      <td>NaN</td>\n",
       "      <td>NaN</td>\n",
       "      <td>NaN</td>\n",
       "      <td>NaN</td>\n",
       "      <td>NaN</td>\n",
       "      <td>NaN</td>\n",
       "      <td>NaN</td>\n",
       "      <td>NaN</td>\n",
       "      <td>NaN</td>\n",
       "    </tr>\n",
       "  </tbody>\n",
       "</table>\n",
       "</div>"
      ],
      "text/plain": [
       "       County  Population  Mean Income  CES Score Median       IRR  \\\n",
       "1      ALPINE        1039        78945         11.343357  0.656045   \n",
       "7   DEL NORTE       27495        62144         16.844851  0.530593   \n",
       "12   IMPERIAL      180701        65273         39.583822  0.483676   \n",
       "17     LASSEN       30818        46389         15.820526  0.562445   \n",
       "24      MODOC        8907        57068         16.525398  0.609696   \n",
       "45     SIERRA        3040        61491         19.965483  0.614994   \n",
       "52    TRINITY       12700        46949          8.569741  0.585870   \n",
       "\n",
       "    TotalRevenue  dac_proportion  ces_score_median  ces_percentile_median  \\\n",
       "1       60490797        0.000000         11.343357              15.853197   \n",
       "7      225894688        0.000000         16.844851              29.978560   \n",
       "12    1305614242        0.483871         39.583822              75.387817   \n",
       "17     206480533        0.000000         15.820526              27.355278   \n",
       "24      96893007        0.000000         16.525398              29.253374   \n",
       "45      65142974        0.000000         19.965483              38.201539   \n",
       "52     173811393        0.000000          8.569741               9.837306   \n",
       "\n",
       "    median_household_income_usd county  TotalFirstYearGrosskWh  \\\n",
       "1                         63750    NaN                     NaN   \n",
       "7                         45283    NaN                     NaN   \n",
       "12                        47622    NaN                     NaN   \n",
       "17                        56352    NaN                     NaN   \n",
       "24                        45507    NaN                     NaN   \n",
       "45                        52148    NaN                     NaN   \n",
       "52                        40846    NaN                     NaN   \n",
       "\n",
       "    TotalFirstYearGrossTherm  TotalLifecycleGrosskWh  \\\n",
       "1                        NaN                     NaN   \n",
       "7                        NaN                     NaN   \n",
       "12                       NaN                     NaN   \n",
       "17                       NaN                     NaN   \n",
       "24                       NaN                     NaN   \n",
       "45                       NaN                     NaN   \n",
       "52                       NaN                     NaN   \n",
       "\n",
       "    TotalLifecycleGrossTherm  Budget  Total Claims  Total Programs  \\\n",
       "1                        NaN     NaN           NaN             NaN   \n",
       "7                        NaN     NaN           NaN             NaN   \n",
       "12                       NaN     NaN           NaN             NaN   \n",
       "17                       NaN     NaN           NaN             NaN   \n",
       "24                       NaN     NaN           NaN             NaN   \n",
       "45                       NaN     NaN           NaN             NaN   \n",
       "52                       NaN     NaN           NaN             NaN   \n",
       "\n",
       "    % OBF Budget  % Resource Budget  \n",
       "1            NaN                NaN  \n",
       "7            NaN                NaN  \n",
       "12           NaN                NaN  \n",
       "17           NaN                NaN  \n",
       "24           NaN                NaN  \n",
       "45           NaN                NaN  \n",
       "52           NaN                NaN  "
      ]
     },
     "execution_count": 40,
     "metadata": {},
     "output_type": "execute_result"
    }
   ],
   "source": [
    "counties_1[counties_1.county.isna()]"
   ]
  },
  {
   "cell_type": "code",
   "execution_count": 43,
   "metadata": {},
   "outputs": [],
   "source": [
    "counties_1.fillna(0, inplace=True)"
   ]
  },
  {
   "cell_type": "code",
   "execution_count": 49,
   "metadata": {},
   "outputs": [],
   "source": [
    "counties_1.drop(columns='county', inplace=True)"
   ]
  },
  {
   "cell_type": "code",
   "execution_count": 53,
   "metadata": {},
   "outputs": [],
   "source": [
    "counties_1.drop(columns='CES Score Median', inplace=True)"
   ]
  },
  {
   "cell_type": "code",
   "execution_count": 54,
   "metadata": {},
   "outputs": [],
   "source": [
    "counties_1.to_csv('data/counties_1.csv',index=False)"
   ]
  },
  {
   "cell_type": "code",
   "execution_count": 56,
   "metadata": {},
   "outputs": [
    {
     "data": {
      "text/plain": [
       "7"
      ]
     },
     "execution_count": 56,
     "metadata": {},
     "output_type": "execute_result"
    }
   ],
   "source": [
    "len(counties_1[counties_1.Budget==0])"
   ]
  },
  {
   "cell_type": "code",
   "execution_count": null,
   "metadata": {},
   "outputs": [],
   "source": []
  }
 ],
 "metadata": {
  "kernelspec": {
   "display_name": "Python 3",
   "language": "python",
   "name": "python3"
  },
  "language_info": {
   "codemirror_mode": {
    "name": "ipython",
    "version": 3
   },
   "file_extension": ".py",
   "mimetype": "text/x-python",
   "name": "python",
   "nbconvert_exporter": "python",
   "pygments_lexer": "ipython3",
   "version": "3.8.5"
  }
 },
 "nbformat": 4,
 "nbformat_minor": 4
}
