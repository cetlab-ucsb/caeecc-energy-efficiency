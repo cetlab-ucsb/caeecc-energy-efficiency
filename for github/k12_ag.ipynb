{
 "cells": [
  {
   "cell_type": "code",
   "execution_count": 1,
   "metadata": {},
   "outputs": [],
   "source": [
    "import pandas as pd"
   ]
  },
  {
   "cell_type": "code",
   "execution_count": 56,
   "metadata": {},
   "outputs": [
    {
     "name": "stderr",
     "output_type": "stream",
     "text": [
      "C:\\Users\\audre\\anaconda3\\lib\\site-packages\\IPython\\core\\interactiveshell.py:3146: DtypeWarning: Columns (7,25,26,29,42) have mixed types.Specify dtype option on import or set low_memory=False.\n",
      "  has_raised = await self.run_ast_nodes(code_ast.body, cell_name,\n"
     ]
    }
   ],
   "source": [
    "claims = pd.read_csv('data/k12_with_budget_and_resource.csv')\n",
    "\n",
    "dem = pd.read_csv('data/k-12_variables_county.csv')\n",
    "\n",
    "cc = pd.read_csv('data/city_county_mapping.csv')"
   ]
  },
  {
   "cell_type": "code",
   "execution_count": 4,
   "metadata": {
    "jupyter": {
     "source_hidden": true
    }
   },
   "outputs": [],
   "source": [
    "def no_dupes(df):\n",
    "    \n",
    "    #creating df of number of times a claim repeats\n",
    "\n",
    "    repeats = df['ClaimID'].value_counts().to_frame().reset_index()\n",
    "\n",
    "    #getting list of duplicate claims\n",
    "    \n",
    "    all_dupes = repeats[repeats['ClaimID']>1]\n",
    "    dupes = all_dupes['index'].to_list()\n",
    "   \n",
    "\n",
    "    #getting one index value per duplicate claim\n",
    "\n",
    "    goodi=[]\n",
    "    for e in dupes:\n",
    "        goodi.append(min(df[df['ClaimID'].isin([e])].index.to_list()))\n",
    "    \n",
    "    # full list of duplicate claim indicies\n",
    "\n",
    "    alli=[]\n",
    "    for e in dupes:\n",
    "        alli = alli + df[df['ClaimID'].isin([e])].index.to_list()\n",
    "\n",
    "\n",
    "    # take goodi from alli\n",
    "    badi = [i for i in alli if i not in goodi]\n",
    "\n",
    "    #drop duplicate indicies\n",
    "    return(df.drop(index=badi).reset_index())"
   ]
  },
  {
   "cell_type": "code",
   "execution_count": 94,
   "metadata": {},
   "outputs": [],
   "source": [
    "column_list = ['TotalFirstYearGrosskWh',\n",
    "       'TotalFirstYearGrossTherm','TotalLifecycleGrosskWh',\n",
    "       'TotalLifecycleGrossTherm','Budget']\n",
    "def aggregate_me(df, by, lg, column_list):\n",
    "    \n",
    "    # making df usable\n",
    "\n",
    "    df[by] = df[by].str.upper()\n",
    "    \n",
    "    #filtering for local government\n",
    "\n",
    "    if lg: \n",
    "\n",
    "        lglist = ['Local Government (Counties)',\n",
    "         'Local Government ()',\n",
    "         'Local Government (Cities)',\n",
    "         'Local Government ']\n",
    "\n",
    "        df = df[df['Grouping'].isin(lglist)]\n",
    "\n",
    "\n",
    "    # creating a total programs column\n",
    "\n",
    "    prg = df.groupby([by, 'PrgID'], dropna = False).size().index.tolist() \n",
    "    #need to count the number of times a city/county shows up \n",
    "\n",
    "    e,f = [list(c) for c in zip(*prg)]\n",
    "\n",
    "    ccp = pd.Series(e) # made a series so can use value_counts\n",
    "\n",
    "    ccp = ccp.str.upper()\n",
    "\n",
    "    tp = ccp.value_counts(dropna = False) #total programs per city\n",
    "    \n",
    "    # creating a total claims column\n",
    "    \n",
    "    df['total_claims'] = [1]*len(df)\n",
    "    \n",
    "    #aggregate!\n",
    "    relevant_columns = column_list + ['total_claims']\n",
    "    agg = df.groupby(by).sum()[relevant_columns]\n",
    "    agg['total_programs'] = tp\n",
    "    \n",
    "    # Resource/OBF budget as percentage of total budget\n",
    "    obf_budget = df.groupby([by, 'OBF_Flag']).Budget.sum().unstack().fillna(0).loc[:, True]\n",
    "    resource_budget = df.groupby([by, 'Resource_Flag']).Budget.sum().unstack().fillna(0).loc[:, 1]\n",
    "    agg['perc_obf_budget'] = (obf_budget/agg['Budget'])*100\n",
    "    agg['perc_resource_budget'] = (resource_budget/agg['Budget'])*100\n",
    "    \n",
    "    return(agg.reset_index())"
   ]
  },
  {
   "cell_type": "code",
   "execution_count": 57,
   "metadata": {},
   "outputs": [],
   "source": [
    "claims = claims.drop_duplicates()\n",
    "\n",
    "claims = no_dupes(claims)"
   ]
  },
  {
   "cell_type": "code",
   "execution_count": 20,
   "metadata": {},
   "outputs": [
    {
     "data": {
      "text/plain": [
       "Index(['city', 'county'], dtype='object')"
      ]
     },
     "execution_count": 20,
     "metadata": {},
     "output_type": "execute_result"
    }
   ],
   "source": [
    "cc.columns"
   ]
  },
  {
   "cell_type": "code",
   "execution_count": 21,
   "metadata": {},
   "outputs": [
    {
     "data": {
      "text/plain": [
       "Index(['index', 'PrgYear', 'ClaimID', 'PrgID', 'ProgramName', 'PA', 'Sector',\n",
       "       'SiteCity', 'SiteZipCode', 'SiteID', 'NAICSCode', 'BldgHVAC', 'BldgLoc',\n",
       "       'BldgType', 'BldgVint', 'E3ClimateZone', 'E3GasSavProfile',\n",
       "       'E3GasSector', 'E3MeaElecEndUseShape', 'E3TargetSector',\n",
       "       'ImplementationID', 'InstallationDate', 'NAICSBldgType', 'NumUnits',\n",
       "       'OBF_Flag', 'PrgElement', 'RateScheduleElec', 'RateScheduleGas',\n",
       "       'REN_Flag', 'Residential_Flag', 'SchoolIdentifier',\n",
       "       'TotalFirstYearGrosskW', 'TotalFirstYearGrosskWh',\n",
       "       'TotalFirstYearGrossTherm', 'TotalGrossIncentive',\n",
       "       'TotalGrossMeasureCost', 'TotalGrossMeasureCost_ER',\n",
       "       'TotalLifecycleGrosskW', 'TotalLifecycleGrosskWh',\n",
       "       'TotalLifecycleGrossTherm', 'Upstream_Flag', 'WaterOnly_Flag'],\n",
       "      dtype='object')"
      ]
     },
     "execution_count": 21,
     "metadata": {},
     "output_type": "execute_result"
    }
   ],
   "source": [
    "claims.columns"
   ]
  },
  {
   "cell_type": "code",
   "execution_count": 58,
   "metadata": {},
   "outputs": [],
   "source": [
    "claims = claims.merge(cc, left_on='SiteCity', right_on='city', how='left')"
   ]
  },
  {
   "cell_type": "code",
   "execution_count": 23,
   "metadata": {},
   "outputs": [
    {
     "data": {
      "text/plain": [
       "Index(['index', 'PrgYear', 'ClaimID', 'PrgID', 'ProgramName', 'PA', 'Sector',\n",
       "       'SiteCity', 'SiteZipCode', 'SiteID', 'NAICSCode', 'BldgHVAC', 'BldgLoc',\n",
       "       'BldgType', 'BldgVint', 'E3ClimateZone', 'E3GasSavProfile',\n",
       "       'E3GasSector', 'E3MeaElecEndUseShape', 'E3TargetSector',\n",
       "       'ImplementationID', 'InstallationDate', 'NAICSBldgType', 'NumUnits',\n",
       "       'OBF_Flag', 'PrgElement', 'RateScheduleElec', 'RateScheduleGas',\n",
       "       'REN_Flag', 'Residential_Flag', 'SchoolIdentifier',\n",
       "       'TotalFirstYearGrosskW', 'TotalFirstYearGrosskWh',\n",
       "       'TotalFirstYearGrossTherm', 'TotalGrossIncentive',\n",
       "       'TotalGrossMeasureCost', 'TotalGrossMeasureCost_ER',\n",
       "       'TotalLifecycleGrosskW', 'TotalLifecycleGrosskWh',\n",
       "       'TotalLifecycleGrossTherm', 'Upstream_Flag', 'WaterOnly_Flag', 'city',\n",
       "       'county'],\n",
       "      dtype='object')"
      ]
     },
     "execution_count": 23,
     "metadata": {},
     "output_type": "execute_result"
    }
   ],
   "source": [
    "claims.columns"
   ]
  },
  {
   "cell_type": "code",
   "execution_count": 59,
   "metadata": {},
   "outputs": [
    {
     "data": {
      "text/plain": [
       "ETIWANDA        11\n",
       "ALTA LOMA        5\n",
       "EASTVALE         5\n",
       "LOS MOLINOS      4\n",
       "SAUGUS           3\n",
       "HILLSBOROUGH     2\n",
       "PETROLIA         1\n",
       "KENTFIELD        1\n",
       "Name: SiteCity, dtype: int64"
      ]
     },
     "execution_count": 59,
     "metadata": {},
     "output_type": "execute_result"
    }
   ],
   "source": [
    "claims[claims.SiteCity != claims.city].SiteCity.value_counts()"
   ]
  },
  {
   "cell_type": "code",
   "execution_count": 28,
   "metadata": {},
   "outputs": [
    {
     "data": {
      "text/html": [
       "<div>\n",
       "<style scoped>\n",
       "    .dataframe tbody tr th:only-of-type {\n",
       "        vertical-align: middle;\n",
       "    }\n",
       "\n",
       "    .dataframe tbody tr th {\n",
       "        vertical-align: top;\n",
       "    }\n",
       "\n",
       "    .dataframe thead th {\n",
       "        text-align: right;\n",
       "    }\n",
       "</style>\n",
       "<table border=\"1\" class=\"dataframe\">\n",
       "  <thead>\n",
       "    <tr style=\"text-align: right;\">\n",
       "      <th></th>\n",
       "      <th>index</th>\n",
       "      <th>PrgYear</th>\n",
       "      <th>ClaimID</th>\n",
       "      <th>PrgID</th>\n",
       "      <th>ProgramName</th>\n",
       "      <th>PA</th>\n",
       "      <th>Sector</th>\n",
       "      <th>SiteCity</th>\n",
       "      <th>SiteZipCode</th>\n",
       "      <th>SiteID</th>\n",
       "      <th>...</th>\n",
       "      <th>TotalGrossIncentive</th>\n",
       "      <th>TotalGrossMeasureCost</th>\n",
       "      <th>TotalGrossMeasureCost_ER</th>\n",
       "      <th>TotalLifecycleGrosskW</th>\n",
       "      <th>TotalLifecycleGrosskWh</th>\n",
       "      <th>TotalLifecycleGrossTherm</th>\n",
       "      <th>Upstream_Flag</th>\n",
       "      <th>WaterOnly_Flag</th>\n",
       "      <th>city</th>\n",
       "      <th>county</th>\n",
       "    </tr>\n",
       "  </thead>\n",
       "  <tbody>\n",
       "    <tr>\n",
       "      <th>1168</th>\n",
       "      <td>1604</td>\n",
       "      <td>2018</td>\n",
       "      <td>PGE-2018-Q2-46093</td>\n",
       "      <td>PGE211016</td>\n",
       "      <td>Redwood Coast</td>\n",
       "      <td>PGE</td>\n",
       "      <td>Com</td>\n",
       "      <td>PETROLIA</td>\n",
       "      <td>95558</td>\n",
       "      <td>PGE-1217156</td>\n",
       "      <td>...</td>\n",
       "      <td>264.220003</td>\n",
       "      <td>0.0</td>\n",
       "      <td>0.0</td>\n",
       "      <td>0.0</td>\n",
       "      <td>0.0</td>\n",
       "      <td>0.0</td>\n",
       "      <td>False</td>\n",
       "      <td>False</td>\n",
       "      <td>NaN</td>\n",
       "      <td>NaN</td>\n",
       "    </tr>\n",
       "  </tbody>\n",
       "</table>\n",
       "<p>1 rows × 44 columns</p>\n",
       "</div>"
      ],
      "text/plain": [
       "      index  PrgYear            ClaimID      PrgID    ProgramName   PA Sector  \\\n",
       "1168   1604     2018  PGE-2018-Q2-46093  PGE211016  Redwood Coast  PGE    Com   \n",
       "\n",
       "      SiteCity SiteZipCode       SiteID  ...  TotalGrossIncentive  \\\n",
       "1168  PETROLIA       95558  PGE-1217156  ...           264.220003   \n",
       "\n",
       "     TotalGrossMeasureCost TotalGrossMeasureCost_ER TotalLifecycleGrosskW  \\\n",
       "1168                   0.0                      0.0                   0.0   \n",
       "\n",
       "     TotalLifecycleGrosskWh TotalLifecycleGrossTherm Upstream_Flag  \\\n",
       "1168                    0.0                      0.0         False   \n",
       "\n",
       "     WaterOnly_Flag city county  \n",
       "1168          False  NaN    NaN  \n",
       "\n",
       "[1 rows x 44 columns]"
      ]
     },
     "execution_count": 28,
     "metadata": {},
     "output_type": "execute_result"
    }
   ],
   "source": [
    "claims[claims.SiteCity == 'PETROLIA']"
   ]
  },
  {
   "cell_type": "markdown",
   "metadata": {},
   "source": [
    "the above places are tiny cities that have no associated county, have to manually look them up"
   ]
  },
  {
   "cell_type": "code",
   "execution_count": 64,
   "metadata": {},
   "outputs": [],
   "source": [
    "df = claims.copy()"
   ]
  },
  {
   "cell_type": "code",
   "execution_count": 69,
   "metadata": {},
   "outputs": [
    {
     "name": "stdout",
     "output_type": "stream",
     "text": [
      "[1237, 1248, 1263, 1296, 6494, 6518, 6537, 6538, 6539, 6540, 6541] ETIWANDA SAN BERNARDINO\n",
      "('ETIWANDA', 'SAN BERNARDINO')\n",
      "[2079, 4399, 6681, 6687, 6694] ALTA LOMA SAN BERNARDINO\n",
      "('ALTA LOMA', 'SAN BERNARDINO')\n",
      "[5536, 6167, 6927, 6929, 6933] EASTVALE RIVERSIDE\n",
      "('EASTVALE', 'RIVERSIDE')\n",
      "[242, 347, 371, 385] LOS MOLINOS TEHAMA\n",
      "('LOS MOLINOS', 'TEHAMA')\n",
      "[4093, 6680, 6698] SAUGUS LOS ANGELES\n",
      "('SAUGUS', 'LOS ANGELES')\n",
      "[85, 120] HILLSBOROUGH SAN MATEO\n",
      "('HILLSBOROUGH', 'SAN MATEO')\n",
      "[1168] PETROLIA HUMBOLDT\n",
      "('PETROLIA', 'HUMBOLDT')\n",
      "[79] KENTFIELD MARIN\n",
      "('KENTFIELD', 'MARIN')\n",
      "success?\n"
     ]
    }
   ],
   "source": [
    "tupes = [('ETIWANDA', 'SAN BERNARDINO'),('ALTA LOMA', 'SAN BERNARDINO'),('EASTVALE', 'RIVERSIDE'),('LOS MOLINOS', 'TEHAMA'),('SAUGUS','LOS ANGELES'),('HILLSBOROUGH', 'SAN MATEO'), ('PETROLIA', 'HUMBOLDT'), ('KENTFIELD', 'MARIN')]\n",
    "\n",
    "#create index of places to add county value\n",
    "for t in tupes:\n",
    "    for e in df.SiteCity.items(): \n",
    "        if e[1] == t[0]:\n",
    "            i = df[df.SiteCity==t[0]].index.to_list()\n",
    "    print(i,t[0],t[1])\n",
    "#add county to dataset\n",
    "    df.loc[i, 'county'] = t[1]\n",
    "    print(t)\n",
    "    \n",
    "print('success?')"
   ]
  },
  {
   "cell_type": "code",
   "execution_count": 70,
   "metadata": {},
   "outputs": [
    {
     "data": {
      "text/html": [
       "<div>\n",
       "<style scoped>\n",
       "    .dataframe tbody tr th:only-of-type {\n",
       "        vertical-align: middle;\n",
       "    }\n",
       "\n",
       "    .dataframe tbody tr th {\n",
       "        vertical-align: top;\n",
       "    }\n",
       "\n",
       "    .dataframe thead th {\n",
       "        text-align: right;\n",
       "    }\n",
       "</style>\n",
       "<table border=\"1\" class=\"dataframe\">\n",
       "  <thead>\n",
       "    <tr style=\"text-align: right;\">\n",
       "      <th></th>\n",
       "      <th>index</th>\n",
       "      <th>PrgYear</th>\n",
       "      <th>ClaimID</th>\n",
       "      <th>PrgID</th>\n",
       "      <th>ProgramName</th>\n",
       "      <th>PA</th>\n",
       "      <th>Sector</th>\n",
       "      <th>SiteCity</th>\n",
       "      <th>SiteZipCode</th>\n",
       "      <th>SiteID</th>\n",
       "      <th>...</th>\n",
       "      <th>TotalGrossMeasureCost_ER</th>\n",
       "      <th>TotalLifecycleGrosskW</th>\n",
       "      <th>TotalLifecycleGrosskWh</th>\n",
       "      <th>TotalLifecycleGrossTherm</th>\n",
       "      <th>Upstream_Flag</th>\n",
       "      <th>WaterOnly_Flag</th>\n",
       "      <th>Budget</th>\n",
       "      <th>Resource_Flag</th>\n",
       "      <th>city</th>\n",
       "      <th>county</th>\n",
       "    </tr>\n",
       "  </thead>\n",
       "  <tbody>\n",
       "  </tbody>\n",
       "</table>\n",
       "<p>0 rows × 46 columns</p>\n",
       "</div>"
      ],
      "text/plain": [
       "Empty DataFrame\n",
       "Columns: [index, PrgYear, ClaimID, PrgID, ProgramName, PA, Sector, SiteCity, SiteZipCode, SiteID, NAICSCode, BldgHVAC, BldgLoc, BldgType, BldgVint, E3ClimateZone, E3GasSavProfile, E3GasSector, E3MeaElecEndUseShape, E3TargetSector, ImplementationID, InstallationDate, NAICSBldgType, NumUnits, OBF_Flag, PrgElement, RateScheduleElec, RateScheduleGas, REN_Flag, Residential_Flag, SchoolIdentifier, TotalFirstYearGrosskW, TotalFirstYearGrosskWh, TotalFirstYearGrossTherm, TotalGrossIncentive, TotalGrossMeasureCost, TotalGrossMeasureCost_ER, TotalLifecycleGrosskW, TotalLifecycleGrosskWh, TotalLifecycleGrossTherm, Upstream_Flag, WaterOnly_Flag, Budget, Resource_Flag, city, county]\n",
       "Index: []\n",
       "\n",
       "[0 rows x 46 columns]"
      ]
     },
     "execution_count": 70,
     "metadata": {},
     "output_type": "execute_result"
    }
   ],
   "source": [
    "df[df.county.isna()]"
   ]
  },
  {
   "cell_type": "markdown",
   "metadata": {},
   "source": [
    "whooo"
   ]
  },
  {
   "cell_type": "markdown",
   "metadata": {},
   "source": [
    "aggregation time"
   ]
  },
  {
   "cell_type": "code",
   "execution_count": 95,
   "metadata": {},
   "outputs": [],
   "source": [
    "k12ag = aggregate_me(df, 'county', False, column_list)"
   ]
  },
  {
   "cell_type": "markdown",
   "metadata": {},
   "source": [
    "demographics time"
   ]
  },
  {
   "cell_type": "code",
   "execution_count": 79,
   "metadata": {},
   "outputs": [],
   "source": [
    "dem.county_name = dem.county_name.str.upper()"
   ]
  },
  {
   "cell_type": "code",
   "execution_count": 81,
   "metadata": {},
   "outputs": [
    {
     "data": {
      "text/html": [
       "<div>\n",
       "<style scoped>\n",
       "    .dataframe tbody tr th:only-of-type {\n",
       "        vertical-align: middle;\n",
       "    }\n",
       "\n",
       "    .dataframe tbody tr th {\n",
       "        vertical-align: top;\n",
       "    }\n",
       "\n",
       "    .dataframe thead th {\n",
       "        text-align: right;\n",
       "    }\n",
       "</style>\n",
       "<table border=\"1\" class=\"dataframe\">\n",
       "  <thead>\n",
       "    <tr style=\"text-align: right;\">\n",
       "      <th></th>\n",
       "      <th>county_name</th>\n",
       "      <th>enrollment</th>\n",
       "      <th>free_meal_count</th>\n",
       "      <th>frpm_count</th>\n",
       "      <th>perc_eligible_free</th>\n",
       "      <th>perc_eligible_frpm</th>\n",
       "      <th>total_lcff_entitlement</th>\n",
       "      <th>no_title1_status</th>\n",
       "      <th>number_of_schools</th>\n",
       "      <th>perc_title1_status</th>\n",
       "    </tr>\n",
       "  </thead>\n",
       "  <tbody>\n",
       "    <tr>\n",
       "      <th>0</th>\n",
       "      <td>ALAMEDA</td>\n",
       "      <td>227174</td>\n",
       "      <td>83426</td>\n",
       "      <td>95299</td>\n",
       "      <td>0.367234</td>\n",
       "      <td>0.419498</td>\n",
       "      <td>229206308</td>\n",
       "      <td>55</td>\n",
       "      <td>396</td>\n",
       "      <td>0.138889</td>\n",
       "    </tr>\n",
       "    <tr>\n",
       "      <th>1</th>\n",
       "      <td>ALPINE</td>\n",
       "      <td>70</td>\n",
       "      <td>41</td>\n",
       "      <td>43</td>\n",
       "      <td>0.585714</td>\n",
       "      <td>0.614286</td>\n",
       "      <td>0</td>\n",
       "      <td>0</td>\n",
       "      <td>3</td>\n",
       "      <td>0.000000</td>\n",
       "    </tr>\n",
       "    <tr>\n",
       "      <th>2</th>\n",
       "      <td>AMADOR</td>\n",
       "      <td>4166</td>\n",
       "      <td>1522</td>\n",
       "      <td>1664</td>\n",
       "      <td>0.365338</td>\n",
       "      <td>0.399424</td>\n",
       "      <td>0</td>\n",
       "      <td>0</td>\n",
       "      <td>15</td>\n",
       "      <td>0.000000</td>\n",
       "    </tr>\n",
       "    <tr>\n",
       "      <th>3</th>\n",
       "      <td>BUTTE</td>\n",
       "      <td>30037</td>\n",
       "      <td>15804</td>\n",
       "      <td>17698</td>\n",
       "      <td>0.526151</td>\n",
       "      <td>0.589207</td>\n",
       "      <td>36579973</td>\n",
       "      <td>15</td>\n",
       "      <td>87</td>\n",
       "      <td>0.172414</td>\n",
       "    </tr>\n",
       "    <tr>\n",
       "      <th>4</th>\n",
       "      <td>CALAVERAS</td>\n",
       "      <td>5315</td>\n",
       "      <td>2427</td>\n",
       "      <td>2641</td>\n",
       "      <td>0.456632</td>\n",
       "      <td>0.496896</td>\n",
       "      <td>3627998</td>\n",
       "      <td>0</td>\n",
       "      <td>27</td>\n",
       "      <td>0.000000</td>\n",
       "    </tr>\n",
       "  </tbody>\n",
       "</table>\n",
       "</div>"
      ],
      "text/plain": [
       "  county_name  enrollment  free_meal_count  frpm_count  perc_eligible_free  \\\n",
       "0     ALAMEDA      227174            83426       95299            0.367234   \n",
       "1      ALPINE          70               41          43            0.585714   \n",
       "2      AMADOR        4166             1522        1664            0.365338   \n",
       "3       BUTTE       30037            15804       17698            0.526151   \n",
       "4   CALAVERAS        5315             2427        2641            0.456632   \n",
       "\n",
       "   perc_eligible_frpm  total_lcff_entitlement  no_title1_status  \\\n",
       "0            0.419498               229206308                55   \n",
       "1            0.614286                       0                 0   \n",
       "2            0.399424                       0                 0   \n",
       "3            0.589207                36579973                15   \n",
       "4            0.496896                 3627998                 0   \n",
       "\n",
       "   number_of_schools  perc_title1_status  \n",
       "0                396            0.138889  \n",
       "1                  3            0.000000  \n",
       "2                 15            0.000000  \n",
       "3                 87            0.172414  \n",
       "4                 27            0.000000  "
      ]
     },
     "execution_count": 81,
     "metadata": {},
     "output_type": "execute_result"
    }
   ],
   "source": [
    "dem.head()"
   ]
  },
  {
   "cell_type": "code",
   "execution_count": 96,
   "metadata": {},
   "outputs": [],
   "source": [
    "k12 = dem.merge(k12ag, left_on='county_name', right_on='county', how='left')"
   ]
  },
  {
   "cell_type": "code",
   "execution_count": 97,
   "metadata": {},
   "outputs": [
    {
     "data": {
      "text/html": [
       "<div>\n",
       "<style scoped>\n",
       "    .dataframe tbody tr th:only-of-type {\n",
       "        vertical-align: middle;\n",
       "    }\n",
       "\n",
       "    .dataframe tbody tr th {\n",
       "        vertical-align: top;\n",
       "    }\n",
       "\n",
       "    .dataframe thead th {\n",
       "        text-align: right;\n",
       "    }\n",
       "</style>\n",
       "<table border=\"1\" class=\"dataframe\">\n",
       "  <thead>\n",
       "    <tr style=\"text-align: right;\">\n",
       "      <th></th>\n",
       "      <th>county_name</th>\n",
       "      <th>enrollment</th>\n",
       "      <th>free_meal_count</th>\n",
       "      <th>frpm_count</th>\n",
       "      <th>perc_eligible_free</th>\n",
       "      <th>perc_eligible_frpm</th>\n",
       "      <th>total_lcff_entitlement</th>\n",
       "      <th>no_title1_status</th>\n",
       "      <th>number_of_schools</th>\n",
       "      <th>perc_title1_status</th>\n",
       "      <th>county</th>\n",
       "      <th>TotalFirstYearGrosskWh</th>\n",
       "      <th>TotalFirstYearGrossTherm</th>\n",
       "      <th>TotalLifecycleGrosskWh</th>\n",
       "      <th>TotalLifecycleGrossTherm</th>\n",
       "      <th>Budget</th>\n",
       "      <th>total_claims</th>\n",
       "      <th>total_programs</th>\n",
       "      <th>perc_obf_budget</th>\n",
       "      <th>perc_resource_budget</th>\n",
       "    </tr>\n",
       "  </thead>\n",
       "  <tbody>\n",
       "    <tr>\n",
       "      <th>0</th>\n",
       "      <td>ALAMEDA</td>\n",
       "      <td>227174</td>\n",
       "      <td>83426</td>\n",
       "      <td>95299</td>\n",
       "      <td>0.367234</td>\n",
       "      <td>0.419498</td>\n",
       "      <td>229206308</td>\n",
       "      <td>55</td>\n",
       "      <td>396</td>\n",
       "      <td>0.138889</td>\n",
       "      <td>ALAMEDA</td>\n",
       "      <td>141267.60080</td>\n",
       "      <td>-93.93267</td>\n",
       "      <td>1.712310e+06</td>\n",
       "      <td>-1259.075064</td>\n",
       "      <td>75584.282608</td>\n",
       "      <td>38.0</td>\n",
       "      <td>4.0</td>\n",
       "      <td>14.588481</td>\n",
       "      <td>100.0</td>\n",
       "    </tr>\n",
       "    <tr>\n",
       "      <th>1</th>\n",
       "      <td>ALPINE</td>\n",
       "      <td>70</td>\n",
       "      <td>41</td>\n",
       "      <td>43</td>\n",
       "      <td>0.585714</td>\n",
       "      <td>0.614286</td>\n",
       "      <td>0</td>\n",
       "      <td>0</td>\n",
       "      <td>3</td>\n",
       "      <td>0.000000</td>\n",
       "      <td>NaN</td>\n",
       "      <td>NaN</td>\n",
       "      <td>NaN</td>\n",
       "      <td>NaN</td>\n",
       "      <td>NaN</td>\n",
       "      <td>NaN</td>\n",
       "      <td>NaN</td>\n",
       "      <td>NaN</td>\n",
       "      <td>NaN</td>\n",
       "      <td>NaN</td>\n",
       "    </tr>\n",
       "    <tr>\n",
       "      <th>2</th>\n",
       "      <td>AMADOR</td>\n",
       "      <td>4166</td>\n",
       "      <td>1522</td>\n",
       "      <td>1664</td>\n",
       "      <td>0.365338</td>\n",
       "      <td>0.399424</td>\n",
       "      <td>0</td>\n",
       "      <td>0</td>\n",
       "      <td>15</td>\n",
       "      <td>0.000000</td>\n",
       "      <td>AMADOR</td>\n",
       "      <td>25881.36288</td>\n",
       "      <td>-48.04083</td>\n",
       "      <td>3.010994e+05</td>\n",
       "      <td>-521.086392</td>\n",
       "      <td>19733.389311</td>\n",
       "      <td>4.0</td>\n",
       "      <td>1.0</td>\n",
       "      <td>0.000000</td>\n",
       "      <td>100.0</td>\n",
       "    </tr>\n",
       "    <tr>\n",
       "      <th>3</th>\n",
       "      <td>BUTTE</td>\n",
       "      <td>30037</td>\n",
       "      <td>15804</td>\n",
       "      <td>17698</td>\n",
       "      <td>0.526151</td>\n",
       "      <td>0.589207</td>\n",
       "      <td>36579973</td>\n",
       "      <td>15</td>\n",
       "      <td>87</td>\n",
       "      <td>0.172414</td>\n",
       "      <td>NaN</td>\n",
       "      <td>NaN</td>\n",
       "      <td>NaN</td>\n",
       "      <td>NaN</td>\n",
       "      <td>NaN</td>\n",
       "      <td>NaN</td>\n",
       "      <td>NaN</td>\n",
       "      <td>NaN</td>\n",
       "      <td>NaN</td>\n",
       "      <td>NaN</td>\n",
       "    </tr>\n",
       "    <tr>\n",
       "      <th>4</th>\n",
       "      <td>CALAVERAS</td>\n",
       "      <td>5315</td>\n",
       "      <td>2427</td>\n",
       "      <td>2641</td>\n",
       "      <td>0.456632</td>\n",
       "      <td>0.496896</td>\n",
       "      <td>3627998</td>\n",
       "      <td>0</td>\n",
       "      <td>27</td>\n",
       "      <td>0.000000</td>\n",
       "      <td>NaN</td>\n",
       "      <td>NaN</td>\n",
       "      <td>NaN</td>\n",
       "      <td>NaN</td>\n",
       "      <td>NaN</td>\n",
       "      <td>NaN</td>\n",
       "      <td>NaN</td>\n",
       "      <td>NaN</td>\n",
       "      <td>NaN</td>\n",
       "      <td>NaN</td>\n",
       "    </tr>\n",
       "  </tbody>\n",
       "</table>\n",
       "</div>"
      ],
      "text/plain": [
       "  county_name  enrollment  free_meal_count  frpm_count  perc_eligible_free  \\\n",
       "0     ALAMEDA      227174            83426       95299            0.367234   \n",
       "1      ALPINE          70               41          43            0.585714   \n",
       "2      AMADOR        4166             1522        1664            0.365338   \n",
       "3       BUTTE       30037            15804       17698            0.526151   \n",
       "4   CALAVERAS        5315             2427        2641            0.456632   \n",
       "\n",
       "   perc_eligible_frpm  total_lcff_entitlement  no_title1_status  \\\n",
       "0            0.419498               229206308                55   \n",
       "1            0.614286                       0                 0   \n",
       "2            0.399424                       0                 0   \n",
       "3            0.589207                36579973                15   \n",
       "4            0.496896                 3627998                 0   \n",
       "\n",
       "   number_of_schools  perc_title1_status   county  TotalFirstYearGrosskWh  \\\n",
       "0                396            0.138889  ALAMEDA            141267.60080   \n",
       "1                  3            0.000000      NaN                     NaN   \n",
       "2                 15            0.000000   AMADOR             25881.36288   \n",
       "3                 87            0.172414      NaN                     NaN   \n",
       "4                 27            0.000000      NaN                     NaN   \n",
       "\n",
       "   TotalFirstYearGrossTherm  TotalLifecycleGrosskWh  TotalLifecycleGrossTherm  \\\n",
       "0                 -93.93267            1.712310e+06              -1259.075064   \n",
       "1                       NaN                     NaN                       NaN   \n",
       "2                 -48.04083            3.010994e+05               -521.086392   \n",
       "3                       NaN                     NaN                       NaN   \n",
       "4                       NaN                     NaN                       NaN   \n",
       "\n",
       "         Budget  total_claims  total_programs  perc_obf_budget  \\\n",
       "0  75584.282608          38.0             4.0        14.588481   \n",
       "1           NaN           NaN             NaN              NaN   \n",
       "2  19733.389311           4.0             1.0         0.000000   \n",
       "3           NaN           NaN             NaN              NaN   \n",
       "4           NaN           NaN             NaN              NaN   \n",
       "\n",
       "   perc_resource_budget  \n",
       "0                 100.0  \n",
       "1                   NaN  \n",
       "2                 100.0  \n",
       "3                   NaN  \n",
       "4                   NaN  "
      ]
     },
     "execution_count": 97,
     "metadata": {},
     "output_type": "execute_result"
    }
   ],
   "source": [
    "k12.head()"
   ]
  },
  {
   "cell_type": "code",
   "execution_count": 98,
   "metadata": {},
   "outputs": [],
   "source": [
    "k12.drop(columns='county', inplace=True)"
   ]
  },
  {
   "cell_type": "code",
   "execution_count": 101,
   "metadata": {},
   "outputs": [],
   "source": [
    "k12.fillna(0, inplace=True)"
   ]
  },
  {
   "cell_type": "code",
   "execution_count": 102,
   "metadata": {},
   "outputs": [],
   "source": [
    "k12.to_csv('data/k12_counties_1.csv', index=False)"
   ]
  },
  {
   "cell_type": "code",
   "execution_count": 105,
   "metadata": {},
   "outputs": [
    {
     "data": {
      "text/plain": [
       "26"
      ]
     },
     "execution_count": 105,
     "metadata": {},
     "output_type": "execute_result"
    }
   ],
   "source": [
    "len(k12[k12.Budget==0])"
   ]
  },
  {
   "cell_type": "code",
   "execution_count": null,
   "metadata": {},
   "outputs": [],
   "source": []
  }
 ],
 "metadata": {
  "kernelspec": {
   "display_name": "Python 3",
   "language": "python",
   "name": "python3"
  },
  "language_info": {
   "codemirror_mode": {
    "name": "ipython",
    "version": 3
   },
   "file_extension": ".py",
   "mimetype": "text/x-python",
   "name": "python",
   "nbconvert_exporter": "python",
   "pygments_lexer": "ipython3",
   "version": "3.8.5"
  }
 },
 "nbformat": 4,
 "nbformat_minor": 4
}
