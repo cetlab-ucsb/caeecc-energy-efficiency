{
 "cells": [
  {
   "cell_type": "code",
   "execution_count": 1,
   "metadata": {},
   "outputs": [],
   "source": [
    "import pandas as pd"
   ]
  },
  {
   "cell_type": "code",
   "execution_count": 2,
   "metadata": {},
   "outputs": [
    {
     "name": "stderr",
     "output_type": "stream",
     "text": [
      "C:\\Users\\audre\\anaconda3\\lib\\site-packages\\IPython\\core\\interactiveshell.py:3146: DtypeWarning: Columns (4,6,11,16,18,21,22,23,26) have mixed types.Specify dtype option on import or set low_memory=False.\n",
      "  has_raised = await self.run_ast_nodes(code_ast.body, cell_name,\n"
     ]
    }
   ],
   "source": [
    "cpuc = pd.read_csv('data/cpuc_claims_selected_programs_2017_2019.csv')\n",
    "cedars = pd.read_csv('data/claims_selected_programs_2016_2020.csv', \n",
    "                     usecols = ['Claim ID', 'Program ID', 'Budget', 'First Year Gross kWh', 'First Year Gross Therm'])"
   ]
  },
  {
   "cell_type": "code",
   "execution_count": 3,
   "metadata": {},
   "outputs": [],
   "source": [
    "cpuc_with_budget = cpuc.merge(cedars, left_on='ClaimID', right_on='Claim ID', how='left')"
   ]
  },
  {
   "cell_type": "code",
   "execution_count": 4,
   "metadata": {},
   "outputs": [
    {
     "data": {
      "text/plain": [
       "Index(['ClaimID', 'PrgID', 'Sector', 'SiteCity', 'SiteZipCode', 'SiteID',\n",
       "       'NAICSCode', 'BldgHVAC', 'BldgLoc', 'BldgType', 'BldgVint',\n",
       "       'E3ClimateZone', 'E3GasSavProfile', 'E3GasSector',\n",
       "       'E3MeaElecEndUseShape', 'E3TargetSector', 'ImplementationID',\n",
       "       'InstallationDate', 'NAICSBldgType', 'NumUnits', 'OBF_Flag',\n",
       "       'PrgElement', 'RateScheduleElec', 'RateScheduleGas', 'REN_Flag',\n",
       "       'Residential_Flag', 'SchoolIdentifier', 'TotalFirstYearGrosskW',\n",
       "       'TotalFirstYearGrosskWh', 'TotalFirstYearGrossTherm',\n",
       "       'TotalGrossIncentive', 'TotalGrossMeasureCost',\n",
       "       'TotalGrossMeasureCost_ER', 'TotalLifecycleGrosskW',\n",
       "       'TotalLifecycleGrosskWh', 'TotalLifecycleGrossTherm', 'Upstream_Flag',\n",
       "       'WaterOnly_Flag', 'PrgYear', 'Claim ID', 'Program ID',\n",
       "       'First Year Gross kWh', 'First Year Gross Therm', 'Budget'],\n",
       "      dtype='object')"
      ]
     },
     "execution_count": 4,
     "metadata": {},
     "output_type": "execute_result"
    }
   ],
   "source": [
    "cpuc_with_budget.columns"
   ]
  },
  {
   "cell_type": "code",
   "execution_count": 5,
   "metadata": {},
   "outputs": [],
   "source": [
    "cpuc_with_budget.to_csv('data/cpuc_with_budget.csv')"
   ]
  },
  {
   "cell_type": "code",
   "execution_count": 6,
   "metadata": {},
   "outputs": [
    {
     "data": {
      "text/html": [
       "<div>\n",
       "<style scoped>\n",
       "    .dataframe tbody tr th:only-of-type {\n",
       "        vertical-align: middle;\n",
       "    }\n",
       "\n",
       "    .dataframe tbody tr th {\n",
       "        vertical-align: top;\n",
       "    }\n",
       "\n",
       "    .dataframe thead th {\n",
       "        text-align: right;\n",
       "    }\n",
       "</style>\n",
       "<table border=\"1\" class=\"dataframe\">\n",
       "  <thead>\n",
       "    <tr style=\"text-align: right;\">\n",
       "      <th></th>\n",
       "      <th>TotalFirstYearGrosskWh</th>\n",
       "      <th>First Year Gross kWh</th>\n",
       "    </tr>\n",
       "  </thead>\n",
       "  <tbody>\n",
       "    <tr>\n",
       "      <th>0</th>\n",
       "      <td>17006.650170</td>\n",
       "      <td>17006.650165</td>\n",
       "    </tr>\n",
       "    <tr>\n",
       "      <th>1</th>\n",
       "      <td>35.040000</td>\n",
       "      <td>35.040000</td>\n",
       "    </tr>\n",
       "    <tr>\n",
       "      <th>2</th>\n",
       "      <td>13.140000</td>\n",
       "      <td>13.140000</td>\n",
       "    </tr>\n",
       "    <tr>\n",
       "      <th>3</th>\n",
       "      <td>0.000000</td>\n",
       "      <td>0.000000</td>\n",
       "    </tr>\n",
       "    <tr>\n",
       "      <th>4</th>\n",
       "      <td>35.040000</td>\n",
       "      <td>35.040000</td>\n",
       "    </tr>\n",
       "    <tr>\n",
       "      <th>...</th>\n",
       "      <td>...</td>\n",
       "      <td>...</td>\n",
       "    </tr>\n",
       "    <tr>\n",
       "      <th>746368</th>\n",
       "      <td>2533.022933</td>\n",
       "      <td>2533.023000</td>\n",
       "    </tr>\n",
       "    <tr>\n",
       "      <th>746369</th>\n",
       "      <td>0.000000</td>\n",
       "      <td>0.000000</td>\n",
       "    </tr>\n",
       "    <tr>\n",
       "      <th>746370</th>\n",
       "      <td>0.000000</td>\n",
       "      <td>0.000000</td>\n",
       "    </tr>\n",
       "    <tr>\n",
       "      <th>746371</th>\n",
       "      <td>0.000000</td>\n",
       "      <td>0.000000</td>\n",
       "    </tr>\n",
       "    <tr>\n",
       "      <th>746372</th>\n",
       "      <td>0.000000</td>\n",
       "      <td>0.000000</td>\n",
       "    </tr>\n",
       "  </tbody>\n",
       "</table>\n",
       "<p>746373 rows × 2 columns</p>\n",
       "</div>"
      ],
      "text/plain": [
       "        TotalFirstYearGrosskWh  First Year Gross kWh\n",
       "0                 17006.650170          17006.650165\n",
       "1                    35.040000             35.040000\n",
       "2                    13.140000             13.140000\n",
       "3                     0.000000              0.000000\n",
       "4                    35.040000             35.040000\n",
       "...                        ...                   ...\n",
       "746368             2533.022933           2533.023000\n",
       "746369                0.000000              0.000000\n",
       "746370                0.000000              0.000000\n",
       "746371                0.000000              0.000000\n",
       "746372                0.000000              0.000000\n",
       "\n",
       "[746373 rows x 2 columns]"
      ]
     },
     "execution_count": 6,
     "metadata": {},
     "output_type": "execute_result"
    }
   ],
   "source": [
    "cpuc_with_budget[['TotalFirstYearGrosskWh', 'First Year Gross kWh']]"
   ]
  },
  {
   "cell_type": "code",
   "execution_count": 7,
   "metadata": {},
   "outputs": [],
   "source": [
    "chris_data = pd.read_csv('data/specific_cedars_programs.csv')"
   ]
  },
  {
   "cell_type": "code",
   "execution_count": 8,
   "metadata": {},
   "outputs": [],
   "source": [
    "cpuc_with_budget_and_resource = cpuc_with_budget.merge(chris_data, left_on='PrgID', right_on='PrgID', how='left')"
   ]
  },
  {
   "cell_type": "code",
   "execution_count": 9,
   "metadata": {},
   "outputs": [
    {
     "data": {
      "text/plain": [
       "Index(['ClaimID', 'PrgID', 'Sector_x', 'SiteCity', 'SiteZipCode', 'SiteID',\n",
       "       'NAICSCode', 'BldgHVAC', 'BldgLoc', 'BldgType', 'BldgVint',\n",
       "       'E3ClimateZone', 'E3GasSavProfile', 'E3GasSector',\n",
       "       'E3MeaElecEndUseShape', 'E3TargetSector', 'ImplementationID',\n",
       "       'InstallationDate', 'NAICSBldgType', 'NumUnits', 'OBF_Flag',\n",
       "       'PrgElement', 'RateScheduleElec', 'RateScheduleGas', 'REN_Flag',\n",
       "       'Residential_Flag', 'SchoolIdentifier', 'TotalFirstYearGrosskW',\n",
       "       'TotalFirstYearGrosskWh', 'TotalFirstYearGrossTherm',\n",
       "       'TotalGrossIncentive', 'TotalGrossMeasureCost',\n",
       "       'TotalGrossMeasureCost_ER', 'TotalLifecycleGrosskW',\n",
       "       'TotalLifecycleGrosskWh', 'TotalLifecycleGrossTherm', 'Upstream_Flag_x',\n",
       "       'WaterOnly_Flag', 'PrgYear', 'Claim ID', 'Program ID',\n",
       "       'First Year Gross kWh', 'First Year Gross Therm', 'Budget', 'PA',\n",
       "       'ProgramName', 'Grouping', 'County', 'Selected', 'PrimarySector',\n",
       "       'Sector_y', 'BP Sector', 'ProgramImplementer', 'ProgramCategory',\n",
       "       'StatewideProgram', 'ImplementationContractor', 'ProgramManager',\n",
       "       'StartYear', 'EndYear', 'Resource_Flag', 'NonResource_Flag',\n",
       "       'Deemed_Flag', 'Custom_Flag', 'Upstream_Flag_y', 'Midstream_Flag',\n",
       "       'Downstream_Flag', 'DirectInstall', 'Audit_Flag', 'Financing',\n",
       "       'ParentProgram', 'Exclude_From_Budget', 'Exclude_From_CE'],\n",
       "      dtype='object')"
      ]
     },
     "execution_count": 9,
     "metadata": {},
     "output_type": "execute_result"
    }
   ],
   "source": [
    "cpuc_with_budget_and_resource.columns"
   ]
  },
  {
   "cell_type": "code",
   "execution_count": 10,
   "metadata": {},
   "outputs": [],
   "source": [
    "cpuc_with_budget_and_resource.to_csv('data/cpuc_with_budget_and_resource.csv')"
   ]
  },
  {
   "cell_type": "code",
   "execution_count": 11,
   "metadata": {},
   "outputs": [
    {
     "name": "stderr",
     "output_type": "stream",
     "text": [
      "C:\\Users\\audre\\anaconda3\\lib\\site-packages\\IPython\\core\\interactiveshell.py:3146: DtypeWarning: Columns (5,7,12,17,19,22,23,24,27,47,48,56,57) have mixed types.Specify dtype option on import or set low_memory=False.\n",
      "  has_raised = await self.run_ast_nodes(code_ast.body, cell_name,\n"
     ]
    }
   ],
   "source": [
    "df = pd.read_csv('data/selected_programs_merged_with_budget.csv')"
   ]
  },
  {
   "cell_type": "code",
   "execution_count": null,
   "metadata": {},
   "outputs": [],
   "source": []
  },
  {
   "cell_type": "code",
   "execution_count": 47,
   "metadata": {},
   "outputs": [
    {
     "data": {
      "text/plain": [
       "Index(['Unnamed: 0', 'NumUnits', 'OBF_Flag', 'REN_Flag', 'Residential_Flag',\n",
       "       'TotalFirstYearGrosskW', 'TotalFirstYearGrosskWh',\n",
       "       'TotalFirstYearGrossTherm', 'TotalGrossIncentive',\n",
       "       'TotalGrossMeasureCost', 'TotalGrossMeasureCost_ER',\n",
       "       'TotalLifecycleGrosskW', 'TotalLifecycleGrosskWh',\n",
       "       'TotalLifecycleGrossTherm', 'Upstream_Flag_x', 'WaterOnly_Flag',\n",
       "       'PrgYear', 'First Year Gross kWh', 'First Year Gross Therm', 'Budget',\n",
       "       'StartYear', 'EndYear', 'Resource_Flag', 'NonResource_Flag',\n",
       "       'Deemed_Flag', 'Custom_Flag', 'Upstream_Flag_y', 'Midstream_Flag',\n",
       "       'Downstream_Flag', 'Audit_Flag', 'Exclude_From_Budget',\n",
       "       'Exclude_From_CE', 'Total Claims', 'Zip Code'],\n",
       "      dtype='object')"
      ]
     },
     "execution_count": 47,
     "metadata": {},
     "output_type": "execute_result"
    }
   ],
   "source": [
    "df.groupby('SiteZipCode').sum().columns"
   ]
  },
  {
   "cell_type": "markdown",
   "metadata": {},
   "source": [
    "want to add column of total programs, total claims. Resource program and obf already exist, just have to change the column names to 'total...' , also column of percentage of non resource programs ? to see if they really correlate to energy savings"
   ]
  },
  {
   "cell_type": "markdown",
   "metadata": {},
   "source": [
    "--------\n",
    "-------\n",
    "----------"
   ]
  },
  {
   "cell_type": "markdown",
   "metadata": {},
   "source": [
    "## The journey to make all the zipcodes the same length\n",
    "figuring out how to do this took me like 2 hours whooo"
   ]
  },
  {
   "cell_type": "code",
   "execution_count": 13,
   "metadata": {},
   "outputs": [],
   "source": [
    "long_zips = df[df['SiteZipCode'].astype(str).apply(len)>5]\n",
    "\n",
    "long_test = long_zips.copy()\n",
    "\n",
    "long_test['SiteZipCode'] = long_test['SiteZipCode'].str.slice(stop=-5)\n",
    "\n",
    "long_test = long_test['SiteZipCode']"
   ]
  },
  {
   "cell_type": "code",
   "execution_count": 14,
   "metadata": {},
   "outputs": [],
   "source": [
    "test = df['SiteZipCode'].copy()\n",
    "\n",
    "test=test.astype(str)\n",
    "\n",
    "almost = test.str.replace(pat='-', repl='')\n",
    "\n",
    "almost=almost.astype(int)\n",
    "\n",
    "long_test=long_test.astype(int)\n",
    "\n",
    "maybe = almost.combine(long_test, min)"
   ]
  },
  {
   "cell_type": "code",
   "execution_count": 15,
   "metadata": {},
   "outputs": [
    {
     "data": {
      "text/plain": [
       "0         94588\n",
       "1         94596\n",
       "2         94587\n",
       "3         94574\n",
       "4         94539\n",
       "          ...  \n",
       "746368    92123\n",
       "746369    92123\n",
       "746370    92123\n",
       "746371    92123\n",
       "746372    92123\n",
       "Name: SiteZipCode, Length: 746373, dtype: int64"
      ]
     },
     "execution_count": 15,
     "metadata": {},
     "output_type": "execute_result"
    }
   ],
   "source": [
    "maybe"
   ]
  },
  {
   "cell_type": "markdown",
   "metadata": {},
   "source": [
    "--------\n",
    "-----------------\n",
    "------------------"
   ]
  },
  {
   "cell_type": "markdown",
   "metadata": {},
   "source": [
    "## getting total programs"
   ]
  },
  {
   "cell_type": "code",
   "execution_count": 16,
   "metadata": {},
   "outputs": [
    {
     "name": "stdout",
     "output_type": "stream",
     "text": [
      "[(90001, 'SCE-13-L-003C'), (90001, 'SCE-13-SW-002B'), (90001, 'SCE-13-SW-002C'), (90001, 'SCE-13-SW-002D'), (90001, 'SCE-13-SW-002F'), (90001, 'SCE-13-SW-002H')]\n"
     ]
    },
    {
     "data": {
      "text/plain": [
       "91770    52\n",
       "90013    51\n",
       "94105    39\n",
       "92123    36\n",
       "93230    14\n",
       "dtype: int64"
      ]
     },
     "execution_count": 16,
     "metadata": {},
     "output_type": "execute_result"
    }
   ],
   "source": [
    "prg = df.groupby(['SiteZipCode', 'PrgID'], dropna = False).size().index.tolist() \n",
    "#need to count the number of times a zipcode shows up \n",
    "\n",
    "a,b = [list(c) for c in zip(*prg)]\n",
    "\n",
    "ccp = pd.Series(a) # made a series so can use value_counts\n",
    "\n",
    "tp = ccp.value_counts(dropna = False) #total programs per zipcode\n",
    "\n",
    "print(prg[0:6])\n",
    "\n",
    "tp.head()\n"
   ]
  },
  {
   "cell_type": "markdown",
   "metadata": {},
   "source": [
    "so now tp is a series containing the total programs per zipcode"
   ]
  },
  {
   "cell_type": "markdown",
   "metadata": {},
   "source": [
    "## getting total claims and 5 digit zipcodes as columns"
   ]
  },
  {
   "cell_type": "code",
   "execution_count": 17,
   "metadata": {},
   "outputs": [],
   "source": [
    "list = [1]*746373"
   ]
  },
  {
   "cell_type": "code",
   "execution_count": 18,
   "metadata": {},
   "outputs": [],
   "source": [
    "df = df.join([pd.Series(list).rename('Total Claims'), maybe.rename('Zip Code')])"
   ]
  },
  {
   "cell_type": "markdown",
   "metadata": {},
   "source": [
    "## zip code aggregation!"
   ]
  },
  {
   "cell_type": "code",
   "execution_count": 48,
   "metadata": {},
   "outputs": [],
   "source": [
    "ag = df.groupby('Zip Code').sum()\n",
    "\n",
    "zipag = ag.copy()\n",
    "\n",
    "zipag = zipag[['OBF_Flag', 'TotalFirstYearGrosskWh', 'TotalFirstYearGrossTherm', 'TotalLifecycleGrosskWh', 'TotalLifecycleGrossTherm', 'Resource_Flag', 'Budget', 'Total Claims']]\n",
    "\n",
    "zipag = zipag.join(tp.rename('Total Programs'))"
   ]
  },
  {
   "cell_type": "code",
   "execution_count": 49,
   "metadata": {},
   "outputs": [
    {
     "data": {
      "text/html": [
       "<div>\n",
       "<style scoped>\n",
       "    .dataframe tbody tr th:only-of-type {\n",
       "        vertical-align: middle;\n",
       "    }\n",
       "\n",
       "    .dataframe tbody tr th {\n",
       "        vertical-align: top;\n",
       "    }\n",
       "\n",
       "    .dataframe thead th {\n",
       "        text-align: right;\n",
       "    }\n",
       "</style>\n",
       "<table border=\"1\" class=\"dataframe\">\n",
       "  <thead>\n",
       "    <tr style=\"text-align: right;\">\n",
       "      <th></th>\n",
       "      <th>OBF_Flag</th>\n",
       "      <th>TotalFirstYearGrosskWh</th>\n",
       "      <th>TotalFirstYearGrossTherm</th>\n",
       "      <th>TotalLifecycleGrosskWh</th>\n",
       "      <th>TotalLifecycleGrossTherm</th>\n",
       "      <th>Resource_Flag</th>\n",
       "      <th>Budget</th>\n",
       "      <th>Total Claims</th>\n",
       "      <th>Total Programs</th>\n",
       "    </tr>\n",
       "    <tr>\n",
       "      <th>Zip Code</th>\n",
       "      <th></th>\n",
       "      <th></th>\n",
       "      <th></th>\n",
       "      <th></th>\n",
       "      <th></th>\n",
       "      <th></th>\n",
       "      <th></th>\n",
       "      <th></th>\n",
       "      <th></th>\n",
       "    </tr>\n",
       "  </thead>\n",
       "  <tbody>\n",
       "    <tr>\n",
       "      <th>90001</th>\n",
       "      <td>2</td>\n",
       "      <td>1.108694e+06</td>\n",
       "      <td>51575.612676</td>\n",
       "      <td>8.330475e+06</td>\n",
       "      <td>364830.949495</td>\n",
       "      <td>533</td>\n",
       "      <td>758717.014295</td>\n",
       "      <td>533</td>\n",
       "      <td>6.0</td>\n",
       "    </tr>\n",
       "    <tr>\n",
       "      <th>90002</th>\n",
       "      <td>0</td>\n",
       "      <td>9.627215e+04</td>\n",
       "      <td>17908.390465</td>\n",
       "      <td>1.149893e+06</td>\n",
       "      <td>255924.948318</td>\n",
       "      <td>103</td>\n",
       "      <td>102094.701890</td>\n",
       "      <td>103</td>\n",
       "      <td>2.0</td>\n",
       "    </tr>\n",
       "    <tr>\n",
       "      <th>90003</th>\n",
       "      <td>0</td>\n",
       "      <td>4.441500e+03</td>\n",
       "      <td>125967.024766</td>\n",
       "      <td>7.328475e+04</td>\n",
       "      <td>775305.692091</td>\n",
       "      <td>324</td>\n",
       "      <td>363909.604919</td>\n",
       "      <td>324</td>\n",
       "      <td>NaN</td>\n",
       "    </tr>\n",
       "    <tr>\n",
       "      <th>90004</th>\n",
       "      <td>0</td>\n",
       "      <td>0.000000e+00</td>\n",
       "      <td>65461.716000</td>\n",
       "      <td>0.000000e+00</td>\n",
       "      <td>399206.162340</td>\n",
       "      <td>126</td>\n",
       "      <td>172750.916587</td>\n",
       "      <td>126</td>\n",
       "      <td>NaN</td>\n",
       "    </tr>\n",
       "    <tr>\n",
       "      <th>90005</th>\n",
       "      <td>0</td>\n",
       "      <td>-7.826000e+02</td>\n",
       "      <td>27491.669843</td>\n",
       "      <td>-1.565200e+04</td>\n",
       "      <td>396113.896815</td>\n",
       "      <td>33</td>\n",
       "      <td>76960.538769</td>\n",
       "      <td>33</td>\n",
       "      <td>NaN</td>\n",
       "    </tr>\n",
       "  </tbody>\n",
       "</table>\n",
       "</div>"
      ],
      "text/plain": [
       "          OBF_Flag  TotalFirstYearGrosskWh  TotalFirstYearGrossTherm  \\\n",
       "Zip Code                                                               \n",
       "90001            2            1.108694e+06              51575.612676   \n",
       "90002            0            9.627215e+04              17908.390465   \n",
       "90003            0            4.441500e+03             125967.024766   \n",
       "90004            0            0.000000e+00              65461.716000   \n",
       "90005            0           -7.826000e+02              27491.669843   \n",
       "\n",
       "          TotalLifecycleGrosskWh  TotalLifecycleGrossTherm  Resource_Flag  \\\n",
       "Zip Code                                                                    \n",
       "90001               8.330475e+06             364830.949495            533   \n",
       "90002               1.149893e+06             255924.948318            103   \n",
       "90003               7.328475e+04             775305.692091            324   \n",
       "90004               0.000000e+00             399206.162340            126   \n",
       "90005              -1.565200e+04             396113.896815             33   \n",
       "\n",
       "                 Budget  Total Claims  Total Programs  \n",
       "Zip Code                                               \n",
       "90001     758717.014295           533             6.0  \n",
       "90002     102094.701890           103             2.0  \n",
       "90003     363909.604919           324             NaN  \n",
       "90004     172750.916587           126             NaN  \n",
       "90005      76960.538769            33             NaN  "
      ]
     },
     "execution_count": 49,
     "metadata": {},
     "output_type": "execute_result"
    }
   ],
   "source": [
    "zipag.head()"
   ]
  },
  {
   "cell_type": "code",
   "execution_count": 50,
   "metadata": {},
   "outputs": [
    {
     "data": {
      "text/plain": [
       "Zip Code\n",
       "90001    2\n",
       "90002    0\n",
       "90003    0\n",
       "90004    0\n",
       "90005    0\n",
       "        ..\n",
       "96088    0\n",
       "96092    0\n",
       "96130    0\n",
       "96150    0\n",
       "96160    0\n",
       "Name: OBF Claims, Length: 1557, dtype: int64"
      ]
     },
     "execution_count": 50,
     "metadata": {},
     "output_type": "execute_result"
    }
   ],
   "source": [
    "zipag['OBF_Flag'].rename('OBF Claims', inplace=True)"
   ]
  },
  {
   "cell_type": "code",
   "execution_count": 51,
   "metadata": {},
   "outputs": [],
   "source": [
    "zipag.rename(columns={'OBF_Flag':'OBF Claims', 'Resource_Flag':'Resource Claims'}, inplace=True)"
   ]
  },
  {
   "cell_type": "code",
   "execution_count": 52,
   "metadata": {},
   "outputs": [
    {
     "data": {
      "text/html": [
       "<div>\n",
       "<style scoped>\n",
       "    .dataframe tbody tr th:only-of-type {\n",
       "        vertical-align: middle;\n",
       "    }\n",
       "\n",
       "    .dataframe tbody tr th {\n",
       "        vertical-align: top;\n",
       "    }\n",
       "\n",
       "    .dataframe thead th {\n",
       "        text-align: right;\n",
       "    }\n",
       "</style>\n",
       "<table border=\"1\" class=\"dataframe\">\n",
       "  <thead>\n",
       "    <tr style=\"text-align: right;\">\n",
       "      <th></th>\n",
       "      <th>OBF Claims</th>\n",
       "      <th>TotalFirstYearGrosskWh</th>\n",
       "      <th>TotalFirstYearGrossTherm</th>\n",
       "      <th>TotalLifecycleGrosskWh</th>\n",
       "      <th>TotalLifecycleGrossTherm</th>\n",
       "      <th>Resource Claims</th>\n",
       "      <th>Budget</th>\n",
       "      <th>Total Claims</th>\n",
       "      <th>Total Programs</th>\n",
       "    </tr>\n",
       "    <tr>\n",
       "      <th>Zip Code</th>\n",
       "      <th></th>\n",
       "      <th></th>\n",
       "      <th></th>\n",
       "      <th></th>\n",
       "      <th></th>\n",
       "      <th></th>\n",
       "      <th></th>\n",
       "      <th></th>\n",
       "      <th></th>\n",
       "    </tr>\n",
       "  </thead>\n",
       "  <tbody>\n",
       "    <tr>\n",
       "      <th>90001</th>\n",
       "      <td>2</td>\n",
       "      <td>1.108694e+06</td>\n",
       "      <td>51575.612676</td>\n",
       "      <td>8.330475e+06</td>\n",
       "      <td>364830.949495</td>\n",
       "      <td>533</td>\n",
       "      <td>758717.014295</td>\n",
       "      <td>533</td>\n",
       "      <td>6.0</td>\n",
       "    </tr>\n",
       "    <tr>\n",
       "      <th>90002</th>\n",
       "      <td>0</td>\n",
       "      <td>9.627215e+04</td>\n",
       "      <td>17908.390465</td>\n",
       "      <td>1.149893e+06</td>\n",
       "      <td>255924.948318</td>\n",
       "      <td>103</td>\n",
       "      <td>102094.701890</td>\n",
       "      <td>103</td>\n",
       "      <td>2.0</td>\n",
       "    </tr>\n",
       "    <tr>\n",
       "      <th>90003</th>\n",
       "      <td>0</td>\n",
       "      <td>4.441500e+03</td>\n",
       "      <td>125967.024766</td>\n",
       "      <td>7.328475e+04</td>\n",
       "      <td>775305.692091</td>\n",
       "      <td>324</td>\n",
       "      <td>363909.604919</td>\n",
       "      <td>324</td>\n",
       "      <td>NaN</td>\n",
       "    </tr>\n",
       "    <tr>\n",
       "      <th>90004</th>\n",
       "      <td>0</td>\n",
       "      <td>0.000000e+00</td>\n",
       "      <td>65461.716000</td>\n",
       "      <td>0.000000e+00</td>\n",
       "      <td>399206.162340</td>\n",
       "      <td>126</td>\n",
       "      <td>172750.916587</td>\n",
       "      <td>126</td>\n",
       "      <td>NaN</td>\n",
       "    </tr>\n",
       "    <tr>\n",
       "      <th>90005</th>\n",
       "      <td>0</td>\n",
       "      <td>-7.826000e+02</td>\n",
       "      <td>27491.669843</td>\n",
       "      <td>-1.565200e+04</td>\n",
       "      <td>396113.896815</td>\n",
       "      <td>33</td>\n",
       "      <td>76960.538769</td>\n",
       "      <td>33</td>\n",
       "      <td>NaN</td>\n",
       "    </tr>\n",
       "  </tbody>\n",
       "</table>\n",
       "</div>"
      ],
      "text/plain": [
       "          OBF Claims  TotalFirstYearGrosskWh  TotalFirstYearGrossTherm  \\\n",
       "Zip Code                                                                 \n",
       "90001              2            1.108694e+06              51575.612676   \n",
       "90002              0            9.627215e+04              17908.390465   \n",
       "90003              0            4.441500e+03             125967.024766   \n",
       "90004              0            0.000000e+00              65461.716000   \n",
       "90005              0           -7.826000e+02              27491.669843   \n",
       "\n",
       "          TotalLifecycleGrosskWh  TotalLifecycleGrossTherm  Resource Claims  \\\n",
       "Zip Code                                                                      \n",
       "90001               8.330475e+06             364830.949495              533   \n",
       "90002               1.149893e+06             255924.948318              103   \n",
       "90003               7.328475e+04             775305.692091              324   \n",
       "90004               0.000000e+00             399206.162340              126   \n",
       "90005              -1.565200e+04             396113.896815               33   \n",
       "\n",
       "                 Budget  Total Claims  Total Programs  \n",
       "Zip Code                                               \n",
       "90001     758717.014295           533             6.0  \n",
       "90002     102094.701890           103             2.0  \n",
       "90003     363909.604919           324             NaN  \n",
       "90004     172750.916587           126             NaN  \n",
       "90005      76960.538769            33             NaN  "
      ]
     },
     "execution_count": 52,
     "metadata": {},
     "output_type": "execute_result"
    }
   ],
   "source": [
    "zipag.head()"
   ]
  },
  {
   "cell_type": "code",
   "execution_count": 53,
   "metadata": {},
   "outputs": [],
   "source": [
    "zipag = zipag[['Budget', 'TotalFirstYearGrosskWh', 'TotalFirstYearGrossTherm', 'OBF Claims', 'Resource Claims', 'Total Claims', 'Total Programs']]"
   ]
  },
  {
   "cell_type": "code",
   "execution_count": 54,
   "metadata": {},
   "outputs": [
    {
     "data": {
      "text/html": [
       "<div>\n",
       "<style scoped>\n",
       "    .dataframe tbody tr th:only-of-type {\n",
       "        vertical-align: middle;\n",
       "    }\n",
       "\n",
       "    .dataframe tbody tr th {\n",
       "        vertical-align: top;\n",
       "    }\n",
       "\n",
       "    .dataframe thead th {\n",
       "        text-align: right;\n",
       "    }\n",
       "</style>\n",
       "<table border=\"1\" class=\"dataframe\">\n",
       "  <thead>\n",
       "    <tr style=\"text-align: right;\">\n",
       "      <th></th>\n",
       "      <th>Budget</th>\n",
       "      <th>TotalFirstYearGrosskWh</th>\n",
       "      <th>TotalFirstYearGrossTherm</th>\n",
       "      <th>OBF Claims</th>\n",
       "      <th>Resource Claims</th>\n",
       "      <th>Total Claims</th>\n",
       "      <th>Total Programs</th>\n",
       "    </tr>\n",
       "    <tr>\n",
       "      <th>Zip Code</th>\n",
       "      <th></th>\n",
       "      <th></th>\n",
       "      <th></th>\n",
       "      <th></th>\n",
       "      <th></th>\n",
       "      <th></th>\n",
       "      <th></th>\n",
       "    </tr>\n",
       "  </thead>\n",
       "  <tbody>\n",
       "    <tr>\n",
       "      <th>90001</th>\n",
       "      <td>758717.014295</td>\n",
       "      <td>1.108694e+06</td>\n",
       "      <td>51575.612676</td>\n",
       "      <td>2</td>\n",
       "      <td>533</td>\n",
       "      <td>533</td>\n",
       "      <td>6.0</td>\n",
       "    </tr>\n",
       "    <tr>\n",
       "      <th>90002</th>\n",
       "      <td>102094.701890</td>\n",
       "      <td>9.627215e+04</td>\n",
       "      <td>17908.390465</td>\n",
       "      <td>0</td>\n",
       "      <td>103</td>\n",
       "      <td>103</td>\n",
       "      <td>2.0</td>\n",
       "    </tr>\n",
       "    <tr>\n",
       "      <th>90003</th>\n",
       "      <td>363909.604919</td>\n",
       "      <td>4.441500e+03</td>\n",
       "      <td>125967.024766</td>\n",
       "      <td>0</td>\n",
       "      <td>324</td>\n",
       "      <td>324</td>\n",
       "      <td>NaN</td>\n",
       "    </tr>\n",
       "    <tr>\n",
       "      <th>90004</th>\n",
       "      <td>172750.916587</td>\n",
       "      <td>0.000000e+00</td>\n",
       "      <td>65461.716000</td>\n",
       "      <td>0</td>\n",
       "      <td>126</td>\n",
       "      <td>126</td>\n",
       "      <td>NaN</td>\n",
       "    </tr>\n",
       "    <tr>\n",
       "      <th>90005</th>\n",
       "      <td>76960.538769</td>\n",
       "      <td>-7.826000e+02</td>\n",
       "      <td>27491.669843</td>\n",
       "      <td>0</td>\n",
       "      <td>33</td>\n",
       "      <td>33</td>\n",
       "      <td>NaN</td>\n",
       "    </tr>\n",
       "  </tbody>\n",
       "</table>\n",
       "</div>"
      ],
      "text/plain": [
       "                 Budget  TotalFirstYearGrosskWh  TotalFirstYearGrossTherm  \\\n",
       "Zip Code                                                                    \n",
       "90001     758717.014295            1.108694e+06              51575.612676   \n",
       "90002     102094.701890            9.627215e+04              17908.390465   \n",
       "90003     363909.604919            4.441500e+03             125967.024766   \n",
       "90004     172750.916587            0.000000e+00              65461.716000   \n",
       "90005      76960.538769           -7.826000e+02              27491.669843   \n",
       "\n",
       "          OBF Claims  Resource Claims  Total Claims  Total Programs  \n",
       "Zip Code                                                             \n",
       "90001              2              533           533             6.0  \n",
       "90002              0              103           103             2.0  \n",
       "90003              0              324           324             NaN  \n",
       "90004              0              126           126             NaN  \n",
       "90005              0               33            33             NaN  "
      ]
     },
     "execution_count": 54,
     "metadata": {},
     "output_type": "execute_result"
    }
   ],
   "source": [
    "zipag.head()"
   ]
  },
  {
   "cell_type": "markdown",
   "metadata": {},
   "source": [
    "## want to make columns for % of obf claims and resource claims"
   ]
  },
  {
   "cell_type": "code",
   "execution_count": 55,
   "metadata": {},
   "outputs": [],
   "source": [
    "zipag['% OBF'] = (zipag['OBF Claims']/zipag['Total Claims'])*100\n",
    "\n",
    "zipag['% Resource'] = (zipag['Resource Claims']/zipag['Total Claims'])*100\n",
    "\n"
   ]
  },
  {
   "cell_type": "code",
   "execution_count": 56,
   "metadata": {},
   "outputs": [
    {
     "data": {
      "text/plain": [
       "100.000000    1553\n",
       "23.106796        1\n",
       "97.267760        1\n",
       "99.458972        1\n",
       "87.584144        1\n",
       "Name: % Resource, dtype: int64"
      ]
     },
     "execution_count": 56,
     "metadata": {},
     "output_type": "execute_result"
    }
   ],
   "source": [
    "zipag['% Resource'].value_counts()"
   ]
  },
  {
   "cell_type": "code",
   "execution_count": 57,
   "metadata": {},
   "outputs": [
    {
     "data": {
      "text/plain": [
       "0.000000      932\n",
       "100.000000     18\n",
       "71.428571       3\n",
       "83.333333       3\n",
       "33.333333       3\n",
       "             ... \n",
       "0.848790        1\n",
       "8.866995        1\n",
       "1.923077        1\n",
       "14.883721       1\n",
       "1.878613        1\n",
       "Name: % OBF, Length: 579, dtype: int64"
      ]
     },
     "execution_count": 57,
     "metadata": {},
     "output_type": "execute_result"
    }
   ],
   "source": [
    "zipag['% OBF'].value_counts()"
   ]
  },
  {
   "cell_type": "code",
   "execution_count": 58,
   "metadata": {},
   "outputs": [
    {
     "data": {
      "text/html": [
       "<div>\n",
       "<style scoped>\n",
       "    .dataframe tbody tr th:only-of-type {\n",
       "        vertical-align: middle;\n",
       "    }\n",
       "\n",
       "    .dataframe tbody tr th {\n",
       "        vertical-align: top;\n",
       "    }\n",
       "\n",
       "    .dataframe thead th {\n",
       "        text-align: right;\n",
       "    }\n",
       "</style>\n",
       "<table border=\"1\" class=\"dataframe\">\n",
       "  <thead>\n",
       "    <tr style=\"text-align: right;\">\n",
       "      <th></th>\n",
       "      <th>Budget</th>\n",
       "      <th>TotalFirstYearGrosskWh</th>\n",
       "      <th>TotalFirstYearGrossTherm</th>\n",
       "      <th>OBF Claims</th>\n",
       "      <th>Resource Claims</th>\n",
       "      <th>Total Claims</th>\n",
       "      <th>Total Programs</th>\n",
       "      <th>% OBF</th>\n",
       "      <th>% Resource</th>\n",
       "    </tr>\n",
       "    <tr>\n",
       "      <th>Zip Code</th>\n",
       "      <th></th>\n",
       "      <th></th>\n",
       "      <th></th>\n",
       "      <th></th>\n",
       "      <th></th>\n",
       "      <th></th>\n",
       "      <th></th>\n",
       "      <th></th>\n",
       "      <th></th>\n",
       "    </tr>\n",
       "  </thead>\n",
       "  <tbody>\n",
       "    <tr>\n",
       "      <th>90001</th>\n",
       "      <td>758717.014295</td>\n",
       "      <td>1.108694e+06</td>\n",
       "      <td>51575.612676</td>\n",
       "      <td>2</td>\n",
       "      <td>533</td>\n",
       "      <td>533</td>\n",
       "      <td>6.0</td>\n",
       "      <td>0.375235</td>\n",
       "      <td>100.0</td>\n",
       "    </tr>\n",
       "    <tr>\n",
       "      <th>90002</th>\n",
       "      <td>102094.701890</td>\n",
       "      <td>9.627215e+04</td>\n",
       "      <td>17908.390465</td>\n",
       "      <td>0</td>\n",
       "      <td>103</td>\n",
       "      <td>103</td>\n",
       "      <td>2.0</td>\n",
       "      <td>0.000000</td>\n",
       "      <td>100.0</td>\n",
       "    </tr>\n",
       "    <tr>\n",
       "      <th>90003</th>\n",
       "      <td>363909.604919</td>\n",
       "      <td>4.441500e+03</td>\n",
       "      <td>125967.024766</td>\n",
       "      <td>0</td>\n",
       "      <td>324</td>\n",
       "      <td>324</td>\n",
       "      <td>NaN</td>\n",
       "      <td>0.000000</td>\n",
       "      <td>100.0</td>\n",
       "    </tr>\n",
       "    <tr>\n",
       "      <th>90004</th>\n",
       "      <td>172750.916587</td>\n",
       "      <td>0.000000e+00</td>\n",
       "      <td>65461.716000</td>\n",
       "      <td>0</td>\n",
       "      <td>126</td>\n",
       "      <td>126</td>\n",
       "      <td>NaN</td>\n",
       "      <td>0.000000</td>\n",
       "      <td>100.0</td>\n",
       "    </tr>\n",
       "    <tr>\n",
       "      <th>90005</th>\n",
       "      <td>76960.538769</td>\n",
       "      <td>-7.826000e+02</td>\n",
       "      <td>27491.669843</td>\n",
       "      <td>0</td>\n",
       "      <td>33</td>\n",
       "      <td>33</td>\n",
       "      <td>NaN</td>\n",
       "      <td>0.000000</td>\n",
       "      <td>100.0</td>\n",
       "    </tr>\n",
       "  </tbody>\n",
       "</table>\n",
       "</div>"
      ],
      "text/plain": [
       "                 Budget  TotalFirstYearGrosskWh  TotalFirstYearGrossTherm  \\\n",
       "Zip Code                                                                    \n",
       "90001     758717.014295            1.108694e+06              51575.612676   \n",
       "90002     102094.701890            9.627215e+04              17908.390465   \n",
       "90003     363909.604919            4.441500e+03             125967.024766   \n",
       "90004     172750.916587            0.000000e+00              65461.716000   \n",
       "90005      76960.538769           -7.826000e+02              27491.669843   \n",
       "\n",
       "          OBF Claims  Resource Claims  Total Claims  Total Programs     % OBF  \\\n",
       "Zip Code                                                                        \n",
       "90001              2              533           533             6.0  0.375235   \n",
       "90002              0              103           103             2.0  0.000000   \n",
       "90003              0              324           324             NaN  0.000000   \n",
       "90004              0              126           126             NaN  0.000000   \n",
       "90005              0               33            33             NaN  0.000000   \n",
       "\n",
       "          % Resource  \n",
       "Zip Code              \n",
       "90001          100.0  \n",
       "90002          100.0  \n",
       "90003          100.0  \n",
       "90004          100.0  \n",
       "90005          100.0  "
      ]
     },
     "execution_count": 58,
     "metadata": {},
     "output_type": "execute_result"
    }
   ],
   "source": [
    "zipag.head()"
   ]
  },
  {
   "cell_type": "code",
   "execution_count": 59,
   "metadata": {},
   "outputs": [],
   "source": [
    "zipag.to_csv('data/zipag.csv')"
   ]
  },
  {
   "cell_type": "code",
   "execution_count": 60,
   "metadata": {},
   "outputs": [],
   "source": [
    "zipp = pd.read_csv('data/zipag.csv')"
   ]
  },
  {
   "cell_type": "code",
   "execution_count": 61,
   "metadata": {},
   "outputs": [
    {
     "data": {
      "text/html": [
       "<div>\n",
       "<style scoped>\n",
       "    .dataframe tbody tr th:only-of-type {\n",
       "        vertical-align: middle;\n",
       "    }\n",
       "\n",
       "    .dataframe tbody tr th {\n",
       "        vertical-align: top;\n",
       "    }\n",
       "\n",
       "    .dataframe thead th {\n",
       "        text-align: right;\n",
       "    }\n",
       "</style>\n",
       "<table border=\"1\" class=\"dataframe\">\n",
       "  <thead>\n",
       "    <tr style=\"text-align: right;\">\n",
       "      <th></th>\n",
       "      <th>Zip Code</th>\n",
       "      <th>Budget</th>\n",
       "      <th>TotalFirstYearGrosskWh</th>\n",
       "      <th>TotalFirstYearGrossTherm</th>\n",
       "      <th>OBF Claims</th>\n",
       "      <th>Resource Claims</th>\n",
       "      <th>Total Claims</th>\n",
       "      <th>Total Programs</th>\n",
       "      <th>% OBF</th>\n",
       "      <th>% Resource</th>\n",
       "    </tr>\n",
       "  </thead>\n",
       "  <tbody>\n",
       "    <tr>\n",
       "      <th>0</th>\n",
       "      <td>90001</td>\n",
       "      <td>758717.014295</td>\n",
       "      <td>1.108694e+06</td>\n",
       "      <td>51575.612676</td>\n",
       "      <td>2</td>\n",
       "      <td>533</td>\n",
       "      <td>533</td>\n",
       "      <td>6.0</td>\n",
       "      <td>0.375235</td>\n",
       "      <td>100.0</td>\n",
       "    </tr>\n",
       "    <tr>\n",
       "      <th>1</th>\n",
       "      <td>90002</td>\n",
       "      <td>102094.701890</td>\n",
       "      <td>9.627215e+04</td>\n",
       "      <td>17908.390465</td>\n",
       "      <td>0</td>\n",
       "      <td>103</td>\n",
       "      <td>103</td>\n",
       "      <td>2.0</td>\n",
       "      <td>0.000000</td>\n",
       "      <td>100.0</td>\n",
       "    </tr>\n",
       "    <tr>\n",
       "      <th>2</th>\n",
       "      <td>90003</td>\n",
       "      <td>363909.604919</td>\n",
       "      <td>4.441500e+03</td>\n",
       "      <td>125967.024766</td>\n",
       "      <td>0</td>\n",
       "      <td>324</td>\n",
       "      <td>324</td>\n",
       "      <td>NaN</td>\n",
       "      <td>0.000000</td>\n",
       "      <td>100.0</td>\n",
       "    </tr>\n",
       "    <tr>\n",
       "      <th>3</th>\n",
       "      <td>90004</td>\n",
       "      <td>172750.916587</td>\n",
       "      <td>0.000000e+00</td>\n",
       "      <td>65461.716000</td>\n",
       "      <td>0</td>\n",
       "      <td>126</td>\n",
       "      <td>126</td>\n",
       "      <td>NaN</td>\n",
       "      <td>0.000000</td>\n",
       "      <td>100.0</td>\n",
       "    </tr>\n",
       "    <tr>\n",
       "      <th>4</th>\n",
       "      <td>90005</td>\n",
       "      <td>76960.538769</td>\n",
       "      <td>-7.826000e+02</td>\n",
       "      <td>27491.669843</td>\n",
       "      <td>0</td>\n",
       "      <td>33</td>\n",
       "      <td>33</td>\n",
       "      <td>NaN</td>\n",
       "      <td>0.000000</td>\n",
       "      <td>100.0</td>\n",
       "    </tr>\n",
       "  </tbody>\n",
       "</table>\n",
       "</div>"
      ],
      "text/plain": [
       "   Zip Code         Budget  TotalFirstYearGrosskWh  TotalFirstYearGrossTherm  \\\n",
       "0     90001  758717.014295            1.108694e+06              51575.612676   \n",
       "1     90002  102094.701890            9.627215e+04              17908.390465   \n",
       "2     90003  363909.604919            4.441500e+03             125967.024766   \n",
       "3     90004  172750.916587            0.000000e+00              65461.716000   \n",
       "4     90005   76960.538769           -7.826000e+02              27491.669843   \n",
       "\n",
       "   OBF Claims  Resource Claims  Total Claims  Total Programs     % OBF  \\\n",
       "0           2              533           533             6.0  0.375235   \n",
       "1           0              103           103             2.0  0.000000   \n",
       "2           0              324           324             NaN  0.000000   \n",
       "3           0              126           126             NaN  0.000000   \n",
       "4           0               33            33             NaN  0.000000   \n",
       "\n",
       "   % Resource  \n",
       "0       100.0  \n",
       "1       100.0  \n",
       "2       100.0  \n",
       "3       100.0  \n",
       "4       100.0  "
      ]
     },
     "execution_count": 61,
     "metadata": {},
     "output_type": "execute_result"
    }
   ],
   "source": [
    "zipp.head()"
   ]
  },
  {
   "cell_type": "markdown",
   "metadata": {},
   "source": [
    "# DANGER I did the same thing I did before and aggregated every program, not just the local government ones :("
   ]
  },
  {
   "cell_type": "code",
   "execution_count": 62,
   "metadata": {},
   "outputs": [
    {
     "data": {
      "text/plain": [
       "0                                 NaN\n",
       "1         Local Government (Counties)\n",
       "2         Local Government (Counties)\n",
       "3                                 NaN\n",
       "4         Local Government (Counties)\n",
       "                     ...             \n",
       "746368                            NaN\n",
       "746369                            NaN\n",
       "746370                            NaN\n",
       "746371                            NaN\n",
       "746372                            NaN\n",
       "Name: Grouping, Length: 746373, dtype: object"
      ]
     },
     "execution_count": 62,
     "metadata": {},
     "output_type": "execute_result"
    }
   ],
   "source": [
    "df['Grouping']"
   ]
  },
  {
   "cell_type": "code",
   "execution_count": 63,
   "metadata": {},
   "outputs": [],
   "source": [
    "lg = ['Local Government (Counties)',\n",
    " 'Local Government ()',\n",
    " 'Local Government (Cities)',\n",
    " 'Local Government ']\n",
    "\n",
    "localgov = df[df['Grouping'].isin(lg)]"
   ]
  },
  {
   "cell_type": "code",
   "execution_count": 64,
   "metadata": {},
   "outputs": [],
   "source": [
    "zip_ag = localgov.groupby('Zip Code').sum()"
   ]
  },
  {
   "cell_type": "code",
   "execution_count": 65,
   "metadata": {},
   "outputs": [],
   "source": [
    "zip_ag.rename(columns={'OBF_Flag':'OBF Claims', 'Resource_Flag':'Resource Claims'}, inplace=True)\n",
    "zip_ag = zip_ag.join(tp.rename('Total Programs'))"
   ]
  },
  {
   "cell_type": "code",
   "execution_count": 66,
   "metadata": {},
   "outputs": [],
   "source": [
    "zip_ag = zip_ag[['Budget', 'TotalFirstYearGrosskWh', 'TotalFirstYearGrossTherm', 'TotalLifecycleGrosskWh', 'TotalLifecycleGrossTherm', 'OBF Claims', 'Resource Claims', 'Total Claims', 'Total Programs']]"
   ]
  },
  {
   "cell_type": "code",
   "execution_count": 67,
   "metadata": {},
   "outputs": [
    {
     "data": {
      "text/html": [
       "<div>\n",
       "<style scoped>\n",
       "    .dataframe tbody tr th:only-of-type {\n",
       "        vertical-align: middle;\n",
       "    }\n",
       "\n",
       "    .dataframe tbody tr th {\n",
       "        vertical-align: top;\n",
       "    }\n",
       "\n",
       "    .dataframe thead th {\n",
       "        text-align: right;\n",
       "    }\n",
       "</style>\n",
       "<table border=\"1\" class=\"dataframe\">\n",
       "  <thead>\n",
       "    <tr style=\"text-align: right;\">\n",
       "      <th></th>\n",
       "      <th>Budget</th>\n",
       "      <th>TotalFirstYearGrosskWh</th>\n",
       "      <th>TotalFirstYearGrossTherm</th>\n",
       "      <th>TotalLifecycleGrosskWh</th>\n",
       "      <th>TotalLifecycleGrossTherm</th>\n",
       "      <th>OBF Claims</th>\n",
       "      <th>Resource Claims</th>\n",
       "      <th>Total Claims</th>\n",
       "      <th>Total Programs</th>\n",
       "    </tr>\n",
       "    <tr>\n",
       "      <th>Zip Code</th>\n",
       "      <th></th>\n",
       "      <th></th>\n",
       "      <th></th>\n",
       "      <th></th>\n",
       "      <th></th>\n",
       "      <th></th>\n",
       "      <th></th>\n",
       "      <th></th>\n",
       "      <th></th>\n",
       "    </tr>\n",
       "  </thead>\n",
       "  <tbody>\n",
       "    <tr>\n",
       "      <th>90001</th>\n",
       "      <td>2.282351e+05</td>\n",
       "      <td>623630.56000</td>\n",
       "      <td>0.000000</td>\n",
       "      <td>3.798695e+06</td>\n",
       "      <td>0.000000</td>\n",
       "      <td>0</td>\n",
       "      <td>73</td>\n",
       "      <td>73</td>\n",
       "      <td>6.0</td>\n",
       "    </tr>\n",
       "    <tr>\n",
       "      <th>90002</th>\n",
       "      <td>5.375152e+04</td>\n",
       "      <td>76629.00000</td>\n",
       "      <td>0.000000</td>\n",
       "      <td>9.195480e+05</td>\n",
       "      <td>0.000000</td>\n",
       "      <td>0</td>\n",
       "      <td>30</td>\n",
       "      <td>30</td>\n",
       "      <td>2.0</td>\n",
       "    </tr>\n",
       "    <tr>\n",
       "      <th>90008</th>\n",
       "      <td>1.067563e+05</td>\n",
       "      <td>168587.90000</td>\n",
       "      <td>0.000000</td>\n",
       "      <td>2.023055e+06</td>\n",
       "      <td>0.000000</td>\n",
       "      <td>0</td>\n",
       "      <td>76</td>\n",
       "      <td>76</td>\n",
       "      <td>1.0</td>\n",
       "    </tr>\n",
       "    <tr>\n",
       "      <th>90013</th>\n",
       "      <td>6.489026e+06</td>\n",
       "      <td>0.00000</td>\n",
       "      <td>0.000000</td>\n",
       "      <td>0.000000e+00</td>\n",
       "      <td>0.000000</td>\n",
       "      <td>0</td>\n",
       "      <td>0</td>\n",
       "      <td>292</td>\n",
       "      <td>NaN</td>\n",
       "    </tr>\n",
       "    <tr>\n",
       "      <th>90046</th>\n",
       "      <td>9.468288e+04</td>\n",
       "      <td>38170.31148</td>\n",
       "      <td>-56.757594</td>\n",
       "      <td>1.908516e+05</td>\n",
       "      <td>-283.787968</td>\n",
       "      <td>0</td>\n",
       "      <td>14</td>\n",
       "      <td>14</td>\n",
       "      <td>5.0</td>\n",
       "    </tr>\n",
       "  </tbody>\n",
       "</table>\n",
       "</div>"
      ],
      "text/plain": [
       "                Budget  TotalFirstYearGrosskWh  TotalFirstYearGrossTherm  \\\n",
       "Zip Code                                                                   \n",
       "90001     2.282351e+05            623630.56000                  0.000000   \n",
       "90002     5.375152e+04             76629.00000                  0.000000   \n",
       "90008     1.067563e+05            168587.90000                  0.000000   \n",
       "90013     6.489026e+06                 0.00000                  0.000000   \n",
       "90046     9.468288e+04             38170.31148                -56.757594   \n",
       "\n",
       "          TotalLifecycleGrosskWh  TotalLifecycleGrossTherm  OBF Claims  \\\n",
       "Zip Code                                                                 \n",
       "90001               3.798695e+06                  0.000000           0   \n",
       "90002               9.195480e+05                  0.000000           0   \n",
       "90008               2.023055e+06                  0.000000           0   \n",
       "90013               0.000000e+00                  0.000000           0   \n",
       "90046               1.908516e+05               -283.787968           0   \n",
       "\n",
       "          Resource Claims  Total Claims  Total Programs  \n",
       "Zip Code                                                 \n",
       "90001                  73            73             6.0  \n",
       "90002                  30            30             2.0  \n",
       "90008                  76            76             1.0  \n",
       "90013                   0           292             NaN  \n",
       "90046                  14            14             5.0  "
      ]
     },
     "execution_count": 67,
     "metadata": {},
     "output_type": "execute_result"
    }
   ],
   "source": [
    "zip_ag.head()"
   ]
  },
  {
   "cell_type": "code",
   "execution_count": 68,
   "metadata": {},
   "outputs": [],
   "source": [
    "zip_ag['% OBF'] = (zip_ag['OBF Claims']/zip_ag['Total Claims'])*100\n",
    "\n",
    "zip_ag['% Resource'] = (zip_ag['Resource Claims']/zip_ag['Total Claims'])*100\n",
    "\n"
   ]
  },
  {
   "cell_type": "code",
   "execution_count": 69,
   "metadata": {},
   "outputs": [
    {
     "data": {
      "text/html": [
       "<div>\n",
       "<style scoped>\n",
       "    .dataframe tbody tr th:only-of-type {\n",
       "        vertical-align: middle;\n",
       "    }\n",
       "\n",
       "    .dataframe tbody tr th {\n",
       "        vertical-align: top;\n",
       "    }\n",
       "\n",
       "    .dataframe thead th {\n",
       "        text-align: right;\n",
       "    }\n",
       "</style>\n",
       "<table border=\"1\" class=\"dataframe\">\n",
       "  <thead>\n",
       "    <tr style=\"text-align: right;\">\n",
       "      <th></th>\n",
       "      <th>Budget</th>\n",
       "      <th>TotalFirstYearGrosskWh</th>\n",
       "      <th>TotalFirstYearGrossTherm</th>\n",
       "      <th>TotalLifecycleGrosskWh</th>\n",
       "      <th>TotalLifecycleGrossTherm</th>\n",
       "      <th>OBF Claims</th>\n",
       "      <th>Resource Claims</th>\n",
       "      <th>Total Claims</th>\n",
       "      <th>Total Programs</th>\n",
       "      <th>% OBF</th>\n",
       "      <th>% Resource</th>\n",
       "    </tr>\n",
       "    <tr>\n",
       "      <th>Zip Code</th>\n",
       "      <th></th>\n",
       "      <th></th>\n",
       "      <th></th>\n",
       "      <th></th>\n",
       "      <th></th>\n",
       "      <th></th>\n",
       "      <th></th>\n",
       "      <th></th>\n",
       "      <th></th>\n",
       "      <th></th>\n",
       "      <th></th>\n",
       "    </tr>\n",
       "  </thead>\n",
       "  <tbody>\n",
       "    <tr>\n",
       "      <th>90001</th>\n",
       "      <td>2.282351e+05</td>\n",
       "      <td>623630.56000</td>\n",
       "      <td>0.000000</td>\n",
       "      <td>3.798695e+06</td>\n",
       "      <td>0.000000</td>\n",
       "      <td>0</td>\n",
       "      <td>73</td>\n",
       "      <td>73</td>\n",
       "      <td>6.0</td>\n",
       "      <td>0.0</td>\n",
       "      <td>100.0</td>\n",
       "    </tr>\n",
       "    <tr>\n",
       "      <th>90002</th>\n",
       "      <td>5.375152e+04</td>\n",
       "      <td>76629.00000</td>\n",
       "      <td>0.000000</td>\n",
       "      <td>9.195480e+05</td>\n",
       "      <td>0.000000</td>\n",
       "      <td>0</td>\n",
       "      <td>30</td>\n",
       "      <td>30</td>\n",
       "      <td>2.0</td>\n",
       "      <td>0.0</td>\n",
       "      <td>100.0</td>\n",
       "    </tr>\n",
       "    <tr>\n",
       "      <th>90008</th>\n",
       "      <td>1.067563e+05</td>\n",
       "      <td>168587.90000</td>\n",
       "      <td>0.000000</td>\n",
       "      <td>2.023055e+06</td>\n",
       "      <td>0.000000</td>\n",
       "      <td>0</td>\n",
       "      <td>76</td>\n",
       "      <td>76</td>\n",
       "      <td>1.0</td>\n",
       "      <td>0.0</td>\n",
       "      <td>100.0</td>\n",
       "    </tr>\n",
       "    <tr>\n",
       "      <th>90013</th>\n",
       "      <td>6.489026e+06</td>\n",
       "      <td>0.00000</td>\n",
       "      <td>0.000000</td>\n",
       "      <td>0.000000e+00</td>\n",
       "      <td>0.000000</td>\n",
       "      <td>0</td>\n",
       "      <td>0</td>\n",
       "      <td>292</td>\n",
       "      <td>NaN</td>\n",
       "      <td>0.0</td>\n",
       "      <td>0.0</td>\n",
       "    </tr>\n",
       "    <tr>\n",
       "      <th>90046</th>\n",
       "      <td>9.468288e+04</td>\n",
       "      <td>38170.31148</td>\n",
       "      <td>-56.757594</td>\n",
       "      <td>1.908516e+05</td>\n",
       "      <td>-283.787968</td>\n",
       "      <td>0</td>\n",
       "      <td>14</td>\n",
       "      <td>14</td>\n",
       "      <td>5.0</td>\n",
       "      <td>0.0</td>\n",
       "      <td>100.0</td>\n",
       "    </tr>\n",
       "  </tbody>\n",
       "</table>\n",
       "</div>"
      ],
      "text/plain": [
       "                Budget  TotalFirstYearGrosskWh  TotalFirstYearGrossTherm  \\\n",
       "Zip Code                                                                   \n",
       "90001     2.282351e+05            623630.56000                  0.000000   \n",
       "90002     5.375152e+04             76629.00000                  0.000000   \n",
       "90008     1.067563e+05            168587.90000                  0.000000   \n",
       "90013     6.489026e+06                 0.00000                  0.000000   \n",
       "90046     9.468288e+04             38170.31148                -56.757594   \n",
       "\n",
       "          TotalLifecycleGrosskWh  TotalLifecycleGrossTherm  OBF Claims  \\\n",
       "Zip Code                                                                 \n",
       "90001               3.798695e+06                  0.000000           0   \n",
       "90002               9.195480e+05                  0.000000           0   \n",
       "90008               2.023055e+06                  0.000000           0   \n",
       "90013               0.000000e+00                  0.000000           0   \n",
       "90046               1.908516e+05               -283.787968           0   \n",
       "\n",
       "          Resource Claims  Total Claims  Total Programs  % OBF  % Resource  \n",
       "Zip Code                                                                    \n",
       "90001                  73            73             6.0    0.0       100.0  \n",
       "90002                  30            30             2.0    0.0       100.0  \n",
       "90008                  76            76             1.0    0.0       100.0  \n",
       "90013                   0           292             NaN    0.0         0.0  \n",
       "90046                  14            14             5.0    0.0       100.0  "
      ]
     },
     "execution_count": 69,
     "metadata": {},
     "output_type": "execute_result"
    }
   ],
   "source": [
    "zip_ag.head()"
   ]
  },
  {
   "cell_type": "code",
   "execution_count": 70,
   "metadata": {},
   "outputs": [],
   "source": [
    "zip_ag.to_csv('data/zip_agg_local_gov.csv')"
   ]
  },
  {
   "cell_type": "code",
   "execution_count": 71,
   "metadata": {},
   "outputs": [
    {
     "data": {
      "text/plain": [
       "BAKERSFIELD    18568\n",
       "FREMONT        14281\n",
       "SANTA ROSA     10485\n",
       "STOCKTON        8362\n",
       "CLOVIS          7736\n",
       "               ...  \n",
       "GREENWOOD          1\n",
       "MURPHYS            1\n",
       "FERNBRIDGE         1\n",
       "VERNALIS           1\n",
       "SANTA NELLA        1\n",
       "Name: SiteCity, Length: 578, dtype: int64"
      ]
     },
     "execution_count": 71,
     "metadata": {},
     "output_type": "execute_result"
    }
   ],
   "source": [
    "localgov['SiteCity'].value_counts(dropna=False)"
   ]
  },
  {
   "cell_type": "code",
   "execution_count": null,
   "metadata": {},
   "outputs": [],
   "source": []
  }
 ],
 "metadata": {
  "kernelspec": {
   "display_name": "Python 3",
   "language": "python",
   "name": "python3"
  },
  "language_info": {
   "codemirror_mode": {
    "name": "ipython",
    "version": 3
   },
   "file_extension": ".py",
   "mimetype": "text/x-python",
   "name": "python",
   "nbconvert_exporter": "python",
   "pygments_lexer": "ipython3",
   "version": "3.8.5"
  }
 },
 "nbformat": 4,
 "nbformat_minor": 4
}
