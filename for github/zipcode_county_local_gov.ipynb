{
 "cells": [
  {
   "cell_type": "code",
   "execution_count": 1,
   "metadata": {},
   "outputs": [],
   "source": [
    "import pandas as pd"
   ]
  },
  {
   "cell_type": "code",
   "execution_count": 2,
   "metadata": {},
   "outputs": [],
   "source": [
    "local_gov = pd.read_csv('data/cpuc_claims_local_gov.csv')"
   ]
  },
  {
   "cell_type": "code",
   "execution_count": 3,
   "metadata": {},
   "outputs": [
    {
     "data": {
      "text/html": [
       "<div>\n",
       "<style scoped>\n",
       "    .dataframe tbody tr th:only-of-type {\n",
       "        vertical-align: middle;\n",
       "    }\n",
       "\n",
       "    .dataframe tbody tr th {\n",
       "        vertical-align: top;\n",
       "    }\n",
       "\n",
       "    .dataframe thead th {\n",
       "        text-align: right;\n",
       "    }\n",
       "</style>\n",
       "<table border=\"1\" class=\"dataframe\">\n",
       "  <thead>\n",
       "    <tr style=\"text-align: right;\">\n",
       "      <th></th>\n",
       "      <th>Unnamed: 0</th>\n",
       "      <th>ClaimID</th>\n",
       "      <th>PrgID</th>\n",
       "      <th>SiteZipCode</th>\n",
       "      <th>TotalFirstYearGrosskWh</th>\n",
       "      <th>TotalFirstYearGrossTherm</th>\n",
       "      <th>Grouping</th>\n",
       "      <th>County</th>\n",
       "      <th>Selected</th>\n",
       "      <th>Budget</th>\n",
       "    </tr>\n",
       "  </thead>\n",
       "  <tbody>\n",
       "    <tr>\n",
       "      <th>0</th>\n",
       "      <td>1</td>\n",
       "      <td>PGE-2017-Q4-94241</td>\n",
       "      <td>PGE211009</td>\n",
       "      <td>94596</td>\n",
       "      <td>35.04</td>\n",
       "      <td>-0.832</td>\n",
       "      <td>Local Government (Counties)</td>\n",
       "      <td>NaN</td>\n",
       "      <td>x</td>\n",
       "      <td>106.846221</td>\n",
       "    </tr>\n",
       "    <tr>\n",
       "      <th>1</th>\n",
       "      <td>2</td>\n",
       "      <td>PGE-2017-Q4-88304</td>\n",
       "      <td>PGE211009</td>\n",
       "      <td>94587</td>\n",
       "      <td>13.14</td>\n",
       "      <td>-0.312</td>\n",
       "      <td>Local Government (Counties)</td>\n",
       "      <td>NaN</td>\n",
       "      <td>x</td>\n",
       "      <td>39.779768</td>\n",
       "    </tr>\n",
       "    <tr>\n",
       "      <th>2</th>\n",
       "      <td>4</td>\n",
       "      <td>PGE-2017-Q4-88820</td>\n",
       "      <td>PGE211009</td>\n",
       "      <td>94539</td>\n",
       "      <td>35.04</td>\n",
       "      <td>-0.832</td>\n",
       "      <td>Local Government (Counties)</td>\n",
       "      <td>NaN</td>\n",
       "      <td>x</td>\n",
       "      <td>106.118823</td>\n",
       "    </tr>\n",
       "    <tr>\n",
       "      <th>3</th>\n",
       "      <td>5</td>\n",
       "      <td>PGE-2017-Q4-89199</td>\n",
       "      <td>PGE211009</td>\n",
       "      <td>94587</td>\n",
       "      <td>8.32</td>\n",
       "      <td>-0.159</td>\n",
       "      <td>Local Government (Counties)</td>\n",
       "      <td>NaN</td>\n",
       "      <td>x</td>\n",
       "      <td>26.182319</td>\n",
       "    </tr>\n",
       "    <tr>\n",
       "      <th>4</th>\n",
       "      <td>6</td>\n",
       "      <td>PGE-2017-Q4-88314</td>\n",
       "      <td>PGE211009</td>\n",
       "      <td>94539</td>\n",
       "      <td>13.14</td>\n",
       "      <td>-0.312</td>\n",
       "      <td>Local Government (Counties)</td>\n",
       "      <td>NaN</td>\n",
       "      <td>x</td>\n",
       "      <td>39.794559</td>\n",
       "    </tr>\n",
       "    <tr>\n",
       "      <th>5</th>\n",
       "      <td>7</td>\n",
       "      <td>PGE-2017-Q4-98744</td>\n",
       "      <td>PGE211021</td>\n",
       "      <td>95973</td>\n",
       "      <td>185.00</td>\n",
       "      <td>0.000</td>\n",
       "      <td>Local Government (Counties)</td>\n",
       "      <td>NaN</td>\n",
       "      <td>x</td>\n",
       "      <td>122.633437</td>\n",
       "    </tr>\n",
       "    <tr>\n",
       "      <th>6</th>\n",
       "      <td>10</td>\n",
       "      <td>PGE-2017-Q4-88637</td>\n",
       "      <td>PGE211009</td>\n",
       "      <td>94539</td>\n",
       "      <td>43.80</td>\n",
       "      <td>-1.040</td>\n",
       "      <td>Local Government (Counties)</td>\n",
       "      <td>NaN</td>\n",
       "      <td>x</td>\n",
       "      <td>132.648529</td>\n",
       "    </tr>\n",
       "    <tr>\n",
       "      <th>7</th>\n",
       "      <td>11</td>\n",
       "      <td>PGE-2017-Q4-88521</td>\n",
       "      <td>PGE211009</td>\n",
       "      <td>94545</td>\n",
       "      <td>52.56</td>\n",
       "      <td>-1.248</td>\n",
       "      <td>Local Government (Counties)</td>\n",
       "      <td>NaN</td>\n",
       "      <td>x</td>\n",
       "      <td>159.178234</td>\n",
       "    </tr>\n",
       "    <tr>\n",
       "      <th>8</th>\n",
       "      <td>13</td>\n",
       "      <td>PGE-2017-Q4-86303</td>\n",
       "      <td>PGE211016</td>\n",
       "      <td>95524</td>\n",
       "      <td>78.84</td>\n",
       "      <td>-1.872</td>\n",
       "      <td>Local Government (Counties)</td>\n",
       "      <td>Redwood</td>\n",
       "      <td>x</td>\n",
       "      <td>114.019434</td>\n",
       "    </tr>\n",
       "    <tr>\n",
       "      <th>9</th>\n",
       "      <td>14</td>\n",
       "      <td>PGE-2017-Q4-89026</td>\n",
       "      <td>PGE211009</td>\n",
       "      <td>94553</td>\n",
       "      <td>33.28</td>\n",
       "      <td>-0.636</td>\n",
       "      <td>Local Government (Counties)</td>\n",
       "      <td>NaN</td>\n",
       "      <td>x</td>\n",
       "      <td>105.457598</td>\n",
       "    </tr>\n",
       "  </tbody>\n",
       "</table>\n",
       "</div>"
      ],
      "text/plain": [
       "   Unnamed: 0            ClaimID      PrgID  SiteZipCode  \\\n",
       "0           1  PGE-2017-Q4-94241  PGE211009        94596   \n",
       "1           2  PGE-2017-Q4-88304  PGE211009        94587   \n",
       "2           4  PGE-2017-Q4-88820  PGE211009        94539   \n",
       "3           5  PGE-2017-Q4-89199  PGE211009        94587   \n",
       "4           6  PGE-2017-Q4-88314  PGE211009        94539   \n",
       "5           7  PGE-2017-Q4-98744  PGE211021        95973   \n",
       "6          10  PGE-2017-Q4-88637  PGE211009        94539   \n",
       "7          11  PGE-2017-Q4-88521  PGE211009        94545   \n",
       "8          13  PGE-2017-Q4-86303  PGE211016        95524   \n",
       "9          14  PGE-2017-Q4-89026  PGE211009        94553   \n",
       "\n",
       "   TotalFirstYearGrosskWh  TotalFirstYearGrossTherm  \\\n",
       "0                   35.04                    -0.832   \n",
       "1                   13.14                    -0.312   \n",
       "2                   35.04                    -0.832   \n",
       "3                    8.32                    -0.159   \n",
       "4                   13.14                    -0.312   \n",
       "5                  185.00                     0.000   \n",
       "6                   43.80                    -1.040   \n",
       "7                   52.56                    -1.248   \n",
       "8                   78.84                    -1.872   \n",
       "9                   33.28                    -0.636   \n",
       "\n",
       "                      Grouping   County Selected      Budget  \n",
       "0  Local Government (Counties)      NaN        x  106.846221  \n",
       "1  Local Government (Counties)      NaN        x   39.779768  \n",
       "2  Local Government (Counties)      NaN        x  106.118823  \n",
       "3  Local Government (Counties)      NaN        x   26.182319  \n",
       "4  Local Government (Counties)      NaN        x   39.794559  \n",
       "5  Local Government (Counties)      NaN        x  122.633437  \n",
       "6  Local Government (Counties)      NaN        x  132.648529  \n",
       "7  Local Government (Counties)      NaN        x  159.178234  \n",
       "8  Local Government (Counties)  Redwood        x  114.019434  \n",
       "9  Local Government (Counties)      NaN        x  105.457598  "
      ]
     },
     "execution_count": 3,
     "metadata": {},
     "output_type": "execute_result"
    }
   ],
   "source": [
    "local_gov.head(10)"
   ]
  },
  {
   "cell_type": "code",
   "execution_count": 4,
   "metadata": {},
   "outputs": [],
   "source": [
    "local_gov = local_gov.drop(columns = 'Unnamed: 0')"
   ]
  },
  {
   "cell_type": "code",
   "execution_count": 5,
   "metadata": {},
   "outputs": [
    {
     "data": {
      "text/plain": [
       "ClaimID                      object\n",
       "PrgID                        object\n",
       "SiteZipCode                   int64\n",
       "TotalFirstYearGrosskWh      float64\n",
       "TotalFirstYearGrossTherm    float64\n",
       "Grouping                     object\n",
       "County                       object\n",
       "Selected                     object\n",
       "Budget                      float64\n",
       "dtype: object"
      ]
     },
     "execution_count": 5,
     "metadata": {},
     "output_type": "execute_result"
    }
   ],
   "source": [
    "local_gov.dtypes"
   ]
  },
  {
   "cell_type": "code",
   "execution_count": 6,
   "metadata": {},
   "outputs": [],
   "source": [
    "zip_code_assignments = pd.read_csv('data/claims_zip_county_mapping.csv', usecols = ['ZCTA5', 'county_name'])"
   ]
  },
  {
   "cell_type": "code",
   "execution_count": 7,
   "metadata": {},
   "outputs": [
    {
     "data": {
      "text/plain": [
       "ZCTA5           int64\n",
       "county_name    object\n",
       "dtype: object"
      ]
     },
     "execution_count": 7,
     "metadata": {},
     "output_type": "execute_result"
    }
   ],
   "source": [
    "zip_code_assignments.dtypes"
   ]
  },
  {
   "cell_type": "code",
   "execution_count": 8,
   "metadata": {},
   "outputs": [
    {
     "data": {
      "text/plain": [
       "Index              128\n",
       "ZCTA5          1501600\n",
       "county_name    1501600\n",
       "dtype: int64"
      ]
     },
     "execution_count": 8,
     "metadata": {},
     "output_type": "execute_result"
    }
   ],
   "source": [
    "zip_code_assignments.memory_usage()"
   ]
  },
  {
   "cell_type": "code",
   "execution_count": 9,
   "metadata": {},
   "outputs": [
    {
     "data": {
      "text/plain": [
       "Index                           128\n",
       "ClaimID                     1536736\n",
       "PrgID                       1536736\n",
       "SiteZipCode                 1536736\n",
       "TotalFirstYearGrosskWh      1536736\n",
       "TotalFirstYearGrossTherm    1536736\n",
       "Grouping                    1536736\n",
       "County                      1536736\n",
       "Selected                    1536736\n",
       "Budget                      1536736\n",
       "dtype: int64"
      ]
     },
     "execution_count": 9,
     "metadata": {},
     "output_type": "execute_result"
    }
   ],
   "source": [
    "local_gov.memory_usage()"
   ]
  },
  {
   "cell_type": "code",
   "execution_count": 10,
   "metadata": {},
   "outputs": [
    {
     "data": {
      "text/plain": [
       "ClaimID                      object\n",
       "PrgID                        object\n",
       "SiteZipCode                   int64\n",
       "TotalFirstYearGrosskWh      float64\n",
       "TotalFirstYearGrossTherm    float64\n",
       "Grouping                     object\n",
       "County                       object\n",
       "Selected                     object\n",
       "Budget                      float64\n",
       "dtype: object"
      ]
     },
     "execution_count": 10,
     "metadata": {},
     "output_type": "execute_result"
    }
   ],
   "source": [
    "local_gov.dtypes"
   ]
  },
  {
   "cell_type": "code",
   "execution_count": 11,
   "metadata": {},
   "outputs": [
    {
     "data": {
      "text/plain": [
       "x    192092\n",
       "Name: Selected, dtype: int64"
      ]
     },
     "execution_count": 11,
     "metadata": {},
     "output_type": "execute_result"
    }
   ],
   "source": [
    "local_gov['Selected'].value_counts(dropna = False)"
   ]
  },
  {
   "cell_type": "code",
   "execution_count": 12,
   "metadata": {},
   "outputs": [],
   "source": [
    "local_gov = local_gov.drop(columns = 'Selected')"
   ]
  },
  {
   "cell_type": "code",
   "execution_count": 13,
   "metadata": {},
   "outputs": [
    {
     "data": {
      "text/plain": [
       "Local Government (Counties)    168740\n",
       "Local Government ()             21392\n",
       "Local Government (Cities)        1947\n",
       "Local Government                   13\n",
       "Name: Grouping, dtype: int64"
      ]
     },
     "execution_count": 13,
     "metadata": {},
     "output_type": "execute_result"
    }
   ],
   "source": [
    "local_gov['Grouping'].value_counts(dropna = False)"
   ]
  },
  {
   "cell_type": "code",
   "execution_count": 14,
   "metadata": {},
   "outputs": [],
   "source": [
    "local_gov = local_gov.drop(columns = 'Grouping')"
   ]
  },
  {
   "cell_type": "code",
   "execution_count": 15,
   "metadata": {},
   "outputs": [],
   "source": [
    "sample = local_gov.sample(100)"
   ]
  },
  {
   "cell_type": "code",
   "execution_count": 16,
   "metadata": {},
   "outputs": [],
   "source": [
    "test_merge = sample.merge(zip_code_assignments, left_on = 'SiteZipCode', right_on = 'ZCTA5', how = 'left')"
   ]
  },
  {
   "cell_type": "code",
   "execution_count": 17,
   "metadata": {},
   "outputs": [
    {
     "data": {
      "text/plain": [
       "PGE-2018-Q4-79733     13634\n",
       "PGE-2018-Q4-81132     13634\n",
       "PGE-2018-Q4-82812     13634\n",
       "PGE-2018-Q4-77020     13634\n",
       "PGE-2018-Q4-85342     13634\n",
       "                      ...  \n",
       "PGE-2018-Q2-113591        1\n",
       "PGE-2018-Q1-43949         1\n",
       "PGE-2017-Q4-72244         1\n",
       "PGE-2017-Q4-54825         1\n",
       "PGE-2018-Q1-46899         1\n",
       "Name: ClaimID, Length: 100, dtype: int64"
      ]
     },
     "execution_count": 17,
     "metadata": {},
     "output_type": "execute_result"
    }
   ],
   "source": [
    "test_merge['ClaimID'].value_counts()"
   ]
  },
  {
   "cell_type": "code",
   "execution_count": 18,
   "metadata": {},
   "outputs": [
    {
     "data": {
      "text/plain": [
       "93301    13634\n",
       "94538    13005\n",
       "93612     6440\n",
       "94086     5892\n",
       "95023     4590\n",
       "         ...  \n",
       "90069        1\n",
       "95701        1\n",
       "94129        1\n",
       "92389        1\n",
       "95228        1\n",
       "Name: ZCTA5, Length: 795, dtype: int64"
      ]
     },
     "execution_count": 18,
     "metadata": {},
     "output_type": "execute_result"
    }
   ],
   "source": [
    "zip_code_assignments['ZCTA5'].value_counts()"
   ]
  },
  {
   "cell_type": "code",
   "execution_count": 19,
   "metadata": {},
   "outputs": [],
   "source": [
    "zip_code_assignments.drop_duplicates(inplace = True)"
   ]
  },
  {
   "cell_type": "code",
   "execution_count": 20,
   "metadata": {},
   "outputs": [
    {
     "data": {
      "text/plain": [
       "93210    3\n",
       "95076    3\n",
       "93622    3\n",
       "95223    3\n",
       "95645    3\n",
       "        ..\n",
       "95525    1\n",
       "95524    1\n",
       "95521    1\n",
       "95519    1\n",
       "93277    1\n",
       "Name: ZCTA5, Length: 795, dtype: int64"
      ]
     },
     "execution_count": 20,
     "metadata": {},
     "output_type": "execute_result"
    }
   ],
   "source": [
    "zip_code_assignments['ZCTA5'].value_counts()"
   ]
  },
  {
   "cell_type": "code",
   "execution_count": 21,
   "metadata": {},
   "outputs": [
    {
     "data": {
      "text/plain": [
       "1344644"
      ]
     },
     "execution_count": 21,
     "metadata": {},
     "output_type": "execute_result"
    }
   ],
   "source": [
    "local_gov.size"
   ]
  },
  {
   "cell_type": "code",
   "execution_count": 22,
   "metadata": {},
   "outputs": [
    {
     "data": {
      "text/plain": [
       "1752"
      ]
     },
     "execution_count": 22,
     "metadata": {},
     "output_type": "execute_result"
    }
   ],
   "source": [
    "zip_code_assignments.size"
   ]
  },
  {
   "cell_type": "code",
   "execution_count": 23,
   "metadata": {},
   "outputs": [
    {
     "data": {
      "text/plain": [
       "192092"
      ]
     },
     "execution_count": 23,
     "metadata": {},
     "output_type": "execute_result"
    }
   ],
   "source": [
    "local_gov['ClaimID'].value_counts().sum()"
   ]
  },
  {
   "cell_type": "code",
   "execution_count": 24,
   "metadata": {},
   "outputs": [
    {
     "data": {
      "text/plain": [
       "(192092, 7)"
      ]
     },
     "execution_count": 24,
     "metadata": {},
     "output_type": "execute_result"
    }
   ],
   "source": [
    "local_gov.shape"
   ]
  },
  {
   "cell_type": "code",
   "execution_count": 25,
   "metadata": {},
   "outputs": [
    {
     "data": {
      "text/plain": [
       "93210    3\n",
       "95076    3\n",
       "93622    3\n",
       "95223    3\n",
       "95645    3\n",
       "        ..\n",
       "93618    2\n",
       "94708    2\n",
       "91361    2\n",
       "92225    2\n",
       "95020    1\n",
       "Name: ZCTA5, Length: 75, dtype: int64"
      ]
     },
     "execution_count": 25,
     "metadata": {},
     "output_type": "execute_result"
    }
   ],
   "source": [
    "zip_code_assignments['ZCTA5'].value_counts().head(75)"
   ]
  },
  {
   "cell_type": "code",
   "execution_count": 26,
   "metadata": {},
   "outputs": [
    {
     "data": {
      "text/plain": [
       "93301    13634\n",
       "94538    13005\n",
       "95402     9016\n",
       "93612     6440\n",
       "94086     5892\n",
       "         ...  \n",
       "94303        1\n",
       "96002        1\n",
       "91776        1\n",
       "92710        1\n",
       "95454        1\n",
       "Name: SiteZipCode, Length: 859, dtype: int64"
      ]
     },
     "execution_count": 26,
     "metadata": {},
     "output_type": "execute_result"
    }
   ],
   "source": [
    "local_gov['SiteZipCode'].value_counts()"
   ]
  },
  {
   "cell_type": "code",
   "execution_count": 27,
   "metadata": {},
   "outputs": [
    {
     "data": {
      "text/html": [
       "<div>\n",
       "<style scoped>\n",
       "    .dataframe tbody tr th:only-of-type {\n",
       "        vertical-align: middle;\n",
       "    }\n",
       "\n",
       "    .dataframe tbody tr th {\n",
       "        vertical-align: top;\n",
       "    }\n",
       "\n",
       "    .dataframe thead th {\n",
       "        text-align: right;\n",
       "    }\n",
       "</style>\n",
       "<table border=\"1\" class=\"dataframe\">\n",
       "  <thead>\n",
       "    <tr style=\"text-align: right;\">\n",
       "      <th></th>\n",
       "      <th>ZCTA5</th>\n",
       "      <th>county_name</th>\n",
       "    </tr>\n",
       "  </thead>\n",
       "  <tbody>\n",
       "    <tr>\n",
       "      <th>42645</th>\n",
       "      <td>93210</td>\n",
       "      <td>Fresno County</td>\n",
       "    </tr>\n",
       "    <tr>\n",
       "      <th>100506</th>\n",
       "      <td>93210</td>\n",
       "      <td>Monterey County</td>\n",
       "    </tr>\n",
       "    <tr>\n",
       "      <th>113440</th>\n",
       "      <td>93210</td>\n",
       "      <td>San Benito County</td>\n",
       "    </tr>\n",
       "  </tbody>\n",
       "</table>\n",
       "</div>"
      ],
      "text/plain": [
       "        ZCTA5        county_name\n",
       "42645   93210      Fresno County\n",
       "100506  93210    Monterey County\n",
       "113440  93210  San Benito County"
      ]
     },
     "execution_count": 27,
     "metadata": {},
     "output_type": "execute_result"
    }
   ],
   "source": [
    "zip_code_assignments[zip_code_assignments['ZCTA5'] == 93210]"
   ]
  },
  {
   "cell_type": "code",
   "execution_count": 28,
   "metadata": {},
   "outputs": [],
   "source": [
    "multiplezips = zip_code_assignments['ZCTA5'].value_counts().head(74)"
   ]
  },
  {
   "cell_type": "code",
   "execution_count": 29,
   "metadata": {},
   "outputs": [],
   "source": [
    "ziplist = multiplezips.index.tolist()"
   ]
  },
  {
   "cell_type": "code",
   "execution_count": 30,
   "metadata": {},
   "outputs": [],
   "source": [
    "problemzips = pd.Series(ziplist)"
   ]
  },
  {
   "cell_type": "code",
   "execution_count": 31,
   "metadata": {},
   "outputs": [],
   "source": [
    "y = [1]*74"
   ]
  },
  {
   "cell_type": "code",
   "execution_count": 32,
   "metadata": {},
   "outputs": [],
   "source": [
    "y = pd.Series(y)"
   ]
  },
  {
   "cell_type": "code",
   "execution_count": 33,
   "metadata": {},
   "outputs": [],
   "source": [
    "f = {'Zips': ziplist, 'Problem Zips': y}"
   ]
  },
  {
   "cell_type": "code",
   "execution_count": 34,
   "metadata": {},
   "outputs": [],
   "source": [
    "pz = pd.DataFrame(f)"
   ]
  },
  {
   "cell_type": "code",
   "execution_count": 35,
   "metadata": {},
   "outputs": [],
   "source": [
    "bad_zips = local_gov.merge(pz, left_on = 'SiteZipCode', right_on = 'Zips', how = 'left')"
   ]
  },
  {
   "cell_type": "code",
   "execution_count": 36,
   "metadata": {},
   "outputs": [],
   "source": [
    "bad_zips = bad_zips[bad_zips['Problem Zips']== 1.0]"
   ]
  },
  {
   "cell_type": "code",
   "execution_count": 37,
   "metadata": {},
   "outputs": [],
   "source": [
    "badzips = bad_zips.groupby('County', dropna = False).sum()"
   ]
  },
  {
   "cell_type": "code",
   "execution_count": 38,
   "metadata": {},
   "outputs": [
    {
     "data": {
      "text/plain": [
       "SiteZipCode                   int64\n",
       "TotalFirstYearGrosskWh      float64\n",
       "TotalFirstYearGrossTherm    float64\n",
       "Budget                      float64\n",
       "Zips                        float64\n",
       "Problem Zips                float64\n",
       "dtype: object"
      ]
     },
     "execution_count": 38,
     "metadata": {},
     "output_type": "execute_result"
    }
   ],
   "source": [
    "badzips.dtypes"
   ]
  },
  {
   "cell_type": "code",
   "execution_count": 39,
   "metadata": {},
   "outputs": [],
   "source": [
    "badzips = badzips.drop(columns = ['SiteZipCode', 'Zips'])"
   ]
  },
  {
   "cell_type": "code",
   "execution_count": 40,
   "metadata": {},
   "outputs": [],
   "source": [
    "badzips.to_csv('data/problematic_zips.csv')"
   ]
  },
  {
   "cell_type": "code",
   "execution_count": 41,
   "metadata": {},
   "outputs": [
    {
     "data": {
      "text/html": [
       "<div>\n",
       "<style scoped>\n",
       "    .dataframe tbody tr th:only-of-type {\n",
       "        vertical-align: middle;\n",
       "    }\n",
       "\n",
       "    .dataframe tbody tr th {\n",
       "        vertical-align: top;\n",
       "    }\n",
       "\n",
       "    .dataframe thead th {\n",
       "        text-align: right;\n",
       "    }\n",
       "</style>\n",
       "<table border=\"1\" class=\"dataframe\">\n",
       "  <thead>\n",
       "    <tr style=\"text-align: right;\">\n",
       "      <th></th>\n",
       "      <th>TotalFirstYearGrosskWh</th>\n",
       "      <th>TotalFirstYearGrossTherm</th>\n",
       "      <th>Budget</th>\n",
       "      <th>Problem Zips</th>\n",
       "    </tr>\n",
       "    <tr>\n",
       "      <th>County</th>\n",
       "      <th></th>\n",
       "      <th></th>\n",
       "      <th></th>\n",
       "      <th></th>\n",
       "    </tr>\n",
       "  </thead>\n",
       "  <tbody>\n",
       "    <tr>\n",
       "      <th>Fresno</th>\n",
       "      <td>4.225404e+05</td>\n",
       "      <td>-1425.419352</td>\n",
       "      <td>2.569548e+05</td>\n",
       "      <td>697.0</td>\n",
       "    </tr>\n",
       "    <tr>\n",
       "      <th>Long Beach</th>\n",
       "      <td>4.679307e+05</td>\n",
       "      <td>-36.070373</td>\n",
       "      <td>3.032637e+05</td>\n",
       "      <td>121.0</td>\n",
       "    </tr>\n",
       "    <tr>\n",
       "      <th>Los Angeles</th>\n",
       "      <td>6.419370e+05</td>\n",
       "      <td>0.000000</td>\n",
       "      <td>4.367866e+05</td>\n",
       "      <td>15.0</td>\n",
       "    </tr>\n",
       "    <tr>\n",
       "      <th>Madera</th>\n",
       "      <td>3.940928e+05</td>\n",
       "      <td>-390.203999</td>\n",
       "      <td>1.949304e+05</td>\n",
       "      <td>39.0</td>\n",
       "    </tr>\n",
       "    <tr>\n",
       "      <th>Marin</th>\n",
       "      <td>2.590000e+03</td>\n",
       "      <td>0.000000</td>\n",
       "      <td>1.392330e+03</td>\n",
       "      <td>14.0</td>\n",
       "    </tr>\n",
       "    <tr>\n",
       "      <th>Mendocino</th>\n",
       "      <td>1.564920e+03</td>\n",
       "      <td>-8.445600</td>\n",
       "      <td>9.869941e+02</td>\n",
       "      <td>1.0</td>\n",
       "    </tr>\n",
       "    <tr>\n",
       "      <th>Monterey</th>\n",
       "      <td>5.434324e+06</td>\n",
       "      <td>-21864.623164</td>\n",
       "      <td>3.069924e+06</td>\n",
       "      <td>2381.0</td>\n",
       "    </tr>\n",
       "    <tr>\n",
       "      <th>Napa</th>\n",
       "      <td>1.680971e+05</td>\n",
       "      <td>-701.441859</td>\n",
       "      <td>8.672854e+04</td>\n",
       "      <td>56.0</td>\n",
       "    </tr>\n",
       "    <tr>\n",
       "      <th>Orange</th>\n",
       "      <td>2.763247e+05</td>\n",
       "      <td>50.974162</td>\n",
       "      <td>3.005053e+05</td>\n",
       "      <td>13.0</td>\n",
       "    </tr>\n",
       "    <tr>\n",
       "      <th>Riverside</th>\n",
       "      <td>1.419456e+05</td>\n",
       "      <td>-14.696545</td>\n",
       "      <td>1.454615e+05</td>\n",
       "      <td>33.0</td>\n",
       "    </tr>\n",
       "    <tr>\n",
       "      <th>San Luis Obispo</th>\n",
       "      <td>1.564118e+04</td>\n",
       "      <td>-69.346979</td>\n",
       "      <td>7.058978e+03</td>\n",
       "      <td>12.0</td>\n",
       "    </tr>\n",
       "    <tr>\n",
       "      <th>San Mateo</th>\n",
       "      <td>1.160907e+06</td>\n",
       "      <td>0.000000</td>\n",
       "      <td>7.975939e+04</td>\n",
       "      <td>5547.0</td>\n",
       "    </tr>\n",
       "    <tr>\n",
       "      <th>Santa Barbara</th>\n",
       "      <td>2.641597e+06</td>\n",
       "      <td>-8446.289006</td>\n",
       "      <td>1.184365e+06</td>\n",
       "      <td>475.0</td>\n",
       "    </tr>\n",
       "    <tr>\n",
       "      <th>Santa Clara, Alameda, San Mateo</th>\n",
       "      <td>1.309607e+04</td>\n",
       "      <td>-58.737000</td>\n",
       "      <td>6.902285e+03</td>\n",
       "      <td>8.0</td>\n",
       "    </tr>\n",
       "    <tr>\n",
       "      <th>Solano</th>\n",
       "      <td>1.775791e+06</td>\n",
       "      <td>-6989.204864</td>\n",
       "      <td>9.218246e+05</td>\n",
       "      <td>455.0</td>\n",
       "    </tr>\n",
       "    <tr>\n",
       "      <th>Sonoma</th>\n",
       "      <td>1.235373e+06</td>\n",
       "      <td>-4237.500731</td>\n",
       "      <td>5.634584e+05</td>\n",
       "      <td>491.0</td>\n",
       "    </tr>\n",
       "    <tr>\n",
       "      <th>Sutter</th>\n",
       "      <td>1.953190e+05</td>\n",
       "      <td>-430.556030</td>\n",
       "      <td>1.795753e+05</td>\n",
       "      <td>36.0</td>\n",
       "    </tr>\n",
       "    <tr>\n",
       "      <th>Ventura</th>\n",
       "      <td>2.687630e+04</td>\n",
       "      <td>-28.887512</td>\n",
       "      <td>5.956455e+04</td>\n",
       "      <td>7.0</td>\n",
       "    </tr>\n",
       "    <tr>\n",
       "      <th>Yolo</th>\n",
       "      <td>3.727216e+04</td>\n",
       "      <td>-0.128000</td>\n",
       "      <td>1.699372e+04</td>\n",
       "      <td>6.0</td>\n",
       "    </tr>\n",
       "    <tr>\n",
       "      <th>NaN</th>\n",
       "      <td>2.978732e+06</td>\n",
       "      <td>-7720.801641</td>\n",
       "      <td>2.165748e+06</td>\n",
       "      <td>4115.0</td>\n",
       "    </tr>\n",
       "  </tbody>\n",
       "</table>\n",
       "</div>"
      ],
      "text/plain": [
       "                                 TotalFirstYearGrosskWh  \\\n",
       "County                                                    \n",
       "Fresno                                     4.225404e+05   \n",
       "Long Beach                                 4.679307e+05   \n",
       "Los Angeles                                6.419370e+05   \n",
       "Madera                                     3.940928e+05   \n",
       "Marin                                      2.590000e+03   \n",
       "Mendocino                                  1.564920e+03   \n",
       "Monterey                                   5.434324e+06   \n",
       "Napa                                       1.680971e+05   \n",
       "Orange                                     2.763247e+05   \n",
       "Riverside                                  1.419456e+05   \n",
       "San Luis Obispo                            1.564118e+04   \n",
       "San Mateo                                  1.160907e+06   \n",
       "Santa Barbara                              2.641597e+06   \n",
       "Santa Clara, Alameda, San Mateo            1.309607e+04   \n",
       "Solano                                     1.775791e+06   \n",
       "Sonoma                                     1.235373e+06   \n",
       "Sutter                                     1.953190e+05   \n",
       "Ventura                                    2.687630e+04   \n",
       "Yolo                                       3.727216e+04   \n",
       "NaN                                        2.978732e+06   \n",
       "\n",
       "                                 TotalFirstYearGrossTherm        Budget  \\\n",
       "County                                                                    \n",
       "Fresno                                       -1425.419352  2.569548e+05   \n",
       "Long Beach                                     -36.070373  3.032637e+05   \n",
       "Los Angeles                                      0.000000  4.367866e+05   \n",
       "Madera                                        -390.203999  1.949304e+05   \n",
       "Marin                                            0.000000  1.392330e+03   \n",
       "Mendocino                                       -8.445600  9.869941e+02   \n",
       "Monterey                                    -21864.623164  3.069924e+06   \n",
       "Napa                                          -701.441859  8.672854e+04   \n",
       "Orange                                          50.974162  3.005053e+05   \n",
       "Riverside                                      -14.696545  1.454615e+05   \n",
       "San Luis Obispo                                -69.346979  7.058978e+03   \n",
       "San Mateo                                        0.000000  7.975939e+04   \n",
       "Santa Barbara                                -8446.289006  1.184365e+06   \n",
       "Santa Clara, Alameda, San Mateo                -58.737000  6.902285e+03   \n",
       "Solano                                       -6989.204864  9.218246e+05   \n",
       "Sonoma                                       -4237.500731  5.634584e+05   \n",
       "Sutter                                        -430.556030  1.795753e+05   \n",
       "Ventura                                        -28.887512  5.956455e+04   \n",
       "Yolo                                            -0.128000  1.699372e+04   \n",
       "NaN                                          -7720.801641  2.165748e+06   \n",
       "\n",
       "                                 Problem Zips  \n",
       "County                                         \n",
       "Fresno                                  697.0  \n",
       "Long Beach                              121.0  \n",
       "Los Angeles                              15.0  \n",
       "Madera                                   39.0  \n",
       "Marin                                    14.0  \n",
       "Mendocino                                 1.0  \n",
       "Monterey                               2381.0  \n",
       "Napa                                     56.0  \n",
       "Orange                                   13.0  \n",
       "Riverside                                33.0  \n",
       "San Luis Obispo                          12.0  \n",
       "San Mateo                              5547.0  \n",
       "Santa Barbara                           475.0  \n",
       "Santa Clara, Alameda, San Mateo           8.0  \n",
       "Solano                                  455.0  \n",
       "Sonoma                                  491.0  \n",
       "Sutter                                   36.0  \n",
       "Ventura                                   7.0  \n",
       "Yolo                                      6.0  \n",
       "NaN                                    4115.0  "
      ]
     },
     "execution_count": 41,
     "metadata": {},
     "output_type": "execute_result"
    }
   ],
   "source": [
    "badzips"
   ]
  },
  {
   "cell_type": "markdown",
   "metadata": {},
   "source": [
    "Tracking down local government programs without County assignments"
   ]
  },
  {
   "cell_type": "code",
   "execution_count": 42,
   "metadata": {},
   "outputs": [
    {
     "data": {
      "text/plain": [
       "NaN                                58079\n",
       "San Mateo                          53589\n",
       "Kern                               18958\n",
       "Sonoma                             15599\n",
       "Fresno                             10192\n",
       "Santa Clara, Alameda, San Mateo     6194\n",
       "Marin                               5775\n",
       "Monterey                            4250\n",
       "Solano                              3696\n",
       "San Luis Obispo                     2933\n",
       "San Francisco                       2374\n",
       "Redwood                             2107\n",
       "Mendocino                           1877\n",
       "Orange                              1148\n",
       "Santa Barbara                       1126\n",
       "Long Beach                          1028\n",
       "Los Angeles                          999\n",
       "Riverside                            628\n",
       "Napa                                 609\n",
       "Madera                               390\n",
       "Yolo                                 132\n",
       "Sutter                               115\n",
       "Ventura                              104\n",
       "San Diego                             78\n",
       "San Joaquin                           72\n",
       "San Bernardino                        40\n",
       "Name: County, dtype: int64"
      ]
     },
     "execution_count": 42,
     "metadata": {},
     "output_type": "execute_result"
    }
   ],
   "source": [
    "local_gov['County'].value_counts(dropna = False)"
   ]
  },
  {
   "cell_type": "code",
   "execution_count": 51,
   "metadata": {},
   "outputs": [],
   "source": [
    "countylist = local_gov['County'].dropna().tolist()"
   ]
  },
  {
   "cell_type": "code",
   "execution_count": 55,
   "metadata": {},
   "outputs": [
    {
     "data": {
      "text/plain": [
       "21"
      ]
     },
     "execution_count": 55,
     "metadata": {},
     "output_type": "execute_result"
    }
   ],
   "source": [
    "local_gov[local_gov['County'].isin(countylist)== False]['PrgID'].value_counts().size"
   ]
  },
  {
   "cell_type": "code",
   "execution_count": 59,
   "metadata": {},
   "outputs": [],
   "source": [
    "no_county_prgs = local_gov[local_gov['County'].isin(countylist)== False]['PrgID'].value_counts().index.tolist()"
   ]
  },
  {
   "cell_type": "code",
   "execution_count": 61,
   "metadata": {},
   "outputs": [],
   "source": [
    "chris_data = pd.read_csv('data/specific_cedars_programs.csv')"
   ]
  },
  {
   "cell_type": "code",
   "execution_count": 63,
   "metadata": {},
   "outputs": [],
   "source": [
    "nc = pd.DataFrame(no_county_prgs)"
   ]
  },
  {
   "cell_type": "code",
   "execution_count": 66,
   "metadata": {},
   "outputs": [],
   "source": [
    "no_county_programs = nc.merge(chris_data, left_on = 0, right_on = 'PrgID', how = 'left')"
   ]
  },
  {
   "cell_type": "code",
   "execution_count": 68,
   "metadata": {},
   "outputs": [],
   "source": [
    "no_county_programs.drop(columns = 0, inplace = True)"
   ]
  },
  {
   "cell_type": "code",
   "execution_count": 70,
   "metadata": {},
   "outputs": [],
   "source": [
    "no_county_programs.to_csv('data/cpuc_localgov_no_counties.csv')"
   ]
  },
  {
   "cell_type": "code",
   "execution_count": null,
   "metadata": {},
   "outputs": [],
   "source": []
  }
 ],
 "metadata": {
  "kernelspec": {
   "display_name": "Python 3",
   "language": "python",
   "name": "python3"
  },
  "language_info": {
   "codemirror_mode": {
    "name": "ipython",
    "version": 3
   },
   "file_extension": ".py",
   "mimetype": "text/x-python",
   "name": "python",
   "nbconvert_exporter": "python",
   "pygments_lexer": "ipython3",
   "version": "3.8.5"
  }
 },
 "nbformat": 4,
 "nbformat_minor": 4
}
